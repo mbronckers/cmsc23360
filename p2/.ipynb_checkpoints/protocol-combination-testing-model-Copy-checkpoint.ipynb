{
 "cells": [
  {
   "cell_type": "code",
   "execution_count": 1,
   "metadata": {},
   "outputs": [],
   "source": [
    "import numpy as np\n",
    "import matplotlib.pyplot as plt\n",
    "import pandas as pd\n",
    "import os \n",
    "from joblib import dump, load\n",
    "\n",
    "from sklearn.ensemble import RandomForestClassifier\n",
    "from sklearn import svm\n",
    "from sklearn.linear_model import LogisticRegression"
   ]
  },
  {
   "cell_type": "code",
   "execution_count": 2,
   "metadata": {},
   "outputs": [
    {
     "name": "stdout",
     "output_type": "stream",
     "text": [
      "all\n"
     ]
    },
    {
     "name": "stderr",
     "output_type": "stream",
     "text": [
      "C:\\ProgramData\\Anaconda3\\lib\\site-packages\\sklearn\\ensemble\\forest.py:246: FutureWarning: The default value of n_estimators will change from 10 in version 0.20 to 100 in 0.22.\n",
      "  \"10 in version 0.20 to 100 in 0.22.\", FutureWarning)\n"
     ]
    },
    {
     "name": "stdout",
     "output_type": "stream",
     "text": [
      "RF acc: 0.20282841849532876\n",
      "{'all': {'rf': '0.20282841849532876'}}\n",
      "[LibSVM]"
     ]
    },
    {
     "name": "stderr",
     "output_type": "stream",
     "text": [
      "C:\\ProgramData\\Anaconda3\\lib\\site-packages\\sklearn\\svm\\base.py:196: FutureWarning: The default value of gamma will change from 'auto' to 'scale' in version 0.22 to account better for unscaled features. Set gamma explicitly to 'auto' or 'scale' to avoid this warning.\n",
      "  \"avoid this warning.\", FutureWarning)\n"
     ]
    },
    {
     "name": "stdout",
     "output_type": "stream",
     "text": [
      "SVM acc: 0.22171087716526103\n",
      "{'all': {'rf': '0.20282841849532876', 'svm': '0.22171087716526103'}}\n"
     ]
    },
    {
     "name": "stderr",
     "output_type": "stream",
     "text": [
      "C:\\ProgramData\\Anaconda3\\lib\\site-packages\\sklearn\\linear_model\\logistic.py:433: FutureWarning: Default solver will be changed to 'lbfgs' in 0.22. Specify a solver to silence this warning.\n",
      "  FutureWarning)\n",
      "C:\\ProgramData\\Anaconda3\\lib\\site-packages\\sklearn\\linear_model\\logistic.py:460: FutureWarning: Default multi_class will be changed to 'auto' in 0.22. Specify the multi_class option to silence this warning.\n",
      "  \"this warning.\", FutureWarning)\n",
      "C:\\ProgramData\\Anaconda3\\lib\\site-packages\\sklearn\\linear_model\\logistic.py:1300: UserWarning: 'n_jobs' > 1 does not have any effect when 'solver' is set to 'liblinear'. Got 'n_jobs' = 12.\n",
      "  \" = {}.\".format(effective_n_jobs(self.n_jobs)))\n"
     ]
    },
    {
     "name": "stdout",
     "output_type": "stream",
     "text": [
      "Logistic Reg acc: 0.1613749037113117\n",
      "{'all': {'rf': '0.20282841849532876', 'svm': '0.22171087716526103', 'lr': '0.1613749037113117'}}\n",
      "df_http\n"
     ]
    },
    {
     "name": "stderr",
     "output_type": "stream",
     "text": [
      "C:\\ProgramData\\Anaconda3\\lib\\site-packages\\sklearn\\ensemble\\forest.py:246: FutureWarning: The default value of n_estimators will change from 10 in version 0.20 to 100 in 0.22.\n",
      "  \"10 in version 0.20 to 100 in 0.22.\", FutureWarning)\n"
     ]
    },
    {
     "name": "stdout",
     "output_type": "stream",
     "text": [
      "RF acc: 0.32978723404255317\n",
      "{'all': {'rf': '0.20282841849532876', 'svm': '0.22171087716526103', 'lr': '0.1613749037113117'}, 'df_http': {'rf': '0.32978723404255317'}}\n",
      "[LibSVM]SVM acc: 0.3404255319148936\n",
      "{'all': {'rf': '0.20282841849532876', 'svm': '0.22171087716526103', 'lr': '0.1613749037113117'}, 'df_http': {'rf': '0.32978723404255317', 'svm': '0.3404255319148936'}}\n",
      "Logistic Reg acc: 0.21808510638297873\n",
      "{'all': {'rf': '0.20282841849532876', 'svm': '0.22171087716526103', 'lr': '0.1613749037113117'}, 'df_http': {'rf': '0.32978723404255317', 'svm': '0.3404255319148936', 'lr': '0.21808510638297873'}}\n",
      "df_http_tcp\n"
     ]
    },
    {
     "name": "stderr",
     "output_type": "stream",
     "text": [
      "C:\\ProgramData\\Anaconda3\\lib\\site-packages\\sklearn\\svm\\base.py:196: FutureWarning: The default value of gamma will change from 'auto' to 'scale' in version 0.22 to account better for unscaled features. Set gamma explicitly to 'auto' or 'scale' to avoid this warning.\n",
      "  \"avoid this warning.\", FutureWarning)\n",
      "C:\\ProgramData\\Anaconda3\\lib\\site-packages\\sklearn\\linear_model\\logistic.py:433: FutureWarning: Default solver will be changed to 'lbfgs' in 0.22. Specify a solver to silence this warning.\n",
      "  FutureWarning)\n",
      "C:\\ProgramData\\Anaconda3\\lib\\site-packages\\sklearn\\linear_model\\logistic.py:460: FutureWarning: Default multi_class will be changed to 'auto' in 0.22. Specify the multi_class option to silence this warning.\n",
      "  \"this warning.\", FutureWarning)\n",
      "C:\\ProgramData\\Anaconda3\\lib\\site-packages\\sklearn\\linear_model\\logistic.py:1300: UserWarning: 'n_jobs' > 1 does not have any effect when 'solver' is set to 'liblinear'. Got 'n_jobs' = 12.\n",
      "  \" = {}.\".format(effective_n_jobs(self.n_jobs)))\n",
      "C:\\ProgramData\\Anaconda3\\lib\\site-packages\\sklearn\\ensemble\\forest.py:246: FutureWarning: The default value of n_estimators will change from 10 in version 0.20 to 100 in 0.22.\n",
      "  \"10 in version 0.20 to 100 in 0.22.\", FutureWarning)\n"
     ]
    },
    {
     "name": "stdout",
     "output_type": "stream",
     "text": [
      "RF acc: 0.15967685921711952\n",
      "{'all': {'rf': '0.20282841849532876', 'svm': '0.22171087716526103', 'lr': '0.1613749037113117'}, 'df_http': {'rf': '0.32978723404255317', 'svm': '0.3404255319148936', 'lr': '0.21808510638297873'}, 'df_http_tcp': {'rf': '0.15967685921711952'}}\n",
      "[LibSVM]"
     ]
    },
    {
     "name": "stderr",
     "output_type": "stream",
     "text": [
      "C:\\ProgramData\\Anaconda3\\lib\\site-packages\\sklearn\\svm\\base.py:196: FutureWarning: The default value of gamma will change from 'auto' to 'scale' in version 0.22 to account better for unscaled features. Set gamma explicitly to 'auto' or 'scale' to avoid this warning.\n",
      "  \"avoid this warning.\", FutureWarning)\n"
     ]
    },
    {
     "name": "stdout",
     "output_type": "stream",
     "text": [
      "SVM acc: 0.3526352345830095\n",
      "{'all': {'rf': '0.20282841849532876', 'svm': '0.22171087716526103', 'lr': '0.1613749037113117'}, 'df_http': {'rf': '0.32978723404255317', 'svm': '0.3404255319148936', 'lr': '0.21808510638297873'}, 'df_http_tcp': {'rf': '0.15967685921711952', 'svm': '0.3526352345830095'}}\n"
     ]
    },
    {
     "name": "stderr",
     "output_type": "stream",
     "text": [
      "C:\\ProgramData\\Anaconda3\\lib\\site-packages\\sklearn\\linear_model\\logistic.py:433: FutureWarning: Default solver will be changed to 'lbfgs' in 0.22. Specify a solver to silence this warning.\n",
      "  FutureWarning)\n",
      "C:\\ProgramData\\Anaconda3\\lib\\site-packages\\sklearn\\linear_model\\logistic.py:460: FutureWarning: Default multi_class will be changed to 'auto' in 0.22. Specify the multi_class option to silence this warning.\n",
      "  \"this warning.\", FutureWarning)\n",
      "C:\\ProgramData\\Anaconda3\\lib\\site-packages\\sklearn\\linear_model\\logistic.py:1300: UserWarning: 'n_jobs' > 1 does not have any effect when 'solver' is set to 'liblinear'. Got 'n_jobs' = 12.\n",
      "  \" = {}.\".format(effective_n_jobs(self.n_jobs)))\n"
     ]
    },
    {
     "name": "stdout",
     "output_type": "stream",
     "text": [
      "Logistic Reg acc: 0.1419901106352015\n",
      "{'all': {'rf': '0.20282841849532876', 'svm': '0.22171087716526103', 'lr': '0.1613749037113117'}, 'df_http': {'rf': '0.32978723404255317', 'svm': '0.3404255319148936', 'lr': '0.21808510638297873'}, 'df_http_tcp': {'rf': '0.15967685921711952', 'svm': '0.3526352345830095', 'lr': '0.1419901106352015'}}\n",
      "df_http_tcp_udp\n"
     ]
    },
    {
     "name": "stderr",
     "output_type": "stream",
     "text": [
      "C:\\ProgramData\\Anaconda3\\lib\\site-packages\\sklearn\\ensemble\\forest.py:246: FutureWarning: The default value of n_estimators will change from 10 in version 0.20 to 100 in 0.22.\n",
      "  \"10 in version 0.20 to 100 in 0.22.\", FutureWarning)\n"
     ]
    },
    {
     "name": "stdout",
     "output_type": "stream",
     "text": [
      "RF acc: 0.2037161108863077\n",
      "{'all': {'rf': '0.20282841849532876', 'svm': '0.22171087716526103', 'lr': '0.1613749037113117'}, 'df_http': {'rf': '0.32978723404255317', 'svm': '0.3404255319148936', 'lr': '0.21808510638297873'}, 'df_http_tcp': {'rf': '0.15967685921711952', 'svm': '0.3526352345830095', 'lr': '0.1419901106352015'}, 'df_http_tcp_udp': {'rf': '0.2037161108863077'}}\n"
     ]
    },
    {
     "name": "stderr",
     "output_type": "stream",
     "text": [
      "C:\\ProgramData\\Anaconda3\\lib\\site-packages\\sklearn\\svm\\base.py:196: FutureWarning: The default value of gamma will change from 'auto' to 'scale' in version 0.22 to account better for unscaled features. Set gamma explicitly to 'auto' or 'scale' to avoid this warning.\n",
      "  \"avoid this warning.\", FutureWarning)\n"
     ]
    },
    {
     "name": "stdout",
     "output_type": "stream",
     "text": [
      "[LibSVM]SVM acc: 0.3820788197599984\n",
      "{'all': {'rf': '0.20282841849532876', 'svm': '0.22171087716526103', 'lr': '0.1613749037113117'}, 'df_http': {'rf': '0.32978723404255317', 'svm': '0.3404255319148936', 'lr': '0.21808510638297873'}, 'df_http_tcp': {'rf': '0.15967685921711952', 'svm': '0.3526352345830095', 'lr': '0.1419901106352015'}, 'df_http_tcp_udp': {'rf': '0.2037161108863077', 'svm': '0.3820788197599984'}}\n"
     ]
    },
    {
     "name": "stderr",
     "output_type": "stream",
     "text": [
      "C:\\ProgramData\\Anaconda3\\lib\\site-packages\\sklearn\\linear_model\\logistic.py:433: FutureWarning: Default solver will be changed to 'lbfgs' in 0.22. Specify a solver to silence this warning.\n",
      "  FutureWarning)\n",
      "C:\\ProgramData\\Anaconda3\\lib\\site-packages\\sklearn\\linear_model\\logistic.py:460: FutureWarning: Default multi_class will be changed to 'auto' in 0.22. Specify the multi_class option to silence this warning.\n",
      "  \"this warning.\", FutureWarning)\n",
      "C:\\ProgramData\\Anaconda3\\lib\\site-packages\\sklearn\\linear_model\\logistic.py:1300: UserWarning: 'n_jobs' > 1 does not have any effect when 'solver' is set to 'liblinear'. Got 'n_jobs' = 12.\n",
      "  \" = {}.\".format(effective_n_jobs(self.n_jobs)))\n"
     ]
    },
    {
     "name": "stdout",
     "output_type": "stream",
     "text": [
      "Logistic Reg acc: 0.17080046965485676\n",
      "{'all': {'rf': '0.20282841849532876', 'svm': '0.22171087716526103', 'lr': '0.1613749037113117'}, 'df_http': {'rf': '0.32978723404255317', 'svm': '0.3404255319148936', 'lr': '0.21808510638297873'}, 'df_http_tcp': {'rf': '0.15967685921711952', 'svm': '0.3526352345830095', 'lr': '0.1419901106352015'}, 'df_http_tcp_udp': {'rf': '0.2037161108863077', 'svm': '0.3820788197599984', 'lr': '0.17080046965485676'}}\n",
      "df_http_tls\n"
     ]
    },
    {
     "name": "stderr",
     "output_type": "stream",
     "text": [
      "C:\\ProgramData\\Anaconda3\\lib\\site-packages\\sklearn\\ensemble\\forest.py:246: FutureWarning: The default value of n_estimators will change from 10 in version 0.20 to 100 in 0.22.\n",
      "  \"10 in version 0.20 to 100 in 0.22.\", FutureWarning)\n"
     ]
    },
    {
     "name": "stdout",
     "output_type": "stream",
     "text": [
      "RF acc: 0.3097651891070538\n",
      "{'all': {'rf': '0.20282841849532876', 'svm': '0.22171087716526103', 'lr': '0.1613749037113117'}, 'df_http': {'rf': '0.32978723404255317', 'svm': '0.3404255319148936', 'lr': '0.21808510638297873'}, 'df_http_tcp': {'rf': '0.15967685921711952', 'svm': '0.3526352345830095', 'lr': '0.1419901106352015'}, 'df_http_tcp_udp': {'rf': '0.2037161108863077', 'svm': '0.3820788197599984', 'lr': '0.17080046965485676'}, 'df_http_tls': {'rf': '0.3097651891070538'}}\n",
      "[LibSVM]"
     ]
    },
    {
     "name": "stderr",
     "output_type": "stream",
     "text": [
      "C:\\ProgramData\\Anaconda3\\lib\\site-packages\\sklearn\\svm\\base.py:196: FutureWarning: The default value of gamma will change from 'auto' to 'scale' in version 0.22 to account better for unscaled features. Set gamma explicitly to 'auto' or 'scale' to avoid this warning.\n",
      "  \"avoid this warning.\", FutureWarning)\n"
     ]
    },
    {
     "name": "stdout",
     "output_type": "stream",
     "text": [
      "SVM acc: 0.3443101688074266\n",
      "{'all': {'rf': '0.20282841849532876', 'svm': '0.22171087716526103', 'lr': '0.1613749037113117'}, 'df_http': {'rf': '0.32978723404255317', 'svm': '0.3404255319148936', 'lr': '0.21808510638297873'}, 'df_http_tcp': {'rf': '0.15967685921711952', 'svm': '0.3526352345830095', 'lr': '0.1419901106352015'}, 'df_http_tcp_udp': {'rf': '0.2037161108863077', 'svm': '0.3820788197599984', 'lr': '0.17080046965485676'}, 'df_http_tls': {'rf': '0.3097651891070538', 'svm': '0.3443101688074266'}}\n"
     ]
    },
    {
     "name": "stderr",
     "output_type": "stream",
     "text": [
      "C:\\ProgramData\\Anaconda3\\lib\\site-packages\\sklearn\\linear_model\\logistic.py:433: FutureWarning: Default solver will be changed to 'lbfgs' in 0.22. Specify a solver to silence this warning.\n",
      "  FutureWarning)\n",
      "C:\\ProgramData\\Anaconda3\\lib\\site-packages\\sklearn\\linear_model\\logistic.py:460: FutureWarning: Default multi_class will be changed to 'auto' in 0.22. Specify the multi_class option to silence this warning.\n",
      "  \"this warning.\", FutureWarning)\n",
      "C:\\ProgramData\\Anaconda3\\lib\\site-packages\\sklearn\\linear_model\\logistic.py:1300: UserWarning: 'n_jobs' > 1 does not have any effect when 'solver' is set to 'liblinear'. Got 'n_jobs' = 12.\n",
      "  \" = {}.\".format(effective_n_jobs(self.n_jobs)))\n"
     ]
    },
    {
     "name": "stdout",
     "output_type": "stream",
     "text": [
      "Logistic Reg acc: 0.1738170421899855\n",
      "{'all': {'rf': '0.20282841849532876', 'svm': '0.22171087716526103', 'lr': '0.1613749037113117'}, 'df_http': {'rf': '0.32978723404255317', 'svm': '0.3404255319148936', 'lr': '0.21808510638297873'}, 'df_http_tcp': {'rf': '0.15967685921711952', 'svm': '0.3526352345830095', 'lr': '0.1419901106352015'}, 'df_http_tcp_udp': {'rf': '0.2037161108863077', 'svm': '0.3820788197599984', 'lr': '0.17080046965485676'}, 'df_http_tls': {'rf': '0.3097651891070538', 'svm': '0.3443101688074266', 'lr': '0.1738170421899855'}}\n",
      "df_http_tls_tcp\n"
     ]
    },
    {
     "name": "stderr",
     "output_type": "stream",
     "text": [
      "C:\\ProgramData\\Anaconda3\\lib\\site-packages\\sklearn\\ensemble\\forest.py:246: FutureWarning: The default value of n_estimators will change from 10 in version 0.20 to 100 in 0.22.\n",
      "  \"10 in version 0.20 to 100 in 0.22.\", FutureWarning)\n"
     ]
    },
    {
     "name": "stdout",
     "output_type": "stream",
     "text": [
      "RF acc: 0.18547421547378568\n",
      "{'all': {'rf': '0.20282841849532876', 'svm': '0.22171087716526103', 'lr': '0.1613749037113117'}, 'df_http': {'rf': '0.32978723404255317', 'svm': '0.3404255319148936', 'lr': '0.21808510638297873'}, 'df_http_tcp': {'rf': '0.15967685921711952', 'svm': '0.3526352345830095', 'lr': '0.1419901106352015'}, 'df_http_tcp_udp': {'rf': '0.2037161108863077', 'svm': '0.3820788197599984', 'lr': '0.17080046965485676'}, 'df_http_tls': {'rf': '0.3097651891070538', 'svm': '0.3443101688074266', 'lr': '0.1738170421899855'}, 'df_http_tls_tcp': {'rf': '0.18547421547378568'}}\n"
     ]
    },
    {
     "name": "stderr",
     "output_type": "stream",
     "text": [
      "C:\\ProgramData\\Anaconda3\\lib\\site-packages\\sklearn\\svm\\base.py:196: FutureWarning: The default value of gamma will change from 'auto' to 'scale' in version 0.22 to account better for unscaled features. Set gamma explicitly to 'auto' or 'scale' to avoid this warning.\n",
      "  \"avoid this warning.\", FutureWarning)\n"
     ]
    },
    {
     "name": "stdout",
     "output_type": "stream",
     "text": [
      "[LibSVM]SVM acc: 0.1963357053828537\n",
      "{'all': {'rf': '0.20282841849532876', 'svm': '0.22171087716526103', 'lr': '0.1613749037113117'}, 'df_http': {'rf': '0.32978723404255317', 'svm': '0.3404255319148936', 'lr': '0.21808510638297873'}, 'df_http_tcp': {'rf': '0.15967685921711952', 'svm': '0.3526352345830095', 'lr': '0.1419901106352015'}, 'df_http_tcp_udp': {'rf': '0.2037161108863077', 'svm': '0.3820788197599984', 'lr': '0.17080046965485676'}, 'df_http_tls': {'rf': '0.3097651891070538', 'svm': '0.3443101688074266', 'lr': '0.1738170421899855'}, 'df_http_tls_tcp': {'rf': '0.18547421547378568', 'svm': '0.1963357053828537'}}\n"
     ]
    },
    {
     "name": "stderr",
     "output_type": "stream",
     "text": [
      "C:\\ProgramData\\Anaconda3\\lib\\site-packages\\sklearn\\linear_model\\logistic.py:433: FutureWarning: Default solver will be changed to 'lbfgs' in 0.22. Specify a solver to silence this warning.\n",
      "  FutureWarning)\n",
      "C:\\ProgramData\\Anaconda3\\lib\\site-packages\\sklearn\\linear_model\\logistic.py:460: FutureWarning: Default multi_class will be changed to 'auto' in 0.22. Specify the multi_class option to silence this warning.\n",
      "  \"this warning.\", FutureWarning)\n",
      "C:\\ProgramData\\Anaconda3\\lib\\site-packages\\sklearn\\linear_model\\logistic.py:1300: UserWarning: 'n_jobs' > 1 does not have any effect when 'solver' is set to 'liblinear'. Got 'n_jobs' = 12.\n",
      "  \" = {}.\".format(effective_n_jobs(self.n_jobs)))\n"
     ]
    },
    {
     "name": "stdout",
     "output_type": "stream",
     "text": [
      "Logistic Reg acc: 0.16377579527104605\n",
      "{'all': {'rf': '0.20282841849532876', 'svm': '0.22171087716526103', 'lr': '0.1613749037113117'}, 'df_http': {'rf': '0.32978723404255317', 'svm': '0.3404255319148936', 'lr': '0.21808510638297873'}, 'df_http_tcp': {'rf': '0.15967685921711952', 'svm': '0.3526352345830095', 'lr': '0.1419901106352015'}, 'df_http_tcp_udp': {'rf': '0.2037161108863077', 'svm': '0.3820788197599984', 'lr': '0.17080046965485676'}, 'df_http_tls': {'rf': '0.3097651891070538', 'svm': '0.3443101688074266', 'lr': '0.1738170421899855'}, 'df_http_tls_tcp': {'rf': '0.18547421547378568', 'svm': '0.1963357053828537', 'lr': '0.16377579527104605'}}\n",
      "df_http_tls_tcp_udp\n"
     ]
    },
    {
     "name": "stderr",
     "output_type": "stream",
     "text": [
      "C:\\ProgramData\\Anaconda3\\lib\\site-packages\\sklearn\\ensemble\\forest.py:246: FutureWarning: The default value of n_estimators will change from 10 in version 0.20 to 100 in 0.22.\n",
      "  \"10 in version 0.20 to 100 in 0.22.\", FutureWarning)\n"
     ]
    },
    {
     "name": "stdout",
     "output_type": "stream",
     "text": [
      "RF acc: 0.20156217562798423\n",
      "{'all': {'rf': '0.20282841849532876', 'svm': '0.22171087716526103', 'lr': '0.1613749037113117'}, 'df_http': {'rf': '0.32978723404255317', 'svm': '0.3404255319148936', 'lr': '0.21808510638297873'}, 'df_http_tcp': {'rf': '0.15967685921711952', 'svm': '0.3526352345830095', 'lr': '0.1419901106352015'}, 'df_http_tcp_udp': {'rf': '0.2037161108863077', 'svm': '0.3820788197599984', 'lr': '0.17080046965485676'}, 'df_http_tls': {'rf': '0.3097651891070538', 'svm': '0.3443101688074266', 'lr': '0.1738170421899855'}, 'df_http_tls_tcp': {'rf': '0.18547421547378568', 'svm': '0.1963357053828537', 'lr': '0.16377579527104605'}, 'df_http_tls_tcp_udp': {'rf': '0.20156217562798423'}}\n"
     ]
    },
    {
     "name": "stderr",
     "output_type": "stream",
     "text": [
      "C:\\ProgramData\\Anaconda3\\lib\\site-packages\\sklearn\\svm\\base.py:196: FutureWarning: The default value of gamma will change from 'auto' to 'scale' in version 0.22 to account better for unscaled features. Set gamma explicitly to 'auto' or 'scale' to avoid this warning.\n",
      "  \"avoid this warning.\", FutureWarning)\n"
     ]
    },
    {
     "name": "stdout",
     "output_type": "stream",
     "text": [
      "[LibSVM]SVM acc: 0.22305376790533527\n",
      "{'all': {'rf': '0.20282841849532876', 'svm': '0.22171087716526103', 'lr': '0.1613749037113117'}, 'df_http': {'rf': '0.32978723404255317', 'svm': '0.3404255319148936', 'lr': '0.21808510638297873'}, 'df_http_tcp': {'rf': '0.15967685921711952', 'svm': '0.3526352345830095', 'lr': '0.1419901106352015'}, 'df_http_tcp_udp': {'rf': '0.2037161108863077', 'svm': '0.3820788197599984', 'lr': '0.17080046965485676'}, 'df_http_tls': {'rf': '0.3097651891070538', 'svm': '0.3443101688074266', 'lr': '0.1738170421899855'}, 'df_http_tls_tcp': {'rf': '0.18547421547378568', 'svm': '0.1963357053828537', 'lr': '0.16377579527104605'}, 'df_http_tls_tcp_udp': {'rf': '0.20156217562798423', 'svm': '0.22305376790533527'}}\n"
     ]
    },
    {
     "name": "stderr",
     "output_type": "stream",
     "text": [
      "C:\\ProgramData\\Anaconda3\\lib\\site-packages\\sklearn\\linear_model\\logistic.py:433: FutureWarning: Default solver will be changed to 'lbfgs' in 0.22. Specify a solver to silence this warning.\n",
      "  FutureWarning)\n",
      "C:\\ProgramData\\Anaconda3\\lib\\site-packages\\sklearn\\linear_model\\logistic.py:460: FutureWarning: Default multi_class will be changed to 'auto' in 0.22. Specify the multi_class option to silence this warning.\n",
      "  \"this warning.\", FutureWarning)\n",
      "C:\\ProgramData\\Anaconda3\\lib\\site-packages\\sklearn\\linear_model\\logistic.py:1300: UserWarning: 'n_jobs' > 1 does not have any effect when 'solver' is set to 'liblinear'. Got 'n_jobs' = 12.\n",
      "  \" = {}.\".format(effective_n_jobs(self.n_jobs)))\n"
     ]
    },
    {
     "name": "stdout",
     "output_type": "stream",
     "text": [
      "Logistic Reg acc: 0.1523354785135977\n",
      "{'all': {'rf': '0.20282841849532876', 'svm': '0.22171087716526103', 'lr': '0.1613749037113117'}, 'df_http': {'rf': '0.32978723404255317', 'svm': '0.3404255319148936', 'lr': '0.21808510638297873'}, 'df_http_tcp': {'rf': '0.15967685921711952', 'svm': '0.3526352345830095', 'lr': '0.1419901106352015'}, 'df_http_tcp_udp': {'rf': '0.2037161108863077', 'svm': '0.3820788197599984', 'lr': '0.17080046965485676'}, 'df_http_tls': {'rf': '0.3097651891070538', 'svm': '0.3443101688074266', 'lr': '0.1738170421899855'}, 'df_http_tls_tcp': {'rf': '0.18547421547378568', 'svm': '0.1963357053828537', 'lr': '0.16377579527104605'}, 'df_http_tls_tcp_udp': {'rf': '0.20156217562798423', 'svm': '0.22305376790533527', 'lr': '0.1523354785135977'}}\n",
      "df_http_tls_udp\n"
     ]
    },
    {
     "name": "stderr",
     "output_type": "stream",
     "text": [
      "C:\\ProgramData\\Anaconda3\\lib\\site-packages\\sklearn\\ensemble\\forest.py:246: FutureWarning: The default value of n_estimators will change from 10 in version 0.20 to 100 in 0.22.\n",
      "  \"10 in version 0.20 to 100 in 0.22.\", FutureWarning)\n"
     ]
    },
    {
     "name": "stdout",
     "output_type": "stream",
     "text": [
      "RF acc: 0.29559293757820104\n",
      "{'all': {'rf': '0.20282841849532876', 'svm': '0.22171087716526103', 'lr': '0.1613749037113117'}, 'df_http': {'rf': '0.32978723404255317', 'svm': '0.3404255319148936', 'lr': '0.21808510638297873'}, 'df_http_tcp': {'rf': '0.15967685921711952', 'svm': '0.3526352345830095', 'lr': '0.1419901106352015'}, 'df_http_tcp_udp': {'rf': '0.2037161108863077', 'svm': '0.3820788197599984', 'lr': '0.17080046965485676'}, 'df_http_tls': {'rf': '0.3097651891070538', 'svm': '0.3443101688074266', 'lr': '0.1738170421899855'}, 'df_http_tls_tcp': {'rf': '0.18547421547378568', 'svm': '0.1963357053828537', 'lr': '0.16377579527104605'}, 'df_http_tls_tcp_udp': {'rf': '0.20156217562798423', 'svm': '0.22305376790533527', 'lr': '0.1523354785135977'}, 'df_http_tls_udp': {'rf': '0.29559293757820104'}}\n",
      "[LibSVM]"
     ]
    },
    {
     "name": "stderr",
     "output_type": "stream",
     "text": [
      "C:\\ProgramData\\Anaconda3\\lib\\site-packages\\sklearn\\svm\\base.py:196: FutureWarning: The default value of gamma will change from 'auto' to 'scale' in version 0.22 to account better for unscaled features. Set gamma explicitly to 'auto' or 'scale' to avoid this warning.\n",
      "  \"avoid this warning.\", FutureWarning)\n"
     ]
    },
    {
     "name": "stdout",
     "output_type": "stream",
     "text": [
      "SVM acc: 0.34468233004309745\n",
      "{'all': {'rf': '0.20282841849532876', 'svm': '0.22171087716526103', 'lr': '0.1613749037113117'}, 'df_http': {'rf': '0.32978723404255317', 'svm': '0.3404255319148936', 'lr': '0.21808510638297873'}, 'df_http_tcp': {'rf': '0.15967685921711952', 'svm': '0.3526352345830095', 'lr': '0.1419901106352015'}, 'df_http_tcp_udp': {'rf': '0.2037161108863077', 'svm': '0.3820788197599984', 'lr': '0.17080046965485676'}, 'df_http_tls': {'rf': '0.3097651891070538', 'svm': '0.3443101688074266', 'lr': '0.1738170421899855'}, 'df_http_tls_tcp': {'rf': '0.18547421547378568', 'svm': '0.1963357053828537', 'lr': '0.16377579527104605'}, 'df_http_tls_tcp_udp': {'rf': '0.20156217562798423', 'svm': '0.22305376790533527', 'lr': '0.1523354785135977'}, 'df_http_tls_udp': {'rf': '0.29559293757820104', 'svm': '0.34468233004309745'}}\n"
     ]
    },
    {
     "name": "stderr",
     "output_type": "stream",
     "text": [
      "C:\\ProgramData\\Anaconda3\\lib\\site-packages\\sklearn\\linear_model\\logistic.py:433: FutureWarning: Default solver will be changed to 'lbfgs' in 0.22. Specify a solver to silence this warning.\n",
      "  FutureWarning)\n",
      "C:\\ProgramData\\Anaconda3\\lib\\site-packages\\sklearn\\linear_model\\logistic.py:460: FutureWarning: Default multi_class will be changed to 'auto' in 0.22. Specify the multi_class option to silence this warning.\n",
      "  \"this warning.\", FutureWarning)\n",
      "C:\\ProgramData\\Anaconda3\\lib\\site-packages\\sklearn\\linear_model\\logistic.py:1300: UserWarning: 'n_jobs' > 1 does not have any effect when 'solver' is set to 'liblinear'. Got 'n_jobs' = 12.\n",
      "  \" = {}.\".format(effective_n_jobs(self.n_jobs)))\n"
     ]
    },
    {
     "name": "stdout",
     "output_type": "stream",
     "text": [
      "Logistic Reg acc: 0.18623661893507576\n",
      "{'all': {'rf': '0.20282841849532876', 'svm': '0.22171087716526103', 'lr': '0.1613749037113117'}, 'df_http': {'rf': '0.32978723404255317', 'svm': '0.3404255319148936', 'lr': '0.21808510638297873'}, 'df_http_tcp': {'rf': '0.15967685921711952', 'svm': '0.3526352345830095', 'lr': '0.1419901106352015'}, 'df_http_tcp_udp': {'rf': '0.2037161108863077', 'svm': '0.3820788197599984', 'lr': '0.17080046965485676'}, 'df_http_tls': {'rf': '0.3097651891070538', 'svm': '0.3443101688074266', 'lr': '0.1738170421899855'}, 'df_http_tls_tcp': {'rf': '0.18547421547378568', 'svm': '0.1963357053828537', 'lr': '0.16377579527104605'}, 'df_http_tls_tcp_udp': {'rf': '0.20156217562798423', 'svm': '0.22305376790533527', 'lr': '0.1523354785135977'}, 'df_http_tls_udp': {'rf': '0.29559293757820104', 'svm': '0.34468233004309745', 'lr': '0.18623661893507576'}}\n",
      "df_http_udp\n"
     ]
    },
    {
     "name": "stderr",
     "output_type": "stream",
     "text": [
      "C:\\ProgramData\\Anaconda3\\lib\\site-packages\\sklearn\\ensemble\\forest.py:246: FutureWarning: The default value of n_estimators will change from 10 in version 0.20 to 100 in 0.22.\n",
      "  \"10 in version 0.20 to 100 in 0.22.\", FutureWarning)\n"
     ]
    },
    {
     "name": "stdout",
     "output_type": "stream",
     "text": [
      "RF acc: 0.31467715590519685\n",
      "{'all': {'rf': '0.20282841849532876', 'svm': '0.22171087716526103', 'lr': '0.1613749037113117'}, 'df_http': {'rf': '0.32978723404255317', 'svm': '0.3404255319148936', 'lr': '0.21808510638297873'}, 'df_http_tcp': {'rf': '0.15967685921711952', 'svm': '0.3526352345830095', 'lr': '0.1419901106352015'}, 'df_http_tcp_udp': {'rf': '0.2037161108863077', 'svm': '0.3820788197599984', 'lr': '0.17080046965485676'}, 'df_http_tls': {'rf': '0.3097651891070538', 'svm': '0.3443101688074266', 'lr': '0.1738170421899855'}, 'df_http_tls_tcp': {'rf': '0.18547421547378568', 'svm': '0.1963357053828537', 'lr': '0.16377579527104605'}, 'df_http_tls_tcp_udp': {'rf': '0.20156217562798423', 'svm': '0.22305376790533527', 'lr': '0.1523354785135977'}, 'df_http_tls_udp': {'rf': '0.29559293757820104', 'svm': '0.34468233004309745', 'lr': '0.18623661893507576'}, 'df_http_udp': {'rf': '0.31467715590519685'}}\n",
      "[LibSVM]"
     ]
    },
    {
     "name": "stderr",
     "output_type": "stream",
     "text": [
      "C:\\ProgramData\\Anaconda3\\lib\\site-packages\\sklearn\\svm\\base.py:196: FutureWarning: The default value of gamma will change from 'auto' to 'scale' in version 0.22 to account better for unscaled features. Set gamma explicitly to 'auto' or 'scale' to avoid this warning.\n",
      "  \"avoid this warning.\", FutureWarning)\n"
     ]
    },
    {
     "name": "stdout",
     "output_type": "stream",
     "text": [
      "SVM acc: 0.37464582152738424\n",
      "{'all': {'rf': '0.20282841849532876', 'svm': '0.22171087716526103', 'lr': '0.1613749037113117'}, 'df_http': {'rf': '0.32978723404255317', 'svm': '0.3404255319148936', 'lr': '0.21808510638297873'}, 'df_http_tcp': {'rf': '0.15967685921711952', 'svm': '0.3526352345830095', 'lr': '0.1419901106352015'}, 'df_http_tcp_udp': {'rf': '0.2037161108863077', 'svm': '0.3820788197599984', 'lr': '0.17080046965485676'}, 'df_http_tls': {'rf': '0.3097651891070538', 'svm': '0.3443101688074266', 'lr': '0.1738170421899855'}, 'df_http_tls_tcp': {'rf': '0.18547421547378568', 'svm': '0.1963357053828537', 'lr': '0.16377579527104605'}, 'df_http_tls_tcp_udp': {'rf': '0.20156217562798423', 'svm': '0.22305376790533527', 'lr': '0.1523354785135977'}, 'df_http_tls_udp': {'rf': '0.29559293757820104', 'svm': '0.34468233004309745', 'lr': '0.18623661893507576'}, 'df_http_udp': {'rf': '0.31467715590519685', 'svm': '0.37464582152738424'}}\n"
     ]
    },
    {
     "name": "stderr",
     "output_type": "stream",
     "text": [
      "C:\\ProgramData\\Anaconda3\\lib\\site-packages\\sklearn\\linear_model\\logistic.py:433: FutureWarning: Default solver will be changed to 'lbfgs' in 0.22. Specify a solver to silence this warning.\n",
      "  FutureWarning)\n",
      "C:\\ProgramData\\Anaconda3\\lib\\site-packages\\sklearn\\linear_model\\logistic.py:460: FutureWarning: Default multi_class will be changed to 'auto' in 0.22. Specify the multi_class option to silence this warning.\n",
      "  \"this warning.\", FutureWarning)\n",
      "C:\\ProgramData\\Anaconda3\\lib\\site-packages\\sklearn\\linear_model\\logistic.py:1300: UserWarning: 'n_jobs' > 1 does not have any effect when 'solver' is set to 'liblinear'. Got 'n_jobs' = 12.\n",
      "  \" = {}.\".format(effective_n_jobs(self.n_jobs)))\n"
     ]
    },
    {
     "name": "stdout",
     "output_type": "stream",
     "text": [
      "Logistic Reg acc: 0.42851428380946033\n",
      "{'all': {'rf': '0.20282841849532876', 'svm': '0.22171087716526103', 'lr': '0.1613749037113117'}, 'df_http': {'rf': '0.32978723404255317', 'svm': '0.3404255319148936', 'lr': '0.21808510638297873'}, 'df_http_tcp': {'rf': '0.15967685921711952', 'svm': '0.3526352345830095', 'lr': '0.1419901106352015'}, 'df_http_tcp_udp': {'rf': '0.2037161108863077', 'svm': '0.3820788197599984', 'lr': '0.17080046965485676'}, 'df_http_tls': {'rf': '0.3097651891070538', 'svm': '0.3443101688074266', 'lr': '0.1738170421899855'}, 'df_http_tls_tcp': {'rf': '0.18547421547378568', 'svm': '0.1963357053828537', 'lr': '0.16377579527104605'}, 'df_http_tls_tcp_udp': {'rf': '0.20156217562798423', 'svm': '0.22305376790533527', 'lr': '0.1523354785135977'}, 'df_http_tls_udp': {'rf': '0.29559293757820104', 'svm': '0.34468233004309745', 'lr': '0.18623661893507576'}, 'df_http_udp': {'rf': '0.31467715590519685', 'svm': '0.37464582152738424', 'lr': '0.42851428380946033'}}\n",
      "df_tcp\n"
     ]
    },
    {
     "name": "stderr",
     "output_type": "stream",
     "text": [
      "C:\\ProgramData\\Anaconda3\\lib\\site-packages\\sklearn\\ensemble\\forest.py:246: FutureWarning: The default value of n_estimators will change from 10 in version 0.20 to 100 in 0.22.\n",
      "  \"10 in version 0.20 to 100 in 0.22.\", FutureWarning)\n"
     ]
    },
    {
     "name": "stdout",
     "output_type": "stream",
     "text": [
      "RF acc: 0.157879917184265\n",
      "{'all': {'rf': '0.20282841849532876', 'svm': '0.22171087716526103', 'lr': '0.1613749037113117'}, 'df_http': {'rf': '0.32978723404255317', 'svm': '0.3404255319148936', 'lr': '0.21808510638297873'}, 'df_http_tcp': {'rf': '0.15967685921711952', 'svm': '0.3526352345830095', 'lr': '0.1419901106352015'}, 'df_http_tcp_udp': {'rf': '0.2037161108863077', 'svm': '0.3820788197599984', 'lr': '0.17080046965485676'}, 'df_http_tls': {'rf': '0.3097651891070538', 'svm': '0.3443101688074266', 'lr': '0.1738170421899855'}, 'df_http_tls_tcp': {'rf': '0.18547421547378568', 'svm': '0.1963357053828537', 'lr': '0.16377579527104605'}, 'df_http_tls_tcp_udp': {'rf': '0.20156217562798423', 'svm': '0.22305376790533527', 'lr': '0.1523354785135977'}, 'df_http_tls_udp': {'rf': '0.29559293757820104', 'svm': '0.34468233004309745', 'lr': '0.18623661893507576'}, 'df_http_udp': {'rf': '0.31467715590519685', 'svm': '0.37464582152738424', 'lr': '0.42851428380946033'}, 'df_tcp': {'rf': '0.157879917184265'}}\n"
     ]
    },
    {
     "name": "stderr",
     "output_type": "stream",
     "text": [
      "C:\\ProgramData\\Anaconda3\\lib\\site-packages\\sklearn\\svm\\base.py:196: FutureWarning: The default value of gamma will change from 'auto' to 'scale' in version 0.22 to account better for unscaled features. Set gamma explicitly to 'auto' or 'scale' to avoid this warning.\n",
      "  \"avoid this warning.\", FutureWarning)\n"
     ]
    },
    {
     "name": "stdout",
     "output_type": "stream",
     "text": [
      "[LibSVM]SVM acc: 0.3526128364389234\n",
      "{'all': {'rf': '0.20282841849532876', 'svm': '0.22171087716526103', 'lr': '0.1613749037113117'}, 'df_http': {'rf': '0.32978723404255317', 'svm': '0.3404255319148936', 'lr': '0.21808510638297873'}, 'df_http_tcp': {'rf': '0.15967685921711952', 'svm': '0.3526352345830095', 'lr': '0.1419901106352015'}, 'df_http_tcp_udp': {'rf': '0.2037161108863077', 'svm': '0.3820788197599984', 'lr': '0.17080046965485676'}, 'df_http_tls': {'rf': '0.3097651891070538', 'svm': '0.3443101688074266', 'lr': '0.1738170421899855'}, 'df_http_tls_tcp': {'rf': '0.18547421547378568', 'svm': '0.1963357053828537', 'lr': '0.16377579527104605'}, 'df_http_tls_tcp_udp': {'rf': '0.20156217562798423', 'svm': '0.22305376790533527', 'lr': '0.1523354785135977'}, 'df_http_tls_udp': {'rf': '0.29559293757820104', 'svm': '0.34468233004309745', 'lr': '0.18623661893507576'}, 'df_http_udp': {'rf': '0.31467715590519685', 'svm': '0.37464582152738424', 'lr': '0.42851428380946033'}, 'df_tcp': {'rf': '0.157879917184265', 'svm': '0.3526128364389234'}}\n"
     ]
    },
    {
     "name": "stderr",
     "output_type": "stream",
     "text": [
      "C:\\ProgramData\\Anaconda3\\lib\\site-packages\\sklearn\\linear_model\\logistic.py:433: FutureWarning: Default solver will be changed to 'lbfgs' in 0.22. Specify a solver to silence this warning.\n",
      "  FutureWarning)\n",
      "C:\\ProgramData\\Anaconda3\\lib\\site-packages\\sklearn\\linear_model\\logistic.py:460: FutureWarning: Default multi_class will be changed to 'auto' in 0.22. Specify the multi_class option to silence this warning.\n",
      "  \"this warning.\", FutureWarning)\n",
      "C:\\ProgramData\\Anaconda3\\lib\\site-packages\\sklearn\\linear_model\\logistic.py:1300: UserWarning: 'n_jobs' > 1 does not have any effect when 'solver' is set to 'liblinear'. Got 'n_jobs' = 12.\n",
      "  \" = {}.\".format(effective_n_jobs(self.n_jobs)))\n"
     ]
    },
    {
     "name": "stdout",
     "output_type": "stream",
     "text": [
      "Logistic Reg acc: 0.14200414078674947\n",
      "{'all': {'rf': '0.20282841849532876', 'svm': '0.22171087716526103', 'lr': '0.1613749037113117'}, 'df_http': {'rf': '0.32978723404255317', 'svm': '0.3404255319148936', 'lr': '0.21808510638297873'}, 'df_http_tcp': {'rf': '0.15967685921711952', 'svm': '0.3526352345830095', 'lr': '0.1419901106352015'}, 'df_http_tcp_udp': {'rf': '0.2037161108863077', 'svm': '0.3820788197599984', 'lr': '0.17080046965485676'}, 'df_http_tls': {'rf': '0.3097651891070538', 'svm': '0.3443101688074266', 'lr': '0.1738170421899855'}, 'df_http_tls_tcp': {'rf': '0.18547421547378568', 'svm': '0.1963357053828537', 'lr': '0.16377579527104605'}, 'df_http_tls_tcp_udp': {'rf': '0.20156217562798423', 'svm': '0.22305376790533527', 'lr': '0.1523354785135977'}, 'df_http_tls_udp': {'rf': '0.29559293757820104', 'svm': '0.34468233004309745', 'lr': '0.18623661893507576'}, 'df_http_udp': {'rf': '0.31467715590519685', 'svm': '0.37464582152738424', 'lr': '0.42851428380946033'}, 'df_tcp': {'rf': '0.157879917184265', 'svm': '0.3526128364389234', 'lr': '0.14200414078674947'}}\n",
      "df_tcp_udp\n"
     ]
    },
    {
     "name": "stderr",
     "output_type": "stream",
     "text": [
      "C:\\ProgramData\\Anaconda3\\lib\\site-packages\\sklearn\\ensemble\\forest.py:246: FutureWarning: The default value of n_estimators will change from 10 in version 0.20 to 100 in 0.22.\n",
      "  \"10 in version 0.20 to 100 in 0.22.\", FutureWarning)\n"
     ]
    },
    {
     "name": "stdout",
     "output_type": "stream",
     "text": [
      "RF acc: 0.20305391170356202\n",
      "{'all': {'rf': '0.20282841849532876', 'svm': '0.22171087716526103', 'lr': '0.1613749037113117'}, 'df_http': {'rf': '0.32978723404255317', 'svm': '0.3404255319148936', 'lr': '0.21808510638297873'}, 'df_http_tcp': {'rf': '0.15967685921711952', 'svm': '0.3526352345830095', 'lr': '0.1419901106352015'}, 'df_http_tcp_udp': {'rf': '0.2037161108863077', 'svm': '0.3820788197599984', 'lr': '0.17080046965485676'}, 'df_http_tls': {'rf': '0.3097651891070538', 'svm': '0.3443101688074266', 'lr': '0.1738170421899855'}, 'df_http_tls_tcp': {'rf': '0.18547421547378568', 'svm': '0.1963357053828537', 'lr': '0.16377579527104605'}, 'df_http_tls_tcp_udp': {'rf': '0.20156217562798423', 'svm': '0.22305376790533527', 'lr': '0.1523354785135977'}, 'df_http_tls_udp': {'rf': '0.29559293757820104', 'svm': '0.34468233004309745', 'lr': '0.18623661893507576'}, 'df_http_udp': {'rf': '0.31467715590519685', 'svm': '0.37464582152738424', 'lr': '0.42851428380946033'}, 'df_tcp': {'rf': '0.157879917184265', 'svm': '0.3526128364389234', 'lr': '0.14200414078674947'}, 'df_tcp_udp': {'rf': '0.20305391170356202'}}\n"
     ]
    },
    {
     "name": "stderr",
     "output_type": "stream",
     "text": [
      "C:\\ProgramData\\Anaconda3\\lib\\site-packages\\sklearn\\svm\\base.py:196: FutureWarning: The default value of gamma will change from 'auto' to 'scale' in version 0.22 to account better for unscaled features. Set gamma explicitly to 'auto' or 'scale' to avoid this warning.\n",
      "  \"avoid this warning.\", FutureWarning)\n"
     ]
    },
    {
     "name": "stdout",
     "output_type": "stream",
     "text": [
      "[LibSVM]SVM acc: 0.382223816260519\n",
      "{'all': {'rf': '0.20282841849532876', 'svm': '0.22171087716526103', 'lr': '0.1613749037113117'}, 'df_http': {'rf': '0.32978723404255317', 'svm': '0.3404255319148936', 'lr': '0.21808510638297873'}, 'df_http_tcp': {'rf': '0.15967685921711952', 'svm': '0.3526352345830095', 'lr': '0.1419901106352015'}, 'df_http_tcp_udp': {'rf': '0.2037161108863077', 'svm': '0.3820788197599984', 'lr': '0.17080046965485676'}, 'df_http_tls': {'rf': '0.3097651891070538', 'svm': '0.3443101688074266', 'lr': '0.1738170421899855'}, 'df_http_tls_tcp': {'rf': '0.18547421547378568', 'svm': '0.1963357053828537', 'lr': '0.16377579527104605'}, 'df_http_tls_tcp_udp': {'rf': '0.20156217562798423', 'svm': '0.22305376790533527', 'lr': '0.1523354785135977'}, 'df_http_tls_udp': {'rf': '0.29559293757820104', 'svm': '0.34468233004309745', 'lr': '0.18623661893507576'}, 'df_http_udp': {'rf': '0.31467715590519685', 'svm': '0.37464582152738424', 'lr': '0.42851428380946033'}, 'df_tcp': {'rf': '0.157879917184265', 'svm': '0.3526128364389234', 'lr': '0.14200414078674947'}, 'df_tcp_udp': {'rf': '0.20305391170356202', 'svm': '0.382223816260519'}}\n"
     ]
    },
    {
     "name": "stderr",
     "output_type": "stream",
     "text": [
      "C:\\ProgramData\\Anaconda3\\lib\\site-packages\\sklearn\\linear_model\\logistic.py:433: FutureWarning: Default solver will be changed to 'lbfgs' in 0.22. Specify a solver to silence this warning.\n",
      "  FutureWarning)\n",
      "C:\\ProgramData\\Anaconda3\\lib\\site-packages\\sklearn\\linear_model\\logistic.py:460: FutureWarning: Default multi_class will be changed to 'auto' in 0.22. Specify the multi_class option to silence this warning.\n",
      "  \"this warning.\", FutureWarning)\n",
      "C:\\ProgramData\\Anaconda3\\lib\\site-packages\\sklearn\\linear_model\\logistic.py:1300: UserWarning: 'n_jobs' > 1 does not have any effect when 'solver' is set to 'liblinear'. Got 'n_jobs' = 12.\n",
      "  \" = {}.\".format(effective_n_jobs(self.n_jobs)))\n"
     ]
    },
    {
     "name": "stdout",
     "output_type": "stream",
     "text": [
      "Logistic Reg acc: 0.16926029981203633\n",
      "{'all': {'rf': '0.20282841849532876', 'svm': '0.22171087716526103', 'lr': '0.1613749037113117'}, 'df_http': {'rf': '0.32978723404255317', 'svm': '0.3404255319148936', 'lr': '0.21808510638297873'}, 'df_http_tcp': {'rf': '0.15967685921711952', 'svm': '0.3526352345830095', 'lr': '0.1419901106352015'}, 'df_http_tcp_udp': {'rf': '0.2037161108863077', 'svm': '0.3820788197599984', 'lr': '0.17080046965485676'}, 'df_http_tls': {'rf': '0.3097651891070538', 'svm': '0.3443101688074266', 'lr': '0.1738170421899855'}, 'df_http_tls_tcp': {'rf': '0.18547421547378568', 'svm': '0.1963357053828537', 'lr': '0.16377579527104605'}, 'df_http_tls_tcp_udp': {'rf': '0.20156217562798423', 'svm': '0.22305376790533527', 'lr': '0.1523354785135977'}, 'df_http_tls_udp': {'rf': '0.29559293757820104', 'svm': '0.34468233004309745', 'lr': '0.18623661893507576'}, 'df_http_udp': {'rf': '0.31467715590519685', 'svm': '0.37464582152738424', 'lr': '0.42851428380946033'}, 'df_tcp': {'rf': '0.157879917184265', 'svm': '0.3526128364389234', 'lr': '0.14200414078674947'}, 'df_tcp_udp': {'rf': '0.20305391170356202', 'svm': '0.382223816260519', 'lr': '0.16926029981203633'}}\n",
      "df_tls\n"
     ]
    },
    {
     "name": "stderr",
     "output_type": "stream",
     "text": [
      "C:\\ProgramData\\Anaconda3\\lib\\site-packages\\sklearn\\ensemble\\forest.py:246: FutureWarning: The default value of n_estimators will change from 10 in version 0.20 to 100 in 0.22.\n",
      "  \"10 in version 0.20 to 100 in 0.22.\", FutureWarning)\n"
     ]
    },
    {
     "name": "stdout",
     "output_type": "stream",
     "text": [
      "RF acc: 0.3133242708258806\n",
      "{'all': {'rf': '0.20282841849532876', 'svm': '0.22171087716526103', 'lr': '0.1613749037113117'}, 'df_http': {'rf': '0.32978723404255317', 'svm': '0.3404255319148936', 'lr': '0.21808510638297873'}, 'df_http_tcp': {'rf': '0.15967685921711952', 'svm': '0.3526352345830095', 'lr': '0.1419901106352015'}, 'df_http_tcp_udp': {'rf': '0.2037161108863077', 'svm': '0.3820788197599984', 'lr': '0.17080046965485676'}, 'df_http_tls': {'rf': '0.3097651891070538', 'svm': '0.3443101688074266', 'lr': '0.1738170421899855'}, 'df_http_tls_tcp': {'rf': '0.18547421547378568', 'svm': '0.1963357053828537', 'lr': '0.16377579527104605'}, 'df_http_tls_tcp_udp': {'rf': '0.20156217562798423', 'svm': '0.22305376790533527', 'lr': '0.1523354785135977'}, 'df_http_tls_udp': {'rf': '0.29559293757820104', 'svm': '0.34468233004309745', 'lr': '0.18623661893507576'}, 'df_http_udp': {'rf': '0.31467715590519685', 'svm': '0.37464582152738424', 'lr': '0.42851428380946033'}, 'df_tcp': {'rf': '0.157879917184265', 'svm': '0.3526128364389234', 'lr': '0.14200414078674947'}, 'df_tcp_udp': {'rf': '0.20305391170356202', 'svm': '0.382223816260519', 'lr': '0.16926029981203633'}, 'df_tls': {'rf': '0.3133242708258806'}}\n",
      "[LibSVM]"
     ]
    },
    {
     "name": "stderr",
     "output_type": "stream",
     "text": [
      "C:\\ProgramData\\Anaconda3\\lib\\site-packages\\sklearn\\svm\\base.py:196: FutureWarning: The default value of gamma will change from 'auto' to 'scale' in version 0.22 to account better for unscaled features. Set gamma explicitly to 'auto' or 'scale' to avoid this warning.\n",
      "  \"avoid this warning.\", FutureWarning)\n"
     ]
    },
    {
     "name": "stdout",
     "output_type": "stream",
     "text": [
      "SVM acc: 0.34489995468746276\n",
      "{'all': {'rf': '0.20282841849532876', 'svm': '0.22171087716526103', 'lr': '0.1613749037113117'}, 'df_http': {'rf': '0.32978723404255317', 'svm': '0.3404255319148936', 'lr': '0.21808510638297873'}, 'df_http_tcp': {'rf': '0.15967685921711952', 'svm': '0.3526352345830095', 'lr': '0.1419901106352015'}, 'df_http_tcp_udp': {'rf': '0.2037161108863077', 'svm': '0.3820788197599984', 'lr': '0.17080046965485676'}, 'df_http_tls': {'rf': '0.3097651891070538', 'svm': '0.3443101688074266', 'lr': '0.1738170421899855'}, 'df_http_tls_tcp': {'rf': '0.18547421547378568', 'svm': '0.1963357053828537', 'lr': '0.16377579527104605'}, 'df_http_tls_tcp_udp': {'rf': '0.20156217562798423', 'svm': '0.22305376790533527', 'lr': '0.1523354785135977'}, 'df_http_tls_udp': {'rf': '0.29559293757820104', 'svm': '0.34468233004309745', 'lr': '0.18623661893507576'}, 'df_http_udp': {'rf': '0.31467715590519685', 'svm': '0.37464582152738424', 'lr': '0.42851428380946033'}, 'df_tcp': {'rf': '0.157879917184265', 'svm': '0.3526128364389234', 'lr': '0.14200414078674947'}, 'df_tcp_udp': {'rf': '0.20305391170356202', 'svm': '0.382223816260519', 'lr': '0.16926029981203633'}, 'df_tls': {'rf': '0.3133242708258806', 'svm': '0.34489995468746276'}}\n"
     ]
    },
    {
     "name": "stderr",
     "output_type": "stream",
     "text": [
      "C:\\ProgramData\\Anaconda3\\lib\\site-packages\\sklearn\\linear_model\\logistic.py:433: FutureWarning: Default solver will be changed to 'lbfgs' in 0.22. Specify a solver to silence this warning.\n",
      "  FutureWarning)\n",
      "C:\\ProgramData\\Anaconda3\\lib\\site-packages\\sklearn\\linear_model\\logistic.py:460: FutureWarning: Default multi_class will be changed to 'auto' in 0.22. Specify the multi_class option to silence this warning.\n",
      "  \"this warning.\", FutureWarning)\n",
      "C:\\ProgramData\\Anaconda3\\lib\\site-packages\\sklearn\\linear_model\\logistic.py:1300: UserWarning: 'n_jobs' > 1 does not have any effect when 'solver' is set to 'liblinear'. Got 'n_jobs' = 12.\n",
      "  \" = {}.\".format(effective_n_jobs(self.n_jobs)))\n"
     ]
    },
    {
     "name": "stdout",
     "output_type": "stream",
     "text": [
      "Logistic Reg acc: 0.17462020939161957\n",
      "{'all': {'rf': '0.20282841849532876', 'svm': '0.22171087716526103', 'lr': '0.1613749037113117'}, 'df_http': {'rf': '0.32978723404255317', 'svm': '0.3404255319148936', 'lr': '0.21808510638297873'}, 'df_http_tcp': {'rf': '0.15967685921711952', 'svm': '0.3526352345830095', 'lr': '0.1419901106352015'}, 'df_http_tcp_udp': {'rf': '0.2037161108863077', 'svm': '0.3820788197599984', 'lr': '0.17080046965485676'}, 'df_http_tls': {'rf': '0.3097651891070538', 'svm': '0.3443101688074266', 'lr': '0.1738170421899855'}, 'df_http_tls_tcp': {'rf': '0.18547421547378568', 'svm': '0.1963357053828537', 'lr': '0.16377579527104605'}, 'df_http_tls_tcp_udp': {'rf': '0.20156217562798423', 'svm': '0.22305376790533527', 'lr': '0.1523354785135977'}, 'df_http_tls_udp': {'rf': '0.29559293757820104', 'svm': '0.34468233004309745', 'lr': '0.18623661893507576'}, 'df_http_udp': {'rf': '0.31467715590519685', 'svm': '0.37464582152738424', 'lr': '0.42851428380946033'}, 'df_tcp': {'rf': '0.157879917184265', 'svm': '0.3526128364389234', 'lr': '0.14200414078674947'}, 'df_tcp_udp': {'rf': '0.20305391170356202', 'svm': '0.382223816260519', 'lr': '0.16926029981203633'}, 'df_tls': {'rf': '0.3133242708258806', 'svm': '0.34489995468746276', 'lr': '0.17462020939161957'}}\n",
      "df_tls_tcp\n"
     ]
    },
    {
     "name": "stderr",
     "output_type": "stream",
     "text": [
      "C:\\ProgramData\\Anaconda3\\lib\\site-packages\\sklearn\\ensemble\\forest.py:246: FutureWarning: The default value of n_estimators will change from 10 in version 0.20 to 100 in 0.22.\n",
      "  \"10 in version 0.20 to 100 in 0.22.\", FutureWarning)\n"
     ]
    },
    {
     "name": "stdout",
     "output_type": "stream",
     "text": [
      "RF acc: 0.1880490038787566\n",
      "{'all': {'rf': '0.20282841849532876', 'svm': '0.22171087716526103', 'lr': '0.1613749037113117'}, 'df_http': {'rf': '0.32978723404255317', 'svm': '0.3404255319148936', 'lr': '0.21808510638297873'}, 'df_http_tcp': {'rf': '0.15967685921711952', 'svm': '0.3526352345830095', 'lr': '0.1419901106352015'}, 'df_http_tcp_udp': {'rf': '0.2037161108863077', 'svm': '0.3820788197599984', 'lr': '0.17080046965485676'}, 'df_http_tls': {'rf': '0.3097651891070538', 'svm': '0.3443101688074266', 'lr': '0.1738170421899855'}, 'df_http_tls_tcp': {'rf': '0.18547421547378568', 'svm': '0.1963357053828537', 'lr': '0.16377579527104605'}, 'df_http_tls_tcp_udp': {'rf': '0.20156217562798423', 'svm': '0.22305376790533527', 'lr': '0.1523354785135977'}, 'df_http_tls_udp': {'rf': '0.29559293757820104', 'svm': '0.34468233004309745', 'lr': '0.18623661893507576'}, 'df_http_udp': {'rf': '0.31467715590519685', 'svm': '0.37464582152738424', 'lr': '0.42851428380946033'}, 'df_tcp': {'rf': '0.157879917184265', 'svm': '0.3526128364389234', 'lr': '0.14200414078674947'}, 'df_tcp_udp': {'rf': '0.20305391170356202', 'svm': '0.382223816260519', 'lr': '0.16926029981203633'}, 'df_tls': {'rf': '0.3133242708258806', 'svm': '0.34489995468746276', 'lr': '0.17462020939161957'}, 'df_tls_tcp': {'rf': '0.1880490038787566'}}\n"
     ]
    },
    {
     "name": "stderr",
     "output_type": "stream",
     "text": [
      "C:\\ProgramData\\Anaconda3\\lib\\site-packages\\sklearn\\svm\\base.py:196: FutureWarning: The default value of gamma will change from 'auto' to 'scale' in version 0.22 to account better for unscaled features. Set gamma explicitly to 'auto' or 'scale' to avoid this warning.\n",
      "  \"avoid this warning.\", FutureWarning)\n"
     ]
    },
    {
     "name": "stdout",
     "output_type": "stream",
     "text": [
      "[LibSVM]SVM acc: 0.19629827699608435\n",
      "{'all': {'rf': '0.20282841849532876', 'svm': '0.22171087716526103', 'lr': '0.1613749037113117'}, 'df_http': {'rf': '0.32978723404255317', 'svm': '0.3404255319148936', 'lr': '0.21808510638297873'}, 'df_http_tcp': {'rf': '0.15967685921711952', 'svm': '0.3526352345830095', 'lr': '0.1419901106352015'}, 'df_http_tcp_udp': {'rf': '0.2037161108863077', 'svm': '0.3820788197599984', 'lr': '0.17080046965485676'}, 'df_http_tls': {'rf': '0.3097651891070538', 'svm': '0.3443101688074266', 'lr': '0.1738170421899855'}, 'df_http_tls_tcp': {'rf': '0.18547421547378568', 'svm': '0.1963357053828537', 'lr': '0.16377579527104605'}, 'df_http_tls_tcp_udp': {'rf': '0.20156217562798423', 'svm': '0.22305376790533527', 'lr': '0.1523354785135977'}, 'df_http_tls_udp': {'rf': '0.29559293757820104', 'svm': '0.34468233004309745', 'lr': '0.18623661893507576'}, 'df_http_udp': {'rf': '0.31467715590519685', 'svm': '0.37464582152738424', 'lr': '0.42851428380946033'}, 'df_tcp': {'rf': '0.157879917184265', 'svm': '0.3526128364389234', 'lr': '0.14200414078674947'}, 'df_tcp_udp': {'rf': '0.20305391170356202', 'svm': '0.382223816260519', 'lr': '0.16926029981203633'}, 'df_tls': {'rf': '0.3133242708258806', 'svm': '0.34489995468746276', 'lr': '0.17462020939161957'}, 'df_tls_tcp': {'rf': '0.1880490038787566', 'svm': '0.19629827699608435'}}\n"
     ]
    },
    {
     "name": "stderr",
     "output_type": "stream",
     "text": [
      "C:\\ProgramData\\Anaconda3\\lib\\site-packages\\sklearn\\linear_model\\logistic.py:433: FutureWarning: Default solver will be changed to 'lbfgs' in 0.22. Specify a solver to silence this warning.\n",
      "  FutureWarning)\n",
      "C:\\ProgramData\\Anaconda3\\lib\\site-packages\\sklearn\\linear_model\\logistic.py:460: FutureWarning: Default multi_class will be changed to 'auto' in 0.22. Specify the multi_class option to silence this warning.\n",
      "  \"this warning.\", FutureWarning)\n",
      "C:\\ProgramData\\Anaconda3\\lib\\site-packages\\sklearn\\linear_model\\logistic.py:1300: UserWarning: 'n_jobs' > 1 does not have any effect when 'solver' is set to 'liblinear'. Got 'n_jobs' = 12.\n",
      "  \" = {}.\".format(effective_n_jobs(self.n_jobs)))\n"
     ]
    },
    {
     "name": "stdout",
     "output_type": "stream",
     "text": [
      "Logistic Reg acc: 0.16386056146691994\n",
      "{'all': {'rf': '0.20282841849532876', 'svm': '0.22171087716526103', 'lr': '0.1613749037113117'}, 'df_http': {'rf': '0.32978723404255317', 'svm': '0.3404255319148936', 'lr': '0.21808510638297873'}, 'df_http_tcp': {'rf': '0.15967685921711952', 'svm': '0.3526352345830095', 'lr': '0.1419901106352015'}, 'df_http_tcp_udp': {'rf': '0.2037161108863077', 'svm': '0.3820788197599984', 'lr': '0.17080046965485676'}, 'df_http_tls': {'rf': '0.3097651891070538', 'svm': '0.3443101688074266', 'lr': '0.1738170421899855'}, 'df_http_tls_tcp': {'rf': '0.18547421547378568', 'svm': '0.1963357053828537', 'lr': '0.16377579527104605'}, 'df_http_tls_tcp_udp': {'rf': '0.20156217562798423', 'svm': '0.22305376790533527', 'lr': '0.1523354785135977'}, 'df_http_tls_udp': {'rf': '0.29559293757820104', 'svm': '0.34468233004309745', 'lr': '0.18623661893507576'}, 'df_http_udp': {'rf': '0.31467715590519685', 'svm': '0.37464582152738424', 'lr': '0.42851428380946033'}, 'df_tcp': {'rf': '0.157879917184265', 'svm': '0.3526128364389234', 'lr': '0.14200414078674947'}, 'df_tcp_udp': {'rf': '0.20305391170356202', 'svm': '0.382223816260519', 'lr': '0.16926029981203633'}, 'df_tls': {'rf': '0.3133242708258806', 'svm': '0.34489995468746276', 'lr': '0.17462020939161957'}, 'df_tls_tcp': {'rf': '0.1880490038787566', 'svm': '0.19629827699608435', 'lr': '0.16386056146691994'}}\n",
      "df_tls_tcp_udp\n"
     ]
    },
    {
     "name": "stderr",
     "output_type": "stream",
     "text": [
      "C:\\ProgramData\\Anaconda3\\lib\\site-packages\\sklearn\\ensemble\\forest.py:246: FutureWarning: The default value of n_estimators will change from 10 in version 0.20 to 100 in 0.22.\n",
      "  \"10 in version 0.20 to 100 in 0.22.\", FutureWarning)\n"
     ]
    },
    {
     "name": "stdout",
     "output_type": "stream",
     "text": [
      "RF acc: 0.20558256966523283\n",
      "{'all': {'rf': '0.20282841849532876', 'svm': '0.22171087716526103', 'lr': '0.1613749037113117'}, 'df_http': {'rf': '0.32978723404255317', 'svm': '0.3404255319148936', 'lr': '0.21808510638297873'}, 'df_http_tcp': {'rf': '0.15967685921711952', 'svm': '0.3526352345830095', 'lr': '0.1419901106352015'}, 'df_http_tcp_udp': {'rf': '0.2037161108863077', 'svm': '0.3820788197599984', 'lr': '0.17080046965485676'}, 'df_http_tls': {'rf': '0.3097651891070538', 'svm': '0.3443101688074266', 'lr': '0.1738170421899855'}, 'df_http_tls_tcp': {'rf': '0.18547421547378568', 'svm': '0.1963357053828537', 'lr': '0.16377579527104605'}, 'df_http_tls_tcp_udp': {'rf': '0.20156217562798423', 'svm': '0.22305376790533527', 'lr': '0.1523354785135977'}, 'df_http_tls_udp': {'rf': '0.29559293757820104', 'svm': '0.34468233004309745', 'lr': '0.18623661893507576'}, 'df_http_udp': {'rf': '0.31467715590519685', 'svm': '0.37464582152738424', 'lr': '0.42851428380946033'}, 'df_tcp': {'rf': '0.157879917184265', 'svm': '0.3526128364389234', 'lr': '0.14200414078674947'}, 'df_tcp_udp': {'rf': '0.20305391170356202', 'svm': '0.382223816260519', 'lr': '0.16926029981203633'}, 'df_tls': {'rf': '0.3133242708258806', 'svm': '0.34489995468746276', 'lr': '0.17462020939161957'}, 'df_tls_tcp': {'rf': '0.1880490038787566', 'svm': '0.19629827699608435', 'lr': '0.16386056146691994'}, 'df_tls_tcp_udp': {'rf': '0.20558256966523283'}}\n"
     ]
    },
    {
     "name": "stderr",
     "output_type": "stream",
     "text": [
      "C:\\ProgramData\\Anaconda3\\lib\\site-packages\\sklearn\\svm\\base.py:196: FutureWarning: The default value of gamma will change from 'auto' to 'scale' in version 0.22 to account better for unscaled features. Set gamma explicitly to 'auto' or 'scale' to avoid this warning.\n",
      "  \"avoid this warning.\", FutureWarning)\n"
     ]
    },
    {
     "name": "stdout",
     "output_type": "stream",
     "text": [
      "[LibSVM]SVM acc: 0.22301186542817364\n",
      "{'all': {'rf': '0.20282841849532876', 'svm': '0.22171087716526103', 'lr': '0.1613749037113117'}, 'df_http': {'rf': '0.32978723404255317', 'svm': '0.3404255319148936', 'lr': '0.21808510638297873'}, 'df_http_tcp': {'rf': '0.15967685921711952', 'svm': '0.3526352345830095', 'lr': '0.1419901106352015'}, 'df_http_tcp_udp': {'rf': '0.2037161108863077', 'svm': '0.3820788197599984', 'lr': '0.17080046965485676'}, 'df_http_tls': {'rf': '0.3097651891070538', 'svm': '0.3443101688074266', 'lr': '0.1738170421899855'}, 'df_http_tls_tcp': {'rf': '0.18547421547378568', 'svm': '0.1963357053828537', 'lr': '0.16377579527104605'}, 'df_http_tls_tcp_udp': {'rf': '0.20156217562798423', 'svm': '0.22305376790533527', 'lr': '0.1523354785135977'}, 'df_http_tls_udp': {'rf': '0.29559293757820104', 'svm': '0.34468233004309745', 'lr': '0.18623661893507576'}, 'df_http_udp': {'rf': '0.31467715590519685', 'svm': '0.37464582152738424', 'lr': '0.42851428380946033'}, 'df_tcp': {'rf': '0.157879917184265', 'svm': '0.3526128364389234', 'lr': '0.14200414078674947'}, 'df_tcp_udp': {'rf': '0.20305391170356202', 'svm': '0.382223816260519', 'lr': '0.16926029981203633'}, 'df_tls': {'rf': '0.3133242708258806', 'svm': '0.34489995468746276', 'lr': '0.17462020939161957'}, 'df_tls_tcp': {'rf': '0.1880490038787566', 'svm': '0.19629827699608435', 'lr': '0.16386056146691994'}, 'df_tls_tcp_udp': {'rf': '0.20558256966523283', 'svm': '0.22301186542817364'}}\n"
     ]
    },
    {
     "name": "stderr",
     "output_type": "stream",
     "text": [
      "C:\\ProgramData\\Anaconda3\\lib\\site-packages\\sklearn\\linear_model\\logistic.py:433: FutureWarning: Default solver will be changed to 'lbfgs' in 0.22. Specify a solver to silence this warning.\n",
      "  FutureWarning)\n",
      "C:\\ProgramData\\Anaconda3\\lib\\site-packages\\sklearn\\linear_model\\logistic.py:460: FutureWarning: Default multi_class will be changed to 'auto' in 0.22. Specify the multi_class option to silence this warning.\n",
      "  \"this warning.\", FutureWarning)\n",
      "C:\\ProgramData\\Anaconda3\\lib\\site-packages\\sklearn\\linear_model\\logistic.py:1300: UserWarning: 'n_jobs' > 1 does not have any effect when 'solver' is set to 'liblinear'. Got 'n_jobs' = 12.\n",
      "  \" = {}.\".format(effective_n_jobs(self.n_jobs)))\n"
     ]
    },
    {
     "name": "stdout",
     "output_type": "stream",
     "text": [
      "Logistic Reg acc: 0.153668723895019\n",
      "{'all': {'rf': '0.20282841849532876', 'svm': '0.22171087716526103', 'lr': '0.1613749037113117'}, 'df_http': {'rf': '0.32978723404255317', 'svm': '0.3404255319148936', 'lr': '0.21808510638297873'}, 'df_http_tcp': {'rf': '0.15967685921711952', 'svm': '0.3526352345830095', 'lr': '0.1419901106352015'}, 'df_http_tcp_udp': {'rf': '0.2037161108863077', 'svm': '0.3820788197599984', 'lr': '0.17080046965485676'}, 'df_http_tls': {'rf': '0.3097651891070538', 'svm': '0.3443101688074266', 'lr': '0.1738170421899855'}, 'df_http_tls_tcp': {'rf': '0.18547421547378568', 'svm': '0.1963357053828537', 'lr': '0.16377579527104605'}, 'df_http_tls_tcp_udp': {'rf': '0.20156217562798423', 'svm': '0.22305376790533527', 'lr': '0.1523354785135977'}, 'df_http_tls_udp': {'rf': '0.29559293757820104', 'svm': '0.34468233004309745', 'lr': '0.18623661893507576'}, 'df_http_udp': {'rf': '0.31467715590519685', 'svm': '0.37464582152738424', 'lr': '0.42851428380946033'}, 'df_tcp': {'rf': '0.157879917184265', 'svm': '0.3526128364389234', 'lr': '0.14200414078674947'}, 'df_tcp_udp': {'rf': '0.20305391170356202', 'svm': '0.382223816260519', 'lr': '0.16926029981203633'}, 'df_tls': {'rf': '0.3133242708258806', 'svm': '0.34489995468746276', 'lr': '0.17462020939161957'}, 'df_tls_tcp': {'rf': '0.1880490038787566', 'svm': '0.19629827699608435', 'lr': '0.16386056146691994'}, 'df_tls_tcp_udp': {'rf': '0.20558256966523283', 'svm': '0.22301186542817364', 'lr': '0.153668723895019'}}\n",
      "df_tls_udp\n"
     ]
    },
    {
     "name": "stderr",
     "output_type": "stream",
     "text": [
      "C:\\ProgramData\\Anaconda3\\lib\\site-packages\\sklearn\\ensemble\\forest.py:246: FutureWarning: The default value of n_estimators will change from 10 in version 0.20 to 100 in 0.22.\n",
      "  \"10 in version 0.20 to 100 in 0.22.\", FutureWarning)\n"
     ]
    },
    {
     "name": "stdout",
     "output_type": "stream",
     "text": [
      "RF acc: 0.2972596247665245\n",
      "{'all': {'rf': '0.20282841849532876', 'svm': '0.22171087716526103', 'lr': '0.1613749037113117'}, 'df_http': {'rf': '0.32978723404255317', 'svm': '0.3404255319148936', 'lr': '0.21808510638297873'}, 'df_http_tcp': {'rf': '0.15967685921711952', 'svm': '0.3526352345830095', 'lr': '0.1419901106352015'}, 'df_http_tcp_udp': {'rf': '0.2037161108863077', 'svm': '0.3820788197599984', 'lr': '0.17080046965485676'}, 'df_http_tls': {'rf': '0.3097651891070538', 'svm': '0.3443101688074266', 'lr': '0.1738170421899855'}, 'df_http_tls_tcp': {'rf': '0.18547421547378568', 'svm': '0.1963357053828537', 'lr': '0.16377579527104605'}, 'df_http_tls_tcp_udp': {'rf': '0.20156217562798423', 'svm': '0.22305376790533527', 'lr': '0.1523354785135977'}, 'df_http_tls_udp': {'rf': '0.29559293757820104', 'svm': '0.34468233004309745', 'lr': '0.18623661893507576'}, 'df_http_udp': {'rf': '0.31467715590519685', 'svm': '0.37464582152738424', 'lr': '0.42851428380946033'}, 'df_tcp': {'rf': '0.157879917184265', 'svm': '0.3526128364389234', 'lr': '0.14200414078674947'}, 'df_tcp_udp': {'rf': '0.20305391170356202', 'svm': '0.382223816260519', 'lr': '0.16926029981203633'}, 'df_tls': {'rf': '0.3133242708258806', 'svm': '0.34489995468746276', 'lr': '0.17462020939161957'}, 'df_tls_tcp': {'rf': '0.1880490038787566', 'svm': '0.19629827699608435', 'lr': '0.16386056146691994'}, 'df_tls_tcp_udp': {'rf': '0.20558256966523283', 'svm': '0.22301186542817364', 'lr': '0.153668723895019'}, 'df_tls_udp': {'rf': '0.2972596247665245'}}\n"
     ]
    },
    {
     "name": "stderr",
     "output_type": "stream",
     "text": [
      "C:\\ProgramData\\Anaconda3\\lib\\site-packages\\sklearn\\svm\\base.py:196: FutureWarning: The default value of gamma will change from 'auto' to 'scale' in version 0.22 to account better for unscaled features. Set gamma explicitly to 'auto' or 'scale' to avoid this warning.\n",
      "  \"avoid this warning.\", FutureWarning)\n"
     ]
    },
    {
     "name": "stdout",
     "output_type": "stream",
     "text": [
      "[LibSVM]SVM acc: 0.34498620055197793\n",
      "{'all': {'rf': '0.20282841849532876', 'svm': '0.22171087716526103', 'lr': '0.1613749037113117'}, 'df_http': {'rf': '0.32978723404255317', 'svm': '0.3404255319148936', 'lr': '0.21808510638297873'}, 'df_http_tcp': {'rf': '0.15967685921711952', 'svm': '0.3526352345830095', 'lr': '0.1419901106352015'}, 'df_http_tcp_udp': {'rf': '0.2037161108863077', 'svm': '0.3820788197599984', 'lr': '0.17080046965485676'}, 'df_http_tls': {'rf': '0.3097651891070538', 'svm': '0.3443101688074266', 'lr': '0.1738170421899855'}, 'df_http_tls_tcp': {'rf': '0.18547421547378568', 'svm': '0.1963357053828537', 'lr': '0.16377579527104605'}, 'df_http_tls_tcp_udp': {'rf': '0.20156217562798423', 'svm': '0.22305376790533527', 'lr': '0.1523354785135977'}, 'df_http_tls_udp': {'rf': '0.29559293757820104', 'svm': '0.34468233004309745', 'lr': '0.18623661893507576'}, 'df_http_udp': {'rf': '0.31467715590519685', 'svm': '0.37464582152738424', 'lr': '0.42851428380946033'}, 'df_tcp': {'rf': '0.157879917184265', 'svm': '0.3526128364389234', 'lr': '0.14200414078674947'}, 'df_tcp_udp': {'rf': '0.20305391170356202', 'svm': '0.382223816260519', 'lr': '0.16926029981203633'}, 'df_tls': {'rf': '0.3133242708258806', 'svm': '0.34489995468746276', 'lr': '0.17462020939161957'}, 'df_tls_tcp': {'rf': '0.1880490038787566', 'svm': '0.19629827699608435', 'lr': '0.16386056146691994'}, 'df_tls_tcp_udp': {'rf': '0.20558256966523283', 'svm': '0.22301186542817364', 'lr': '0.153668723895019'}, 'df_tls_udp': {'rf': '0.2972596247665245', 'svm': '0.34498620055197793'}}\n"
     ]
    },
    {
     "name": "stderr",
     "output_type": "stream",
     "text": [
      "C:\\ProgramData\\Anaconda3\\lib\\site-packages\\sklearn\\linear_model\\logistic.py:433: FutureWarning: Default solver will be changed to 'lbfgs' in 0.22. Specify a solver to silence this warning.\n",
      "  FutureWarning)\n",
      "C:\\ProgramData\\Anaconda3\\lib\\site-packages\\sklearn\\linear_model\\logistic.py:460: FutureWarning: Default multi_class will be changed to 'auto' in 0.22. Specify the multi_class option to silence this warning.\n",
      "  \"this warning.\", FutureWarning)\n",
      "C:\\ProgramData\\Anaconda3\\lib\\site-packages\\sklearn\\linear_model\\logistic.py:1300: UserWarning: 'n_jobs' > 1 does not have any effect when 'solver' is set to 'liblinear'. Got 'n_jobs' = 12.\n",
      "  \" = {}.\".format(effective_n_jobs(self.n_jobs)))\n"
     ]
    },
    {
     "name": "stdout",
     "output_type": "stream",
     "text": [
      "Logistic Reg acc: 0.18620891527975245\n",
      "{'all': {'rf': '0.20282841849532876', 'svm': '0.22171087716526103', 'lr': '0.1613749037113117'}, 'df_http': {'rf': '0.32978723404255317', 'svm': '0.3404255319148936', 'lr': '0.21808510638297873'}, 'df_http_tcp': {'rf': '0.15967685921711952', 'svm': '0.3526352345830095', 'lr': '0.1419901106352015'}, 'df_http_tcp_udp': {'rf': '0.2037161108863077', 'svm': '0.3820788197599984', 'lr': '0.17080046965485676'}, 'df_http_tls': {'rf': '0.3097651891070538', 'svm': '0.3443101688074266', 'lr': '0.1738170421899855'}, 'df_http_tls_tcp': {'rf': '0.18547421547378568', 'svm': '0.1963357053828537', 'lr': '0.16377579527104605'}, 'df_http_tls_tcp_udp': {'rf': '0.20156217562798423', 'svm': '0.22305376790533527', 'lr': '0.1523354785135977'}, 'df_http_tls_udp': {'rf': '0.29559293757820104', 'svm': '0.34468233004309745', 'lr': '0.18623661893507576'}, 'df_http_udp': {'rf': '0.31467715590519685', 'svm': '0.37464582152738424', 'lr': '0.42851428380946033'}, 'df_tcp': {'rf': '0.157879917184265', 'svm': '0.3526128364389234', 'lr': '0.14200414078674947'}, 'df_tcp_udp': {'rf': '0.20305391170356202', 'svm': '0.382223816260519', 'lr': '0.16926029981203633'}, 'df_tls': {'rf': '0.3133242708258806', 'svm': '0.34489995468746276', 'lr': '0.17462020939161957'}, 'df_tls_tcp': {'rf': '0.1880490038787566', 'svm': '0.19629827699608435', 'lr': '0.16386056146691994'}, 'df_tls_tcp_udp': {'rf': '0.20558256966523283', 'svm': '0.22301186542817364', 'lr': '0.153668723895019'}, 'df_tls_udp': {'rf': '0.2972596247665245', 'svm': '0.34498620055197793', 'lr': '0.18620891527975245'}}\n",
      "df_udp\n"
     ]
    },
    {
     "name": "stderr",
     "output_type": "stream",
     "text": [
      "C:\\ProgramData\\Anaconda3\\lib\\site-packages\\sklearn\\ensemble\\forest.py:246: FutureWarning: The default value of n_estimators will change from 10 in version 0.20 to 100 in 0.22.\n",
      "  \"10 in version 0.20 to 100 in 0.22.\", FutureWarning)\n"
     ]
    },
    {
     "name": "stdout",
     "output_type": "stream",
     "text": [
      "RF acc: 0.3150179463956258\n",
      "{'all': {'rf': '0.20282841849532876', 'svm': '0.22171087716526103', 'lr': '0.1613749037113117'}, 'df_http': {'rf': '0.32978723404255317', 'svm': '0.3404255319148936', 'lr': '0.21808510638297873'}, 'df_http_tcp': {'rf': '0.15967685921711952', 'svm': '0.3526352345830095', 'lr': '0.1419901106352015'}, 'df_http_tcp_udp': {'rf': '0.2037161108863077', 'svm': '0.3820788197599984', 'lr': '0.17080046965485676'}, 'df_http_tls': {'rf': '0.3097651891070538', 'svm': '0.3443101688074266', 'lr': '0.1738170421899855'}, 'df_http_tls_tcp': {'rf': '0.18547421547378568', 'svm': '0.1963357053828537', 'lr': '0.16377579527104605'}, 'df_http_tls_tcp_udp': {'rf': '0.20156217562798423', 'svm': '0.22305376790533527', 'lr': '0.1523354785135977'}, 'df_http_tls_udp': {'rf': '0.29559293757820104', 'svm': '0.34468233004309745', 'lr': '0.18623661893507576'}, 'df_http_udp': {'rf': '0.31467715590519685', 'svm': '0.37464582152738424', 'lr': '0.42851428380946033'}, 'df_tcp': {'rf': '0.157879917184265', 'svm': '0.3526128364389234', 'lr': '0.14200414078674947'}, 'df_tcp_udp': {'rf': '0.20305391170356202', 'svm': '0.382223816260519', 'lr': '0.16926029981203633'}, 'df_tls': {'rf': '0.3133242708258806', 'svm': '0.34489995468746276', 'lr': '0.17462020939161957'}, 'df_tls_tcp': {'rf': '0.1880490038787566', 'svm': '0.19629827699608435', 'lr': '0.16386056146691994'}, 'df_tls_tcp_udp': {'rf': '0.20558256966523283', 'svm': '0.22301186542817364', 'lr': '0.153668723895019'}, 'df_tls_udp': {'rf': '0.2972596247665245', 'svm': '0.34498620055197793', 'lr': '0.18620891527975245'}, 'df_udp': {'rf': '0.3150179463956258'}}\n",
      "[LibSVM]"
     ]
    },
    {
     "name": "stderr",
     "output_type": "stream",
     "text": [
      "C:\\ProgramData\\Anaconda3\\lib\\site-packages\\sklearn\\svm\\base.py:196: FutureWarning: The default value of gamma will change from 'auto' to 'scale' in version 0.22 to account better for unscaled features. Set gamma explicitly to 'auto' or 'scale' to avoid this warning.\n",
      "  \"avoid this warning.\", FutureWarning)\n"
     ]
    },
    {
     "name": "stdout",
     "output_type": "stream",
     "text": [
      "SVM acc: 0.3753647982288417\n",
      "{'all': {'rf': '0.20282841849532876', 'svm': '0.22171087716526103', 'lr': '0.1613749037113117'}, 'df_http': {'rf': '0.32978723404255317', 'svm': '0.3404255319148936', 'lr': '0.21808510638297873'}, 'df_http_tcp': {'rf': '0.15967685921711952', 'svm': '0.3526352345830095', 'lr': '0.1419901106352015'}, 'df_http_tcp_udp': {'rf': '0.2037161108863077', 'svm': '0.3820788197599984', 'lr': '0.17080046965485676'}, 'df_http_tls': {'rf': '0.3097651891070538', 'svm': '0.3443101688074266', 'lr': '0.1738170421899855'}, 'df_http_tls_tcp': {'rf': '0.18547421547378568', 'svm': '0.1963357053828537', 'lr': '0.16377579527104605'}, 'df_http_tls_tcp_udp': {'rf': '0.20156217562798423', 'svm': '0.22305376790533527', 'lr': '0.1523354785135977'}, 'df_http_tls_udp': {'rf': '0.29559293757820104', 'svm': '0.34468233004309745', 'lr': '0.18623661893507576'}, 'df_http_udp': {'rf': '0.31467715590519685', 'svm': '0.37464582152738424', 'lr': '0.42851428380946033'}, 'df_tcp': {'rf': '0.157879917184265', 'svm': '0.3526128364389234', 'lr': '0.14200414078674947'}, 'df_tcp_udp': {'rf': '0.20305391170356202', 'svm': '0.382223816260519', 'lr': '0.16926029981203633'}, 'df_tls': {'rf': '0.3133242708258806', 'svm': '0.34489995468746276', 'lr': '0.17462020939161957'}, 'df_tls_tcp': {'rf': '0.1880490038787566', 'svm': '0.19629827699608435', 'lr': '0.16386056146691994'}, 'df_tls_tcp_udp': {'rf': '0.20558256966523283', 'svm': '0.22301186542817364', 'lr': '0.153668723895019'}, 'df_tls_udp': {'rf': '0.2972596247665245', 'svm': '0.34498620055197793', 'lr': '0.18620891527975245'}, 'df_udp': {'rf': '0.3150179463956258', 'svm': '0.3753647982288417'}}\n"
     ]
    },
    {
     "name": "stderr",
     "output_type": "stream",
     "text": [
      "C:\\ProgramData\\Anaconda3\\lib\\site-packages\\sklearn\\linear_model\\logistic.py:433: FutureWarning: Default solver will be changed to 'lbfgs' in 0.22. Specify a solver to silence this warning.\n",
      "  FutureWarning)\n",
      "C:\\ProgramData\\Anaconda3\\lib\\site-packages\\sklearn\\linear_model\\logistic.py:460: FutureWarning: Default multi_class will be changed to 'auto' in 0.22. Specify the multi_class option to silence this warning.\n",
      "  \"this warning.\", FutureWarning)\n",
      "C:\\ProgramData\\Anaconda3\\lib\\site-packages\\sklearn\\linear_model\\logistic.py:1300: UserWarning: 'n_jobs' > 1 does not have any effect when 'solver' is set to 'liblinear'. Got 'n_jobs' = 12.\n",
      "  \" = {}.\".format(effective_n_jobs(self.n_jobs)))\n"
     ]
    },
    {
     "name": "stdout",
     "output_type": "stream",
     "text": [
      "Logistic Reg acc: 0.4282311898292577\n",
      "{'all': {'rf': '0.20282841849532876', 'svm': '0.22171087716526103', 'lr': '0.1613749037113117'}, 'df_http': {'rf': '0.32978723404255317', 'svm': '0.3404255319148936', 'lr': '0.21808510638297873'}, 'df_http_tcp': {'rf': '0.15967685921711952', 'svm': '0.3526352345830095', 'lr': '0.1419901106352015'}, 'df_http_tcp_udp': {'rf': '0.2037161108863077', 'svm': '0.3820788197599984', 'lr': '0.17080046965485676'}, 'df_http_tls': {'rf': '0.3097651891070538', 'svm': '0.3443101688074266', 'lr': '0.1738170421899855'}, 'df_http_tls_tcp': {'rf': '0.18547421547378568', 'svm': '0.1963357053828537', 'lr': '0.16377579527104605'}, 'df_http_tls_tcp_udp': {'rf': '0.20156217562798423', 'svm': '0.22305376790533527', 'lr': '0.1523354785135977'}, 'df_http_tls_udp': {'rf': '0.29559293757820104', 'svm': '0.34468233004309745', 'lr': '0.18623661893507576'}, 'df_http_udp': {'rf': '0.31467715590519685', 'svm': '0.37464582152738424', 'lr': '0.42851428380946033'}, 'df_tcp': {'rf': '0.157879917184265', 'svm': '0.3526128364389234', 'lr': '0.14200414078674947'}, 'df_tcp_udp': {'rf': '0.20305391170356202', 'svm': '0.382223816260519', 'lr': '0.16926029981203633'}, 'df_tls': {'rf': '0.3133242708258806', 'svm': '0.34489995468746276', 'lr': '0.17462020939161957'}, 'df_tls_tcp': {'rf': '0.1880490038787566', 'svm': '0.19629827699608435', 'lr': '0.16386056146691994'}, 'df_tls_tcp_udp': {'rf': '0.20558256966523283', 'svm': '0.22301186542817364', 'lr': '0.153668723895019'}, 'df_tls_udp': {'rf': '0.2972596247665245', 'svm': '0.34498620055197793', 'lr': '0.18620891527975245'}, 'df_udp': {'rf': '0.3150179463956258', 'svm': '0.3753647982288417', 'lr': '0.4282311898292577'}}\n"
     ]
    }
   ],
   "source": [
    "# We want to loop over the folders in /collection\n",
    "# load up the dataframes in each of them\n",
    "# Train the model\n",
    "# Dump it out \n",
    "\n",
    "path = '../../p2/collection'\n",
    "col_names = [\"website-index\", \"time\", \"direction\", \"packet size\"]\n",
    "folders = []\n",
    "for r, d, f in os.walk(path):\n",
    "    for folder in d:\n",
    "        folders.append(folder)\n",
    "\n",
    "results = {}\n",
    "\n",
    "for folder in folders:\n",
    "    if (folder == \"raw\"):\n",
    "        continue \n",
    "    results[folder] = {} # Goddam python dictionaries\n",
    "    print(folder)\n",
    "    df_one = pd.read_csv(path+\"/\"+folder+\"/\"+\"Day1-parsed-ondevice.csv\", header=0, names=col_names, error_bad_lines=False, warn_bad_lines=False, quotechar='^')\n",
    "    df_two = pd.read_csv(path+\"/\"+folder+\"/\"+\"Day2-parsed-ondevice.csv\", header=0, names=col_names, error_bad_lines=False, warn_bad_lines=False, quotechar='^')\n",
    "    df_three = pd.read_csv(path+\"/\"+folder+\"/\"+\"Day3-parsed-ondevice.csv\", header=0, names=col_names, error_bad_lines=False, warn_bad_lines=False, quotechar='^')\n",
    "    \n",
    "    # Preprocess training data\n",
    "    df = df_one.append(df_two)\n",
    "    X = df.loc[:, df.columns != 'website-index']\n",
    "    y = df['website-index']\n",
    "    \n",
    "    # Preprocess testing data\n",
    "    X_test = df_three.loc[:, df_three.columns != 'website-index']\n",
    "    y_test = df_three['website-index']\n",
    "    \n",
    "    outpath = './models/' + folder + \"/\"\n",
    "    if not os.path.exists(outpath):\n",
    "        os.mkdir(outpath)    \n",
    "\n",
    "    # Model training\n",
    "    clf = RandomForestClassifier(n_jobs=-1)\n",
    "    clf.fit(X,y)\n",
    "    rf_acc = clf.score(X_test, y_test)\n",
    "    print(\"RF acc: \" + str(rf_acc))\n",
    "    results[folder][\"rf\"] = str(rf_acc)\n",
    "    dump(clf, outpath + 'rf_model.joblib')\n",
    "    print(results)\n",
    "\n",
    "    \n",
    "    \n",
    "    svm_model = svm.SVC(verbose=True, cache_size=8000) # Yes i have the ram\n",
    "    svm_model.fit(X, y)\n",
    "    svm_acc = svm_model.score(X_test, y_test)\n",
    "    print(\"SVM acc: \" + str(svm_acc))\n",
    "    results[folder][\"svm\"] = str(svm_acc)\n",
    "    dump(svm_model, outpath + 'svm_model.joblib')\n",
    "    print(results)\n",
    "\n",
    "    \n",
    "    \n",
    "    lr = LogisticRegression(random_state=0, max_iter=10e5, n_jobs=-1)\n",
    "    lr.fit(X, y)\n",
    "    lr_acc = lr.score(X_test, y_test)\n",
    "    print(\"Logistic Reg acc: \" + str(lr_acc))\n",
    "    results[folder][\"lr\"] = str(lr_acc)\n",
    "    dump(lr, outpath + \"lr_model.joblib\")\n",
    "    print(results)"
   ]
  },
  {
   "cell_type": "code",
   "execution_count": null,
   "metadata": {},
   "outputs": [],
   "source": []
  }
 ],
 "metadata": {
  "kernelspec": {
   "display_name": "Python 3",
   "language": "python",
   "name": "python3"
  },
  "language_info": {
   "codemirror_mode": {
    "name": "ipython",
    "version": 3
   },
   "file_extension": ".py",
   "mimetype": "text/x-python",
   "name": "python",
   "nbconvert_exporter": "python",
   "pygments_lexer": "ipython3",
   "version": "3.6.8"
  }
 },
 "nbformat": 4,
 "nbformat_minor": 2
}
