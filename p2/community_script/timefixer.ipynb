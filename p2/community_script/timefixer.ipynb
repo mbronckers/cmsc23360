{
 "cells": [
  {
   "cell_type": "code",
   "execution_count": 1,
   "metadata": {},
   "outputs": [],
   "source": [
    "import pandas as pd\n",
    "import re\n",
    "import numpy as np"
   ]
  },
  {
   "cell_type": "code",
   "execution_count": 61,
   "metadata": {},
   "outputs": [],
   "source": [
    "def fix_time(df):\n",
    "    t_decrement = 0\n",
    "    last_index = \"\"\n",
    "    \n",
    "    for i, row in df.iterrows():\n",
    "        if last_index != row['website-index']: # Only reset t_decrement when we see a new website\n",
    "            t_decrement = row['time']\n",
    "            last_index = row['website-index']\n",
    "        df.at[i,'time'] = df.at[i, 'time'] - t_decrement\n",
    "        \n",
    "        # Sanity check\n",
    "        assert df.at[i, 'time'] >= 0, \"negative time???\"\n",
    "        \n",
    "    return df"
   ]
  },
  {
   "cell_type": "code",
   "execution_count": 64,
   "metadata": {},
   "outputs": [
    {
     "name": "stdout",
     "output_type": "stream",
     "text": [
      "0 aggregate_data/day_1_parsed.csv\n",
      "1 aggregate_data/day_2_parsed.csv\n",
      "2 aggregate_data/day_3_parsed.csv\n"
     ]
    }
   ],
   "source": [
    "# Modify this to ones you need \n",
    "files = [\"aggregate_data/day_1_parsed.csv\", \"aggregate_data/day_2_parsed.csv\", \"aggregate_data/day_3_parsed.csv\"]\n",
    "outfiles = [\"aggregate_data/day_1_fixed.csv\", \"aggregate_data/day_2_fixed.csv\", \"aggregate_data/day_3_fixed.csv\"]\n",
    "col_names = ['website-index', 'time', 'direction','packet size']\n",
    "\n",
    "for i, file in enumerate(files):\n",
    "    print(i, file)\n",
    "    df = pd.read_csv(file, header=0, names=col_names)\n",
    "    f_df = fix_time(df)\n",
    "    f_df.to_csv(outfiles[i], index=False)\n",
    "    "
   ]
  },
  {
   "cell_type": "code",
   "execution_count": null,
   "metadata": {},
   "outputs": [],
   "source": []
  }
 ],
 "metadata": {
  "kernelspec": {
   "display_name": "Python 3",
   "language": "python",
   "name": "python3"
  },
  "language_info": {
   "codemirror_mode": {
    "name": "ipython",
    "version": 3
   },
   "file_extension": ".py",
   "mimetype": "text/x-python",
   "name": "python",
   "nbconvert_exporter": "python",
   "pygments_lexer": "ipython3",
   "version": "3.6.3"
  }
 },
 "nbformat": 4,
 "nbformat_minor": 4
}
