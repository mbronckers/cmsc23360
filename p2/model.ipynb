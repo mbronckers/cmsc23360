{
 "cells": [
  {
   "cell_type": "code",
   "execution_count": 102,
   "metadata": {},
   "outputs": [],
   "source": [
    "import numpy as np\n",
    "import matplotlib.pyplot as plt\n",
    "import pandas as pd\n",
    "import os \n",
    "from joblib import dump, load\n",
    "\n",
    "from sklearn.ensemble import RandomForestClassifier\n",
    "from sklearn import svm\n",
    "from sklearn.linear_model import LogisticRegression\n",
    "from sklearn.neighbors import KNeighborsClassifier"
   ]
  },
  {
   "cell_type": "markdown",
   "metadata": {},
   "source": [
    "### Local data models"
   ]
  },
  {
   "cell_type": "code",
   "execution_count": 2,
   "metadata": {},
   "outputs": [
    {
     "name": "stdout",
     "output_type": "stream",
     "text": [
      "all\n"
     ]
    },
    {
     "name": "stderr",
     "output_type": "stream",
     "text": [
      "C:\\ProgramData\\Anaconda3\\lib\\site-packages\\sklearn\\ensemble\\forest.py:246: FutureWarning: The default value of n_estimators will change from 10 in version 0.20 to 100 in 0.22.\n",
      "  \"10 in version 0.20 to 100 in 0.22.\", FutureWarning)\n"
     ]
    },
    {
     "name": "stdout",
     "output_type": "stream",
     "text": [
      "RF acc: 0.20282841849532876\n",
      "{'all': {'rf': '0.20282841849532876'}}\n",
      "[LibSVM]"
     ]
    },
    {
     "name": "stderr",
     "output_type": "stream",
     "text": [
      "C:\\ProgramData\\Anaconda3\\lib\\site-packages\\sklearn\\svm\\base.py:196: FutureWarning: The default value of gamma will change from 'auto' to 'scale' in version 0.22 to account better for unscaled features. Set gamma explicitly to 'auto' or 'scale' to avoid this warning.\n",
      "  \"avoid this warning.\", FutureWarning)\n"
     ]
    },
    {
     "name": "stdout",
     "output_type": "stream",
     "text": [
      "SVM acc: 0.22171087716526103\n",
      "{'all': {'rf': '0.20282841849532876', 'svm': '0.22171087716526103'}}\n"
     ]
    },
    {
     "name": "stderr",
     "output_type": "stream",
     "text": [
      "C:\\ProgramData\\Anaconda3\\lib\\site-packages\\sklearn\\linear_model\\logistic.py:433: FutureWarning: Default solver will be changed to 'lbfgs' in 0.22. Specify a solver to silence this warning.\n",
      "  FutureWarning)\n",
      "C:\\ProgramData\\Anaconda3\\lib\\site-packages\\sklearn\\linear_model\\logistic.py:460: FutureWarning: Default multi_class will be changed to 'auto' in 0.22. Specify the multi_class option to silence this warning.\n",
      "  \"this warning.\", FutureWarning)\n",
      "C:\\ProgramData\\Anaconda3\\lib\\site-packages\\sklearn\\linear_model\\logistic.py:1300: UserWarning: 'n_jobs' > 1 does not have any effect when 'solver' is set to 'liblinear'. Got 'n_jobs' = 12.\n",
      "  \" = {}.\".format(effective_n_jobs(self.n_jobs)))\n"
     ]
    },
    {
     "name": "stdout",
     "output_type": "stream",
     "text": [
      "Logistic Reg acc: 0.1613749037113117\n",
      "{'all': {'rf': '0.20282841849532876', 'svm': '0.22171087716526103', 'lr': '0.1613749037113117'}}\n",
      "df_http\n"
     ]
    },
    {
     "name": "stderr",
     "output_type": "stream",
     "text": [
      "C:\\ProgramData\\Anaconda3\\lib\\site-packages\\sklearn\\ensemble\\forest.py:246: FutureWarning: The default value of n_estimators will change from 10 in version 0.20 to 100 in 0.22.\n",
      "  \"10 in version 0.20 to 100 in 0.22.\", FutureWarning)\n"
     ]
    },
    {
     "name": "stdout",
     "output_type": "stream",
     "text": [
      "RF acc: 0.32978723404255317\n",
      "{'all': {'rf': '0.20282841849532876', 'svm': '0.22171087716526103', 'lr': '0.1613749037113117'}, 'df_http': {'rf': '0.32978723404255317'}}\n",
      "[LibSVM]SVM acc: 0.3404255319148936\n",
      "{'all': {'rf': '0.20282841849532876', 'svm': '0.22171087716526103', 'lr': '0.1613749037113117'}, 'df_http': {'rf': '0.32978723404255317', 'svm': '0.3404255319148936'}}\n",
      "Logistic Reg acc: 0.21808510638297873\n",
      "{'all': {'rf': '0.20282841849532876', 'svm': '0.22171087716526103', 'lr': '0.1613749037113117'}, 'df_http': {'rf': '0.32978723404255317', 'svm': '0.3404255319148936', 'lr': '0.21808510638297873'}}\n",
      "df_http_tcp\n"
     ]
    },
    {
     "name": "stderr",
     "output_type": "stream",
     "text": [
      "C:\\ProgramData\\Anaconda3\\lib\\site-packages\\sklearn\\svm\\base.py:196: FutureWarning: The default value of gamma will change from 'auto' to 'scale' in version 0.22 to account better for unscaled features. Set gamma explicitly to 'auto' or 'scale' to avoid this warning.\n",
      "  \"avoid this warning.\", FutureWarning)\n",
      "C:\\ProgramData\\Anaconda3\\lib\\site-packages\\sklearn\\linear_model\\logistic.py:433: FutureWarning: Default solver will be changed to 'lbfgs' in 0.22. Specify a solver to silence this warning.\n",
      "  FutureWarning)\n",
      "C:\\ProgramData\\Anaconda3\\lib\\site-packages\\sklearn\\linear_model\\logistic.py:460: FutureWarning: Default multi_class will be changed to 'auto' in 0.22. Specify the multi_class option to silence this warning.\n",
      "  \"this warning.\", FutureWarning)\n",
      "C:\\ProgramData\\Anaconda3\\lib\\site-packages\\sklearn\\linear_model\\logistic.py:1300: UserWarning: 'n_jobs' > 1 does not have any effect when 'solver' is set to 'liblinear'. Got 'n_jobs' = 12.\n",
      "  \" = {}.\".format(effective_n_jobs(self.n_jobs)))\n",
      "C:\\ProgramData\\Anaconda3\\lib\\site-packages\\sklearn\\ensemble\\forest.py:246: FutureWarning: The default value of n_estimators will change from 10 in version 0.20 to 100 in 0.22.\n",
      "  \"10 in version 0.20 to 100 in 0.22.\", FutureWarning)\n"
     ]
    },
    {
     "name": "stdout",
     "output_type": "stream",
     "text": [
      "RF acc: 0.15967685921711952\n",
      "{'all': {'rf': '0.20282841849532876', 'svm': '0.22171087716526103', 'lr': '0.1613749037113117'}, 'df_http': {'rf': '0.32978723404255317', 'svm': '0.3404255319148936', 'lr': '0.21808510638297873'}, 'df_http_tcp': {'rf': '0.15967685921711952'}}\n",
      "[LibSVM]"
     ]
    },
    {
     "name": "stderr",
     "output_type": "stream",
     "text": [
      "C:\\ProgramData\\Anaconda3\\lib\\site-packages\\sklearn\\svm\\base.py:196: FutureWarning: The default value of gamma will change from 'auto' to 'scale' in version 0.22 to account better for unscaled features. Set gamma explicitly to 'auto' or 'scale' to avoid this warning.\n",
      "  \"avoid this warning.\", FutureWarning)\n"
     ]
    },
    {
     "name": "stdout",
     "output_type": "stream",
     "text": [
      "SVM acc: 0.3526352345830095\n",
      "{'all': {'rf': '0.20282841849532876', 'svm': '0.22171087716526103', 'lr': '0.1613749037113117'}, 'df_http': {'rf': '0.32978723404255317', 'svm': '0.3404255319148936', 'lr': '0.21808510638297873'}, 'df_http_tcp': {'rf': '0.15967685921711952', 'svm': '0.3526352345830095'}}\n"
     ]
    },
    {
     "name": "stderr",
     "output_type": "stream",
     "text": [
      "C:\\ProgramData\\Anaconda3\\lib\\site-packages\\sklearn\\linear_model\\logistic.py:433: FutureWarning: Default solver will be changed to 'lbfgs' in 0.22. Specify a solver to silence this warning.\n",
      "  FutureWarning)\n",
      "C:\\ProgramData\\Anaconda3\\lib\\site-packages\\sklearn\\linear_model\\logistic.py:460: FutureWarning: Default multi_class will be changed to 'auto' in 0.22. Specify the multi_class option to silence this warning.\n",
      "  \"this warning.\", FutureWarning)\n",
      "C:\\ProgramData\\Anaconda3\\lib\\site-packages\\sklearn\\linear_model\\logistic.py:1300: UserWarning: 'n_jobs' > 1 does not have any effect when 'solver' is set to 'liblinear'. Got 'n_jobs' = 12.\n",
      "  \" = {}.\".format(effective_n_jobs(self.n_jobs)))\n"
     ]
    },
    {
     "name": "stdout",
     "output_type": "stream",
     "text": [
      "Logistic Reg acc: 0.1419901106352015\n",
      "{'all': {'rf': '0.20282841849532876', 'svm': '0.22171087716526103', 'lr': '0.1613749037113117'}, 'df_http': {'rf': '0.32978723404255317', 'svm': '0.3404255319148936', 'lr': '0.21808510638297873'}, 'df_http_tcp': {'rf': '0.15967685921711952', 'svm': '0.3526352345830095', 'lr': '0.1419901106352015'}}\n",
      "df_http_tcp_udp\n"
     ]
    },
    {
     "name": "stderr",
     "output_type": "stream",
     "text": [
      "C:\\ProgramData\\Anaconda3\\lib\\site-packages\\sklearn\\ensemble\\forest.py:246: FutureWarning: The default value of n_estimators will change from 10 in version 0.20 to 100 in 0.22.\n",
      "  \"10 in version 0.20 to 100 in 0.22.\", FutureWarning)\n"
     ]
    },
    {
     "name": "stdout",
     "output_type": "stream",
     "text": [
      "RF acc: 0.2037161108863077\n",
      "{'all': {'rf': '0.20282841849532876', 'svm': '0.22171087716526103', 'lr': '0.1613749037113117'}, 'df_http': {'rf': '0.32978723404255317', 'svm': '0.3404255319148936', 'lr': '0.21808510638297873'}, 'df_http_tcp': {'rf': '0.15967685921711952', 'svm': '0.3526352345830095', 'lr': '0.1419901106352015'}, 'df_http_tcp_udp': {'rf': '0.2037161108863077'}}\n"
     ]
    },
    {
     "name": "stderr",
     "output_type": "stream",
     "text": [
      "C:\\ProgramData\\Anaconda3\\lib\\site-packages\\sklearn\\svm\\base.py:196: FutureWarning: The default value of gamma will change from 'auto' to 'scale' in version 0.22 to account better for unscaled features. Set gamma explicitly to 'auto' or 'scale' to avoid this warning.\n",
      "  \"avoid this warning.\", FutureWarning)\n"
     ]
    },
    {
     "name": "stdout",
     "output_type": "stream",
     "text": [
      "[LibSVM]SVM acc: 0.3820788197599984\n",
      "{'all': {'rf': '0.20282841849532876', 'svm': '0.22171087716526103', 'lr': '0.1613749037113117'}, 'df_http': {'rf': '0.32978723404255317', 'svm': '0.3404255319148936', 'lr': '0.21808510638297873'}, 'df_http_tcp': {'rf': '0.15967685921711952', 'svm': '0.3526352345830095', 'lr': '0.1419901106352015'}, 'df_http_tcp_udp': {'rf': '0.2037161108863077', 'svm': '0.3820788197599984'}}\n"
     ]
    },
    {
     "name": "stderr",
     "output_type": "stream",
     "text": [
      "C:\\ProgramData\\Anaconda3\\lib\\site-packages\\sklearn\\linear_model\\logistic.py:433: FutureWarning: Default solver will be changed to 'lbfgs' in 0.22. Specify a solver to silence this warning.\n",
      "  FutureWarning)\n",
      "C:\\ProgramData\\Anaconda3\\lib\\site-packages\\sklearn\\linear_model\\logistic.py:460: FutureWarning: Default multi_class will be changed to 'auto' in 0.22. Specify the multi_class option to silence this warning.\n",
      "  \"this warning.\", FutureWarning)\n",
      "C:\\ProgramData\\Anaconda3\\lib\\site-packages\\sklearn\\linear_model\\logistic.py:1300: UserWarning: 'n_jobs' > 1 does not have any effect when 'solver' is set to 'liblinear'. Got 'n_jobs' = 12.\n",
      "  \" = {}.\".format(effective_n_jobs(self.n_jobs)))\n"
     ]
    },
    {
     "name": "stdout",
     "output_type": "stream",
     "text": [
      "Logistic Reg acc: 0.17080046965485676\n",
      "{'all': {'rf': '0.20282841849532876', 'svm': '0.22171087716526103', 'lr': '0.1613749037113117'}, 'df_http': {'rf': '0.32978723404255317', 'svm': '0.3404255319148936', 'lr': '0.21808510638297873'}, 'df_http_tcp': {'rf': '0.15967685921711952', 'svm': '0.3526352345830095', 'lr': '0.1419901106352015'}, 'df_http_tcp_udp': {'rf': '0.2037161108863077', 'svm': '0.3820788197599984', 'lr': '0.17080046965485676'}}\n",
      "df_http_tls\n"
     ]
    },
    {
     "name": "stderr",
     "output_type": "stream",
     "text": [
      "C:\\ProgramData\\Anaconda3\\lib\\site-packages\\sklearn\\ensemble\\forest.py:246: FutureWarning: The default value of n_estimators will change from 10 in version 0.20 to 100 in 0.22.\n",
      "  \"10 in version 0.20 to 100 in 0.22.\", FutureWarning)\n"
     ]
    },
    {
     "name": "stdout",
     "output_type": "stream",
     "text": [
      "RF acc: 0.3097651891070538\n",
      "{'all': {'rf': '0.20282841849532876', 'svm': '0.22171087716526103', 'lr': '0.1613749037113117'}, 'df_http': {'rf': '0.32978723404255317', 'svm': '0.3404255319148936', 'lr': '0.21808510638297873'}, 'df_http_tcp': {'rf': '0.15967685921711952', 'svm': '0.3526352345830095', 'lr': '0.1419901106352015'}, 'df_http_tcp_udp': {'rf': '0.2037161108863077', 'svm': '0.3820788197599984', 'lr': '0.17080046965485676'}, 'df_http_tls': {'rf': '0.3097651891070538'}}\n",
      "[LibSVM]"
     ]
    },
    {
     "name": "stderr",
     "output_type": "stream",
     "text": [
      "C:\\ProgramData\\Anaconda3\\lib\\site-packages\\sklearn\\svm\\base.py:196: FutureWarning: The default value of gamma will change from 'auto' to 'scale' in version 0.22 to account better for unscaled features. Set gamma explicitly to 'auto' or 'scale' to avoid this warning.\n",
      "  \"avoid this warning.\", FutureWarning)\n"
     ]
    },
    {
     "name": "stdout",
     "output_type": "stream",
     "text": [
      "SVM acc: 0.3443101688074266\n",
      "{'all': {'rf': '0.20282841849532876', 'svm': '0.22171087716526103', 'lr': '0.1613749037113117'}, 'df_http': {'rf': '0.32978723404255317', 'svm': '0.3404255319148936', 'lr': '0.21808510638297873'}, 'df_http_tcp': {'rf': '0.15967685921711952', 'svm': '0.3526352345830095', 'lr': '0.1419901106352015'}, 'df_http_tcp_udp': {'rf': '0.2037161108863077', 'svm': '0.3820788197599984', 'lr': '0.17080046965485676'}, 'df_http_tls': {'rf': '0.3097651891070538', 'svm': '0.3443101688074266'}}\n"
     ]
    },
    {
     "name": "stderr",
     "output_type": "stream",
     "text": [
      "C:\\ProgramData\\Anaconda3\\lib\\site-packages\\sklearn\\linear_model\\logistic.py:433: FutureWarning: Default solver will be changed to 'lbfgs' in 0.22. Specify a solver to silence this warning.\n",
      "  FutureWarning)\n",
      "C:\\ProgramData\\Anaconda3\\lib\\site-packages\\sklearn\\linear_model\\logistic.py:460: FutureWarning: Default multi_class will be changed to 'auto' in 0.22. Specify the multi_class option to silence this warning.\n",
      "  \"this warning.\", FutureWarning)\n",
      "C:\\ProgramData\\Anaconda3\\lib\\site-packages\\sklearn\\linear_model\\logistic.py:1300: UserWarning: 'n_jobs' > 1 does not have any effect when 'solver' is set to 'liblinear'. Got 'n_jobs' = 12.\n",
      "  \" = {}.\".format(effective_n_jobs(self.n_jobs)))\n"
     ]
    },
    {
     "name": "stdout",
     "output_type": "stream",
     "text": [
      "Logistic Reg acc: 0.1738170421899855\n",
      "{'all': {'rf': '0.20282841849532876', 'svm': '0.22171087716526103', 'lr': '0.1613749037113117'}, 'df_http': {'rf': '0.32978723404255317', 'svm': '0.3404255319148936', 'lr': '0.21808510638297873'}, 'df_http_tcp': {'rf': '0.15967685921711952', 'svm': '0.3526352345830095', 'lr': '0.1419901106352015'}, 'df_http_tcp_udp': {'rf': '0.2037161108863077', 'svm': '0.3820788197599984', 'lr': '0.17080046965485676'}, 'df_http_tls': {'rf': '0.3097651891070538', 'svm': '0.3443101688074266', 'lr': '0.1738170421899855'}}\n",
      "df_http_tls_tcp\n"
     ]
    },
    {
     "name": "stderr",
     "output_type": "stream",
     "text": [
      "C:\\ProgramData\\Anaconda3\\lib\\site-packages\\sklearn\\ensemble\\forest.py:246: FutureWarning: The default value of n_estimators will change from 10 in version 0.20 to 100 in 0.22.\n",
      "  \"10 in version 0.20 to 100 in 0.22.\", FutureWarning)\n"
     ]
    },
    {
     "name": "stdout",
     "output_type": "stream",
     "text": [
      "RF acc: 0.18547421547378568\n",
      "{'all': {'rf': '0.20282841849532876', 'svm': '0.22171087716526103', 'lr': '0.1613749037113117'}, 'df_http': {'rf': '0.32978723404255317', 'svm': '0.3404255319148936', 'lr': '0.21808510638297873'}, 'df_http_tcp': {'rf': '0.15967685921711952', 'svm': '0.3526352345830095', 'lr': '0.1419901106352015'}, 'df_http_tcp_udp': {'rf': '0.2037161108863077', 'svm': '0.3820788197599984', 'lr': '0.17080046965485676'}, 'df_http_tls': {'rf': '0.3097651891070538', 'svm': '0.3443101688074266', 'lr': '0.1738170421899855'}, 'df_http_tls_tcp': {'rf': '0.18547421547378568'}}\n"
     ]
    },
    {
     "name": "stderr",
     "output_type": "stream",
     "text": [
      "C:\\ProgramData\\Anaconda3\\lib\\site-packages\\sklearn\\svm\\base.py:196: FutureWarning: The default value of gamma will change from 'auto' to 'scale' in version 0.22 to account better for unscaled features. Set gamma explicitly to 'auto' or 'scale' to avoid this warning.\n",
      "  \"avoid this warning.\", FutureWarning)\n"
     ]
    },
    {
     "name": "stdout",
     "output_type": "stream",
     "text": [
      "[LibSVM]SVM acc: 0.1963357053828537\n",
      "{'all': {'rf': '0.20282841849532876', 'svm': '0.22171087716526103', 'lr': '0.1613749037113117'}, 'df_http': {'rf': '0.32978723404255317', 'svm': '0.3404255319148936', 'lr': '0.21808510638297873'}, 'df_http_tcp': {'rf': '0.15967685921711952', 'svm': '0.3526352345830095', 'lr': '0.1419901106352015'}, 'df_http_tcp_udp': {'rf': '0.2037161108863077', 'svm': '0.3820788197599984', 'lr': '0.17080046965485676'}, 'df_http_tls': {'rf': '0.3097651891070538', 'svm': '0.3443101688074266', 'lr': '0.1738170421899855'}, 'df_http_tls_tcp': {'rf': '0.18547421547378568', 'svm': '0.1963357053828537'}}\n"
     ]
    },
    {
     "name": "stderr",
     "output_type": "stream",
     "text": [
      "C:\\ProgramData\\Anaconda3\\lib\\site-packages\\sklearn\\linear_model\\logistic.py:433: FutureWarning: Default solver will be changed to 'lbfgs' in 0.22. Specify a solver to silence this warning.\n",
      "  FutureWarning)\n",
      "C:\\ProgramData\\Anaconda3\\lib\\site-packages\\sklearn\\linear_model\\logistic.py:460: FutureWarning: Default multi_class will be changed to 'auto' in 0.22. Specify the multi_class option to silence this warning.\n",
      "  \"this warning.\", FutureWarning)\n",
      "C:\\ProgramData\\Anaconda3\\lib\\site-packages\\sklearn\\linear_model\\logistic.py:1300: UserWarning: 'n_jobs' > 1 does not have any effect when 'solver' is set to 'liblinear'. Got 'n_jobs' = 12.\n",
      "  \" = {}.\".format(effective_n_jobs(self.n_jobs)))\n"
     ]
    },
    {
     "name": "stdout",
     "output_type": "stream",
     "text": [
      "Logistic Reg acc: 0.16377579527104605\n",
      "{'all': {'rf': '0.20282841849532876', 'svm': '0.22171087716526103', 'lr': '0.1613749037113117'}, 'df_http': {'rf': '0.32978723404255317', 'svm': '0.3404255319148936', 'lr': '0.21808510638297873'}, 'df_http_tcp': {'rf': '0.15967685921711952', 'svm': '0.3526352345830095', 'lr': '0.1419901106352015'}, 'df_http_tcp_udp': {'rf': '0.2037161108863077', 'svm': '0.3820788197599984', 'lr': '0.17080046965485676'}, 'df_http_tls': {'rf': '0.3097651891070538', 'svm': '0.3443101688074266', 'lr': '0.1738170421899855'}, 'df_http_tls_tcp': {'rf': '0.18547421547378568', 'svm': '0.1963357053828537', 'lr': '0.16377579527104605'}}\n",
      "df_http_tls_tcp_udp\n"
     ]
    },
    {
     "name": "stderr",
     "output_type": "stream",
     "text": [
      "C:\\ProgramData\\Anaconda3\\lib\\site-packages\\sklearn\\ensemble\\forest.py:246: FutureWarning: The default value of n_estimators will change from 10 in version 0.20 to 100 in 0.22.\n",
      "  \"10 in version 0.20 to 100 in 0.22.\", FutureWarning)\n"
     ]
    },
    {
     "name": "stdout",
     "output_type": "stream",
     "text": [
      "RF acc: 0.20156217562798423\n",
      "{'all': {'rf': '0.20282841849532876', 'svm': '0.22171087716526103', 'lr': '0.1613749037113117'}, 'df_http': {'rf': '0.32978723404255317', 'svm': '0.3404255319148936', 'lr': '0.21808510638297873'}, 'df_http_tcp': {'rf': '0.15967685921711952', 'svm': '0.3526352345830095', 'lr': '0.1419901106352015'}, 'df_http_tcp_udp': {'rf': '0.2037161108863077', 'svm': '0.3820788197599984', 'lr': '0.17080046965485676'}, 'df_http_tls': {'rf': '0.3097651891070538', 'svm': '0.3443101688074266', 'lr': '0.1738170421899855'}, 'df_http_tls_tcp': {'rf': '0.18547421547378568', 'svm': '0.1963357053828537', 'lr': '0.16377579527104605'}, 'df_http_tls_tcp_udp': {'rf': '0.20156217562798423'}}\n"
     ]
    },
    {
     "name": "stderr",
     "output_type": "stream",
     "text": [
      "C:\\ProgramData\\Anaconda3\\lib\\site-packages\\sklearn\\svm\\base.py:196: FutureWarning: The default value of gamma will change from 'auto' to 'scale' in version 0.22 to account better for unscaled features. Set gamma explicitly to 'auto' or 'scale' to avoid this warning.\n",
      "  \"avoid this warning.\", FutureWarning)\n"
     ]
    },
    {
     "name": "stdout",
     "output_type": "stream",
     "text": [
      "[LibSVM]SVM acc: 0.22305376790533527\n",
      "{'all': {'rf': '0.20282841849532876', 'svm': '0.22171087716526103', 'lr': '0.1613749037113117'}, 'df_http': {'rf': '0.32978723404255317', 'svm': '0.3404255319148936', 'lr': '0.21808510638297873'}, 'df_http_tcp': {'rf': '0.15967685921711952', 'svm': '0.3526352345830095', 'lr': '0.1419901106352015'}, 'df_http_tcp_udp': {'rf': '0.2037161108863077', 'svm': '0.3820788197599984', 'lr': '0.17080046965485676'}, 'df_http_tls': {'rf': '0.3097651891070538', 'svm': '0.3443101688074266', 'lr': '0.1738170421899855'}, 'df_http_tls_tcp': {'rf': '0.18547421547378568', 'svm': '0.1963357053828537', 'lr': '0.16377579527104605'}, 'df_http_tls_tcp_udp': {'rf': '0.20156217562798423', 'svm': '0.22305376790533527'}}\n"
     ]
    },
    {
     "name": "stderr",
     "output_type": "stream",
     "text": [
      "C:\\ProgramData\\Anaconda3\\lib\\site-packages\\sklearn\\linear_model\\logistic.py:433: FutureWarning: Default solver will be changed to 'lbfgs' in 0.22. Specify a solver to silence this warning.\n",
      "  FutureWarning)\n",
      "C:\\ProgramData\\Anaconda3\\lib\\site-packages\\sklearn\\linear_model\\logistic.py:460: FutureWarning: Default multi_class will be changed to 'auto' in 0.22. Specify the multi_class option to silence this warning.\n",
      "  \"this warning.\", FutureWarning)\n",
      "C:\\ProgramData\\Anaconda3\\lib\\site-packages\\sklearn\\linear_model\\logistic.py:1300: UserWarning: 'n_jobs' > 1 does not have any effect when 'solver' is set to 'liblinear'. Got 'n_jobs' = 12.\n",
      "  \" = {}.\".format(effective_n_jobs(self.n_jobs)))\n"
     ]
    },
    {
     "name": "stdout",
     "output_type": "stream",
     "text": [
      "Logistic Reg acc: 0.1523354785135977\n",
      "{'all': {'rf': '0.20282841849532876', 'svm': '0.22171087716526103', 'lr': '0.1613749037113117'}, 'df_http': {'rf': '0.32978723404255317', 'svm': '0.3404255319148936', 'lr': '0.21808510638297873'}, 'df_http_tcp': {'rf': '0.15967685921711952', 'svm': '0.3526352345830095', 'lr': '0.1419901106352015'}, 'df_http_tcp_udp': {'rf': '0.2037161108863077', 'svm': '0.3820788197599984', 'lr': '0.17080046965485676'}, 'df_http_tls': {'rf': '0.3097651891070538', 'svm': '0.3443101688074266', 'lr': '0.1738170421899855'}, 'df_http_tls_tcp': {'rf': '0.18547421547378568', 'svm': '0.1963357053828537', 'lr': '0.16377579527104605'}, 'df_http_tls_tcp_udp': {'rf': '0.20156217562798423', 'svm': '0.22305376790533527', 'lr': '0.1523354785135977'}}\n",
      "df_http_tls_udp\n"
     ]
    },
    {
     "name": "stderr",
     "output_type": "stream",
     "text": [
      "C:\\ProgramData\\Anaconda3\\lib\\site-packages\\sklearn\\ensemble\\forest.py:246: FutureWarning: The default value of n_estimators will change from 10 in version 0.20 to 100 in 0.22.\n",
      "  \"10 in version 0.20 to 100 in 0.22.\", FutureWarning)\n"
     ]
    },
    {
     "name": "stdout",
     "output_type": "stream",
     "text": [
      "RF acc: 0.29559293757820104\n",
      "{'all': {'rf': '0.20282841849532876', 'svm': '0.22171087716526103', 'lr': '0.1613749037113117'}, 'df_http': {'rf': '0.32978723404255317', 'svm': '0.3404255319148936', 'lr': '0.21808510638297873'}, 'df_http_tcp': {'rf': '0.15967685921711952', 'svm': '0.3526352345830095', 'lr': '0.1419901106352015'}, 'df_http_tcp_udp': {'rf': '0.2037161108863077', 'svm': '0.3820788197599984', 'lr': '0.17080046965485676'}, 'df_http_tls': {'rf': '0.3097651891070538', 'svm': '0.3443101688074266', 'lr': '0.1738170421899855'}, 'df_http_tls_tcp': {'rf': '0.18547421547378568', 'svm': '0.1963357053828537', 'lr': '0.16377579527104605'}, 'df_http_tls_tcp_udp': {'rf': '0.20156217562798423', 'svm': '0.22305376790533527', 'lr': '0.1523354785135977'}, 'df_http_tls_udp': {'rf': '0.29559293757820104'}}\n",
      "[LibSVM]"
     ]
    },
    {
     "name": "stderr",
     "output_type": "stream",
     "text": [
      "C:\\ProgramData\\Anaconda3\\lib\\site-packages\\sklearn\\svm\\base.py:196: FutureWarning: The default value of gamma will change from 'auto' to 'scale' in version 0.22 to account better for unscaled features. Set gamma explicitly to 'auto' or 'scale' to avoid this warning.\n",
      "  \"avoid this warning.\", FutureWarning)\n"
     ]
    },
    {
     "name": "stdout",
     "output_type": "stream",
     "text": [
      "SVM acc: 0.34468233004309745\n",
      "{'all': {'rf': '0.20282841849532876', 'svm': '0.22171087716526103', 'lr': '0.1613749037113117'}, 'df_http': {'rf': '0.32978723404255317', 'svm': '0.3404255319148936', 'lr': '0.21808510638297873'}, 'df_http_tcp': {'rf': '0.15967685921711952', 'svm': '0.3526352345830095', 'lr': '0.1419901106352015'}, 'df_http_tcp_udp': {'rf': '0.2037161108863077', 'svm': '0.3820788197599984', 'lr': '0.17080046965485676'}, 'df_http_tls': {'rf': '0.3097651891070538', 'svm': '0.3443101688074266', 'lr': '0.1738170421899855'}, 'df_http_tls_tcp': {'rf': '0.18547421547378568', 'svm': '0.1963357053828537', 'lr': '0.16377579527104605'}, 'df_http_tls_tcp_udp': {'rf': '0.20156217562798423', 'svm': '0.22305376790533527', 'lr': '0.1523354785135977'}, 'df_http_tls_udp': {'rf': '0.29559293757820104', 'svm': '0.34468233004309745'}}\n"
     ]
    },
    {
     "name": "stderr",
     "output_type": "stream",
     "text": [
      "C:\\ProgramData\\Anaconda3\\lib\\site-packages\\sklearn\\linear_model\\logistic.py:433: FutureWarning: Default solver will be changed to 'lbfgs' in 0.22. Specify a solver to silence this warning.\n",
      "  FutureWarning)\n",
      "C:\\ProgramData\\Anaconda3\\lib\\site-packages\\sklearn\\linear_model\\logistic.py:460: FutureWarning: Default multi_class will be changed to 'auto' in 0.22. Specify the multi_class option to silence this warning.\n",
      "  \"this warning.\", FutureWarning)\n",
      "C:\\ProgramData\\Anaconda3\\lib\\site-packages\\sklearn\\linear_model\\logistic.py:1300: UserWarning: 'n_jobs' > 1 does not have any effect when 'solver' is set to 'liblinear'. Got 'n_jobs' = 12.\n",
      "  \" = {}.\".format(effective_n_jobs(self.n_jobs)))\n"
     ]
    },
    {
     "name": "stdout",
     "output_type": "stream",
     "text": [
      "Logistic Reg acc: 0.18623661893507576\n",
      "{'all': {'rf': '0.20282841849532876', 'svm': '0.22171087716526103', 'lr': '0.1613749037113117'}, 'df_http': {'rf': '0.32978723404255317', 'svm': '0.3404255319148936', 'lr': '0.21808510638297873'}, 'df_http_tcp': {'rf': '0.15967685921711952', 'svm': '0.3526352345830095', 'lr': '0.1419901106352015'}, 'df_http_tcp_udp': {'rf': '0.2037161108863077', 'svm': '0.3820788197599984', 'lr': '0.17080046965485676'}, 'df_http_tls': {'rf': '0.3097651891070538', 'svm': '0.3443101688074266', 'lr': '0.1738170421899855'}, 'df_http_tls_tcp': {'rf': '0.18547421547378568', 'svm': '0.1963357053828537', 'lr': '0.16377579527104605'}, 'df_http_tls_tcp_udp': {'rf': '0.20156217562798423', 'svm': '0.22305376790533527', 'lr': '0.1523354785135977'}, 'df_http_tls_udp': {'rf': '0.29559293757820104', 'svm': '0.34468233004309745', 'lr': '0.18623661893507576'}}\n",
      "df_http_udp\n"
     ]
    },
    {
     "name": "stderr",
     "output_type": "stream",
     "text": [
      "C:\\ProgramData\\Anaconda3\\lib\\site-packages\\sklearn\\ensemble\\forest.py:246: FutureWarning: The default value of n_estimators will change from 10 in version 0.20 to 100 in 0.22.\n",
      "  \"10 in version 0.20 to 100 in 0.22.\", FutureWarning)\n"
     ]
    },
    {
     "name": "stdout",
     "output_type": "stream",
     "text": [
      "RF acc: 0.31467715590519685\n",
      "{'all': {'rf': '0.20282841849532876', 'svm': '0.22171087716526103', 'lr': '0.1613749037113117'}, 'df_http': {'rf': '0.32978723404255317', 'svm': '0.3404255319148936', 'lr': '0.21808510638297873'}, 'df_http_tcp': {'rf': '0.15967685921711952', 'svm': '0.3526352345830095', 'lr': '0.1419901106352015'}, 'df_http_tcp_udp': {'rf': '0.2037161108863077', 'svm': '0.3820788197599984', 'lr': '0.17080046965485676'}, 'df_http_tls': {'rf': '0.3097651891070538', 'svm': '0.3443101688074266', 'lr': '0.1738170421899855'}, 'df_http_tls_tcp': {'rf': '0.18547421547378568', 'svm': '0.1963357053828537', 'lr': '0.16377579527104605'}, 'df_http_tls_tcp_udp': {'rf': '0.20156217562798423', 'svm': '0.22305376790533527', 'lr': '0.1523354785135977'}, 'df_http_tls_udp': {'rf': '0.29559293757820104', 'svm': '0.34468233004309745', 'lr': '0.18623661893507576'}, 'df_http_udp': {'rf': '0.31467715590519685'}}\n",
      "[LibSVM]"
     ]
    },
    {
     "name": "stderr",
     "output_type": "stream",
     "text": [
      "C:\\ProgramData\\Anaconda3\\lib\\site-packages\\sklearn\\svm\\base.py:196: FutureWarning: The default value of gamma will change from 'auto' to 'scale' in version 0.22 to account better for unscaled features. Set gamma explicitly to 'auto' or 'scale' to avoid this warning.\n",
      "  \"avoid this warning.\", FutureWarning)\n"
     ]
    },
    {
     "name": "stdout",
     "output_type": "stream",
     "text": [
      "SVM acc: 0.37464582152738424\n",
      "{'all': {'rf': '0.20282841849532876', 'svm': '0.22171087716526103', 'lr': '0.1613749037113117'}, 'df_http': {'rf': '0.32978723404255317', 'svm': '0.3404255319148936', 'lr': '0.21808510638297873'}, 'df_http_tcp': {'rf': '0.15967685921711952', 'svm': '0.3526352345830095', 'lr': '0.1419901106352015'}, 'df_http_tcp_udp': {'rf': '0.2037161108863077', 'svm': '0.3820788197599984', 'lr': '0.17080046965485676'}, 'df_http_tls': {'rf': '0.3097651891070538', 'svm': '0.3443101688074266', 'lr': '0.1738170421899855'}, 'df_http_tls_tcp': {'rf': '0.18547421547378568', 'svm': '0.1963357053828537', 'lr': '0.16377579527104605'}, 'df_http_tls_tcp_udp': {'rf': '0.20156217562798423', 'svm': '0.22305376790533527', 'lr': '0.1523354785135977'}, 'df_http_tls_udp': {'rf': '0.29559293757820104', 'svm': '0.34468233004309745', 'lr': '0.18623661893507576'}, 'df_http_udp': {'rf': '0.31467715590519685', 'svm': '0.37464582152738424'}}\n"
     ]
    },
    {
     "name": "stderr",
     "output_type": "stream",
     "text": [
      "C:\\ProgramData\\Anaconda3\\lib\\site-packages\\sklearn\\linear_model\\logistic.py:433: FutureWarning: Default solver will be changed to 'lbfgs' in 0.22. Specify a solver to silence this warning.\n",
      "  FutureWarning)\n",
      "C:\\ProgramData\\Anaconda3\\lib\\site-packages\\sklearn\\linear_model\\logistic.py:460: FutureWarning: Default multi_class will be changed to 'auto' in 0.22. Specify the multi_class option to silence this warning.\n",
      "  \"this warning.\", FutureWarning)\n",
      "C:\\ProgramData\\Anaconda3\\lib\\site-packages\\sklearn\\linear_model\\logistic.py:1300: UserWarning: 'n_jobs' > 1 does not have any effect when 'solver' is set to 'liblinear'. Got 'n_jobs' = 12.\n",
      "  \" = {}.\".format(effective_n_jobs(self.n_jobs)))\n"
     ]
    },
    {
     "name": "stdout",
     "output_type": "stream",
     "text": [
      "Logistic Reg acc: 0.42851428380946033\n",
      "{'all': {'rf': '0.20282841849532876', 'svm': '0.22171087716526103', 'lr': '0.1613749037113117'}, 'df_http': {'rf': '0.32978723404255317', 'svm': '0.3404255319148936', 'lr': '0.21808510638297873'}, 'df_http_tcp': {'rf': '0.15967685921711952', 'svm': '0.3526352345830095', 'lr': '0.1419901106352015'}, 'df_http_tcp_udp': {'rf': '0.2037161108863077', 'svm': '0.3820788197599984', 'lr': '0.17080046965485676'}, 'df_http_tls': {'rf': '0.3097651891070538', 'svm': '0.3443101688074266', 'lr': '0.1738170421899855'}, 'df_http_tls_tcp': {'rf': '0.18547421547378568', 'svm': '0.1963357053828537', 'lr': '0.16377579527104605'}, 'df_http_tls_tcp_udp': {'rf': '0.20156217562798423', 'svm': '0.22305376790533527', 'lr': '0.1523354785135977'}, 'df_http_tls_udp': {'rf': '0.29559293757820104', 'svm': '0.34468233004309745', 'lr': '0.18623661893507576'}, 'df_http_udp': {'rf': '0.31467715590519685', 'svm': '0.37464582152738424', 'lr': '0.42851428380946033'}}\n",
      "df_tcp\n"
     ]
    },
    {
     "name": "stderr",
     "output_type": "stream",
     "text": [
      "C:\\ProgramData\\Anaconda3\\lib\\site-packages\\sklearn\\ensemble\\forest.py:246: FutureWarning: The default value of n_estimators will change from 10 in version 0.20 to 100 in 0.22.\n",
      "  \"10 in version 0.20 to 100 in 0.22.\", FutureWarning)\n"
     ]
    },
    {
     "name": "stdout",
     "output_type": "stream",
     "text": [
      "RF acc: 0.157879917184265\n",
      "{'all': {'rf': '0.20282841849532876', 'svm': '0.22171087716526103', 'lr': '0.1613749037113117'}, 'df_http': {'rf': '0.32978723404255317', 'svm': '0.3404255319148936', 'lr': '0.21808510638297873'}, 'df_http_tcp': {'rf': '0.15967685921711952', 'svm': '0.3526352345830095', 'lr': '0.1419901106352015'}, 'df_http_tcp_udp': {'rf': '0.2037161108863077', 'svm': '0.3820788197599984', 'lr': '0.17080046965485676'}, 'df_http_tls': {'rf': '0.3097651891070538', 'svm': '0.3443101688074266', 'lr': '0.1738170421899855'}, 'df_http_tls_tcp': {'rf': '0.18547421547378568', 'svm': '0.1963357053828537', 'lr': '0.16377579527104605'}, 'df_http_tls_tcp_udp': {'rf': '0.20156217562798423', 'svm': '0.22305376790533527', 'lr': '0.1523354785135977'}, 'df_http_tls_udp': {'rf': '0.29559293757820104', 'svm': '0.34468233004309745', 'lr': '0.18623661893507576'}, 'df_http_udp': {'rf': '0.31467715590519685', 'svm': '0.37464582152738424', 'lr': '0.42851428380946033'}, 'df_tcp': {'rf': '0.157879917184265'}}\n"
     ]
    },
    {
     "name": "stderr",
     "output_type": "stream",
     "text": [
      "C:\\ProgramData\\Anaconda3\\lib\\site-packages\\sklearn\\svm\\base.py:196: FutureWarning: The default value of gamma will change from 'auto' to 'scale' in version 0.22 to account better for unscaled features. Set gamma explicitly to 'auto' or 'scale' to avoid this warning.\n",
      "  \"avoid this warning.\", FutureWarning)\n"
     ]
    },
    {
     "name": "stdout",
     "output_type": "stream",
     "text": [
      "[LibSVM]SVM acc: 0.3526128364389234\n",
      "{'all': {'rf': '0.20282841849532876', 'svm': '0.22171087716526103', 'lr': '0.1613749037113117'}, 'df_http': {'rf': '0.32978723404255317', 'svm': '0.3404255319148936', 'lr': '0.21808510638297873'}, 'df_http_tcp': {'rf': '0.15967685921711952', 'svm': '0.3526352345830095', 'lr': '0.1419901106352015'}, 'df_http_tcp_udp': {'rf': '0.2037161108863077', 'svm': '0.3820788197599984', 'lr': '0.17080046965485676'}, 'df_http_tls': {'rf': '0.3097651891070538', 'svm': '0.3443101688074266', 'lr': '0.1738170421899855'}, 'df_http_tls_tcp': {'rf': '0.18547421547378568', 'svm': '0.1963357053828537', 'lr': '0.16377579527104605'}, 'df_http_tls_tcp_udp': {'rf': '0.20156217562798423', 'svm': '0.22305376790533527', 'lr': '0.1523354785135977'}, 'df_http_tls_udp': {'rf': '0.29559293757820104', 'svm': '0.34468233004309745', 'lr': '0.18623661893507576'}, 'df_http_udp': {'rf': '0.31467715590519685', 'svm': '0.37464582152738424', 'lr': '0.42851428380946033'}, 'df_tcp': {'rf': '0.157879917184265', 'svm': '0.3526128364389234'}}\n"
     ]
    },
    {
     "name": "stderr",
     "output_type": "stream",
     "text": [
      "C:\\ProgramData\\Anaconda3\\lib\\site-packages\\sklearn\\linear_model\\logistic.py:433: FutureWarning: Default solver will be changed to 'lbfgs' in 0.22. Specify a solver to silence this warning.\n",
      "  FutureWarning)\n",
      "C:\\ProgramData\\Anaconda3\\lib\\site-packages\\sklearn\\linear_model\\logistic.py:460: FutureWarning: Default multi_class will be changed to 'auto' in 0.22. Specify the multi_class option to silence this warning.\n",
      "  \"this warning.\", FutureWarning)\n",
      "C:\\ProgramData\\Anaconda3\\lib\\site-packages\\sklearn\\linear_model\\logistic.py:1300: UserWarning: 'n_jobs' > 1 does not have any effect when 'solver' is set to 'liblinear'. Got 'n_jobs' = 12.\n",
      "  \" = {}.\".format(effective_n_jobs(self.n_jobs)))\n"
     ]
    },
    {
     "name": "stdout",
     "output_type": "stream",
     "text": [
      "Logistic Reg acc: 0.14200414078674947\n",
      "{'all': {'rf': '0.20282841849532876', 'svm': '0.22171087716526103', 'lr': '0.1613749037113117'}, 'df_http': {'rf': '0.32978723404255317', 'svm': '0.3404255319148936', 'lr': '0.21808510638297873'}, 'df_http_tcp': {'rf': '0.15967685921711952', 'svm': '0.3526352345830095', 'lr': '0.1419901106352015'}, 'df_http_tcp_udp': {'rf': '0.2037161108863077', 'svm': '0.3820788197599984', 'lr': '0.17080046965485676'}, 'df_http_tls': {'rf': '0.3097651891070538', 'svm': '0.3443101688074266', 'lr': '0.1738170421899855'}, 'df_http_tls_tcp': {'rf': '0.18547421547378568', 'svm': '0.1963357053828537', 'lr': '0.16377579527104605'}, 'df_http_tls_tcp_udp': {'rf': '0.20156217562798423', 'svm': '0.22305376790533527', 'lr': '0.1523354785135977'}, 'df_http_tls_udp': {'rf': '0.29559293757820104', 'svm': '0.34468233004309745', 'lr': '0.18623661893507576'}, 'df_http_udp': {'rf': '0.31467715590519685', 'svm': '0.37464582152738424', 'lr': '0.42851428380946033'}, 'df_tcp': {'rf': '0.157879917184265', 'svm': '0.3526128364389234', 'lr': '0.14200414078674947'}}\n",
      "df_tcp_udp\n"
     ]
    },
    {
     "name": "stderr",
     "output_type": "stream",
     "text": [
      "C:\\ProgramData\\Anaconda3\\lib\\site-packages\\sklearn\\ensemble\\forest.py:246: FutureWarning: The default value of n_estimators will change from 10 in version 0.20 to 100 in 0.22.\n",
      "  \"10 in version 0.20 to 100 in 0.22.\", FutureWarning)\n"
     ]
    },
    {
     "name": "stdout",
     "output_type": "stream",
     "text": [
      "RF acc: 0.20305391170356202\n",
      "{'all': {'rf': '0.20282841849532876', 'svm': '0.22171087716526103', 'lr': '0.1613749037113117'}, 'df_http': {'rf': '0.32978723404255317', 'svm': '0.3404255319148936', 'lr': '0.21808510638297873'}, 'df_http_tcp': {'rf': '0.15967685921711952', 'svm': '0.3526352345830095', 'lr': '0.1419901106352015'}, 'df_http_tcp_udp': {'rf': '0.2037161108863077', 'svm': '0.3820788197599984', 'lr': '0.17080046965485676'}, 'df_http_tls': {'rf': '0.3097651891070538', 'svm': '0.3443101688074266', 'lr': '0.1738170421899855'}, 'df_http_tls_tcp': {'rf': '0.18547421547378568', 'svm': '0.1963357053828537', 'lr': '0.16377579527104605'}, 'df_http_tls_tcp_udp': {'rf': '0.20156217562798423', 'svm': '0.22305376790533527', 'lr': '0.1523354785135977'}, 'df_http_tls_udp': {'rf': '0.29559293757820104', 'svm': '0.34468233004309745', 'lr': '0.18623661893507576'}, 'df_http_udp': {'rf': '0.31467715590519685', 'svm': '0.37464582152738424', 'lr': '0.42851428380946033'}, 'df_tcp': {'rf': '0.157879917184265', 'svm': '0.3526128364389234', 'lr': '0.14200414078674947'}, 'df_tcp_udp': {'rf': '0.20305391170356202'}}\n"
     ]
    },
    {
     "name": "stderr",
     "output_type": "stream",
     "text": [
      "C:\\ProgramData\\Anaconda3\\lib\\site-packages\\sklearn\\svm\\base.py:196: FutureWarning: The default value of gamma will change from 'auto' to 'scale' in version 0.22 to account better for unscaled features. Set gamma explicitly to 'auto' or 'scale' to avoid this warning.\n",
      "  \"avoid this warning.\", FutureWarning)\n"
     ]
    },
    {
     "name": "stdout",
     "output_type": "stream",
     "text": [
      "[LibSVM]SVM acc: 0.382223816260519\n",
      "{'all': {'rf': '0.20282841849532876', 'svm': '0.22171087716526103', 'lr': '0.1613749037113117'}, 'df_http': {'rf': '0.32978723404255317', 'svm': '0.3404255319148936', 'lr': '0.21808510638297873'}, 'df_http_tcp': {'rf': '0.15967685921711952', 'svm': '0.3526352345830095', 'lr': '0.1419901106352015'}, 'df_http_tcp_udp': {'rf': '0.2037161108863077', 'svm': '0.3820788197599984', 'lr': '0.17080046965485676'}, 'df_http_tls': {'rf': '0.3097651891070538', 'svm': '0.3443101688074266', 'lr': '0.1738170421899855'}, 'df_http_tls_tcp': {'rf': '0.18547421547378568', 'svm': '0.1963357053828537', 'lr': '0.16377579527104605'}, 'df_http_tls_tcp_udp': {'rf': '0.20156217562798423', 'svm': '0.22305376790533527', 'lr': '0.1523354785135977'}, 'df_http_tls_udp': {'rf': '0.29559293757820104', 'svm': '0.34468233004309745', 'lr': '0.18623661893507576'}, 'df_http_udp': {'rf': '0.31467715590519685', 'svm': '0.37464582152738424', 'lr': '0.42851428380946033'}, 'df_tcp': {'rf': '0.157879917184265', 'svm': '0.3526128364389234', 'lr': '0.14200414078674947'}, 'df_tcp_udp': {'rf': '0.20305391170356202', 'svm': '0.382223816260519'}}\n"
     ]
    },
    {
     "name": "stderr",
     "output_type": "stream",
     "text": [
      "C:\\ProgramData\\Anaconda3\\lib\\site-packages\\sklearn\\linear_model\\logistic.py:433: FutureWarning: Default solver will be changed to 'lbfgs' in 0.22. Specify a solver to silence this warning.\n",
      "  FutureWarning)\n",
      "C:\\ProgramData\\Anaconda3\\lib\\site-packages\\sklearn\\linear_model\\logistic.py:460: FutureWarning: Default multi_class will be changed to 'auto' in 0.22. Specify the multi_class option to silence this warning.\n",
      "  \"this warning.\", FutureWarning)\n",
      "C:\\ProgramData\\Anaconda3\\lib\\site-packages\\sklearn\\linear_model\\logistic.py:1300: UserWarning: 'n_jobs' > 1 does not have any effect when 'solver' is set to 'liblinear'. Got 'n_jobs' = 12.\n",
      "  \" = {}.\".format(effective_n_jobs(self.n_jobs)))\n"
     ]
    },
    {
     "name": "stdout",
     "output_type": "stream",
     "text": [
      "Logistic Reg acc: 0.16926029981203633\n",
      "{'all': {'rf': '0.20282841849532876', 'svm': '0.22171087716526103', 'lr': '0.1613749037113117'}, 'df_http': {'rf': '0.32978723404255317', 'svm': '0.3404255319148936', 'lr': '0.21808510638297873'}, 'df_http_tcp': {'rf': '0.15967685921711952', 'svm': '0.3526352345830095', 'lr': '0.1419901106352015'}, 'df_http_tcp_udp': {'rf': '0.2037161108863077', 'svm': '0.3820788197599984', 'lr': '0.17080046965485676'}, 'df_http_tls': {'rf': '0.3097651891070538', 'svm': '0.3443101688074266', 'lr': '0.1738170421899855'}, 'df_http_tls_tcp': {'rf': '0.18547421547378568', 'svm': '0.1963357053828537', 'lr': '0.16377579527104605'}, 'df_http_tls_tcp_udp': {'rf': '0.20156217562798423', 'svm': '0.22305376790533527', 'lr': '0.1523354785135977'}, 'df_http_tls_udp': {'rf': '0.29559293757820104', 'svm': '0.34468233004309745', 'lr': '0.18623661893507576'}, 'df_http_udp': {'rf': '0.31467715590519685', 'svm': '0.37464582152738424', 'lr': '0.42851428380946033'}, 'df_tcp': {'rf': '0.157879917184265', 'svm': '0.3526128364389234', 'lr': '0.14200414078674947'}, 'df_tcp_udp': {'rf': '0.20305391170356202', 'svm': '0.382223816260519', 'lr': '0.16926029981203633'}}\n",
      "df_tls\n"
     ]
    },
    {
     "name": "stderr",
     "output_type": "stream",
     "text": [
      "C:\\ProgramData\\Anaconda3\\lib\\site-packages\\sklearn\\ensemble\\forest.py:246: FutureWarning: The default value of n_estimators will change from 10 in version 0.20 to 100 in 0.22.\n",
      "  \"10 in version 0.20 to 100 in 0.22.\", FutureWarning)\n"
     ]
    },
    {
     "name": "stdout",
     "output_type": "stream",
     "text": [
      "RF acc: 0.3133242708258806\n",
      "{'all': {'rf': '0.20282841849532876', 'svm': '0.22171087716526103', 'lr': '0.1613749037113117'}, 'df_http': {'rf': '0.32978723404255317', 'svm': '0.3404255319148936', 'lr': '0.21808510638297873'}, 'df_http_tcp': {'rf': '0.15967685921711952', 'svm': '0.3526352345830095', 'lr': '0.1419901106352015'}, 'df_http_tcp_udp': {'rf': '0.2037161108863077', 'svm': '0.3820788197599984', 'lr': '0.17080046965485676'}, 'df_http_tls': {'rf': '0.3097651891070538', 'svm': '0.3443101688074266', 'lr': '0.1738170421899855'}, 'df_http_tls_tcp': {'rf': '0.18547421547378568', 'svm': '0.1963357053828537', 'lr': '0.16377579527104605'}, 'df_http_tls_tcp_udp': {'rf': '0.20156217562798423', 'svm': '0.22305376790533527', 'lr': '0.1523354785135977'}, 'df_http_tls_udp': {'rf': '0.29559293757820104', 'svm': '0.34468233004309745', 'lr': '0.18623661893507576'}, 'df_http_udp': {'rf': '0.31467715590519685', 'svm': '0.37464582152738424', 'lr': '0.42851428380946033'}, 'df_tcp': {'rf': '0.157879917184265', 'svm': '0.3526128364389234', 'lr': '0.14200414078674947'}, 'df_tcp_udp': {'rf': '0.20305391170356202', 'svm': '0.382223816260519', 'lr': '0.16926029981203633'}, 'df_tls': {'rf': '0.3133242708258806'}}\n",
      "[LibSVM]"
     ]
    },
    {
     "name": "stderr",
     "output_type": "stream",
     "text": [
      "C:\\ProgramData\\Anaconda3\\lib\\site-packages\\sklearn\\svm\\base.py:196: FutureWarning: The default value of gamma will change from 'auto' to 'scale' in version 0.22 to account better for unscaled features. Set gamma explicitly to 'auto' or 'scale' to avoid this warning.\n",
      "  \"avoid this warning.\", FutureWarning)\n"
     ]
    },
    {
     "name": "stdout",
     "output_type": "stream",
     "text": [
      "SVM acc: 0.34489995468746276\n",
      "{'all': {'rf': '0.20282841849532876', 'svm': '0.22171087716526103', 'lr': '0.1613749037113117'}, 'df_http': {'rf': '0.32978723404255317', 'svm': '0.3404255319148936', 'lr': '0.21808510638297873'}, 'df_http_tcp': {'rf': '0.15967685921711952', 'svm': '0.3526352345830095', 'lr': '0.1419901106352015'}, 'df_http_tcp_udp': {'rf': '0.2037161108863077', 'svm': '0.3820788197599984', 'lr': '0.17080046965485676'}, 'df_http_tls': {'rf': '0.3097651891070538', 'svm': '0.3443101688074266', 'lr': '0.1738170421899855'}, 'df_http_tls_tcp': {'rf': '0.18547421547378568', 'svm': '0.1963357053828537', 'lr': '0.16377579527104605'}, 'df_http_tls_tcp_udp': {'rf': '0.20156217562798423', 'svm': '0.22305376790533527', 'lr': '0.1523354785135977'}, 'df_http_tls_udp': {'rf': '0.29559293757820104', 'svm': '0.34468233004309745', 'lr': '0.18623661893507576'}, 'df_http_udp': {'rf': '0.31467715590519685', 'svm': '0.37464582152738424', 'lr': '0.42851428380946033'}, 'df_tcp': {'rf': '0.157879917184265', 'svm': '0.3526128364389234', 'lr': '0.14200414078674947'}, 'df_tcp_udp': {'rf': '0.20305391170356202', 'svm': '0.382223816260519', 'lr': '0.16926029981203633'}, 'df_tls': {'rf': '0.3133242708258806', 'svm': '0.34489995468746276'}}\n"
     ]
    },
    {
     "name": "stderr",
     "output_type": "stream",
     "text": [
      "C:\\ProgramData\\Anaconda3\\lib\\site-packages\\sklearn\\linear_model\\logistic.py:433: FutureWarning: Default solver will be changed to 'lbfgs' in 0.22. Specify a solver to silence this warning.\n",
      "  FutureWarning)\n",
      "C:\\ProgramData\\Anaconda3\\lib\\site-packages\\sklearn\\linear_model\\logistic.py:460: FutureWarning: Default multi_class will be changed to 'auto' in 0.22. Specify the multi_class option to silence this warning.\n",
      "  \"this warning.\", FutureWarning)\n",
      "C:\\ProgramData\\Anaconda3\\lib\\site-packages\\sklearn\\linear_model\\logistic.py:1300: UserWarning: 'n_jobs' > 1 does not have any effect when 'solver' is set to 'liblinear'. Got 'n_jobs' = 12.\n",
      "  \" = {}.\".format(effective_n_jobs(self.n_jobs)))\n"
     ]
    },
    {
     "name": "stdout",
     "output_type": "stream",
     "text": [
      "Logistic Reg acc: 0.17462020939161957\n",
      "{'all': {'rf': '0.20282841849532876', 'svm': '0.22171087716526103', 'lr': '0.1613749037113117'}, 'df_http': {'rf': '0.32978723404255317', 'svm': '0.3404255319148936', 'lr': '0.21808510638297873'}, 'df_http_tcp': {'rf': '0.15967685921711952', 'svm': '0.3526352345830095', 'lr': '0.1419901106352015'}, 'df_http_tcp_udp': {'rf': '0.2037161108863077', 'svm': '0.3820788197599984', 'lr': '0.17080046965485676'}, 'df_http_tls': {'rf': '0.3097651891070538', 'svm': '0.3443101688074266', 'lr': '0.1738170421899855'}, 'df_http_tls_tcp': {'rf': '0.18547421547378568', 'svm': '0.1963357053828537', 'lr': '0.16377579527104605'}, 'df_http_tls_tcp_udp': {'rf': '0.20156217562798423', 'svm': '0.22305376790533527', 'lr': '0.1523354785135977'}, 'df_http_tls_udp': {'rf': '0.29559293757820104', 'svm': '0.34468233004309745', 'lr': '0.18623661893507576'}, 'df_http_udp': {'rf': '0.31467715590519685', 'svm': '0.37464582152738424', 'lr': '0.42851428380946033'}, 'df_tcp': {'rf': '0.157879917184265', 'svm': '0.3526128364389234', 'lr': '0.14200414078674947'}, 'df_tcp_udp': {'rf': '0.20305391170356202', 'svm': '0.382223816260519', 'lr': '0.16926029981203633'}, 'df_tls': {'rf': '0.3133242708258806', 'svm': '0.34489995468746276', 'lr': '0.17462020939161957'}}\n",
      "df_tls_tcp\n"
     ]
    },
    {
     "name": "stderr",
     "output_type": "stream",
     "text": [
      "C:\\ProgramData\\Anaconda3\\lib\\site-packages\\sklearn\\ensemble\\forest.py:246: FutureWarning: The default value of n_estimators will change from 10 in version 0.20 to 100 in 0.22.\n",
      "  \"10 in version 0.20 to 100 in 0.22.\", FutureWarning)\n"
     ]
    },
    {
     "name": "stdout",
     "output_type": "stream",
     "text": [
      "RF acc: 0.1880490038787566\n",
      "{'all': {'rf': '0.20282841849532876', 'svm': '0.22171087716526103', 'lr': '0.1613749037113117'}, 'df_http': {'rf': '0.32978723404255317', 'svm': '0.3404255319148936', 'lr': '0.21808510638297873'}, 'df_http_tcp': {'rf': '0.15967685921711952', 'svm': '0.3526352345830095', 'lr': '0.1419901106352015'}, 'df_http_tcp_udp': {'rf': '0.2037161108863077', 'svm': '0.3820788197599984', 'lr': '0.17080046965485676'}, 'df_http_tls': {'rf': '0.3097651891070538', 'svm': '0.3443101688074266', 'lr': '0.1738170421899855'}, 'df_http_tls_tcp': {'rf': '0.18547421547378568', 'svm': '0.1963357053828537', 'lr': '0.16377579527104605'}, 'df_http_tls_tcp_udp': {'rf': '0.20156217562798423', 'svm': '0.22305376790533527', 'lr': '0.1523354785135977'}, 'df_http_tls_udp': {'rf': '0.29559293757820104', 'svm': '0.34468233004309745', 'lr': '0.18623661893507576'}, 'df_http_udp': {'rf': '0.31467715590519685', 'svm': '0.37464582152738424', 'lr': '0.42851428380946033'}, 'df_tcp': {'rf': '0.157879917184265', 'svm': '0.3526128364389234', 'lr': '0.14200414078674947'}, 'df_tcp_udp': {'rf': '0.20305391170356202', 'svm': '0.382223816260519', 'lr': '0.16926029981203633'}, 'df_tls': {'rf': '0.3133242708258806', 'svm': '0.34489995468746276', 'lr': '0.17462020939161957'}, 'df_tls_tcp': {'rf': '0.1880490038787566'}}\n"
     ]
    },
    {
     "name": "stderr",
     "output_type": "stream",
     "text": [
      "C:\\ProgramData\\Anaconda3\\lib\\site-packages\\sklearn\\svm\\base.py:196: FutureWarning: The default value of gamma will change from 'auto' to 'scale' in version 0.22 to account better for unscaled features. Set gamma explicitly to 'auto' or 'scale' to avoid this warning.\n",
      "  \"avoid this warning.\", FutureWarning)\n"
     ]
    },
    {
     "name": "stdout",
     "output_type": "stream",
     "text": [
      "[LibSVM]SVM acc: 0.19629827699608435\n",
      "{'all': {'rf': '0.20282841849532876', 'svm': '0.22171087716526103', 'lr': '0.1613749037113117'}, 'df_http': {'rf': '0.32978723404255317', 'svm': '0.3404255319148936', 'lr': '0.21808510638297873'}, 'df_http_tcp': {'rf': '0.15967685921711952', 'svm': '0.3526352345830095', 'lr': '0.1419901106352015'}, 'df_http_tcp_udp': {'rf': '0.2037161108863077', 'svm': '0.3820788197599984', 'lr': '0.17080046965485676'}, 'df_http_tls': {'rf': '0.3097651891070538', 'svm': '0.3443101688074266', 'lr': '0.1738170421899855'}, 'df_http_tls_tcp': {'rf': '0.18547421547378568', 'svm': '0.1963357053828537', 'lr': '0.16377579527104605'}, 'df_http_tls_tcp_udp': {'rf': '0.20156217562798423', 'svm': '0.22305376790533527', 'lr': '0.1523354785135977'}, 'df_http_tls_udp': {'rf': '0.29559293757820104', 'svm': '0.34468233004309745', 'lr': '0.18623661893507576'}, 'df_http_udp': {'rf': '0.31467715590519685', 'svm': '0.37464582152738424', 'lr': '0.42851428380946033'}, 'df_tcp': {'rf': '0.157879917184265', 'svm': '0.3526128364389234', 'lr': '0.14200414078674947'}, 'df_tcp_udp': {'rf': '0.20305391170356202', 'svm': '0.382223816260519', 'lr': '0.16926029981203633'}, 'df_tls': {'rf': '0.3133242708258806', 'svm': '0.34489995468746276', 'lr': '0.17462020939161957'}, 'df_tls_tcp': {'rf': '0.1880490038787566', 'svm': '0.19629827699608435'}}\n"
     ]
    },
    {
     "name": "stderr",
     "output_type": "stream",
     "text": [
      "C:\\ProgramData\\Anaconda3\\lib\\site-packages\\sklearn\\linear_model\\logistic.py:433: FutureWarning: Default solver will be changed to 'lbfgs' in 0.22. Specify a solver to silence this warning.\n",
      "  FutureWarning)\n",
      "C:\\ProgramData\\Anaconda3\\lib\\site-packages\\sklearn\\linear_model\\logistic.py:460: FutureWarning: Default multi_class will be changed to 'auto' in 0.22. Specify the multi_class option to silence this warning.\n",
      "  \"this warning.\", FutureWarning)\n",
      "C:\\ProgramData\\Anaconda3\\lib\\site-packages\\sklearn\\linear_model\\logistic.py:1300: UserWarning: 'n_jobs' > 1 does not have any effect when 'solver' is set to 'liblinear'. Got 'n_jobs' = 12.\n",
      "  \" = {}.\".format(effective_n_jobs(self.n_jobs)))\n"
     ]
    },
    {
     "name": "stdout",
     "output_type": "stream",
     "text": [
      "Logistic Reg acc: 0.16386056146691994\n",
      "{'all': {'rf': '0.20282841849532876', 'svm': '0.22171087716526103', 'lr': '0.1613749037113117'}, 'df_http': {'rf': '0.32978723404255317', 'svm': '0.3404255319148936', 'lr': '0.21808510638297873'}, 'df_http_tcp': {'rf': '0.15967685921711952', 'svm': '0.3526352345830095', 'lr': '0.1419901106352015'}, 'df_http_tcp_udp': {'rf': '0.2037161108863077', 'svm': '0.3820788197599984', 'lr': '0.17080046965485676'}, 'df_http_tls': {'rf': '0.3097651891070538', 'svm': '0.3443101688074266', 'lr': '0.1738170421899855'}, 'df_http_tls_tcp': {'rf': '0.18547421547378568', 'svm': '0.1963357053828537', 'lr': '0.16377579527104605'}, 'df_http_tls_tcp_udp': {'rf': '0.20156217562798423', 'svm': '0.22305376790533527', 'lr': '0.1523354785135977'}, 'df_http_tls_udp': {'rf': '0.29559293757820104', 'svm': '0.34468233004309745', 'lr': '0.18623661893507576'}, 'df_http_udp': {'rf': '0.31467715590519685', 'svm': '0.37464582152738424', 'lr': '0.42851428380946033'}, 'df_tcp': {'rf': '0.157879917184265', 'svm': '0.3526128364389234', 'lr': '0.14200414078674947'}, 'df_tcp_udp': {'rf': '0.20305391170356202', 'svm': '0.382223816260519', 'lr': '0.16926029981203633'}, 'df_tls': {'rf': '0.3133242708258806', 'svm': '0.34489995468746276', 'lr': '0.17462020939161957'}, 'df_tls_tcp': {'rf': '0.1880490038787566', 'svm': '0.19629827699608435', 'lr': '0.16386056146691994'}}\n",
      "df_tls_tcp_udp\n"
     ]
    },
    {
     "name": "stderr",
     "output_type": "stream",
     "text": [
      "C:\\ProgramData\\Anaconda3\\lib\\site-packages\\sklearn\\ensemble\\forest.py:246: FutureWarning: The default value of n_estimators will change from 10 in version 0.20 to 100 in 0.22.\n",
      "  \"10 in version 0.20 to 100 in 0.22.\", FutureWarning)\n"
     ]
    },
    {
     "name": "stdout",
     "output_type": "stream",
     "text": [
      "RF acc: 0.20558256966523283\n",
      "{'all': {'rf': '0.20282841849532876', 'svm': '0.22171087716526103', 'lr': '0.1613749037113117'}, 'df_http': {'rf': '0.32978723404255317', 'svm': '0.3404255319148936', 'lr': '0.21808510638297873'}, 'df_http_tcp': {'rf': '0.15967685921711952', 'svm': '0.3526352345830095', 'lr': '0.1419901106352015'}, 'df_http_tcp_udp': {'rf': '0.2037161108863077', 'svm': '0.3820788197599984', 'lr': '0.17080046965485676'}, 'df_http_tls': {'rf': '0.3097651891070538', 'svm': '0.3443101688074266', 'lr': '0.1738170421899855'}, 'df_http_tls_tcp': {'rf': '0.18547421547378568', 'svm': '0.1963357053828537', 'lr': '0.16377579527104605'}, 'df_http_tls_tcp_udp': {'rf': '0.20156217562798423', 'svm': '0.22305376790533527', 'lr': '0.1523354785135977'}, 'df_http_tls_udp': {'rf': '0.29559293757820104', 'svm': '0.34468233004309745', 'lr': '0.18623661893507576'}, 'df_http_udp': {'rf': '0.31467715590519685', 'svm': '0.37464582152738424', 'lr': '0.42851428380946033'}, 'df_tcp': {'rf': '0.157879917184265', 'svm': '0.3526128364389234', 'lr': '0.14200414078674947'}, 'df_tcp_udp': {'rf': '0.20305391170356202', 'svm': '0.382223816260519', 'lr': '0.16926029981203633'}, 'df_tls': {'rf': '0.3133242708258806', 'svm': '0.34489995468746276', 'lr': '0.17462020939161957'}, 'df_tls_tcp': {'rf': '0.1880490038787566', 'svm': '0.19629827699608435', 'lr': '0.16386056146691994'}, 'df_tls_tcp_udp': {'rf': '0.20558256966523283'}}\n"
     ]
    },
    {
     "name": "stderr",
     "output_type": "stream",
     "text": [
      "C:\\ProgramData\\Anaconda3\\lib\\site-packages\\sklearn\\svm\\base.py:196: FutureWarning: The default value of gamma will change from 'auto' to 'scale' in version 0.22 to account better for unscaled features. Set gamma explicitly to 'auto' or 'scale' to avoid this warning.\n",
      "  \"avoid this warning.\", FutureWarning)\n"
     ]
    },
    {
     "name": "stdout",
     "output_type": "stream",
     "text": [
      "[LibSVM]SVM acc: 0.22301186542817364\n",
      "{'all': {'rf': '0.20282841849532876', 'svm': '0.22171087716526103', 'lr': '0.1613749037113117'}, 'df_http': {'rf': '0.32978723404255317', 'svm': '0.3404255319148936', 'lr': '0.21808510638297873'}, 'df_http_tcp': {'rf': '0.15967685921711952', 'svm': '0.3526352345830095', 'lr': '0.1419901106352015'}, 'df_http_tcp_udp': {'rf': '0.2037161108863077', 'svm': '0.3820788197599984', 'lr': '0.17080046965485676'}, 'df_http_tls': {'rf': '0.3097651891070538', 'svm': '0.3443101688074266', 'lr': '0.1738170421899855'}, 'df_http_tls_tcp': {'rf': '0.18547421547378568', 'svm': '0.1963357053828537', 'lr': '0.16377579527104605'}, 'df_http_tls_tcp_udp': {'rf': '0.20156217562798423', 'svm': '0.22305376790533527', 'lr': '0.1523354785135977'}, 'df_http_tls_udp': {'rf': '0.29559293757820104', 'svm': '0.34468233004309745', 'lr': '0.18623661893507576'}, 'df_http_udp': {'rf': '0.31467715590519685', 'svm': '0.37464582152738424', 'lr': '0.42851428380946033'}, 'df_tcp': {'rf': '0.157879917184265', 'svm': '0.3526128364389234', 'lr': '0.14200414078674947'}, 'df_tcp_udp': {'rf': '0.20305391170356202', 'svm': '0.382223816260519', 'lr': '0.16926029981203633'}, 'df_tls': {'rf': '0.3133242708258806', 'svm': '0.34489995468746276', 'lr': '0.17462020939161957'}, 'df_tls_tcp': {'rf': '0.1880490038787566', 'svm': '0.19629827699608435', 'lr': '0.16386056146691994'}, 'df_tls_tcp_udp': {'rf': '0.20558256966523283', 'svm': '0.22301186542817364'}}\n"
     ]
    },
    {
     "name": "stderr",
     "output_type": "stream",
     "text": [
      "C:\\ProgramData\\Anaconda3\\lib\\site-packages\\sklearn\\linear_model\\logistic.py:433: FutureWarning: Default solver will be changed to 'lbfgs' in 0.22. Specify a solver to silence this warning.\n",
      "  FutureWarning)\n",
      "C:\\ProgramData\\Anaconda3\\lib\\site-packages\\sklearn\\linear_model\\logistic.py:460: FutureWarning: Default multi_class will be changed to 'auto' in 0.22. Specify the multi_class option to silence this warning.\n",
      "  \"this warning.\", FutureWarning)\n",
      "C:\\ProgramData\\Anaconda3\\lib\\site-packages\\sklearn\\linear_model\\logistic.py:1300: UserWarning: 'n_jobs' > 1 does not have any effect when 'solver' is set to 'liblinear'. Got 'n_jobs' = 12.\n",
      "  \" = {}.\".format(effective_n_jobs(self.n_jobs)))\n"
     ]
    },
    {
     "name": "stdout",
     "output_type": "stream",
     "text": [
      "Logistic Reg acc: 0.153668723895019\n",
      "{'all': {'rf': '0.20282841849532876', 'svm': '0.22171087716526103', 'lr': '0.1613749037113117'}, 'df_http': {'rf': '0.32978723404255317', 'svm': '0.3404255319148936', 'lr': '0.21808510638297873'}, 'df_http_tcp': {'rf': '0.15967685921711952', 'svm': '0.3526352345830095', 'lr': '0.1419901106352015'}, 'df_http_tcp_udp': {'rf': '0.2037161108863077', 'svm': '0.3820788197599984', 'lr': '0.17080046965485676'}, 'df_http_tls': {'rf': '0.3097651891070538', 'svm': '0.3443101688074266', 'lr': '0.1738170421899855'}, 'df_http_tls_tcp': {'rf': '0.18547421547378568', 'svm': '0.1963357053828537', 'lr': '0.16377579527104605'}, 'df_http_tls_tcp_udp': {'rf': '0.20156217562798423', 'svm': '0.22305376790533527', 'lr': '0.1523354785135977'}, 'df_http_tls_udp': {'rf': '0.29559293757820104', 'svm': '0.34468233004309745', 'lr': '0.18623661893507576'}, 'df_http_udp': {'rf': '0.31467715590519685', 'svm': '0.37464582152738424', 'lr': '0.42851428380946033'}, 'df_tcp': {'rf': '0.157879917184265', 'svm': '0.3526128364389234', 'lr': '0.14200414078674947'}, 'df_tcp_udp': {'rf': '0.20305391170356202', 'svm': '0.382223816260519', 'lr': '0.16926029981203633'}, 'df_tls': {'rf': '0.3133242708258806', 'svm': '0.34489995468746276', 'lr': '0.17462020939161957'}, 'df_tls_tcp': {'rf': '0.1880490038787566', 'svm': '0.19629827699608435', 'lr': '0.16386056146691994'}, 'df_tls_tcp_udp': {'rf': '0.20558256966523283', 'svm': '0.22301186542817364', 'lr': '0.153668723895019'}}\n",
      "df_tls_udp\n"
     ]
    },
    {
     "name": "stderr",
     "output_type": "stream",
     "text": [
      "C:\\ProgramData\\Anaconda3\\lib\\site-packages\\sklearn\\ensemble\\forest.py:246: FutureWarning: The default value of n_estimators will change from 10 in version 0.20 to 100 in 0.22.\n",
      "  \"10 in version 0.20 to 100 in 0.22.\", FutureWarning)\n"
     ]
    },
    {
     "name": "stdout",
     "output_type": "stream",
     "text": [
      "RF acc: 0.2972596247665245\n",
      "{'all': {'rf': '0.20282841849532876', 'svm': '0.22171087716526103', 'lr': '0.1613749037113117'}, 'df_http': {'rf': '0.32978723404255317', 'svm': '0.3404255319148936', 'lr': '0.21808510638297873'}, 'df_http_tcp': {'rf': '0.15967685921711952', 'svm': '0.3526352345830095', 'lr': '0.1419901106352015'}, 'df_http_tcp_udp': {'rf': '0.2037161108863077', 'svm': '0.3820788197599984', 'lr': '0.17080046965485676'}, 'df_http_tls': {'rf': '0.3097651891070538', 'svm': '0.3443101688074266', 'lr': '0.1738170421899855'}, 'df_http_tls_tcp': {'rf': '0.18547421547378568', 'svm': '0.1963357053828537', 'lr': '0.16377579527104605'}, 'df_http_tls_tcp_udp': {'rf': '0.20156217562798423', 'svm': '0.22305376790533527', 'lr': '0.1523354785135977'}, 'df_http_tls_udp': {'rf': '0.29559293757820104', 'svm': '0.34468233004309745', 'lr': '0.18623661893507576'}, 'df_http_udp': {'rf': '0.31467715590519685', 'svm': '0.37464582152738424', 'lr': '0.42851428380946033'}, 'df_tcp': {'rf': '0.157879917184265', 'svm': '0.3526128364389234', 'lr': '0.14200414078674947'}, 'df_tcp_udp': {'rf': '0.20305391170356202', 'svm': '0.382223816260519', 'lr': '0.16926029981203633'}, 'df_tls': {'rf': '0.3133242708258806', 'svm': '0.34489995468746276', 'lr': '0.17462020939161957'}, 'df_tls_tcp': {'rf': '0.1880490038787566', 'svm': '0.19629827699608435', 'lr': '0.16386056146691994'}, 'df_tls_tcp_udp': {'rf': '0.20558256966523283', 'svm': '0.22301186542817364', 'lr': '0.153668723895019'}, 'df_tls_udp': {'rf': '0.2972596247665245'}}\n"
     ]
    },
    {
     "name": "stderr",
     "output_type": "stream",
     "text": [
      "C:\\ProgramData\\Anaconda3\\lib\\site-packages\\sklearn\\svm\\base.py:196: FutureWarning: The default value of gamma will change from 'auto' to 'scale' in version 0.22 to account better for unscaled features. Set gamma explicitly to 'auto' or 'scale' to avoid this warning.\n",
      "  \"avoid this warning.\", FutureWarning)\n"
     ]
    },
    {
     "name": "stdout",
     "output_type": "stream",
     "text": [
      "[LibSVM]SVM acc: 0.34498620055197793\n",
      "{'all': {'rf': '0.20282841849532876', 'svm': '0.22171087716526103', 'lr': '0.1613749037113117'}, 'df_http': {'rf': '0.32978723404255317', 'svm': '0.3404255319148936', 'lr': '0.21808510638297873'}, 'df_http_tcp': {'rf': '0.15967685921711952', 'svm': '0.3526352345830095', 'lr': '0.1419901106352015'}, 'df_http_tcp_udp': {'rf': '0.2037161108863077', 'svm': '0.3820788197599984', 'lr': '0.17080046965485676'}, 'df_http_tls': {'rf': '0.3097651891070538', 'svm': '0.3443101688074266', 'lr': '0.1738170421899855'}, 'df_http_tls_tcp': {'rf': '0.18547421547378568', 'svm': '0.1963357053828537', 'lr': '0.16377579527104605'}, 'df_http_tls_tcp_udp': {'rf': '0.20156217562798423', 'svm': '0.22305376790533527', 'lr': '0.1523354785135977'}, 'df_http_tls_udp': {'rf': '0.29559293757820104', 'svm': '0.34468233004309745', 'lr': '0.18623661893507576'}, 'df_http_udp': {'rf': '0.31467715590519685', 'svm': '0.37464582152738424', 'lr': '0.42851428380946033'}, 'df_tcp': {'rf': '0.157879917184265', 'svm': '0.3526128364389234', 'lr': '0.14200414078674947'}, 'df_tcp_udp': {'rf': '0.20305391170356202', 'svm': '0.382223816260519', 'lr': '0.16926029981203633'}, 'df_tls': {'rf': '0.3133242708258806', 'svm': '0.34489995468746276', 'lr': '0.17462020939161957'}, 'df_tls_tcp': {'rf': '0.1880490038787566', 'svm': '0.19629827699608435', 'lr': '0.16386056146691994'}, 'df_tls_tcp_udp': {'rf': '0.20558256966523283', 'svm': '0.22301186542817364', 'lr': '0.153668723895019'}, 'df_tls_udp': {'rf': '0.2972596247665245', 'svm': '0.34498620055197793'}}\n"
     ]
    },
    {
     "name": "stderr",
     "output_type": "stream",
     "text": [
      "C:\\ProgramData\\Anaconda3\\lib\\site-packages\\sklearn\\linear_model\\logistic.py:433: FutureWarning: Default solver will be changed to 'lbfgs' in 0.22. Specify a solver to silence this warning.\n",
      "  FutureWarning)\n",
      "C:\\ProgramData\\Anaconda3\\lib\\site-packages\\sklearn\\linear_model\\logistic.py:460: FutureWarning: Default multi_class will be changed to 'auto' in 0.22. Specify the multi_class option to silence this warning.\n",
      "  \"this warning.\", FutureWarning)\n",
      "C:\\ProgramData\\Anaconda3\\lib\\site-packages\\sklearn\\linear_model\\logistic.py:1300: UserWarning: 'n_jobs' > 1 does not have any effect when 'solver' is set to 'liblinear'. Got 'n_jobs' = 12.\n",
      "  \" = {}.\".format(effective_n_jobs(self.n_jobs)))\n"
     ]
    },
    {
     "name": "stdout",
     "output_type": "stream",
     "text": [
      "Logistic Reg acc: 0.18620891527975245\n",
      "{'all': {'rf': '0.20282841849532876', 'svm': '0.22171087716526103', 'lr': '0.1613749037113117'}, 'df_http': {'rf': '0.32978723404255317', 'svm': '0.3404255319148936', 'lr': '0.21808510638297873'}, 'df_http_tcp': {'rf': '0.15967685921711952', 'svm': '0.3526352345830095', 'lr': '0.1419901106352015'}, 'df_http_tcp_udp': {'rf': '0.2037161108863077', 'svm': '0.3820788197599984', 'lr': '0.17080046965485676'}, 'df_http_tls': {'rf': '0.3097651891070538', 'svm': '0.3443101688074266', 'lr': '0.1738170421899855'}, 'df_http_tls_tcp': {'rf': '0.18547421547378568', 'svm': '0.1963357053828537', 'lr': '0.16377579527104605'}, 'df_http_tls_tcp_udp': {'rf': '0.20156217562798423', 'svm': '0.22305376790533527', 'lr': '0.1523354785135977'}, 'df_http_tls_udp': {'rf': '0.29559293757820104', 'svm': '0.34468233004309745', 'lr': '0.18623661893507576'}, 'df_http_udp': {'rf': '0.31467715590519685', 'svm': '0.37464582152738424', 'lr': '0.42851428380946033'}, 'df_tcp': {'rf': '0.157879917184265', 'svm': '0.3526128364389234', 'lr': '0.14200414078674947'}, 'df_tcp_udp': {'rf': '0.20305391170356202', 'svm': '0.382223816260519', 'lr': '0.16926029981203633'}, 'df_tls': {'rf': '0.3133242708258806', 'svm': '0.34489995468746276', 'lr': '0.17462020939161957'}, 'df_tls_tcp': {'rf': '0.1880490038787566', 'svm': '0.19629827699608435', 'lr': '0.16386056146691994'}, 'df_tls_tcp_udp': {'rf': '0.20558256966523283', 'svm': '0.22301186542817364', 'lr': '0.153668723895019'}, 'df_tls_udp': {'rf': '0.2972596247665245', 'svm': '0.34498620055197793', 'lr': '0.18620891527975245'}}\n",
      "df_udp\n"
     ]
    },
    {
     "name": "stderr",
     "output_type": "stream",
     "text": [
      "C:\\ProgramData\\Anaconda3\\lib\\site-packages\\sklearn\\ensemble\\forest.py:246: FutureWarning: The default value of n_estimators will change from 10 in version 0.20 to 100 in 0.22.\n",
      "  \"10 in version 0.20 to 100 in 0.22.\", FutureWarning)\n"
     ]
    },
    {
     "name": "stdout",
     "output_type": "stream",
     "text": [
      "RF acc: 0.3150179463956258\n",
      "{'all': {'rf': '0.20282841849532876', 'svm': '0.22171087716526103', 'lr': '0.1613749037113117'}, 'df_http': {'rf': '0.32978723404255317', 'svm': '0.3404255319148936', 'lr': '0.21808510638297873'}, 'df_http_tcp': {'rf': '0.15967685921711952', 'svm': '0.3526352345830095', 'lr': '0.1419901106352015'}, 'df_http_tcp_udp': {'rf': '0.2037161108863077', 'svm': '0.3820788197599984', 'lr': '0.17080046965485676'}, 'df_http_tls': {'rf': '0.3097651891070538', 'svm': '0.3443101688074266', 'lr': '0.1738170421899855'}, 'df_http_tls_tcp': {'rf': '0.18547421547378568', 'svm': '0.1963357053828537', 'lr': '0.16377579527104605'}, 'df_http_tls_tcp_udp': {'rf': '0.20156217562798423', 'svm': '0.22305376790533527', 'lr': '0.1523354785135977'}, 'df_http_tls_udp': {'rf': '0.29559293757820104', 'svm': '0.34468233004309745', 'lr': '0.18623661893507576'}, 'df_http_udp': {'rf': '0.31467715590519685', 'svm': '0.37464582152738424', 'lr': '0.42851428380946033'}, 'df_tcp': {'rf': '0.157879917184265', 'svm': '0.3526128364389234', 'lr': '0.14200414078674947'}, 'df_tcp_udp': {'rf': '0.20305391170356202', 'svm': '0.382223816260519', 'lr': '0.16926029981203633'}, 'df_tls': {'rf': '0.3133242708258806', 'svm': '0.34489995468746276', 'lr': '0.17462020939161957'}, 'df_tls_tcp': {'rf': '0.1880490038787566', 'svm': '0.19629827699608435', 'lr': '0.16386056146691994'}, 'df_tls_tcp_udp': {'rf': '0.20558256966523283', 'svm': '0.22301186542817364', 'lr': '0.153668723895019'}, 'df_tls_udp': {'rf': '0.2972596247665245', 'svm': '0.34498620055197793', 'lr': '0.18620891527975245'}, 'df_udp': {'rf': '0.3150179463956258'}}\n",
      "[LibSVM]"
     ]
    },
    {
     "name": "stderr",
     "output_type": "stream",
     "text": [
      "C:\\ProgramData\\Anaconda3\\lib\\site-packages\\sklearn\\svm\\base.py:196: FutureWarning: The default value of gamma will change from 'auto' to 'scale' in version 0.22 to account better for unscaled features. Set gamma explicitly to 'auto' or 'scale' to avoid this warning.\n",
      "  \"avoid this warning.\", FutureWarning)\n"
     ]
    },
    {
     "name": "stdout",
     "output_type": "stream",
     "text": [
      "SVM acc: 0.3753647982288417\n",
      "{'all': {'rf': '0.20282841849532876', 'svm': '0.22171087716526103', 'lr': '0.1613749037113117'}, 'df_http': {'rf': '0.32978723404255317', 'svm': '0.3404255319148936', 'lr': '0.21808510638297873'}, 'df_http_tcp': {'rf': '0.15967685921711952', 'svm': '0.3526352345830095', 'lr': '0.1419901106352015'}, 'df_http_tcp_udp': {'rf': '0.2037161108863077', 'svm': '0.3820788197599984', 'lr': '0.17080046965485676'}, 'df_http_tls': {'rf': '0.3097651891070538', 'svm': '0.3443101688074266', 'lr': '0.1738170421899855'}, 'df_http_tls_tcp': {'rf': '0.18547421547378568', 'svm': '0.1963357053828537', 'lr': '0.16377579527104605'}, 'df_http_tls_tcp_udp': {'rf': '0.20156217562798423', 'svm': '0.22305376790533527', 'lr': '0.1523354785135977'}, 'df_http_tls_udp': {'rf': '0.29559293757820104', 'svm': '0.34468233004309745', 'lr': '0.18623661893507576'}, 'df_http_udp': {'rf': '0.31467715590519685', 'svm': '0.37464582152738424', 'lr': '0.42851428380946033'}, 'df_tcp': {'rf': '0.157879917184265', 'svm': '0.3526128364389234', 'lr': '0.14200414078674947'}, 'df_tcp_udp': {'rf': '0.20305391170356202', 'svm': '0.382223816260519', 'lr': '0.16926029981203633'}, 'df_tls': {'rf': '0.3133242708258806', 'svm': '0.34489995468746276', 'lr': '0.17462020939161957'}, 'df_tls_tcp': {'rf': '0.1880490038787566', 'svm': '0.19629827699608435', 'lr': '0.16386056146691994'}, 'df_tls_tcp_udp': {'rf': '0.20558256966523283', 'svm': '0.22301186542817364', 'lr': '0.153668723895019'}, 'df_tls_udp': {'rf': '0.2972596247665245', 'svm': '0.34498620055197793', 'lr': '0.18620891527975245'}, 'df_udp': {'rf': '0.3150179463956258', 'svm': '0.3753647982288417'}}\n"
     ]
    },
    {
     "name": "stderr",
     "output_type": "stream",
     "text": [
      "C:\\ProgramData\\Anaconda3\\lib\\site-packages\\sklearn\\linear_model\\logistic.py:433: FutureWarning: Default solver will be changed to 'lbfgs' in 0.22. Specify a solver to silence this warning.\n",
      "  FutureWarning)\n",
      "C:\\ProgramData\\Anaconda3\\lib\\site-packages\\sklearn\\linear_model\\logistic.py:460: FutureWarning: Default multi_class will be changed to 'auto' in 0.22. Specify the multi_class option to silence this warning.\n",
      "  \"this warning.\", FutureWarning)\n",
      "C:\\ProgramData\\Anaconda3\\lib\\site-packages\\sklearn\\linear_model\\logistic.py:1300: UserWarning: 'n_jobs' > 1 does not have any effect when 'solver' is set to 'liblinear'. Got 'n_jobs' = 12.\n",
      "  \" = {}.\".format(effective_n_jobs(self.n_jobs)))\n"
     ]
    },
    {
     "name": "stdout",
     "output_type": "stream",
     "text": [
      "Logistic Reg acc: 0.4282311898292577\n",
      "{'all': {'rf': '0.20282841849532876', 'svm': '0.22171087716526103', 'lr': '0.1613749037113117'}, 'df_http': {'rf': '0.32978723404255317', 'svm': '0.3404255319148936', 'lr': '0.21808510638297873'}, 'df_http_tcp': {'rf': '0.15967685921711952', 'svm': '0.3526352345830095', 'lr': '0.1419901106352015'}, 'df_http_tcp_udp': {'rf': '0.2037161108863077', 'svm': '0.3820788197599984', 'lr': '0.17080046965485676'}, 'df_http_tls': {'rf': '0.3097651891070538', 'svm': '0.3443101688074266', 'lr': '0.1738170421899855'}, 'df_http_tls_tcp': {'rf': '0.18547421547378568', 'svm': '0.1963357053828537', 'lr': '0.16377579527104605'}, 'df_http_tls_tcp_udp': {'rf': '0.20156217562798423', 'svm': '0.22305376790533527', 'lr': '0.1523354785135977'}, 'df_http_tls_udp': {'rf': '0.29559293757820104', 'svm': '0.34468233004309745', 'lr': '0.18623661893507576'}, 'df_http_udp': {'rf': '0.31467715590519685', 'svm': '0.37464582152738424', 'lr': '0.42851428380946033'}, 'df_tcp': {'rf': '0.157879917184265', 'svm': '0.3526128364389234', 'lr': '0.14200414078674947'}, 'df_tcp_udp': {'rf': '0.20305391170356202', 'svm': '0.382223816260519', 'lr': '0.16926029981203633'}, 'df_tls': {'rf': '0.3133242708258806', 'svm': '0.34489995468746276', 'lr': '0.17462020939161957'}, 'df_tls_tcp': {'rf': '0.1880490038787566', 'svm': '0.19629827699608435', 'lr': '0.16386056146691994'}, 'df_tls_tcp_udp': {'rf': '0.20558256966523283', 'svm': '0.22301186542817364', 'lr': '0.153668723895019'}, 'df_tls_udp': {'rf': '0.2972596247665245', 'svm': '0.34498620055197793', 'lr': '0.18620891527975245'}, 'df_udp': {'rf': '0.3150179463956258', 'svm': '0.3753647982288417', 'lr': '0.4282311898292577'}}\n"
     ]
    }
   ],
   "source": [
    "path = '../../p2/collection'\n",
    "col_names = [\"website-index\", \"time\", \"direction\", \"packet size\"]\n",
    "folders = []\n",
    "for r, d, f in os.walk(path):\n",
    "    for folder in d:\n",
    "        folders.append(folder)\n",
    "\n",
    "results = {}\n",
    "\n",
    "# Loop over the folders in /collection\n",
    "for folder in folders:\n",
    "    if (folder == \"raw\"):\n",
    "        continue \n",
    "    results[folder] = {} # Goddam python dictionaries\n",
    "\n",
    "    # Load data into dataframes\n",
    "    df_one = pd.read_csv(path+\"/\"+folder+\"/\"+\"Day1-parsed-ondevice.csv\", header=0, names=col_names, error_bad_lines=False, warn_bad_lines=False, quotechar='^')\n",
    "    df_two = pd.read_csv(path+\"/\"+folder+\"/\"+\"Day2-parsed-ondevice.csv\", header=0, names=col_names, error_bad_lines=False, warn_bad_lines=False, quotechar='^')\n",
    "    df_three = pd.read_csv(path+\"/\"+folder+\"/\"+\"Day3-parsed-ondevice.csv\", header=0, names=col_names, error_bad_lines=False, warn_bad_lines=False, quotechar='^')\n",
    "    \n",
    "    # Preprocess training data\n",
    "    df = df_one.append(df_two)\n",
    "    X = df.loc[:, df.columns != 'website-index']\n",
    "    y = df['website-index']\n",
    "    \n",
    "    # Preprocess testing data\n",
    "    X_test = df_three.loc[:, df_three.columns != 'website-index']\n",
    "    y_test = df_three['website-index']\n",
    "    \n",
    "    outpath = './models/' + folder + \"/\"\n",
    "    if not os.path.exists(outpath):\n",
    "        os.mkdir(outpath)    \n",
    "\n",
    "    # RF model training\n",
    "    clf = RandomForestClassifier(n_jobs=-1)\n",
    "    clf.fit(X,y)\n",
    "    rf_acc = clf.score(X_test, y_test)\n",
    "    print(\"RF acc: \" + str(rf_acc))\n",
    "    results[folder][\"rf\"] = str(rf_acc)\n",
    "    dump(clf, outpath + 'rf_model.joblib')\n",
    "    print(results)\n",
    "\n",
    "    # SVM model training\n",
    "    svm_model = svm.SVC(verbose=True, cache_size=8000) # Yes i have the ram\n",
    "    svm_model.fit(X, y)\n",
    "    svm_acc = svm_model.score(X_test, y_test)\n",
    "    print(\"SVM acc: \" + str(svm_acc))\n",
    "    results[folder][\"svm\"] = str(svm_acc)\n",
    "    dump(svm_model, outpath + 'svm_model.joblib')\n",
    "    print(results)\n",
    "\n",
    "    # LR model training\n",
    "    lr = LogisticRegression(random_state=0, max_iter=10e5, n_jobs=-1)\n",
    "    lr.fit(X, y)\n",
    "    lr_acc = lr.score(X_test, y_test)\n",
    "    print(\"Logistic Reg acc: \" + str(lr_acc))\n",
    "    results[folder][\"lr\"] = str(lr_acc)\n",
    "    dump(lr, outpath + \"lr_model.joblib\")\n",
    "    print(results)"
   ]
  },
  {
   "cell_type": "markdown",
   "metadata": {},
   "source": [
    "#### Accuracy of the 3 models with different subset of packets types"
   ]
  },
  {
   "cell_type": "code",
   "execution_count": 44,
   "metadata": {},
   "outputs": [
    {
     "data": {
      "text/plain": [
       "<matplotlib.legend.Legend at 0x1e587031ba8>"
      ]
     },
     "execution_count": 44,
     "metadata": {},
     "output_type": "execute_result"
    },
    {
     "data": {
      "image/png": "[encoded data removed]",
      "text/plain": [
       "<Figure size 432x288 with 1 Axes>"
      ]
     },
     "metadata": {},
     "output_type": "display_data"
    }
   ],
   "source": [
    "x_key = svm_key = list(map(lambda x : x[0], svm_results))\n",
    "x_pos = [i for i, _ in enumerate(x_key)]\n",
    "\n",
    "svm_results = [(k, r['svm']) for k,r in results.items()]\n",
    "svm_val = list(map(lambda x : float(x[1]), svm_results))\n",
    "\n",
    "rf_results = [(k, r['rf']) for k,r in results.items()]\n",
    "rf_val = list(map(lambda x : float(x[1]), rf_results))\n",
    "\n",
    "lr_results =  [(k, r['lr']) for k,r in results.items()]\n",
    "lr_val = list(map(lambda x : float(x[1]), lr_results))\n",
    "\n",
    "# multiple line plot\n",
    "plt.plot(x_pos, svm_val, marker='o', markerfacecolor='blue', markersize=12, color='skyblue', linewidth=2, label='SVM acc')\n",
    "plt.plot(x_pos, rf_val, marker='o', markerfacecolor='red', markersize=12, color='olive', linewidth=2, label='RF acc')\n",
    "plt.plot(x_pos, lr_val, marker='o', markerfacecolor='green', markersize=12, color='yellow', linewidth=2, label='LR acc')\n",
    "plt.xticks(x_pos, x_key, rotation='vertical')\n",
    "plt.xlabel(\"protocol\")\n",
    "plt.ylabel(\"Accuracy\")\n",
    "\n",
    "plt.legend()"
   ]
  },
  {
   "cell_type": "markdown",
   "metadata": {},
   "source": [
    "#### Average accuracy of the 3 model types"
   ]
  },
  {
   "cell_type": "code",
   "execution_count": 47,
   "metadata": {},
   "outputs": [
    {
     "data": {
      "image/png": "[encoded data removed]",
      "text/plain": [
       "<Figure size 432x288 with 1 Axes>"
      ]
     },
     "metadata": {},
     "output_type": "display_data"
    }
   ],
   "source": [
    "lr_av = np.mean(lr_val)\n",
    "rf_av = np.mean(rf_val)\n",
    "svm_av = np.mean(svm_val)\n",
    "plt.bar([0,1,2], [lr_av, rf_av, svm_av])\n",
    "plt.xticks([0,1,2], ['lr', 'rf', 'svm'])\n",
    "plt.xlabel(\"Model\")\n",
    "plt.ylabel(\"Average accuracy\")\n",
    "\n",
    "plt.show()"
   ]
  },
  {
   "cell_type": "markdown",
   "metadata": {},
   "source": [
    "As we can see from the plot above, using UDP with Logistical Regression (LR) seems to provide the best results. \n",
    "\n",
    "However, averaging out across protocols, LR performs the worst. "
   ]
  },
  {
   "cell_type": "markdown",
   "metadata": {},
   "source": [
    "We also want to verify the impact on accuracy depending on the protocol used. \n",
    "\n",
    "To do this we calculate the average accuracies for each model type (lr, rf, svm), for each model that uses http, udp, tls, tcp protocols. \n",
    "\n",
    "For example, we calculate the average accuracy given model type SVM that uses UDP packets (df_udp, df_http_udp, df_tcp_udp, ..., etc.)"
   ]
  },
  {
   "cell_type": "markdown",
   "metadata": {},
   "source": [
    "#### Average accuracy of the 3 models across different subset of packets"
   ]
  },
  {
   "cell_type": "code",
   "execution_count": 87,
   "metadata": {},
   "outputs": [
    {
     "name": "stdout",
     "output_type": "stream",
     "text": [
      "Average accuracy of protocol usage against model\n"
     ]
    },
    {
     "data": {
      "text/html": [
       "<table>\n",
       "<tbody>\n",
       "<tr><td>    </td><td>SVM                </td><td>LR                 </td><td>RF                </td></tr>\n",
       "<tr><td>HTTP</td><td>0.3197709224904999 </td><td>0.2044443631740253 </td><td>0.2500314847297752</td></tr>\n",
       "<tr><td>UDP </td><td>0.33125592746316596</td><td>0.23440699746613203</td><td>0.2545578040660794</td></tr>\n",
       "<tr><td>TLS </td><td>0.2771972837253015 </td><td>0.16931541811787698</td><td>0.2495762483654274</td></tr>\n",
       "<tr><td>TCP </td><td>0.2885312903443622 </td><td>0.15721194750442835</td><td>0.1881243454546267</td></tr>\n",
       "</tbody>\n",
       "</table>"
      ],
      "text/plain": [
       "<IPython.core.display.HTML object>"
      ]
     },
     "metadata": {},
     "output_type": "display_data"
    }
   ],
   "source": [
    "# For HTTP, TCP, UDP, TLS, plot their average accuracy on each of the 3 models\n",
    "# x-axis: protcols that uses http, tcp, udp, or tls\n",
    "# y-axis average accuracy on for models that used that protocol\n",
    "http = [d for d in x_key if d.find(\"http\") >= 0]\n",
    "udp = [d for d in x_key if d.find(\"udp\") >= 0]\n",
    "tls = [d for d in x_key if d.find(\"tls\") >= 0]\n",
    "tcp = [d for d in x_key if d.find(\"tcp\") >= 0]\n",
    "\n",
    "# print(http)\n",
    "# print(udp)\n",
    "# print(tls)\n",
    "# print(tcp)\n",
    "\n",
    "http_svm_val = [r['svm'] for k,r in results.items() if k in http]\n",
    "udp_svm_val = [r['svm'] for k,r in results.items() if k in udp]\n",
    "tls_svm_val = [r['svm'] for k,r in results.items() if k in tls]\n",
    "tcp_svm_val = [r['svm'] for k,r in results.items() if k in tcp]\n",
    "\n",
    "http_lr_val = [r['lr'] for k,r in results.items() if k in http]\n",
    "udp_lr_val = [r['lr'] for k,r in results.items() if k in udp]\n",
    "tls_lr_val = [r['lr'] for k,r in results.items() if k in tls]\n",
    "tcp_lr_val = [r['lr'] for k,r in results.items() if k in tcp]\n",
    "\n",
    "http_rf_val = [r['rf'] for k,r in results.items() if k in http]\n",
    "udp_rf_val = [r['rf'] for k,r in results.items() if k in udp]\n",
    "tls_rf_val = [r['rf'] for k,r in results.items() if k in tls]\n",
    "tcp_rf_val = [r['rf'] for k,r in results.items() if k in tcp]\n",
    "\n",
    "http_svm_av = np.mean(list(map(lambda x: float(x), http_svm_val)))\n",
    "http_lr_av = np.mean(list(map(lambda x: float(x), http_lr_val)))\n",
    "http_rf_av = np.mean(list(map(lambda x: float(x), http_rf_val)))\n",
    "\n",
    "udp_svm_av = np.mean(list(map(lambda x: float(x), udp_svm_val)))\n",
    "udp_lr_av = np.mean(list(map(lambda x: float(x), udp_lr_val)))\n",
    "udp_rf_av = np.mean(list(map(lambda x: float(x), udp_rf_val)))\n",
    "\n",
    "tls_svm_av = np.mean(list(map(lambda x: float(x), tls_svm_val)))\n",
    "tls_lr_av = np.mean(list(map(lambda x: float(x), tls_lr_val)))\n",
    "tls_rf_av = np.mean(list(map(lambda x: float(x), tls_rf_val)))\n",
    "\n",
    "tcp_svm_av = np.mean(list(map(lambda x: float(x), tcp_svm_val)))\n",
    "tcp_lr_av = np.mean(list(map(lambda x: float(x), tcp_lr_val)))\n",
    "tcp_rf_av = np.mean(list(map(lambda x: float(x), tcp_rf_val)))\n",
    "\n",
    "\n",
    "from IPython.display import HTML, display\n",
    "import tabulate\n",
    "table = [[\"\",\"SVM\",\"LR\", \"RF\"],\n",
    "         [\"HTTP\", http_svm_av, http_lr_av, http_rf_av],\n",
    "         [\"UDP\", udp_svm_av, udp_lr_av, udp_rf_av],\n",
    "         [\"TLS\", tls_svm_av, tls_lr_av, tls_rf_av],\n",
    "         [\"TCP\",tcp_svm_av, tcp_lr_av, tcp_rf_av]\n",
    "        ]\n",
    "\n",
    "print(\"Average accuracy of protocol usage against model\")\n",
    "display(HTML(tabulate.tabulate(table, tablefmt='html', floatfmt=(\".4f\", \".4f\", \".4f\"))))\n",
    "\n",
    "# We would also want to normalize it by the average proportion of protocol packtes in each dataset that the protocol was part of"
   ]
  },
  {
   "cell_type": "markdown",
   "metadata": {},
   "source": [
    "From the table above, it seems like HTTP and UDP plays a big role in SVM. \n",
    "\n",
    "However, findings in this table must be taken with a grain of salt as protocol usage is very skewed in the data i.e. a data collection might have 4 HTTP packets and hundreds of UDP.\n",
    "\n"
   ]
  },
  {
   "cell_type": "markdown",
   "metadata": {},
   "source": [
    "## Next steps"
   ]
  },
  {
   "cell_type": "markdown",
   "metadata": {},
   "source": [
    "At this point, we should verify why LR with UDP provides the best results. Our theory is that TCP data has too much noise where a lot of different services are also using TCP. Additionally, we guess that most of the UDP traffic is generated by the website. Hence manual selection of the UDP protocol data provides the best results as it minimizes the noise. "
   ]
  },
  {
   "cell_type": "markdown",
   "metadata": {},
   "source": [
    "TODO: check the distribution of UDP packets across each website "
   ]
  },
  {
   "cell_type": "markdown",
   "metadata": {},
   "source": [
    "### Community data model"
   ]
  },
  {
   "cell_type": "markdown",
   "metadata": {},
   "source": [
    "#### HTTP"
   ]
  },
  {
   "cell_type": "code",
   "execution_count": 4,
   "metadata": {},
   "outputs": [
    {
     "name": "stdout",
     "output_type": "stream",
     "text": [
      "RF acc: 0.06477577615944806\n",
      "SVM acc: 0.05672671521655807\n"
     ]
    }
   ],
   "source": [
    "# Community data import (make sure to have path with access to parsed community data)\n",
    "path=\"community_data/parsed_on_device/http/\"\n",
    "day_one=\"day_1\"\n",
    "day_two=\"day_2\"\n",
    "day_three=\"day_3\"\n",
    "file=\"_fixed.csv\"\n",
    "col_names = [\"website-index\", \"time\", \"direction\", \"packet size\"]\n",
    "\n",
    "df_one = pd.read_csv(path+day_one+file, header=0, names=col_names, error_bad_lines=False, warn_bad_lines=False)\n",
    "df_two = pd.read_csv(path+day_two+file, header=0, names=col_names, error_bad_lines=False, warn_bad_lines=False)\n",
    "df_three = pd.read_csv(path+day_three+file, header=0, names=col_names, error_bad_lines=False, warn_bad_lines=False)\n",
    "\n",
    "# Preprocess training data\n",
    "df = df_one.append(df_two)\n",
    "X = df.loc[:, df.columns != 'website-index']\n",
    "y = df['website-index']\n",
    "\n",
    "# Preprocess testing data\n",
    "X_test = df_three.loc[:, df_three.columns != 'website-index']\n",
    "y_test = df_three['website-index']\n",
    "\n",
    "# Model training\n",
    "clf = RandomForestClassifier()\n",
    "clf.fit(X,y)\n",
    "\n",
    "svm_model = svm.SVC()\n",
    "svm_model.fit(X, y)\n",
    "\n",
    "# Evaluate\n",
    "rf_acc = clf.score(X_test, y_test)\n",
    "svm_acc = svm_model.score(X_test, y_test)\n",
    "\n",
    "print(\"RF acc: \" + str(rf_acc))\n",
    "print(\"SVM acc: \" + str(svm_acc))"
   ]
  },
  {
   "cell_type": "markdown",
   "metadata": {},
   "source": [
    "#### TLS"
   ]
  },
  {
   "cell_type": "code",
   "execution_count": 6,
   "metadata": {},
   "outputs": [],
   "source": [
    "path=\"community_data/parsed_on_device/tls/\"\n",
    "day_one=\"day_1\"\n",
    "day_two=\"day_2\"\n",
    "day_three=\"day_3\"\n",
    "file=\"_fixed.csv\"\n",
    "col_names = [\"website-index\", \"time\", \"direction\", \"packet size\"]\n",
    "\n",
    "df_one = pd.read_csv(path+day_one+file, header=0, names=col_names, error_bad_lines=False, warn_bad_lines=False)\n",
    "df_two = pd.read_csv(path+day_two+file, header=0, names=col_names, error_bad_lines=False, warn_bad_lines=False)\n",
    "df_three = pd.read_csv(path+day_three+file, header=0, names=col_names, error_bad_lines=False, warn_bad_lines=False)\n",
    "\n",
    "# Preprocess training data\n",
    "df = df_one.append(df_two)\n",
    "X = df.loc[:, df.columns != 'website-index']\n",
    "y = df['website-index']\n",
    "\n",
    "# Preprocess testing data\n",
    "X_test = df_three.loc[:, df_three.columns != 'website-index']\n",
    "y_test = df_three['website-index']\n",
    "\n",
    "# Model training\n",
    "clf = RandomForestClassifier()\n",
    "clf.fit(X,y)\n",
    "\n",
    "# Evaluate\n",
    "rf_acc = clf.score(X_test, y_test)\n",
    "\n",
    "print(\"RF acc: \" + str(rf_acc))"
   ]
  },
  {
   "cell_type": "markdown",
   "metadata": {},
   "source": [
    "### Feature Engineering\n",
    "\n",
    "Here we are going to add features from the papers & re-train/test the models to see their effect"
   ]
  },
  {
   "cell_type": "code",
   "execution_count": 95,
   "metadata": {},
   "outputs": [],
   "source": [
    "path = \"collection/\"\n",
    "folder = \"df_http_udp/\" # specify which packet protocol config you want here\n",
    "\n",
    "df_one = pd.read_csv(path+folder+\"Day1-parsed-ondevice.csv\", header=0, names=col_names, error_bad_lines=False, warn_bad_lines=False, quotechar='^')\n",
    "df_two = pd.read_csv(path+folder+\"Day2-parsed-ondevice.csv\", header=0, names=col_names, error_bad_lines=False, warn_bad_lines=False, quotechar='^')\n",
    "df_three = pd.read_csv(path+folder+\"Day3-parsed-ondevice.csv\", header=0, names=col_names, error_bad_lines=False, warn_bad_lines=False, quotechar='^')"
   ]
  },
  {
   "cell_type": "markdown",
   "metadata": {},
   "source": [
    "#### fingerprinting-ndss2016; cumulative representation of trace"
   ]
  },
  {
   "cell_type": "code",
   "execution_count": 96,
   "metadata": {},
   "outputs": [],
   "source": [
    "def directional_packet_size(x):\n",
    "    if (x['direction'] == 1):\n",
    "        return -x['packet size']\n",
    "    else:\n",
    "        return x['packet size']"
   ]
  },
  {
   "cell_type": "code",
   "execution_count": 97,
   "metadata": {},
   "outputs": [],
   "source": [
    "def cum_trace(df):    \n",
    "    # Create a directional packet size column p_i (negative values if outbound)\n",
    "    df.insert(4, 'p_i', df['packet size'])\n",
    "    df['p_i'] = df.apply(directional_packet_size, axis=1)\n",
    "\n",
    "    # Create cumulative packet size trace using directional packet sizes\n",
    "    df['c_i'] = df.groupby('website-index')['p_i'].cumsum(axis=None)\n",
    "\n",
    "    return df"
   ]
  },
  {
   "cell_type": "code",
   "execution_count": 98,
   "metadata": {},
   "outputs": [],
   "source": [
    "df_one = cum_trace(df_one)\n",
    "df_two = cum_trace(df_two)\n",
    "df_three = cum_trace(df_three)"
   ]
  },
  {
   "cell_type": "code",
   "execution_count": 103,
   "metadata": {},
   "outputs": [
    {
     "name": "stdout",
     "output_type": "stream",
     "text": [
      "RF acc: 0.7770259008633621\n",
      "KNN acc: 0.6978565952198407\n"
     ]
    }
   ],
   "source": [
    "# Preprocess training data\n",
    "df = df_one.append(df_two)\n",
    "X = df.loc[:, df.columns != 'website-index']\n",
    "y = df['website-index']\n",
    "\n",
    "# Preprocess testing data\n",
    "X_test = df_three.loc[:, df_three.columns != 'website-index']\n",
    "y_test = df_three['website-index']\n",
    "\n",
    "# Model training\n",
    "clf = RandomForestClassifier()\n",
    "clf.fit(X,y)\n",
    "\n",
    "knn = KNeighborsClassifier(n_neighbors=20)\n",
    "knn.fit(X,y)\n",
    "\n",
    "# Evaluate\n",
    "rf_acc = clf.score(X_test, y_test)\n",
    "knn_acc = knn.score(X_test, y_test)\n",
    "\n",
    "print(\"RF acc: \" + str(rf_acc))\n",
    "print(\"KNN acc: \" + str(knn_acc))"
   ]
  },
  {
   "cell_type": "markdown",
   "metadata": {},
   "source": [
    "#### Experimenting:"
   ]
  },
  {
   "cell_type": "code",
   "execution_count": 57,
   "metadata": {},
   "outputs": [
    {
     "data": {
      "text/html": [
       "<div>\n",
       "<style scoped>\n",
       "    .dataframe tbody tr th:only-of-type {\n",
       "        vertical-align: middle;\n",
       "    }\n",
       "\n",
       "    .dataframe tbody tr th {\n",
       "        vertical-align: top;\n",
       "    }\n",
       "\n",
       "    .dataframe thead th {\n",
       "        text-align: right;\n",
       "    }\n",
       "</style>\n",
       "<table border=\"1\" class=\"dataframe\">\n",
       "  <thead>\n",
       "    <tr style=\"text-align: right;\">\n",
       "      <th></th>\n",
       "      <th>website-index</th>\n",
       "      <th>time</th>\n",
       "      <th>direction</th>\n",
       "      <th>packet size</th>\n",
       "      <th>p_i</th>\n",
       "      <th>c_i</th>\n",
       "    </tr>\n",
       "  </thead>\n",
       "  <tbody>\n",
       "    <tr>\n",
       "      <th>0</th>\n",
       "      <td>youtube</td>\n",
       "      <td>0.00000</td>\n",
       "      <td>1</td>\n",
       "      <td>583</td>\n",
       "      <td>-583</td>\n",
       "      <td>-583</td>\n",
       "    </tr>\n",
       "    <tr>\n",
       "      <th>1</th>\n",
       "      <td>youtube</td>\n",
       "      <td>0.01434</td>\n",
       "      <td>0</td>\n",
       "      <td>1484</td>\n",
       "      <td>1484</td>\n",
       "      <td>901</td>\n",
       "    </tr>\n",
       "    <tr>\n",
       "      <th>2</th>\n",
       "      <td>youtube</td>\n",
       "      <td>0.01569</td>\n",
       "      <td>0</td>\n",
       "      <td>317</td>\n",
       "      <td>317</td>\n",
       "      <td>1218</td>\n",
       "    </tr>\n",
       "    <tr>\n",
       "      <th>3</th>\n",
       "      <td>youtube</td>\n",
       "      <td>0.01675</td>\n",
       "      <td>1</td>\n",
       "      <td>130</td>\n",
       "      <td>-130</td>\n",
       "      <td>1088</td>\n",
       "    </tr>\n",
       "    <tr>\n",
       "      <th>4</th>\n",
       "      <td>youtube</td>\n",
       "      <td>0.03022</td>\n",
       "      <td>0</td>\n",
       "      <td>646</td>\n",
       "      <td>646</td>\n",
       "      <td>1734</td>\n",
       "    </tr>\n",
       "    <tr>\n",
       "      <th>...</th>\n",
       "      <td>...</td>\n",
       "      <td>...</td>\n",
       "      <td>...</td>\n",
       "      <td>...</td>\n",
       "      <td>...</td>\n",
       "      <td>...</td>\n",
       "    </tr>\n",
       "    <tr>\n",
       "      <th>28691</th>\n",
       "      <td>quizlet</td>\n",
       "      <td>2.99395</td>\n",
       "      <td>0</td>\n",
       "      <td>100</td>\n",
       "      <td>100</td>\n",
       "      <td>380745</td>\n",
       "    </tr>\n",
       "    <tr>\n",
       "      <th>28692</th>\n",
       "      <td>quizlet</td>\n",
       "      <td>3.00749</td>\n",
       "      <td>0</td>\n",
       "      <td>1484</td>\n",
       "      <td>1484</td>\n",
       "      <td>382229</td>\n",
       "    </tr>\n",
       "    <tr>\n",
       "      <th>28693</th>\n",
       "      <td>quizlet</td>\n",
       "      <td>3.00775</td>\n",
       "      <td>0</td>\n",
       "      <td>138</td>\n",
       "      <td>138</td>\n",
       "      <td>382367</td>\n",
       "    </tr>\n",
       "    <tr>\n",
       "      <th>28694</th>\n",
       "      <td>quizlet</td>\n",
       "      <td>3.00890</td>\n",
       "      <td>1</td>\n",
       "      <td>130</td>\n",
       "      <td>-130</td>\n",
       "      <td>382237</td>\n",
       "    </tr>\n",
       "    <tr>\n",
       "      <th>28695</th>\n",
       "      <td>quizlet</td>\n",
       "      <td>3.02099</td>\n",
       "      <td>0</td>\n",
       "      <td>646</td>\n",
       "      <td>646</td>\n",
       "      <td>382883</td>\n",
       "    </tr>\n",
       "  </tbody>\n",
       "</table>\n",
       "<p>28696 rows × 6 columns</p>\n",
       "</div>"
      ],
      "text/plain": [
       "      website-index     time  direction  packet size   p_i     c_i\n",
       "0           youtube  0.00000          1          583  -583    -583\n",
       "1           youtube  0.01434          0         1484  1484     901\n",
       "2           youtube  0.01569          0          317   317    1218\n",
       "3           youtube  0.01675          1          130  -130    1088\n",
       "4           youtube  0.03022          0          646   646    1734\n",
       "...             ...      ...        ...          ...   ...     ...\n",
       "28691       quizlet  2.99395          0          100   100  380745\n",
       "28692       quizlet  3.00749          0         1484  1484  382229\n",
       "28693       quizlet  3.00775          0          138   138  382367\n",
       "28694       quizlet  3.00890          1          130  -130  382237\n",
       "28695       quizlet  3.02099          0          646   646  382883\n",
       "\n",
       "[28696 rows x 6 columns]"
      ]
     },
     "execution_count": 57,
     "metadata": {},
     "output_type": "execute_result"
    }
   ],
   "source": [
    "# working on youtube only, can generalize later\n",
    "youtube = df_one.loc[df_one['website-index'] == 'youtube']\n",
    "\n",
    "# Create a directional packet size column p_i (negative values if outbound)\n",
    "youtube.insert(4, 'p_i', youtube['packet size'])\n",
    "youtube['p_i'] = youtube.apply(directional_packet_size, axis=1)\n",
    "\n",
    "# Create cumulative packet size trace using directional packet sizes\n",
    "youtube.insert(5, 'c_i', youtube['p_i'].cumsum(axis=None))\n",
    "\n",
    "youtube"
   ]
  },
  {
   "cell_type": "code",
   "execution_count": null,
   "metadata": {},
   "outputs": [],
   "source": []
  }
 ],
 "metadata": {
  "kernelspec": {
   "display_name": "Python 3",
   "language": "python",
   "name": "python3"
  },
  "language_info": {
   "codemirror_mode": {
    "name": "ipython",
    "version": 3
   },
   "file_extension": ".py",
   "mimetype": "text/x-python",
   "name": "python",
   "nbconvert_exporter": "python",
   "pygments_lexer": "ipython3",
   "version": "3.7.7"
  }
 },
 "nbformat": 4,
 "nbformat_minor": 2
}
