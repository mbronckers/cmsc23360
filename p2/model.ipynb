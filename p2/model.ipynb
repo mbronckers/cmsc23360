{
 "cells": [
  {
   "cell_type": "code",
   "execution_count": 1,
   "metadata": {},
   "outputs": [],
   "source": [
    "import numpy as np\n",
    "import matplotlib.pyplot as plt\n",
    "import pandas as pd\n",
    "import os \n",
    "from joblib import dump, load\n",
    "\n",
    "from sklearn.ensemble import RandomForestClassifier\n",
    "from sklearn import svm\n",
    "from sklearn.linear_model import LogisticRegression"
   ]
  },
  {
   "cell_type": "code",
   "execution_count": null,
   "metadata": {},
   "outputs": [
    {
     "name": "stdout",
     "output_type": "stream",
     "text": [
      "all\n"
     ]
    },
    {
     "name": "stderr",
     "output_type": "stream",
     "text": [
      "C:\\ProgramData\\Anaconda3\\lib\\site-packages\\sklearn\\ensemble\\forest.py:246: FutureWarning: The default value of n_estimators will change from 10 in version 0.20 to 100 in 0.22.\n",
      "  \"10 in version 0.20 to 100 in 0.22.\", FutureWarning)\n"
     ]
    },
    {
     "name": "stdout",
     "output_type": "stream",
     "text": [
      "RF acc: 0.20582571253629342\n",
      "{'all': {'rf': '0.20582571253629342'}}\n"
     ]
    },
    {
     "name": "stderr",
     "output_type": "stream",
     "text": [
      "C:\\ProgramData\\Anaconda3\\lib\\site-packages\\sklearn\\svm\\base.py:196: FutureWarning: The default value of gamma will change from 'auto' to 'scale' in version 0.22 to account better for unscaled features. Set gamma explicitly to 'auto' or 'scale' to avoid this warning.\n",
      "  \"avoid this warning.\", FutureWarning)\n"
     ]
    },
    {
     "name": "stdout",
     "output_type": "stream",
     "text": [
      "[LibSVM]"
     ]
    }
   ],
   "source": [
    "# We want to loop over the folders in /collection\n",
    "# load up the dataframes in each of them\n",
    "# Train the model\n",
    "# Dump it out \n",
    "\n",
    "path = '../../p2/collection'\n",
    "col_names = [\"website-index\", \"time\", \"direction\", \"packet size\"]\n",
    "folders = []\n",
    "for r, d, f in os.walk(path):\n",
    "    for folder in d:\n",
    "        folders.append(folder)\n",
    "\n",
    "results = {}\n",
    "\n",
    "for folder in folders:\n",
    "    if (folder == \"raw\"):\n",
    "        continue \n",
    "    results[folder] = {} # Goddam python dictionaries\n",
    "    print(folder)\n",
    "    df_one = pd.read_csv(path+\"/\"+folder+\"/\"+\"Day1-parsed-ondevice.csv\", header=0, names=col_names, error_bad_lines=False, warn_bad_lines=False, quotechar='^')\n",
    "    df_two = pd.read_csv(path+\"/\"+folder+\"/\"+\"Day2-parsed-ondevice.csv\", header=0, names=col_names, error_bad_lines=False, warn_bad_lines=False, quotechar='^')\n",
    "    df_three = pd.read_csv(path+\"/\"+folder+\"/\"+\"Day3-parsed-ondevice.csv\", header=0, names=col_names, error_bad_lines=False, warn_bad_lines=False, quotechar='^')\n",
    "    \n",
    "    # Preprocess training data\n",
    "    df = df_one.append(df_two)\n",
    "    X = df.loc[:, df.columns != 'website-index']\n",
    "    y = df['website-index']\n",
    "    \n",
    "    # Preprocess testing data\n",
    "    X_test = df_three.loc[:, df_three.columns != 'website-index']\n",
    "    y_test = df_three['website-index']\n",
    "    \n",
    "    outpath = './models/' + folder + \"/\"\n",
    "    if not os.path.exists(outpath):\n",
    "        os.mkdir(outpath)    \n",
    "\n",
    "    # Model training\n",
    "    clf = RandomForestClassifier()\n",
    "    clf.fit(X,y)\n",
    "    rf_acc = clf.score(X_test, y_test)\n",
    "    print(\"RF acc: \" + str(rf_acc))\n",
    "    results[folder][\"rf\"] = str(rf_acc)\n",
    "    dump(clf, outpath + 'rf_model.joblib')\n",
    "    print(results)\n",
    "\n",
    "    \n",
    "    \n",
    "    svm_model = svm.SVC(verbose=True)\n",
    "    svm_model.fit(X, y)\n",
    "    svm_acc = svm_model.score(X_test, y_test)\n",
    "    print(\"SVM acc: \" + str(svm_acc))\n",
    "    results[folder][\"svm\"] = str(svm_acc)\n",
    "    dump(svm_model, outpath + 'svm_model.joblib')\n",
    "    print(results)\n",
    "\n",
    "    \n",
    "    \n",
    "    lr = LogisticRegression(random_state=0, max_iter=10e5)\n",
    "    lr.fit(X, y)\n",
    "    lr_acc = lr.score(X_test, y_test)\n",
    "    print(\"Logistic Reg acc: \" + str(lr_acc))\n",
    "    results[folder][\"lr\"] = str(lr_acc)\n",
    "    dump(lr, outpath + \"lr_model.joblib\")\n",
    "    print(results)"
   ]
  },
  {
   "cell_type": "code",
   "execution_count": null,
   "metadata": {},
   "outputs": [],
   "source": []
  }
 ],
 "metadata": {
  "kernelspec": {
   "display_name": "Python 3",
   "language": "python",
   "name": "python3"
  },
  "language_info": {
   "codemirror_mode": {
    "name": "ipython",
    "version": 3
   },
   "file_extension": ".py",
   "mimetype": "text/x-python",
   "name": "python",
   "nbconvert_exporter": "python",
   "pygments_lexer": "ipython3",
   "version": "3.6.8"
  }
 },
 "nbformat": 4,
 "nbformat_minor": 2
}
