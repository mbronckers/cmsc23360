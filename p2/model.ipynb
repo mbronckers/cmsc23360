{
 "cells": [
  {
   "cell_type": "code",
   "execution_count": 45,
   "metadata": {},
   "outputs": [],
   "source": [
    "import numpy as np\n",
    "import matplotlib.pyplot as plt\n",
    "import pandas as pd\n",
    "import os \n",
    "from joblib import dump, load\n",
    "import re\n",
    "import numpy as np\n",
    "import warnings\n",
    "warnings.filterwarnings('ignore')\n",
    "\n",
    "from sklearn.ensemble import RandomForestClassifier\n",
    "from sklearn import svm\n",
    "from sklearn.linear_model import LogisticRegression\n",
    "from sklearn.neighbors import KNeighborsClassifier\n",
    "from sklearn.metrics import plot_confusion_matrix"
   ]
  },
  {
   "cell_type": "markdown",
   "metadata": {},
   "source": [
    "### Local data models"
   ]
  },
  {
   "cell_type": "code",
   "execution_count": 2,
   "metadata": {},
   "outputs": [
    {
     "name": "stdout",
     "output_type": "stream",
     "text": [
      "all\n"
     ]
    },
    {
     "name": "stderr",
     "output_type": "stream",
     "text": [
      "C:\\ProgramData\\Anaconda3\\lib\\site-packages\\sklearn\\ensemble\\forest.py:246: FutureWarning: The default value of n_estimators will change from 10 in version 0.20 to 100 in 0.22.\n",
      "  \"10 in version 0.20 to 100 in 0.22.\", FutureWarning)\n"
     ]
    },
    {
     "name": "stdout",
     "output_type": "stream",
     "text": [
      "RF acc: 0.20282841849532876\n",
      "{'all': {'rf': '0.20282841849532876'}}\n",
      "[LibSVM]"
     ]
    },
    {
     "name": "stderr",
     "output_type": "stream",
     "text": [
      "C:\\ProgramData\\Anaconda3\\lib\\site-packages\\sklearn\\svm\\base.py:196: FutureWarning: The default value of gamma will change from 'auto' to 'scale' in version 0.22 to account better for unscaled features. Set gamma explicitly to 'auto' or 'scale' to avoid this warning.\n",
      "  \"avoid this warning.\", FutureWarning)\n"
     ]
    },
    {
     "name": "stdout",
     "output_type": "stream",
     "text": [
      "SVM acc: 0.22171087716526103\n",
      "{'all': {'rf': '0.20282841849532876', 'svm': '0.22171087716526103'}}\n"
     ]
    },
    {
     "name": "stderr",
     "output_type": "stream",
     "text": [
      "C:\\ProgramData\\Anaconda3\\lib\\site-packages\\sklearn\\linear_model\\logistic.py:433: FutureWarning: Default solver will be changed to 'lbfgs' in 0.22. Specify a solver to silence this warning.\n",
      "  FutureWarning)\n",
      "C:\\ProgramData\\Anaconda3\\lib\\site-packages\\sklearn\\linear_model\\logistic.py:460: FutureWarning: Default multi_class will be changed to 'auto' in 0.22. Specify the multi_class option to silence this warning.\n",
      "  \"this warning.\", FutureWarning)\n",
      "C:\\ProgramData\\Anaconda3\\lib\\site-packages\\sklearn\\linear_model\\logistic.py:1300: UserWarning: 'n_jobs' > 1 does not have any effect when 'solver' is set to 'liblinear'. Got 'n_jobs' = 12.\n",
      "  \" = {}.\".format(effective_n_jobs(self.n_jobs)))\n"
     ]
    },
    {
     "name": "stdout",
     "output_type": "stream",
     "text": [
      "Logistic Reg acc: 0.1613749037113117\n",
      "{'all': {'rf': '0.20282841849532876', 'svm': '0.22171087716526103', 'lr': '0.1613749037113117'}}\n",
      "df_http\n"
     ]
    },
    {
     "name": "stderr",
     "output_type": "stream",
     "text": [
      "C:\\ProgramData\\Anaconda3\\lib\\site-packages\\sklearn\\ensemble\\forest.py:246: FutureWarning: The default value of n_estimators will change from 10 in version 0.20 to 100 in 0.22.\n",
      "  \"10 in version 0.20 to 100 in 0.22.\", FutureWarning)\n"
     ]
    },
    {
     "name": "stdout",
     "output_type": "stream",
     "text": [
      "RF acc: 0.32978723404255317\n",
      "{'all': {'rf': '0.20282841849532876', 'svm': '0.22171087716526103', 'lr': '0.1613749037113117'}, 'df_http': {'rf': '0.32978723404255317'}}\n",
      "[LibSVM]SVM acc: 0.3404255319148936\n",
      "{'all': {'rf': '0.20282841849532876', 'svm': '0.22171087716526103', 'lr': '0.1613749037113117'}, 'df_http': {'rf': '0.32978723404255317', 'svm': '0.3404255319148936'}}\n",
      "Logistic Reg acc: 0.21808510638297873\n",
      "{'all': {'rf': '0.20282841849532876', 'svm': '0.22171087716526103', 'lr': '0.1613749037113117'}, 'df_http': {'rf': '0.32978723404255317', 'svm': '0.3404255319148936', 'lr': '0.21808510638297873'}}\n",
      "df_http_tcp\n"
     ]
    },
    {
     "name": "stderr",
     "output_type": "stream",
     "text": [
      "C:\\ProgramData\\Anaconda3\\lib\\site-packages\\sklearn\\svm\\base.py:196: FutureWarning: The default value of gamma will change from 'auto' to 'scale' in version 0.22 to account better for unscaled features. Set gamma explicitly to 'auto' or 'scale' to avoid this warning.\n",
      "  \"avoid this warning.\", FutureWarning)\n",
      "C:\\ProgramData\\Anaconda3\\lib\\site-packages\\sklearn\\linear_model\\logistic.py:433: FutureWarning: Default solver will be changed to 'lbfgs' in 0.22. Specify a solver to silence this warning.\n",
      "  FutureWarning)\n",
      "C:\\ProgramData\\Anaconda3\\lib\\site-packages\\sklearn\\linear_model\\logistic.py:460: FutureWarning: Default multi_class will be changed to 'auto' in 0.22. Specify the multi_class option to silence this warning.\n",
      "  \"this warning.\", FutureWarning)\n",
      "C:\\ProgramData\\Anaconda3\\lib\\site-packages\\sklearn\\linear_model\\logistic.py:1300: UserWarning: 'n_jobs' > 1 does not have any effect when 'solver' is set to 'liblinear'. Got 'n_jobs' = 12.\n",
      "  \" = {}.\".format(effective_n_jobs(self.n_jobs)))\n",
      "C:\\ProgramData\\Anaconda3\\lib\\site-packages\\sklearn\\ensemble\\forest.py:246: FutureWarning: The default value of n_estimators will change from 10 in version 0.20 to 100 in 0.22.\n",
      "  \"10 in version 0.20 to 100 in 0.22.\", FutureWarning)\n"
     ]
    },
    {
     "name": "stdout",
     "output_type": "stream",
     "text": [
      "RF acc: 0.15967685921711952\n",
      "{'all': {'rf': '0.20282841849532876', 'svm': '0.22171087716526103', 'lr': '0.1613749037113117'}, 'df_http': {'rf': '0.32978723404255317', 'svm': '0.3404255319148936', 'lr': '0.21808510638297873'}, 'df_http_tcp': {'rf': '0.15967685921711952'}}\n",
      "[LibSVM]"
     ]
    },
    {
     "name": "stderr",
     "output_type": "stream",
     "text": [
      "C:\\ProgramData\\Anaconda3\\lib\\site-packages\\sklearn\\svm\\base.py:196: FutureWarning: The default value of gamma will change from 'auto' to 'scale' in version 0.22 to account better for unscaled features. Set gamma explicitly to 'auto' or 'scale' to avoid this warning.\n",
      "  \"avoid this warning.\", FutureWarning)\n"
     ]
    },
    {
     "name": "stdout",
     "output_type": "stream",
     "text": [
      "SVM acc: 0.3526352345830095\n",
      "{'all': {'rf': '0.20282841849532876', 'svm': '0.22171087716526103', 'lr': '0.1613749037113117'}, 'df_http': {'rf': '0.32978723404255317', 'svm': '0.3404255319148936', 'lr': '0.21808510638297873'}, 'df_http_tcp': {'rf': '0.15967685921711952', 'svm': '0.3526352345830095'}}\n"
     ]
    },
    {
     "name": "stderr",
     "output_type": "stream",
     "text": [
      "C:\\ProgramData\\Anaconda3\\lib\\site-packages\\sklearn\\linear_model\\logistic.py:433: FutureWarning: Default solver will be changed to 'lbfgs' in 0.22. Specify a solver to silence this warning.\n",
      "  FutureWarning)\n",
      "C:\\ProgramData\\Anaconda3\\lib\\site-packages\\sklearn\\linear_model\\logistic.py:460: FutureWarning: Default multi_class will be changed to 'auto' in 0.22. Specify the multi_class option to silence this warning.\n",
      "  \"this warning.\", FutureWarning)\n",
      "C:\\ProgramData\\Anaconda3\\lib\\site-packages\\sklearn\\linear_model\\logistic.py:1300: UserWarning: 'n_jobs' > 1 does not have any effect when 'solver' is set to 'liblinear'. Got 'n_jobs' = 12.\n",
      "  \" = {}.\".format(effective_n_jobs(self.n_jobs)))\n"
     ]
    },
    {
     "name": "stdout",
     "output_type": "stream",
     "text": [
      "Logistic Reg acc: 0.1419901106352015\n",
      "{'all': {'rf': '0.20282841849532876', 'svm': '0.22171087716526103', 'lr': '0.1613749037113117'}, 'df_http': {'rf': '0.32978723404255317', 'svm': '0.3404255319148936', 'lr': '0.21808510638297873'}, 'df_http_tcp': {'rf': '0.15967685921711952', 'svm': '0.3526352345830095', 'lr': '0.1419901106352015'}}\n",
      "df_http_tcp_udp\n"
     ]
    },
    {
     "name": "stderr",
     "output_type": "stream",
     "text": [
      "C:\\ProgramData\\Anaconda3\\lib\\site-packages\\sklearn\\ensemble\\forest.py:246: FutureWarning: The default value of n_estimators will change from 10 in version 0.20 to 100 in 0.22.\n",
      "  \"10 in version 0.20 to 100 in 0.22.\", FutureWarning)\n"
     ]
    },
    {
     "name": "stdout",
     "output_type": "stream",
     "text": [
      "RF acc: 0.2037161108863077\n",
      "{'all': {'rf': '0.20282841849532876', 'svm': '0.22171087716526103', 'lr': '0.1613749037113117'}, 'df_http': {'rf': '0.32978723404255317', 'svm': '0.3404255319148936', 'lr': '0.21808510638297873'}, 'df_http_tcp': {'rf': '0.15967685921711952', 'svm': '0.3526352345830095', 'lr': '0.1419901106352015'}, 'df_http_tcp_udp': {'rf': '0.2037161108863077'}}\n"
     ]
    },
    {
     "name": "stderr",
     "output_type": "stream",
     "text": [
      "C:\\ProgramData\\Anaconda3\\lib\\site-packages\\sklearn\\svm\\base.py:196: FutureWarning: The default value of gamma will change from 'auto' to 'scale' in version 0.22 to account better for unscaled features. Set gamma explicitly to 'auto' or 'scale' to avoid this warning.\n",
      "  \"avoid this warning.\", FutureWarning)\n"
     ]
    },
    {
     "name": "stdout",
     "output_type": "stream",
     "text": [
      "[LibSVM]SVM acc: 0.3820788197599984\n",
      "{'all': {'rf': '0.20282841849532876', 'svm': '0.22171087716526103', 'lr': '0.1613749037113117'}, 'df_http': {'rf': '0.32978723404255317', 'svm': '0.3404255319148936', 'lr': '0.21808510638297873'}, 'df_http_tcp': {'rf': '0.15967685921711952', 'svm': '0.3526352345830095', 'lr': '0.1419901106352015'}, 'df_http_tcp_udp': {'rf': '0.2037161108863077', 'svm': '0.3820788197599984'}}\n"
     ]
    },
    {
     "name": "stderr",
     "output_type": "stream",
     "text": [
      "C:\\ProgramData\\Anaconda3\\lib\\site-packages\\sklearn\\linear_model\\logistic.py:433: FutureWarning: Default solver will be changed to 'lbfgs' in 0.22. Specify a solver to silence this warning.\n",
      "  FutureWarning)\n",
      "C:\\ProgramData\\Anaconda3\\lib\\site-packages\\sklearn\\linear_model\\logistic.py:460: FutureWarning: Default multi_class will be changed to 'auto' in 0.22. Specify the multi_class option to silence this warning.\n",
      "  \"this warning.\", FutureWarning)\n",
      "C:\\ProgramData\\Anaconda3\\lib\\site-packages\\sklearn\\linear_model\\logistic.py:1300: UserWarning: 'n_jobs' > 1 does not have any effect when 'solver' is set to 'liblinear'. Got 'n_jobs' = 12.\n",
      "  \" = {}.\".format(effective_n_jobs(self.n_jobs)))\n"
     ]
    },
    {
     "name": "stdout",
     "output_type": "stream",
     "text": [
      "Logistic Reg acc: 0.17080046965485676\n",
      "{'all': {'rf': '0.20282841849532876', 'svm': '0.22171087716526103', 'lr': '0.1613749037113117'}, 'df_http': {'rf': '0.32978723404255317', 'svm': '0.3404255319148936', 'lr': '0.21808510638297873'}, 'df_http_tcp': {'rf': '0.15967685921711952', 'svm': '0.3526352345830095', 'lr': '0.1419901106352015'}, 'df_http_tcp_udp': {'rf': '0.2037161108863077', 'svm': '0.3820788197599984', 'lr': '0.17080046965485676'}}\n",
      "df_http_tls\n"
     ]
    },
    {
     "name": "stderr",
     "output_type": "stream",
     "text": [
      "C:\\ProgramData\\Anaconda3\\lib\\site-packages\\sklearn\\ensemble\\forest.py:246: FutureWarning: The default value of n_estimators will change from 10 in version 0.20 to 100 in 0.22.\n",
      "  \"10 in version 0.20 to 100 in 0.22.\", FutureWarning)\n"
     ]
    },
    {
     "name": "stdout",
     "output_type": "stream",
     "text": [
      "RF acc: 0.3097651891070538\n",
      "{'all': {'rf': '0.20282841849532876', 'svm': '0.22171087716526103', 'lr': '0.1613749037113117'}, 'df_http': {'rf': '0.32978723404255317', 'svm': '0.3404255319148936', 'lr': '0.21808510638297873'}, 'df_http_tcp': {'rf': '0.15967685921711952', 'svm': '0.3526352345830095', 'lr': '0.1419901106352015'}, 'df_http_tcp_udp': {'rf': '0.2037161108863077', 'svm': '0.3820788197599984', 'lr': '0.17080046965485676'}, 'df_http_tls': {'rf': '0.3097651891070538'}}\n",
      "[LibSVM]"
     ]
    },
    {
     "name": "stderr",
     "output_type": "stream",
     "text": [
      "C:\\ProgramData\\Anaconda3\\lib\\site-packages\\sklearn\\svm\\base.py:196: FutureWarning: The default value of gamma will change from 'auto' to 'scale' in version 0.22 to account better for unscaled features. Set gamma explicitly to 'auto' or 'scale' to avoid this warning.\n",
      "  \"avoid this warning.\", FutureWarning)\n"
     ]
    },
    {
     "name": "stdout",
     "output_type": "stream",
     "text": [
      "SVM acc: 0.3443101688074266\n",
      "{'all': {'rf': '0.20282841849532876', 'svm': '0.22171087716526103', 'lr': '0.1613749037113117'}, 'df_http': {'rf': '0.32978723404255317', 'svm': '0.3404255319148936', 'lr': '0.21808510638297873'}, 'df_http_tcp': {'rf': '0.15967685921711952', 'svm': '0.3526352345830095', 'lr': '0.1419901106352015'}, 'df_http_tcp_udp': {'rf': '0.2037161108863077', 'svm': '0.3820788197599984', 'lr': '0.17080046965485676'}, 'df_http_tls': {'rf': '0.3097651891070538', 'svm': '0.3443101688074266'}}\n"
     ]
    },
    {
     "name": "stderr",
     "output_type": "stream",
     "text": [
      "C:\\ProgramData\\Anaconda3\\lib\\site-packages\\sklearn\\linear_model\\logistic.py:433: FutureWarning: Default solver will be changed to 'lbfgs' in 0.22. Specify a solver to silence this warning.\n",
      "  FutureWarning)\n",
      "C:\\ProgramData\\Anaconda3\\lib\\site-packages\\sklearn\\linear_model\\logistic.py:460: FutureWarning: Default multi_class will be changed to 'auto' in 0.22. Specify the multi_class option to silence this warning.\n",
      "  \"this warning.\", FutureWarning)\n",
      "C:\\ProgramData\\Anaconda3\\lib\\site-packages\\sklearn\\linear_model\\logistic.py:1300: UserWarning: 'n_jobs' > 1 does not have any effect when 'solver' is set to 'liblinear'. Got 'n_jobs' = 12.\n",
      "  \" = {}.\".format(effective_n_jobs(self.n_jobs)))\n"
     ]
    },
    {
     "name": "stdout",
     "output_type": "stream",
     "text": [
      "Logistic Reg acc: 0.1738170421899855\n",
      "{'all': {'rf': '0.20282841849532876', 'svm': '0.22171087716526103', 'lr': '0.1613749037113117'}, 'df_http': {'rf': '0.32978723404255317', 'svm': '0.3404255319148936', 'lr': '0.21808510638297873'}, 'df_http_tcp': {'rf': '0.15967685921711952', 'svm': '0.3526352345830095', 'lr': '0.1419901106352015'}, 'df_http_tcp_udp': {'rf': '0.2037161108863077', 'svm': '0.3820788197599984', 'lr': '0.17080046965485676'}, 'df_http_tls': {'rf': '0.3097651891070538', 'svm': '0.3443101688074266', 'lr': '0.1738170421899855'}}\n",
      "df_http_tls_tcp\n"
     ]
    },
    {
     "name": "stderr",
     "output_type": "stream",
     "text": [
      "C:\\ProgramData\\Anaconda3\\lib\\site-packages\\sklearn\\ensemble\\forest.py:246: FutureWarning: The default value of n_estimators will change from 10 in version 0.20 to 100 in 0.22.\n",
      "  \"10 in version 0.20 to 100 in 0.22.\", FutureWarning)\n"
     ]
    },
    {
     "name": "stdout",
     "output_type": "stream",
     "text": [
      "RF acc: 0.18547421547378568\n",
      "{'all': {'rf': '0.20282841849532876', 'svm': '0.22171087716526103', 'lr': '0.1613749037113117'}, 'df_http': {'rf': '0.32978723404255317', 'svm': '0.3404255319148936', 'lr': '0.21808510638297873'}, 'df_http_tcp': {'rf': '0.15967685921711952', 'svm': '0.3526352345830095', 'lr': '0.1419901106352015'}, 'df_http_tcp_udp': {'rf': '0.2037161108863077', 'svm': '0.3820788197599984', 'lr': '0.17080046965485676'}, 'df_http_tls': {'rf': '0.3097651891070538', 'svm': '0.3443101688074266', 'lr': '0.1738170421899855'}, 'df_http_tls_tcp': {'rf': '0.18547421547378568'}}\n"
     ]
    },
    {
     "name": "stderr",
     "output_type": "stream",
     "text": [
      "C:\\ProgramData\\Anaconda3\\lib\\site-packages\\sklearn\\svm\\base.py:196: FutureWarning: The default value of gamma will change from 'auto' to 'scale' in version 0.22 to account better for unscaled features. Set gamma explicitly to 'auto' or 'scale' to avoid this warning.\n",
      "  \"avoid this warning.\", FutureWarning)\n"
     ]
    },
    {
     "name": "stdout",
     "output_type": "stream",
     "text": [
      "[LibSVM]SVM acc: 0.1963357053828537\n",
      "{'all': {'rf': '0.20282841849532876', 'svm': '0.22171087716526103', 'lr': '0.1613749037113117'}, 'df_http': {'rf': '0.32978723404255317', 'svm': '0.3404255319148936', 'lr': '0.21808510638297873'}, 'df_http_tcp': {'rf': '0.15967685921711952', 'svm': '0.3526352345830095', 'lr': '0.1419901106352015'}, 'df_http_tcp_udp': {'rf': '0.2037161108863077', 'svm': '0.3820788197599984', 'lr': '0.17080046965485676'}, 'df_http_tls': {'rf': '0.3097651891070538', 'svm': '0.3443101688074266', 'lr': '0.1738170421899855'}, 'df_http_tls_tcp': {'rf': '0.18547421547378568', 'svm': '0.1963357053828537'}}\n"
     ]
    },
    {
     "name": "stderr",
     "output_type": "stream",
     "text": [
      "C:\\ProgramData\\Anaconda3\\lib\\site-packages\\sklearn\\linear_model\\logistic.py:433: FutureWarning: Default solver will be changed to 'lbfgs' in 0.22. Specify a solver to silence this warning.\n",
      "  FutureWarning)\n",
      "C:\\ProgramData\\Anaconda3\\lib\\site-packages\\sklearn\\linear_model\\logistic.py:460: FutureWarning: Default multi_class will be changed to 'auto' in 0.22. Specify the multi_class option to silence this warning.\n",
      "  \"this warning.\", FutureWarning)\n",
      "C:\\ProgramData\\Anaconda3\\lib\\site-packages\\sklearn\\linear_model\\logistic.py:1300: UserWarning: 'n_jobs' > 1 does not have any effect when 'solver' is set to 'liblinear'. Got 'n_jobs' = 12.\n",
      "  \" = {}.\".format(effective_n_jobs(self.n_jobs)))\n"
     ]
    },
    {
     "name": "stdout",
     "output_type": "stream",
     "text": [
      "Logistic Reg acc: 0.16377579527104605\n",
      "{'all': {'rf': '0.20282841849532876', 'svm': '0.22171087716526103', 'lr': '0.1613749037113117'}, 'df_http': {'rf': '0.32978723404255317', 'svm': '0.3404255319148936', 'lr': '0.21808510638297873'}, 'df_http_tcp': {'rf': '0.15967685921711952', 'svm': '0.3526352345830095', 'lr': '0.1419901106352015'}, 'df_http_tcp_udp': {'rf': '0.2037161108863077', 'svm': '0.3820788197599984', 'lr': '0.17080046965485676'}, 'df_http_tls': {'rf': '0.3097651891070538', 'svm': '0.3443101688074266', 'lr': '0.1738170421899855'}, 'df_http_tls_tcp': {'rf': '0.18547421547378568', 'svm': '0.1963357053828537', 'lr': '0.16377579527104605'}}\n",
      "df_http_tls_tcp_udp\n"
     ]
    },
    {
     "name": "stderr",
     "output_type": "stream",
     "text": [
      "C:\\ProgramData\\Anaconda3\\lib\\site-packages\\sklearn\\ensemble\\forest.py:246: FutureWarning: The default value of n_estimators will change from 10 in version 0.20 to 100 in 0.22.\n",
      "  \"10 in version 0.20 to 100 in 0.22.\", FutureWarning)\n"
     ]
    },
    {
     "name": "stdout",
     "output_type": "stream",
     "text": [
      "RF acc: 0.20156217562798423\n",
      "{'all': {'rf': '0.20282841849532876', 'svm': '0.22171087716526103', 'lr': '0.1613749037113117'}, 'df_http': {'rf': '0.32978723404255317', 'svm': '0.3404255319148936', 'lr': '0.21808510638297873'}, 'df_http_tcp': {'rf': '0.15967685921711952', 'svm': '0.3526352345830095', 'lr': '0.1419901106352015'}, 'df_http_tcp_udp': {'rf': '0.2037161108863077', 'svm': '0.3820788197599984', 'lr': '0.17080046965485676'}, 'df_http_tls': {'rf': '0.3097651891070538', 'svm': '0.3443101688074266', 'lr': '0.1738170421899855'}, 'df_http_tls_tcp': {'rf': '0.18547421547378568', 'svm': '0.1963357053828537', 'lr': '0.16377579527104605'}, 'df_http_tls_tcp_udp': {'rf': '0.20156217562798423'}}\n"
     ]
    },
    {
     "name": "stderr",
     "output_type": "stream",
     "text": [
      "C:\\ProgramData\\Anaconda3\\lib\\site-packages\\sklearn\\svm\\base.py:196: FutureWarning: The default value of gamma will change from 'auto' to 'scale' in version 0.22 to account better for unscaled features. Set gamma explicitly to 'auto' or 'scale' to avoid this warning.\n",
      "  \"avoid this warning.\", FutureWarning)\n"
     ]
    },
    {
     "name": "stdout",
     "output_type": "stream",
     "text": [
      "[LibSVM]SVM acc: 0.22305376790533527\n",
      "{'all': {'rf': '0.20282841849532876', 'svm': '0.22171087716526103', 'lr': '0.1613749037113117'}, 'df_http': {'rf': '0.32978723404255317', 'svm': '0.3404255319148936', 'lr': '0.21808510638297873'}, 'df_http_tcp': {'rf': '0.15967685921711952', 'svm': '0.3526352345830095', 'lr': '0.1419901106352015'}, 'df_http_tcp_udp': {'rf': '0.2037161108863077', 'svm': '0.3820788197599984', 'lr': '0.17080046965485676'}, 'df_http_tls': {'rf': '0.3097651891070538', 'svm': '0.3443101688074266', 'lr': '0.1738170421899855'}, 'df_http_tls_tcp': {'rf': '0.18547421547378568', 'svm': '0.1963357053828537', 'lr': '0.16377579527104605'}, 'df_http_tls_tcp_udp': {'rf': '0.20156217562798423', 'svm': '0.22305376790533527'}}\n"
     ]
    },
    {
     "name": "stderr",
     "output_type": "stream",
     "text": [
      "C:\\ProgramData\\Anaconda3\\lib\\site-packages\\sklearn\\linear_model\\logistic.py:433: FutureWarning: Default solver will be changed to 'lbfgs' in 0.22. Specify a solver to silence this warning.\n",
      "  FutureWarning)\n",
      "C:\\ProgramData\\Anaconda3\\lib\\site-packages\\sklearn\\linear_model\\logistic.py:460: FutureWarning: Default multi_class will be changed to 'auto' in 0.22. Specify the multi_class option to silence this warning.\n",
      "  \"this warning.\", FutureWarning)\n",
      "C:\\ProgramData\\Anaconda3\\lib\\site-packages\\sklearn\\linear_model\\logistic.py:1300: UserWarning: 'n_jobs' > 1 does not have any effect when 'solver' is set to 'liblinear'. Got 'n_jobs' = 12.\n",
      "  \" = {}.\".format(effective_n_jobs(self.n_jobs)))\n"
     ]
    },
    {
     "name": "stdout",
     "output_type": "stream",
     "text": [
      "Logistic Reg acc: 0.1523354785135977\n",
      "{'all': {'rf': '0.20282841849532876', 'svm': '0.22171087716526103', 'lr': '0.1613749037113117'}, 'df_http': {'rf': '0.32978723404255317', 'svm': '0.3404255319148936', 'lr': '0.21808510638297873'}, 'df_http_tcp': {'rf': '0.15967685921711952', 'svm': '0.3526352345830095', 'lr': '0.1419901106352015'}, 'df_http_tcp_udp': {'rf': '0.2037161108863077', 'svm': '0.3820788197599984', 'lr': '0.17080046965485676'}, 'df_http_tls': {'rf': '0.3097651891070538', 'svm': '0.3443101688074266', 'lr': '0.1738170421899855'}, 'df_http_tls_tcp': {'rf': '0.18547421547378568', 'svm': '0.1963357053828537', 'lr': '0.16377579527104605'}, 'df_http_tls_tcp_udp': {'rf': '0.20156217562798423', 'svm': '0.22305376790533527', 'lr': '0.1523354785135977'}}\n",
      "df_http_tls_udp\n"
     ]
    },
    {
     "name": "stderr",
     "output_type": "stream",
     "text": [
      "C:\\ProgramData\\Anaconda3\\lib\\site-packages\\sklearn\\ensemble\\forest.py:246: FutureWarning: The default value of n_estimators will change from 10 in version 0.20 to 100 in 0.22.\n",
      "  \"10 in version 0.20 to 100 in 0.22.\", FutureWarning)\n"
     ]
    },
    {
     "name": "stdout",
     "output_type": "stream",
     "text": [
      "RF acc: 0.29559293757820104\n",
      "{'all': {'rf': '0.20282841849532876', 'svm': '0.22171087716526103', 'lr': '0.1613749037113117'}, 'df_http': {'rf': '0.32978723404255317', 'svm': '0.3404255319148936', 'lr': '0.21808510638297873'}, 'df_http_tcp': {'rf': '0.15967685921711952', 'svm': '0.3526352345830095', 'lr': '0.1419901106352015'}, 'df_http_tcp_udp': {'rf': '0.2037161108863077', 'svm': '0.3820788197599984', 'lr': '0.17080046965485676'}, 'df_http_tls': {'rf': '0.3097651891070538', 'svm': '0.3443101688074266', 'lr': '0.1738170421899855'}, 'df_http_tls_tcp': {'rf': '0.18547421547378568', 'svm': '0.1963357053828537', 'lr': '0.16377579527104605'}, 'df_http_tls_tcp_udp': {'rf': '0.20156217562798423', 'svm': '0.22305376790533527', 'lr': '0.1523354785135977'}, 'df_http_tls_udp': {'rf': '0.29559293757820104'}}\n",
      "[LibSVM]"
     ]
    },
    {
     "name": "stderr",
     "output_type": "stream",
     "text": [
      "C:\\ProgramData\\Anaconda3\\lib\\site-packages\\sklearn\\svm\\base.py:196: FutureWarning: The default value of gamma will change from 'auto' to 'scale' in version 0.22 to account better for unscaled features. Set gamma explicitly to 'auto' or 'scale' to avoid this warning.\n",
      "  \"avoid this warning.\", FutureWarning)\n"
     ]
    },
    {
     "name": "stdout",
     "output_type": "stream",
     "text": [
      "SVM acc: 0.34468233004309745\n",
      "{'all': {'rf': '0.20282841849532876', 'svm': '0.22171087716526103', 'lr': '0.1613749037113117'}, 'df_http': {'rf': '0.32978723404255317', 'svm': '0.3404255319148936', 'lr': '0.21808510638297873'}, 'df_http_tcp': {'rf': '0.15967685921711952', 'svm': '0.3526352345830095', 'lr': '0.1419901106352015'}, 'df_http_tcp_udp': {'rf': '0.2037161108863077', 'svm': '0.3820788197599984', 'lr': '0.17080046965485676'}, 'df_http_tls': {'rf': '0.3097651891070538', 'svm': '0.3443101688074266', 'lr': '0.1738170421899855'}, 'df_http_tls_tcp': {'rf': '0.18547421547378568', 'svm': '0.1963357053828537', 'lr': '0.16377579527104605'}, 'df_http_tls_tcp_udp': {'rf': '0.20156217562798423', 'svm': '0.22305376790533527', 'lr': '0.1523354785135977'}, 'df_http_tls_udp': {'rf': '0.29559293757820104', 'svm': '0.34468233004309745'}}\n"
     ]
    },
    {
     "name": "stderr",
     "output_type": "stream",
     "text": [
      "C:\\ProgramData\\Anaconda3\\lib\\site-packages\\sklearn\\linear_model\\logistic.py:433: FutureWarning: Default solver will be changed to 'lbfgs' in 0.22. Specify a solver to silence this warning.\n",
      "  FutureWarning)\n",
      "C:\\ProgramData\\Anaconda3\\lib\\site-packages\\sklearn\\linear_model\\logistic.py:460: FutureWarning: Default multi_class will be changed to 'auto' in 0.22. Specify the multi_class option to silence this warning.\n",
      "  \"this warning.\", FutureWarning)\n",
      "C:\\ProgramData\\Anaconda3\\lib\\site-packages\\sklearn\\linear_model\\logistic.py:1300: UserWarning: 'n_jobs' > 1 does not have any effect when 'solver' is set to 'liblinear'. Got 'n_jobs' = 12.\n",
      "  \" = {}.\".format(effective_n_jobs(self.n_jobs)))\n"
     ]
    },
    {
     "name": "stdout",
     "output_type": "stream",
     "text": [
      "Logistic Reg acc: 0.18623661893507576\n",
      "{'all': {'rf': '0.20282841849532876', 'svm': '0.22171087716526103', 'lr': '0.1613749037113117'}, 'df_http': {'rf': '0.32978723404255317', 'svm': '0.3404255319148936', 'lr': '0.21808510638297873'}, 'df_http_tcp': {'rf': '0.15967685921711952', 'svm': '0.3526352345830095', 'lr': '0.1419901106352015'}, 'df_http_tcp_udp': {'rf': '0.2037161108863077', 'svm': '0.3820788197599984', 'lr': '0.17080046965485676'}, 'df_http_tls': {'rf': '0.3097651891070538', 'svm': '0.3443101688074266', 'lr': '0.1738170421899855'}, 'df_http_tls_tcp': {'rf': '0.18547421547378568', 'svm': '0.1963357053828537', 'lr': '0.16377579527104605'}, 'df_http_tls_tcp_udp': {'rf': '0.20156217562798423', 'svm': '0.22305376790533527', 'lr': '0.1523354785135977'}, 'df_http_tls_udp': {'rf': '0.29559293757820104', 'svm': '0.34468233004309745', 'lr': '0.18623661893507576'}}\n",
      "df_http_udp\n"
     ]
    },
    {
     "name": "stderr",
     "output_type": "stream",
     "text": [
      "C:\\ProgramData\\Anaconda3\\lib\\site-packages\\sklearn\\ensemble\\forest.py:246: FutureWarning: The default value of n_estimators will change from 10 in version 0.20 to 100 in 0.22.\n",
      "  \"10 in version 0.20 to 100 in 0.22.\", FutureWarning)\n"
     ]
    },
    {
     "name": "stdout",
     "output_type": "stream",
     "text": [
      "RF acc: 0.31467715590519685\n",
      "{'all': {'rf': '0.20282841849532876', 'svm': '0.22171087716526103', 'lr': '0.1613749037113117'}, 'df_http': {'rf': '0.32978723404255317', 'svm': '0.3404255319148936', 'lr': '0.21808510638297873'}, 'df_http_tcp': {'rf': '0.15967685921711952', 'svm': '0.3526352345830095', 'lr': '0.1419901106352015'}, 'df_http_tcp_udp': {'rf': '0.2037161108863077', 'svm': '0.3820788197599984', 'lr': '0.17080046965485676'}, 'df_http_tls': {'rf': '0.3097651891070538', 'svm': '0.3443101688074266', 'lr': '0.1738170421899855'}, 'df_http_tls_tcp': {'rf': '0.18547421547378568', 'svm': '0.1963357053828537', 'lr': '0.16377579527104605'}, 'df_http_tls_tcp_udp': {'rf': '0.20156217562798423', 'svm': '0.22305376790533527', 'lr': '0.1523354785135977'}, 'df_http_tls_udp': {'rf': '0.29559293757820104', 'svm': '0.34468233004309745', 'lr': '0.18623661893507576'}, 'df_http_udp': {'rf': '0.31467715590519685'}}\n",
      "[LibSVM]"
     ]
    },
    {
     "name": "stderr",
     "output_type": "stream",
     "text": [
      "C:\\ProgramData\\Anaconda3\\lib\\site-packages\\sklearn\\svm\\base.py:196: FutureWarning: The default value of gamma will change from 'auto' to 'scale' in version 0.22 to account better for unscaled features. Set gamma explicitly to 'auto' or 'scale' to avoid this warning.\n",
      "  \"avoid this warning.\", FutureWarning)\n"
     ]
    },
    {
     "name": "stdout",
     "output_type": "stream",
     "text": [
      "SVM acc: 0.37464582152738424\n",
      "{'all': {'rf': '0.20282841849532876', 'svm': '0.22171087716526103', 'lr': '0.1613749037113117'}, 'df_http': {'rf': '0.32978723404255317', 'svm': '0.3404255319148936', 'lr': '0.21808510638297873'}, 'df_http_tcp': {'rf': '0.15967685921711952', 'svm': '0.3526352345830095', 'lr': '0.1419901106352015'}, 'df_http_tcp_udp': {'rf': '0.2037161108863077', 'svm': '0.3820788197599984', 'lr': '0.17080046965485676'}, 'df_http_tls': {'rf': '0.3097651891070538', 'svm': '0.3443101688074266', 'lr': '0.1738170421899855'}, 'df_http_tls_tcp': {'rf': '0.18547421547378568', 'svm': '0.1963357053828537', 'lr': '0.16377579527104605'}, 'df_http_tls_tcp_udp': {'rf': '0.20156217562798423', 'svm': '0.22305376790533527', 'lr': '0.1523354785135977'}, 'df_http_tls_udp': {'rf': '0.29559293757820104', 'svm': '0.34468233004309745', 'lr': '0.18623661893507576'}, 'df_http_udp': {'rf': '0.31467715590519685', 'svm': '0.37464582152738424'}}\n"
     ]
    },
    {
     "name": "stderr",
     "output_type": "stream",
     "text": [
      "C:\\ProgramData\\Anaconda3\\lib\\site-packages\\sklearn\\linear_model\\logistic.py:433: FutureWarning: Default solver will be changed to 'lbfgs' in 0.22. Specify a solver to silence this warning.\n",
      "  FutureWarning)\n",
      "C:\\ProgramData\\Anaconda3\\lib\\site-packages\\sklearn\\linear_model\\logistic.py:460: FutureWarning: Default multi_class will be changed to 'auto' in 0.22. Specify the multi_class option to silence this warning.\n",
      "  \"this warning.\", FutureWarning)\n",
      "C:\\ProgramData\\Anaconda3\\lib\\site-packages\\sklearn\\linear_model\\logistic.py:1300: UserWarning: 'n_jobs' > 1 does not have any effect when 'solver' is set to 'liblinear'. Got 'n_jobs' = 12.\n",
      "  \" = {}.\".format(effective_n_jobs(self.n_jobs)))\n"
     ]
    },
    {
     "name": "stdout",
     "output_type": "stream",
     "text": [
      "Logistic Reg acc: 0.42851428380946033\n",
      "{'all': {'rf': '0.20282841849532876', 'svm': '0.22171087716526103', 'lr': '0.1613749037113117'}, 'df_http': {'rf': '0.32978723404255317', 'svm': '0.3404255319148936', 'lr': '0.21808510638297873'}, 'df_http_tcp': {'rf': '0.15967685921711952', 'svm': '0.3526352345830095', 'lr': '0.1419901106352015'}, 'df_http_tcp_udp': {'rf': '0.2037161108863077', 'svm': '0.3820788197599984', 'lr': '0.17080046965485676'}, 'df_http_tls': {'rf': '0.3097651891070538', 'svm': '0.3443101688074266', 'lr': '0.1738170421899855'}, 'df_http_tls_tcp': {'rf': '0.18547421547378568', 'svm': '0.1963357053828537', 'lr': '0.16377579527104605'}, 'df_http_tls_tcp_udp': {'rf': '0.20156217562798423', 'svm': '0.22305376790533527', 'lr': '0.1523354785135977'}, 'df_http_tls_udp': {'rf': '0.29559293757820104', 'svm': '0.34468233004309745', 'lr': '0.18623661893507576'}, 'df_http_udp': {'rf': '0.31467715590519685', 'svm': '0.37464582152738424', 'lr': '0.42851428380946033'}}\n",
      "df_tcp\n"
     ]
    },
    {
     "name": "stderr",
     "output_type": "stream",
     "text": [
      "C:\\ProgramData\\Anaconda3\\lib\\site-packages\\sklearn\\ensemble\\forest.py:246: FutureWarning: The default value of n_estimators will change from 10 in version 0.20 to 100 in 0.22.\n",
      "  \"10 in version 0.20 to 100 in 0.22.\", FutureWarning)\n"
     ]
    },
    {
     "name": "stdout",
     "output_type": "stream",
     "text": [
      "RF acc: 0.157879917184265\n",
      "{'all': {'rf': '0.20282841849532876', 'svm': '0.22171087716526103', 'lr': '0.1613749037113117'}, 'df_http': {'rf': '0.32978723404255317', 'svm': '0.3404255319148936', 'lr': '0.21808510638297873'}, 'df_http_tcp': {'rf': '0.15967685921711952', 'svm': '0.3526352345830095', 'lr': '0.1419901106352015'}, 'df_http_tcp_udp': {'rf': '0.2037161108863077', 'svm': '0.3820788197599984', 'lr': '0.17080046965485676'}, 'df_http_tls': {'rf': '0.3097651891070538', 'svm': '0.3443101688074266', 'lr': '0.1738170421899855'}, 'df_http_tls_tcp': {'rf': '0.18547421547378568', 'svm': '0.1963357053828537', 'lr': '0.16377579527104605'}, 'df_http_tls_tcp_udp': {'rf': '0.20156217562798423', 'svm': '0.22305376790533527', 'lr': '0.1523354785135977'}, 'df_http_tls_udp': {'rf': '0.29559293757820104', 'svm': '0.34468233004309745', 'lr': '0.18623661893507576'}, 'df_http_udp': {'rf': '0.31467715590519685', 'svm': '0.37464582152738424', 'lr': '0.42851428380946033'}, 'df_tcp': {'rf': '0.157879917184265'}}\n"
     ]
    },
    {
     "name": "stderr",
     "output_type": "stream",
     "text": [
      "C:\\ProgramData\\Anaconda3\\lib\\site-packages\\sklearn\\svm\\base.py:196: FutureWarning: The default value of gamma will change from 'auto' to 'scale' in version 0.22 to account better for unscaled features. Set gamma explicitly to 'auto' or 'scale' to avoid this warning.\n",
      "  \"avoid this warning.\", FutureWarning)\n"
     ]
    },
    {
     "name": "stdout",
     "output_type": "stream",
     "text": [
      "[LibSVM]SVM acc: 0.3526128364389234\n",
      "{'all': {'rf': '0.20282841849532876', 'svm': '0.22171087716526103', 'lr': '0.1613749037113117'}, 'df_http': {'rf': '0.32978723404255317', 'svm': '0.3404255319148936', 'lr': '0.21808510638297873'}, 'df_http_tcp': {'rf': '0.15967685921711952', 'svm': '0.3526352345830095', 'lr': '0.1419901106352015'}, 'df_http_tcp_udp': {'rf': '0.2037161108863077', 'svm': '0.3820788197599984', 'lr': '0.17080046965485676'}, 'df_http_tls': {'rf': '0.3097651891070538', 'svm': '0.3443101688074266', 'lr': '0.1738170421899855'}, 'df_http_tls_tcp': {'rf': '0.18547421547378568', 'svm': '0.1963357053828537', 'lr': '0.16377579527104605'}, 'df_http_tls_tcp_udp': {'rf': '0.20156217562798423', 'svm': '0.22305376790533527', 'lr': '0.1523354785135977'}, 'df_http_tls_udp': {'rf': '0.29559293757820104', 'svm': '0.34468233004309745', 'lr': '0.18623661893507576'}, 'df_http_udp': {'rf': '0.31467715590519685', 'svm': '0.37464582152738424', 'lr': '0.42851428380946033'}, 'df_tcp': {'rf': '0.157879917184265', 'svm': '0.3526128364389234'}}\n"
     ]
    },
    {
     "name": "stderr",
     "output_type": "stream",
     "text": [
      "C:\\ProgramData\\Anaconda3\\lib\\site-packages\\sklearn\\linear_model\\logistic.py:433: FutureWarning: Default solver will be changed to 'lbfgs' in 0.22. Specify a solver to silence this warning.\n",
      "  FutureWarning)\n",
      "C:\\ProgramData\\Anaconda3\\lib\\site-packages\\sklearn\\linear_model\\logistic.py:460: FutureWarning: Default multi_class will be changed to 'auto' in 0.22. Specify the multi_class option to silence this warning.\n",
      "  \"this warning.\", FutureWarning)\n",
      "C:\\ProgramData\\Anaconda3\\lib\\site-packages\\sklearn\\linear_model\\logistic.py:1300: UserWarning: 'n_jobs' > 1 does not have any effect when 'solver' is set to 'liblinear'. Got 'n_jobs' = 12.\n",
      "  \" = {}.\".format(effective_n_jobs(self.n_jobs)))\n"
     ]
    },
    {
     "name": "stdout",
     "output_type": "stream",
     "text": [
      "Logistic Reg acc: 0.14200414078674947\n",
      "{'all': {'rf': '0.20282841849532876', 'svm': '0.22171087716526103', 'lr': '0.1613749037113117'}, 'df_http': {'rf': '0.32978723404255317', 'svm': '0.3404255319148936', 'lr': '0.21808510638297873'}, 'df_http_tcp': {'rf': '0.15967685921711952', 'svm': '0.3526352345830095', 'lr': '0.1419901106352015'}, 'df_http_tcp_udp': {'rf': '0.2037161108863077', 'svm': '0.3820788197599984', 'lr': '0.17080046965485676'}, 'df_http_tls': {'rf': '0.3097651891070538', 'svm': '0.3443101688074266', 'lr': '0.1738170421899855'}, 'df_http_tls_tcp': {'rf': '0.18547421547378568', 'svm': '0.1963357053828537', 'lr': '0.16377579527104605'}, 'df_http_tls_tcp_udp': {'rf': '0.20156217562798423', 'svm': '0.22305376790533527', 'lr': '0.1523354785135977'}, 'df_http_tls_udp': {'rf': '0.29559293757820104', 'svm': '0.34468233004309745', 'lr': '0.18623661893507576'}, 'df_http_udp': {'rf': '0.31467715590519685', 'svm': '0.37464582152738424', 'lr': '0.42851428380946033'}, 'df_tcp': {'rf': '0.157879917184265', 'svm': '0.3526128364389234', 'lr': '0.14200414078674947'}}\n",
      "df_tcp_udp\n"
     ]
    },
    {
     "name": "stderr",
     "output_type": "stream",
     "text": [
      "C:\\ProgramData\\Anaconda3\\lib\\site-packages\\sklearn\\ensemble\\forest.py:246: FutureWarning: The default value of n_estimators will change from 10 in version 0.20 to 100 in 0.22.\n",
      "  \"10 in version 0.20 to 100 in 0.22.\", FutureWarning)\n"
     ]
    },
    {
     "name": "stdout",
     "output_type": "stream",
     "text": [
      "RF acc: 0.20305391170356202\n",
      "{'all': {'rf': '0.20282841849532876', 'svm': '0.22171087716526103', 'lr': '0.1613749037113117'}, 'df_http': {'rf': '0.32978723404255317', 'svm': '0.3404255319148936', 'lr': '0.21808510638297873'}, 'df_http_tcp': {'rf': '0.15967685921711952', 'svm': '0.3526352345830095', 'lr': '0.1419901106352015'}, 'df_http_tcp_udp': {'rf': '0.2037161108863077', 'svm': '0.3820788197599984', 'lr': '0.17080046965485676'}, 'df_http_tls': {'rf': '0.3097651891070538', 'svm': '0.3443101688074266', 'lr': '0.1738170421899855'}, 'df_http_tls_tcp': {'rf': '0.18547421547378568', 'svm': '0.1963357053828537', 'lr': '0.16377579527104605'}, 'df_http_tls_tcp_udp': {'rf': '0.20156217562798423', 'svm': '0.22305376790533527', 'lr': '0.1523354785135977'}, 'df_http_tls_udp': {'rf': '0.29559293757820104', 'svm': '0.34468233004309745', 'lr': '0.18623661893507576'}, 'df_http_udp': {'rf': '0.31467715590519685', 'svm': '0.37464582152738424', 'lr': '0.42851428380946033'}, 'df_tcp': {'rf': '0.157879917184265', 'svm': '0.3526128364389234', 'lr': '0.14200414078674947'}, 'df_tcp_udp': {'rf': '0.20305391170356202'}}\n"
     ]
    },
    {
     "name": "stderr",
     "output_type": "stream",
     "text": [
      "C:\\ProgramData\\Anaconda3\\lib\\site-packages\\sklearn\\svm\\base.py:196: FutureWarning: The default value of gamma will change from 'auto' to 'scale' in version 0.22 to account better for unscaled features. Set gamma explicitly to 'auto' or 'scale' to avoid this warning.\n",
      "  \"avoid this warning.\", FutureWarning)\n"
     ]
    },
    {
     "name": "stdout",
     "output_type": "stream",
     "text": [
      "[LibSVM]SVM acc: 0.382223816260519\n",
      "{'all': {'rf': '0.20282841849532876', 'svm': '0.22171087716526103', 'lr': '0.1613749037113117'}, 'df_http': {'rf': '0.32978723404255317', 'svm': '0.3404255319148936', 'lr': '0.21808510638297873'}, 'df_http_tcp': {'rf': '0.15967685921711952', 'svm': '0.3526352345830095', 'lr': '0.1419901106352015'}, 'df_http_tcp_udp': {'rf': '0.2037161108863077', 'svm': '0.3820788197599984', 'lr': '0.17080046965485676'}, 'df_http_tls': {'rf': '0.3097651891070538', 'svm': '0.3443101688074266', 'lr': '0.1738170421899855'}, 'df_http_tls_tcp': {'rf': '0.18547421547378568', 'svm': '0.1963357053828537', 'lr': '0.16377579527104605'}, 'df_http_tls_tcp_udp': {'rf': '0.20156217562798423', 'svm': '0.22305376790533527', 'lr': '0.1523354785135977'}, 'df_http_tls_udp': {'rf': '0.29559293757820104', 'svm': '0.34468233004309745', 'lr': '0.18623661893507576'}, 'df_http_udp': {'rf': '0.31467715590519685', 'svm': '0.37464582152738424', 'lr': '0.42851428380946033'}, 'df_tcp': {'rf': '0.157879917184265', 'svm': '0.3526128364389234', 'lr': '0.14200414078674947'}, 'df_tcp_udp': {'rf': '0.20305391170356202', 'svm': '0.382223816260519'}}\n"
     ]
    },
    {
     "name": "stderr",
     "output_type": "stream",
     "text": [
      "C:\\ProgramData\\Anaconda3\\lib\\site-packages\\sklearn\\linear_model\\logistic.py:433: FutureWarning: Default solver will be changed to 'lbfgs' in 0.22. Specify a solver to silence this warning.\n",
      "  FutureWarning)\n",
      "C:\\ProgramData\\Anaconda3\\lib\\site-packages\\sklearn\\linear_model\\logistic.py:460: FutureWarning: Default multi_class will be changed to 'auto' in 0.22. Specify the multi_class option to silence this warning.\n",
      "  \"this warning.\", FutureWarning)\n",
      "C:\\ProgramData\\Anaconda3\\lib\\site-packages\\sklearn\\linear_model\\logistic.py:1300: UserWarning: 'n_jobs' > 1 does not have any effect when 'solver' is set to 'liblinear'. Got 'n_jobs' = 12.\n",
      "  \" = {}.\".format(effective_n_jobs(self.n_jobs)))\n"
     ]
    },
    {
     "name": "stdout",
     "output_type": "stream",
     "text": [
      "Logistic Reg acc: 0.16926029981203633\n",
      "{'all': {'rf': '0.20282841849532876', 'svm': '0.22171087716526103', 'lr': '0.1613749037113117'}, 'df_http': {'rf': '0.32978723404255317', 'svm': '0.3404255319148936', 'lr': '0.21808510638297873'}, 'df_http_tcp': {'rf': '0.15967685921711952', 'svm': '0.3526352345830095', 'lr': '0.1419901106352015'}, 'df_http_tcp_udp': {'rf': '0.2037161108863077', 'svm': '0.3820788197599984', 'lr': '0.17080046965485676'}, 'df_http_tls': {'rf': '0.3097651891070538', 'svm': '0.3443101688074266', 'lr': '0.1738170421899855'}, 'df_http_tls_tcp': {'rf': '0.18547421547378568', 'svm': '0.1963357053828537', 'lr': '0.16377579527104605'}, 'df_http_tls_tcp_udp': {'rf': '0.20156217562798423', 'svm': '0.22305376790533527', 'lr': '0.1523354785135977'}, 'df_http_tls_udp': {'rf': '0.29559293757820104', 'svm': '0.34468233004309745', 'lr': '0.18623661893507576'}, 'df_http_udp': {'rf': '0.31467715590519685', 'svm': '0.37464582152738424', 'lr': '0.42851428380946033'}, 'df_tcp': {'rf': '0.157879917184265', 'svm': '0.3526128364389234', 'lr': '0.14200414078674947'}, 'df_tcp_udp': {'rf': '0.20305391170356202', 'svm': '0.382223816260519', 'lr': '0.16926029981203633'}}\n",
      "df_tls\n"
     ]
    },
    {
     "name": "stderr",
     "output_type": "stream",
     "text": [
      "C:\\ProgramData\\Anaconda3\\lib\\site-packages\\sklearn\\ensemble\\forest.py:246: FutureWarning: The default value of n_estimators will change from 10 in version 0.20 to 100 in 0.22.\n",
      "  \"10 in version 0.20 to 100 in 0.22.\", FutureWarning)\n"
     ]
    },
    {
     "name": "stdout",
     "output_type": "stream",
     "text": [
      "RF acc: 0.3133242708258806\n",
      "{'all': {'rf': '0.20282841849532876', 'svm': '0.22171087716526103', 'lr': '0.1613749037113117'}, 'df_http': {'rf': '0.32978723404255317', 'svm': '0.3404255319148936', 'lr': '0.21808510638297873'}, 'df_http_tcp': {'rf': '0.15967685921711952', 'svm': '0.3526352345830095', 'lr': '0.1419901106352015'}, 'df_http_tcp_udp': {'rf': '0.2037161108863077', 'svm': '0.3820788197599984', 'lr': '0.17080046965485676'}, 'df_http_tls': {'rf': '0.3097651891070538', 'svm': '0.3443101688074266', 'lr': '0.1738170421899855'}, 'df_http_tls_tcp': {'rf': '0.18547421547378568', 'svm': '0.1963357053828537', 'lr': '0.16377579527104605'}, 'df_http_tls_tcp_udp': {'rf': '0.20156217562798423', 'svm': '0.22305376790533527', 'lr': '0.1523354785135977'}, 'df_http_tls_udp': {'rf': '0.29559293757820104', 'svm': '0.34468233004309745', 'lr': '0.18623661893507576'}, 'df_http_udp': {'rf': '0.31467715590519685', 'svm': '0.37464582152738424', 'lr': '0.42851428380946033'}, 'df_tcp': {'rf': '0.157879917184265', 'svm': '0.3526128364389234', 'lr': '0.14200414078674947'}, 'df_tcp_udp': {'rf': '0.20305391170356202', 'svm': '0.382223816260519', 'lr': '0.16926029981203633'}, 'df_tls': {'rf': '0.3133242708258806'}}\n",
      "[LibSVM]"
     ]
    },
    {
     "name": "stderr",
     "output_type": "stream",
     "text": [
      "C:\\ProgramData\\Anaconda3\\lib\\site-packages\\sklearn\\svm\\base.py:196: FutureWarning: The default value of gamma will change from 'auto' to 'scale' in version 0.22 to account better for unscaled features. Set gamma explicitly to 'auto' or 'scale' to avoid this warning.\n",
      "  \"avoid this warning.\", FutureWarning)\n"
     ]
    },
    {
     "name": "stdout",
     "output_type": "stream",
     "text": [
      "SVM acc: 0.34489995468746276\n",
      "{'all': {'rf': '0.20282841849532876', 'svm': '0.22171087716526103', 'lr': '0.1613749037113117'}, 'df_http': {'rf': '0.32978723404255317', 'svm': '0.3404255319148936', 'lr': '0.21808510638297873'}, 'df_http_tcp': {'rf': '0.15967685921711952', 'svm': '0.3526352345830095', 'lr': '0.1419901106352015'}, 'df_http_tcp_udp': {'rf': '0.2037161108863077', 'svm': '0.3820788197599984', 'lr': '0.17080046965485676'}, 'df_http_tls': {'rf': '0.3097651891070538', 'svm': '0.3443101688074266', 'lr': '0.1738170421899855'}, 'df_http_tls_tcp': {'rf': '0.18547421547378568', 'svm': '0.1963357053828537', 'lr': '0.16377579527104605'}, 'df_http_tls_tcp_udp': {'rf': '0.20156217562798423', 'svm': '0.22305376790533527', 'lr': '0.1523354785135977'}, 'df_http_tls_udp': {'rf': '0.29559293757820104', 'svm': '0.34468233004309745', 'lr': '0.18623661893507576'}, 'df_http_udp': {'rf': '0.31467715590519685', 'svm': '0.37464582152738424', 'lr': '0.42851428380946033'}, 'df_tcp': {'rf': '0.157879917184265', 'svm': '0.3526128364389234', 'lr': '0.14200414078674947'}, 'df_tcp_udp': {'rf': '0.20305391170356202', 'svm': '0.382223816260519', 'lr': '0.16926029981203633'}, 'df_tls': {'rf': '0.3133242708258806', 'svm': '0.34489995468746276'}}\n"
     ]
    },
    {
     "name": "stderr",
     "output_type": "stream",
     "text": [
      "C:\\ProgramData\\Anaconda3\\lib\\site-packages\\sklearn\\linear_model\\logistic.py:433: FutureWarning: Default solver will be changed to 'lbfgs' in 0.22. Specify a solver to silence this warning.\n",
      "  FutureWarning)\n",
      "C:\\ProgramData\\Anaconda3\\lib\\site-packages\\sklearn\\linear_model\\logistic.py:460: FutureWarning: Default multi_class will be changed to 'auto' in 0.22. Specify the multi_class option to silence this warning.\n",
      "  \"this warning.\", FutureWarning)\n",
      "C:\\ProgramData\\Anaconda3\\lib\\site-packages\\sklearn\\linear_model\\logistic.py:1300: UserWarning: 'n_jobs' > 1 does not have any effect when 'solver' is set to 'liblinear'. Got 'n_jobs' = 12.\n",
      "  \" = {}.\".format(effective_n_jobs(self.n_jobs)))\n"
     ]
    },
    {
     "name": "stdout",
     "output_type": "stream",
     "text": [
      "Logistic Reg acc: 0.17462020939161957\n",
      "{'all': {'rf': '0.20282841849532876', 'svm': '0.22171087716526103', 'lr': '0.1613749037113117'}, 'df_http': {'rf': '0.32978723404255317', 'svm': '0.3404255319148936', 'lr': '0.21808510638297873'}, 'df_http_tcp': {'rf': '0.15967685921711952', 'svm': '0.3526352345830095', 'lr': '0.1419901106352015'}, 'df_http_tcp_udp': {'rf': '0.2037161108863077', 'svm': '0.3820788197599984', 'lr': '0.17080046965485676'}, 'df_http_tls': {'rf': '0.3097651891070538', 'svm': '0.3443101688074266', 'lr': '0.1738170421899855'}, 'df_http_tls_tcp': {'rf': '0.18547421547378568', 'svm': '0.1963357053828537', 'lr': '0.16377579527104605'}, 'df_http_tls_tcp_udp': {'rf': '0.20156217562798423', 'svm': '0.22305376790533527', 'lr': '0.1523354785135977'}, 'df_http_tls_udp': {'rf': '0.29559293757820104', 'svm': '0.34468233004309745', 'lr': '0.18623661893507576'}, 'df_http_udp': {'rf': '0.31467715590519685', 'svm': '0.37464582152738424', 'lr': '0.42851428380946033'}, 'df_tcp': {'rf': '0.157879917184265', 'svm': '0.3526128364389234', 'lr': '0.14200414078674947'}, 'df_tcp_udp': {'rf': '0.20305391170356202', 'svm': '0.382223816260519', 'lr': '0.16926029981203633'}, 'df_tls': {'rf': '0.3133242708258806', 'svm': '0.34489995468746276', 'lr': '0.17462020939161957'}}\n",
      "df_tls_tcp\n"
     ]
    },
    {
     "name": "stderr",
     "output_type": "stream",
     "text": [
      "C:\\ProgramData\\Anaconda3\\lib\\site-packages\\sklearn\\ensemble\\forest.py:246: FutureWarning: The default value of n_estimators will change from 10 in version 0.20 to 100 in 0.22.\n",
      "  \"10 in version 0.20 to 100 in 0.22.\", FutureWarning)\n"
     ]
    },
    {
     "name": "stdout",
     "output_type": "stream",
     "text": [
      "RF acc: 0.1880490038787566\n",
      "{'all': {'rf': '0.20282841849532876', 'svm': '0.22171087716526103', 'lr': '0.1613749037113117'}, 'df_http': {'rf': '0.32978723404255317', 'svm': '0.3404255319148936', 'lr': '0.21808510638297873'}, 'df_http_tcp': {'rf': '0.15967685921711952', 'svm': '0.3526352345830095', 'lr': '0.1419901106352015'}, 'df_http_tcp_udp': {'rf': '0.2037161108863077', 'svm': '0.3820788197599984', 'lr': '0.17080046965485676'}, 'df_http_tls': {'rf': '0.3097651891070538', 'svm': '0.3443101688074266', 'lr': '0.1738170421899855'}, 'df_http_tls_tcp': {'rf': '0.18547421547378568', 'svm': '0.1963357053828537', 'lr': '0.16377579527104605'}, 'df_http_tls_tcp_udp': {'rf': '0.20156217562798423', 'svm': '0.22305376790533527', 'lr': '0.1523354785135977'}, 'df_http_tls_udp': {'rf': '0.29559293757820104', 'svm': '0.34468233004309745', 'lr': '0.18623661893507576'}, 'df_http_udp': {'rf': '0.31467715590519685', 'svm': '0.37464582152738424', 'lr': '0.42851428380946033'}, 'df_tcp': {'rf': '0.157879917184265', 'svm': '0.3526128364389234', 'lr': '0.14200414078674947'}, 'df_tcp_udp': {'rf': '0.20305391170356202', 'svm': '0.382223816260519', 'lr': '0.16926029981203633'}, 'df_tls': {'rf': '0.3133242708258806', 'svm': '0.34489995468746276', 'lr': '0.17462020939161957'}, 'df_tls_tcp': {'rf': '0.1880490038787566'}}\n"
     ]
    },
    {
     "name": "stderr",
     "output_type": "stream",
     "text": [
      "C:\\ProgramData\\Anaconda3\\lib\\site-packages\\sklearn\\svm\\base.py:196: FutureWarning: The default value of gamma will change from 'auto' to 'scale' in version 0.22 to account better for unscaled features. Set gamma explicitly to 'auto' or 'scale' to avoid this warning.\n",
      "  \"avoid this warning.\", FutureWarning)\n"
     ]
    },
    {
     "name": "stdout",
     "output_type": "stream",
     "text": [
      "[LibSVM]SVM acc: 0.19629827699608435\n",
      "{'all': {'rf': '0.20282841849532876', 'svm': '0.22171087716526103', 'lr': '0.1613749037113117'}, 'df_http': {'rf': '0.32978723404255317', 'svm': '0.3404255319148936', 'lr': '0.21808510638297873'}, 'df_http_tcp': {'rf': '0.15967685921711952', 'svm': '0.3526352345830095', 'lr': '0.1419901106352015'}, 'df_http_tcp_udp': {'rf': '0.2037161108863077', 'svm': '0.3820788197599984', 'lr': '0.17080046965485676'}, 'df_http_tls': {'rf': '0.3097651891070538', 'svm': '0.3443101688074266', 'lr': '0.1738170421899855'}, 'df_http_tls_tcp': {'rf': '0.18547421547378568', 'svm': '0.1963357053828537', 'lr': '0.16377579527104605'}, 'df_http_tls_tcp_udp': {'rf': '0.20156217562798423', 'svm': '0.22305376790533527', 'lr': '0.1523354785135977'}, 'df_http_tls_udp': {'rf': '0.29559293757820104', 'svm': '0.34468233004309745', 'lr': '0.18623661893507576'}, 'df_http_udp': {'rf': '0.31467715590519685', 'svm': '0.37464582152738424', 'lr': '0.42851428380946033'}, 'df_tcp': {'rf': '0.157879917184265', 'svm': '0.3526128364389234', 'lr': '0.14200414078674947'}, 'df_tcp_udp': {'rf': '0.20305391170356202', 'svm': '0.382223816260519', 'lr': '0.16926029981203633'}, 'df_tls': {'rf': '0.3133242708258806', 'svm': '0.34489995468746276', 'lr': '0.17462020939161957'}, 'df_tls_tcp': {'rf': '0.1880490038787566', 'svm': '0.19629827699608435'}}\n"
     ]
    },
    {
     "name": "stderr",
     "output_type": "stream",
     "text": [
      "C:\\ProgramData\\Anaconda3\\lib\\site-packages\\sklearn\\linear_model\\logistic.py:433: FutureWarning: Default solver will be changed to 'lbfgs' in 0.22. Specify a solver to silence this warning.\n",
      "  FutureWarning)\n",
      "C:\\ProgramData\\Anaconda3\\lib\\site-packages\\sklearn\\linear_model\\logistic.py:460: FutureWarning: Default multi_class will be changed to 'auto' in 0.22. Specify the multi_class option to silence this warning.\n",
      "  \"this warning.\", FutureWarning)\n",
      "C:\\ProgramData\\Anaconda3\\lib\\site-packages\\sklearn\\linear_model\\logistic.py:1300: UserWarning: 'n_jobs' > 1 does not have any effect when 'solver' is set to 'liblinear'. Got 'n_jobs' = 12.\n",
      "  \" = {}.\".format(effective_n_jobs(self.n_jobs)))\n"
     ]
    },
    {
     "name": "stdout",
     "output_type": "stream",
     "text": [
      "Logistic Reg acc: 0.16386056146691994\n",
      "{'all': {'rf': '0.20282841849532876', 'svm': '0.22171087716526103', 'lr': '0.1613749037113117'}, 'df_http': {'rf': '0.32978723404255317', 'svm': '0.3404255319148936', 'lr': '0.21808510638297873'}, 'df_http_tcp': {'rf': '0.15967685921711952', 'svm': '0.3526352345830095', 'lr': '0.1419901106352015'}, 'df_http_tcp_udp': {'rf': '0.2037161108863077', 'svm': '0.3820788197599984', 'lr': '0.17080046965485676'}, 'df_http_tls': {'rf': '0.3097651891070538', 'svm': '0.3443101688074266', 'lr': '0.1738170421899855'}, 'df_http_tls_tcp': {'rf': '0.18547421547378568', 'svm': '0.1963357053828537', 'lr': '0.16377579527104605'}, 'df_http_tls_tcp_udp': {'rf': '0.20156217562798423', 'svm': '0.22305376790533527', 'lr': '0.1523354785135977'}, 'df_http_tls_udp': {'rf': '0.29559293757820104', 'svm': '0.34468233004309745', 'lr': '0.18623661893507576'}, 'df_http_udp': {'rf': '0.31467715590519685', 'svm': '0.37464582152738424', 'lr': '0.42851428380946033'}, 'df_tcp': {'rf': '0.157879917184265', 'svm': '0.3526128364389234', 'lr': '0.14200414078674947'}, 'df_tcp_udp': {'rf': '0.20305391170356202', 'svm': '0.382223816260519', 'lr': '0.16926029981203633'}, 'df_tls': {'rf': '0.3133242708258806', 'svm': '0.34489995468746276', 'lr': '0.17462020939161957'}, 'df_tls_tcp': {'rf': '0.1880490038787566', 'svm': '0.19629827699608435', 'lr': '0.16386056146691994'}}\n",
      "df_tls_tcp_udp\n"
     ]
    },
    {
     "name": "stderr",
     "output_type": "stream",
     "text": [
      "C:\\ProgramData\\Anaconda3\\lib\\site-packages\\sklearn\\ensemble\\forest.py:246: FutureWarning: The default value of n_estimators will change from 10 in version 0.20 to 100 in 0.22.\n",
      "  \"10 in version 0.20 to 100 in 0.22.\", FutureWarning)\n"
     ]
    },
    {
     "name": "stdout",
     "output_type": "stream",
     "text": [
      "RF acc: 0.20558256966523283\n",
      "{'all': {'rf': '0.20282841849532876', 'svm': '0.22171087716526103', 'lr': '0.1613749037113117'}, 'df_http': {'rf': '0.32978723404255317', 'svm': '0.3404255319148936', 'lr': '0.21808510638297873'}, 'df_http_tcp': {'rf': '0.15967685921711952', 'svm': '0.3526352345830095', 'lr': '0.1419901106352015'}, 'df_http_tcp_udp': {'rf': '0.2037161108863077', 'svm': '0.3820788197599984', 'lr': '0.17080046965485676'}, 'df_http_tls': {'rf': '0.3097651891070538', 'svm': '0.3443101688074266', 'lr': '0.1738170421899855'}, 'df_http_tls_tcp': {'rf': '0.18547421547378568', 'svm': '0.1963357053828537', 'lr': '0.16377579527104605'}, 'df_http_tls_tcp_udp': {'rf': '0.20156217562798423', 'svm': '0.22305376790533527', 'lr': '0.1523354785135977'}, 'df_http_tls_udp': {'rf': '0.29559293757820104', 'svm': '0.34468233004309745', 'lr': '0.18623661893507576'}, 'df_http_udp': {'rf': '0.31467715590519685', 'svm': '0.37464582152738424', 'lr': '0.42851428380946033'}, 'df_tcp': {'rf': '0.157879917184265', 'svm': '0.3526128364389234', 'lr': '0.14200414078674947'}, 'df_tcp_udp': {'rf': '0.20305391170356202', 'svm': '0.382223816260519', 'lr': '0.16926029981203633'}, 'df_tls': {'rf': '0.3133242708258806', 'svm': '0.34489995468746276', 'lr': '0.17462020939161957'}, 'df_tls_tcp': {'rf': '0.1880490038787566', 'svm': '0.19629827699608435', 'lr': '0.16386056146691994'}, 'df_tls_tcp_udp': {'rf': '0.20558256966523283'}}\n"
     ]
    },
    {
     "name": "stderr",
     "output_type": "stream",
     "text": [
      "C:\\ProgramData\\Anaconda3\\lib\\site-packages\\sklearn\\svm\\base.py:196: FutureWarning: The default value of gamma will change from 'auto' to 'scale' in version 0.22 to account better for unscaled features. Set gamma explicitly to 'auto' or 'scale' to avoid this warning.\n",
      "  \"avoid this warning.\", FutureWarning)\n"
     ]
    },
    {
     "name": "stdout",
     "output_type": "stream",
     "text": [
      "[LibSVM]SVM acc: 0.22301186542817364\n",
      "{'all': {'rf': '0.20282841849532876', 'svm': '0.22171087716526103', 'lr': '0.1613749037113117'}, 'df_http': {'rf': '0.32978723404255317', 'svm': '0.3404255319148936', 'lr': '0.21808510638297873'}, 'df_http_tcp': {'rf': '0.15967685921711952', 'svm': '0.3526352345830095', 'lr': '0.1419901106352015'}, 'df_http_tcp_udp': {'rf': '0.2037161108863077', 'svm': '0.3820788197599984', 'lr': '0.17080046965485676'}, 'df_http_tls': {'rf': '0.3097651891070538', 'svm': '0.3443101688074266', 'lr': '0.1738170421899855'}, 'df_http_tls_tcp': {'rf': '0.18547421547378568', 'svm': '0.1963357053828537', 'lr': '0.16377579527104605'}, 'df_http_tls_tcp_udp': {'rf': '0.20156217562798423', 'svm': '0.22305376790533527', 'lr': '0.1523354785135977'}, 'df_http_tls_udp': {'rf': '0.29559293757820104', 'svm': '0.34468233004309745', 'lr': '0.18623661893507576'}, 'df_http_udp': {'rf': '0.31467715590519685', 'svm': '0.37464582152738424', 'lr': '0.42851428380946033'}, 'df_tcp': {'rf': '0.157879917184265', 'svm': '0.3526128364389234', 'lr': '0.14200414078674947'}, 'df_tcp_udp': {'rf': '0.20305391170356202', 'svm': '0.382223816260519', 'lr': '0.16926029981203633'}, 'df_tls': {'rf': '0.3133242708258806', 'svm': '0.34489995468746276', 'lr': '0.17462020939161957'}, 'df_tls_tcp': {'rf': '0.1880490038787566', 'svm': '0.19629827699608435', 'lr': '0.16386056146691994'}, 'df_tls_tcp_udp': {'rf': '0.20558256966523283', 'svm': '0.22301186542817364'}}\n"
     ]
    },
    {
     "name": "stderr",
     "output_type": "stream",
     "text": [
      "C:\\ProgramData\\Anaconda3\\lib\\site-packages\\sklearn\\linear_model\\logistic.py:433: FutureWarning: Default solver will be changed to 'lbfgs' in 0.22. Specify a solver to silence this warning.\n",
      "  FutureWarning)\n",
      "C:\\ProgramData\\Anaconda3\\lib\\site-packages\\sklearn\\linear_model\\logistic.py:460: FutureWarning: Default multi_class will be changed to 'auto' in 0.22. Specify the multi_class option to silence this warning.\n",
      "  \"this warning.\", FutureWarning)\n",
      "C:\\ProgramData\\Anaconda3\\lib\\site-packages\\sklearn\\linear_model\\logistic.py:1300: UserWarning: 'n_jobs' > 1 does not have any effect when 'solver' is set to 'liblinear'. Got 'n_jobs' = 12.\n",
      "  \" = {}.\".format(effective_n_jobs(self.n_jobs)))\n"
     ]
    },
    {
     "name": "stdout",
     "output_type": "stream",
     "text": [
      "Logistic Reg acc: 0.153668723895019\n",
      "{'all': {'rf': '0.20282841849532876', 'svm': '0.22171087716526103', 'lr': '0.1613749037113117'}, 'df_http': {'rf': '0.32978723404255317', 'svm': '0.3404255319148936', 'lr': '0.21808510638297873'}, 'df_http_tcp': {'rf': '0.15967685921711952', 'svm': '0.3526352345830095', 'lr': '0.1419901106352015'}, 'df_http_tcp_udp': {'rf': '0.2037161108863077', 'svm': '0.3820788197599984', 'lr': '0.17080046965485676'}, 'df_http_tls': {'rf': '0.3097651891070538', 'svm': '0.3443101688074266', 'lr': '0.1738170421899855'}, 'df_http_tls_tcp': {'rf': '0.18547421547378568', 'svm': '0.1963357053828537', 'lr': '0.16377579527104605'}, 'df_http_tls_tcp_udp': {'rf': '0.20156217562798423', 'svm': '0.22305376790533527', 'lr': '0.1523354785135977'}, 'df_http_tls_udp': {'rf': '0.29559293757820104', 'svm': '0.34468233004309745', 'lr': '0.18623661893507576'}, 'df_http_udp': {'rf': '0.31467715590519685', 'svm': '0.37464582152738424', 'lr': '0.42851428380946033'}, 'df_tcp': {'rf': '0.157879917184265', 'svm': '0.3526128364389234', 'lr': '0.14200414078674947'}, 'df_tcp_udp': {'rf': '0.20305391170356202', 'svm': '0.382223816260519', 'lr': '0.16926029981203633'}, 'df_tls': {'rf': '0.3133242708258806', 'svm': '0.34489995468746276', 'lr': '0.17462020939161957'}, 'df_tls_tcp': {'rf': '0.1880490038787566', 'svm': '0.19629827699608435', 'lr': '0.16386056146691994'}, 'df_tls_tcp_udp': {'rf': '0.20558256966523283', 'svm': '0.22301186542817364', 'lr': '0.153668723895019'}}\n",
      "df_tls_udp\n"
     ]
    },
    {
     "name": "stderr",
     "output_type": "stream",
     "text": [
      "C:\\ProgramData\\Anaconda3\\lib\\site-packages\\sklearn\\ensemble\\forest.py:246: FutureWarning: The default value of n_estimators will change from 10 in version 0.20 to 100 in 0.22.\n",
      "  \"10 in version 0.20 to 100 in 0.22.\", FutureWarning)\n"
     ]
    },
    {
     "name": "stdout",
     "output_type": "stream",
     "text": [
      "RF acc: 0.2972596247665245\n",
      "{'all': {'rf': '0.20282841849532876', 'svm': '0.22171087716526103', 'lr': '0.1613749037113117'}, 'df_http': {'rf': '0.32978723404255317', 'svm': '0.3404255319148936', 'lr': '0.21808510638297873'}, 'df_http_tcp': {'rf': '0.15967685921711952', 'svm': '0.3526352345830095', 'lr': '0.1419901106352015'}, 'df_http_tcp_udp': {'rf': '0.2037161108863077', 'svm': '0.3820788197599984', 'lr': '0.17080046965485676'}, 'df_http_tls': {'rf': '0.3097651891070538', 'svm': '0.3443101688074266', 'lr': '0.1738170421899855'}, 'df_http_tls_tcp': {'rf': '0.18547421547378568', 'svm': '0.1963357053828537', 'lr': '0.16377579527104605'}, 'df_http_tls_tcp_udp': {'rf': '0.20156217562798423', 'svm': '0.22305376790533527', 'lr': '0.1523354785135977'}, 'df_http_tls_udp': {'rf': '0.29559293757820104', 'svm': '0.34468233004309745', 'lr': '0.18623661893507576'}, 'df_http_udp': {'rf': '0.31467715590519685', 'svm': '0.37464582152738424', 'lr': '0.42851428380946033'}, 'df_tcp': {'rf': '0.157879917184265', 'svm': '0.3526128364389234', 'lr': '0.14200414078674947'}, 'df_tcp_udp': {'rf': '0.20305391170356202', 'svm': '0.382223816260519', 'lr': '0.16926029981203633'}, 'df_tls': {'rf': '0.3133242708258806', 'svm': '0.34489995468746276', 'lr': '0.17462020939161957'}, 'df_tls_tcp': {'rf': '0.1880490038787566', 'svm': '0.19629827699608435', 'lr': '0.16386056146691994'}, 'df_tls_tcp_udp': {'rf': '0.20558256966523283', 'svm': '0.22301186542817364', 'lr': '0.153668723895019'}, 'df_tls_udp': {'rf': '0.2972596247665245'}}\n"
     ]
    },
    {
     "name": "stderr",
     "output_type": "stream",
     "text": [
      "C:\\ProgramData\\Anaconda3\\lib\\site-packages\\sklearn\\svm\\base.py:196: FutureWarning: The default value of gamma will change from 'auto' to 'scale' in version 0.22 to account better for unscaled features. Set gamma explicitly to 'auto' or 'scale' to avoid this warning.\n",
      "  \"avoid this warning.\", FutureWarning)\n"
     ]
    },
    {
     "name": "stdout",
     "output_type": "stream",
     "text": [
      "[LibSVM]SVM acc: 0.34498620055197793\n",
      "{'all': {'rf': '0.20282841849532876', 'svm': '0.22171087716526103', 'lr': '0.1613749037113117'}, 'df_http': {'rf': '0.32978723404255317', 'svm': '0.3404255319148936', 'lr': '0.21808510638297873'}, 'df_http_tcp': {'rf': '0.15967685921711952', 'svm': '0.3526352345830095', 'lr': '0.1419901106352015'}, 'df_http_tcp_udp': {'rf': '0.2037161108863077', 'svm': '0.3820788197599984', 'lr': '0.17080046965485676'}, 'df_http_tls': {'rf': '0.3097651891070538', 'svm': '0.3443101688074266', 'lr': '0.1738170421899855'}, 'df_http_tls_tcp': {'rf': '0.18547421547378568', 'svm': '0.1963357053828537', 'lr': '0.16377579527104605'}, 'df_http_tls_tcp_udp': {'rf': '0.20156217562798423', 'svm': '0.22305376790533527', 'lr': '0.1523354785135977'}, 'df_http_tls_udp': {'rf': '0.29559293757820104', 'svm': '0.34468233004309745', 'lr': '0.18623661893507576'}, 'df_http_udp': {'rf': '0.31467715590519685', 'svm': '0.37464582152738424', 'lr': '0.42851428380946033'}, 'df_tcp': {'rf': '0.157879917184265', 'svm': '0.3526128364389234', 'lr': '0.14200414078674947'}, 'df_tcp_udp': {'rf': '0.20305391170356202', 'svm': '0.382223816260519', 'lr': '0.16926029981203633'}, 'df_tls': {'rf': '0.3133242708258806', 'svm': '0.34489995468746276', 'lr': '0.17462020939161957'}, 'df_tls_tcp': {'rf': '0.1880490038787566', 'svm': '0.19629827699608435', 'lr': '0.16386056146691994'}, 'df_tls_tcp_udp': {'rf': '0.20558256966523283', 'svm': '0.22301186542817364', 'lr': '0.153668723895019'}, 'df_tls_udp': {'rf': '0.2972596247665245', 'svm': '0.34498620055197793'}}\n"
     ]
    },
    {
     "name": "stderr",
     "output_type": "stream",
     "text": [
      "C:\\ProgramData\\Anaconda3\\lib\\site-packages\\sklearn\\linear_model\\logistic.py:433: FutureWarning: Default solver will be changed to 'lbfgs' in 0.22. Specify a solver to silence this warning.\n",
      "  FutureWarning)\n",
      "C:\\ProgramData\\Anaconda3\\lib\\site-packages\\sklearn\\linear_model\\logistic.py:460: FutureWarning: Default multi_class will be changed to 'auto' in 0.22. Specify the multi_class option to silence this warning.\n",
      "  \"this warning.\", FutureWarning)\n",
      "C:\\ProgramData\\Anaconda3\\lib\\site-packages\\sklearn\\linear_model\\logistic.py:1300: UserWarning: 'n_jobs' > 1 does not have any effect when 'solver' is set to 'liblinear'. Got 'n_jobs' = 12.\n",
      "  \" = {}.\".format(effective_n_jobs(self.n_jobs)))\n"
     ]
    },
    {
     "name": "stdout",
     "output_type": "stream",
     "text": [
      "Logistic Reg acc: 0.18620891527975245\n",
      "{'all': {'rf': '0.20282841849532876', 'svm': '0.22171087716526103', 'lr': '0.1613749037113117'}, 'df_http': {'rf': '0.32978723404255317', 'svm': '0.3404255319148936', 'lr': '0.21808510638297873'}, 'df_http_tcp': {'rf': '0.15967685921711952', 'svm': '0.3526352345830095', 'lr': '0.1419901106352015'}, 'df_http_tcp_udp': {'rf': '0.2037161108863077', 'svm': '0.3820788197599984', 'lr': '0.17080046965485676'}, 'df_http_tls': {'rf': '0.3097651891070538', 'svm': '0.3443101688074266', 'lr': '0.1738170421899855'}, 'df_http_tls_tcp': {'rf': '0.18547421547378568', 'svm': '0.1963357053828537', 'lr': '0.16377579527104605'}, 'df_http_tls_tcp_udp': {'rf': '0.20156217562798423', 'svm': '0.22305376790533527', 'lr': '0.1523354785135977'}, 'df_http_tls_udp': {'rf': '0.29559293757820104', 'svm': '0.34468233004309745', 'lr': '0.18623661893507576'}, 'df_http_udp': {'rf': '0.31467715590519685', 'svm': '0.37464582152738424', 'lr': '0.42851428380946033'}, 'df_tcp': {'rf': '0.157879917184265', 'svm': '0.3526128364389234', 'lr': '0.14200414078674947'}, 'df_tcp_udp': {'rf': '0.20305391170356202', 'svm': '0.382223816260519', 'lr': '0.16926029981203633'}, 'df_tls': {'rf': '0.3133242708258806', 'svm': '0.34489995468746276', 'lr': '0.17462020939161957'}, 'df_tls_tcp': {'rf': '0.1880490038787566', 'svm': '0.19629827699608435', 'lr': '0.16386056146691994'}, 'df_tls_tcp_udp': {'rf': '0.20558256966523283', 'svm': '0.22301186542817364', 'lr': '0.153668723895019'}, 'df_tls_udp': {'rf': '0.2972596247665245', 'svm': '0.34498620055197793', 'lr': '0.18620891527975245'}}\n",
      "df_udp\n"
     ]
    },
    {
     "name": "stderr",
     "output_type": "stream",
     "text": [
      "C:\\ProgramData\\Anaconda3\\lib\\site-packages\\sklearn\\ensemble\\forest.py:246: FutureWarning: The default value of n_estimators will change from 10 in version 0.20 to 100 in 0.22.\n",
      "  \"10 in version 0.20 to 100 in 0.22.\", FutureWarning)\n"
     ]
    },
    {
     "name": "stdout",
     "output_type": "stream",
     "text": [
      "RF acc: 0.3150179463956258\n",
      "{'all': {'rf': '0.20282841849532876', 'svm': '0.22171087716526103', 'lr': '0.1613749037113117'}, 'df_http': {'rf': '0.32978723404255317', 'svm': '0.3404255319148936', 'lr': '0.21808510638297873'}, 'df_http_tcp': {'rf': '0.15967685921711952', 'svm': '0.3526352345830095', 'lr': '0.1419901106352015'}, 'df_http_tcp_udp': {'rf': '0.2037161108863077', 'svm': '0.3820788197599984', 'lr': '0.17080046965485676'}, 'df_http_tls': {'rf': '0.3097651891070538', 'svm': '0.3443101688074266', 'lr': '0.1738170421899855'}, 'df_http_tls_tcp': {'rf': '0.18547421547378568', 'svm': '0.1963357053828537', 'lr': '0.16377579527104605'}, 'df_http_tls_tcp_udp': {'rf': '0.20156217562798423', 'svm': '0.22305376790533527', 'lr': '0.1523354785135977'}, 'df_http_tls_udp': {'rf': '0.29559293757820104', 'svm': '0.34468233004309745', 'lr': '0.18623661893507576'}, 'df_http_udp': {'rf': '0.31467715590519685', 'svm': '0.37464582152738424', 'lr': '0.42851428380946033'}, 'df_tcp': {'rf': '0.157879917184265', 'svm': '0.3526128364389234', 'lr': '0.14200414078674947'}, 'df_tcp_udp': {'rf': '0.20305391170356202', 'svm': '0.382223816260519', 'lr': '0.16926029981203633'}, 'df_tls': {'rf': '0.3133242708258806', 'svm': '0.34489995468746276', 'lr': '0.17462020939161957'}, 'df_tls_tcp': {'rf': '0.1880490038787566', 'svm': '0.19629827699608435', 'lr': '0.16386056146691994'}, 'df_tls_tcp_udp': {'rf': '0.20558256966523283', 'svm': '0.22301186542817364', 'lr': '0.153668723895019'}, 'df_tls_udp': {'rf': '0.2972596247665245', 'svm': '0.34498620055197793', 'lr': '0.18620891527975245'}, 'df_udp': {'rf': '0.3150179463956258'}}\n",
      "[LibSVM]"
     ]
    },
    {
     "name": "stderr",
     "output_type": "stream",
     "text": [
      "C:\\ProgramData\\Anaconda3\\lib\\site-packages\\sklearn\\svm\\base.py:196: FutureWarning: The default value of gamma will change from 'auto' to 'scale' in version 0.22 to account better for unscaled features. Set gamma explicitly to 'auto' or 'scale' to avoid this warning.\n",
      "  \"avoid this warning.\", FutureWarning)\n"
     ]
    },
    {
     "name": "stdout",
     "output_type": "stream",
     "text": [
      "SVM acc: 0.3753647982288417\n",
      "{'all': {'rf': '0.20282841849532876', 'svm': '0.22171087716526103', 'lr': '0.1613749037113117'}, 'df_http': {'rf': '0.32978723404255317', 'svm': '0.3404255319148936', 'lr': '0.21808510638297873'}, 'df_http_tcp': {'rf': '0.15967685921711952', 'svm': '0.3526352345830095', 'lr': '0.1419901106352015'}, 'df_http_tcp_udp': {'rf': '0.2037161108863077', 'svm': '0.3820788197599984', 'lr': '0.17080046965485676'}, 'df_http_tls': {'rf': '0.3097651891070538', 'svm': '0.3443101688074266', 'lr': '0.1738170421899855'}, 'df_http_tls_tcp': {'rf': '0.18547421547378568', 'svm': '0.1963357053828537', 'lr': '0.16377579527104605'}, 'df_http_tls_tcp_udp': {'rf': '0.20156217562798423', 'svm': '0.22305376790533527', 'lr': '0.1523354785135977'}, 'df_http_tls_udp': {'rf': '0.29559293757820104', 'svm': '0.34468233004309745', 'lr': '0.18623661893507576'}, 'df_http_udp': {'rf': '0.31467715590519685', 'svm': '0.37464582152738424', 'lr': '0.42851428380946033'}, 'df_tcp': {'rf': '0.157879917184265', 'svm': '0.3526128364389234', 'lr': '0.14200414078674947'}, 'df_tcp_udp': {'rf': '0.20305391170356202', 'svm': '0.382223816260519', 'lr': '0.16926029981203633'}, 'df_tls': {'rf': '0.3133242708258806', 'svm': '0.34489995468746276', 'lr': '0.17462020939161957'}, 'df_tls_tcp': {'rf': '0.1880490038787566', 'svm': '0.19629827699608435', 'lr': '0.16386056146691994'}, 'df_tls_tcp_udp': {'rf': '0.20558256966523283', 'svm': '0.22301186542817364', 'lr': '0.153668723895019'}, 'df_tls_udp': {'rf': '0.2972596247665245', 'svm': '0.34498620055197793', 'lr': '0.18620891527975245'}, 'df_udp': {'rf': '0.3150179463956258', 'svm': '0.3753647982288417'}}\n"
     ]
    },
    {
     "name": "stderr",
     "output_type": "stream",
     "text": [
      "C:\\ProgramData\\Anaconda3\\lib\\site-packages\\sklearn\\linear_model\\logistic.py:433: FutureWarning: Default solver will be changed to 'lbfgs' in 0.22. Specify a solver to silence this warning.\n",
      "  FutureWarning)\n",
      "C:\\ProgramData\\Anaconda3\\lib\\site-packages\\sklearn\\linear_model\\logistic.py:460: FutureWarning: Default multi_class will be changed to 'auto' in 0.22. Specify the multi_class option to silence this warning.\n",
      "  \"this warning.\", FutureWarning)\n",
      "C:\\ProgramData\\Anaconda3\\lib\\site-packages\\sklearn\\linear_model\\logistic.py:1300: UserWarning: 'n_jobs' > 1 does not have any effect when 'solver' is set to 'liblinear'. Got 'n_jobs' = 12.\n",
      "  \" = {}.\".format(effective_n_jobs(self.n_jobs)))\n"
     ]
    },
    {
     "name": "stdout",
     "output_type": "stream",
     "text": [
      "Logistic Reg acc: 0.4282311898292577\n",
      "{'all': {'rf': '0.20282841849532876', 'svm': '0.22171087716526103', 'lr': '0.1613749037113117'}, 'df_http': {'rf': '0.32978723404255317', 'svm': '0.3404255319148936', 'lr': '0.21808510638297873'}, 'df_http_tcp': {'rf': '0.15967685921711952', 'svm': '0.3526352345830095', 'lr': '0.1419901106352015'}, 'df_http_tcp_udp': {'rf': '0.2037161108863077', 'svm': '0.3820788197599984', 'lr': '0.17080046965485676'}, 'df_http_tls': {'rf': '0.3097651891070538', 'svm': '0.3443101688074266', 'lr': '0.1738170421899855'}, 'df_http_tls_tcp': {'rf': '0.18547421547378568', 'svm': '0.1963357053828537', 'lr': '0.16377579527104605'}, 'df_http_tls_tcp_udp': {'rf': '0.20156217562798423', 'svm': '0.22305376790533527', 'lr': '0.1523354785135977'}, 'df_http_tls_udp': {'rf': '0.29559293757820104', 'svm': '0.34468233004309745', 'lr': '0.18623661893507576'}, 'df_http_udp': {'rf': '0.31467715590519685', 'svm': '0.37464582152738424', 'lr': '0.42851428380946033'}, 'df_tcp': {'rf': '0.157879917184265', 'svm': '0.3526128364389234', 'lr': '0.14200414078674947'}, 'df_tcp_udp': {'rf': '0.20305391170356202', 'svm': '0.382223816260519', 'lr': '0.16926029981203633'}, 'df_tls': {'rf': '0.3133242708258806', 'svm': '0.34489995468746276', 'lr': '0.17462020939161957'}, 'df_tls_tcp': {'rf': '0.1880490038787566', 'svm': '0.19629827699608435', 'lr': '0.16386056146691994'}, 'df_tls_tcp_udp': {'rf': '0.20558256966523283', 'svm': '0.22301186542817364', 'lr': '0.153668723895019'}, 'df_tls_udp': {'rf': '0.2972596247665245', 'svm': '0.34498620055197793', 'lr': '0.18620891527975245'}, 'df_udp': {'rf': '0.3150179463956258', 'svm': '0.3753647982288417', 'lr': '0.4282311898292577'}}\n"
     ]
    }
   ],
   "source": [
    "path = '../../p2/collection'\n",
    "col_names = [\"website-index\", \"time\", \"direction\", \"packet size\"]\n",
    "folders = []\n",
    "for r, d, f in os.walk(path):\n",
    "    for folder in d:\n",
    "        folders.append(folder)\n",
    "\n",
    "results = {}\n",
    "\n",
    "# Loop over the folders in /collection\n",
    "for folder in folders:\n",
    "    if (folder == \"raw\"):\n",
    "        continue \n",
    "    results[folder] = {} # Goddam python dictionaries\n",
    "\n",
    "    # Load data into dataframes\n",
    "    df_one = pd.read_csv(path+\"/\"+folder+\"/\"+\"Day1-parsed-ondevice.csv\", header=0, names=col_names, error_bad_lines=False, warn_bad_lines=False, quotechar='^')\n",
    "    df_two = pd.read_csv(path+\"/\"+folder+\"/\"+\"Day2-parsed-ondevice.csv\", header=0, names=col_names, error_bad_lines=False, warn_bad_lines=False, quotechar='^')\n",
    "    df_three = pd.read_csv(path+\"/\"+folder+\"/\"+\"Day3-parsed-ondevice.csv\", header=0, names=col_names, error_bad_lines=False, warn_bad_lines=False, quotechar='^')\n",
    "    \n",
    "    # Preprocess training data\n",
    "    df = df_one.append(df_two)\n",
    "    X = df.loc[:, df.columns != 'website-index']\n",
    "    y = df['website-index']\n",
    "    \n",
    "    # Preprocess testing data\n",
    "    X_test = df_three.loc[:, df_three.columns != 'website-index']\n",
    "    y_test = df_three['website-index']\n",
    "    \n",
    "    outpath = './models/' + folder + \"/\"\n",
    "    if not os.path.exists(outpath):\n",
    "        os.mkdir(outpath)    \n",
    "\n",
    "    # RF model training\n",
    "    clf = RandomForestClassifier(n_jobs=-1)\n",
    "    clf.fit(X,y)\n",
    "    rf_acc = clf.score(X_test, y_test)\n",
    "    print(\"RF acc: \" + str(rf_acc))\n",
    "    results[folder][\"rf\"] = str(rf_acc)\n",
    "    dump(clf, outpath + 'rf_model.joblib')\n",
    "    print(results)\n",
    "\n",
    "    # SVM model training\n",
    "    svm_model = svm.SVC(verbose=True, cache_size=8000) # Yes i have the ram\n",
    "    svm_model.fit(X, y)\n",
    "    svm_acc = svm_model.score(X_test, y_test)\n",
    "    print(\"SVM acc: \" + str(svm_acc))\n",
    "    results[folder][\"svm\"] = str(svm_acc)\n",
    "    dump(svm_model, outpath + 'svm_model.joblib')\n",
    "    print(results)\n",
    "\n",
    "    # LR model training\n",
    "    lr = LogisticRegression(random_state=0, max_iter=10e5, n_jobs=-1)\n",
    "    lr.fit(X, y)\n",
    "    lr_acc = lr.score(X_test, y_test)\n",
    "    print(\"Logistic Reg acc: \" + str(lr_acc))\n",
    "    results[folder][\"lr\"] = str(lr_acc)\n",
    "    dump(lr, outpath + \"lr_model.joblib\")\n",
    "    print(results)"
   ]
  },
  {
   "cell_type": "markdown",
   "metadata": {},
   "source": [
    "#### Accuracy of the 3 models with different subset of packets types"
   ]
  },
  {
   "cell_type": "code",
   "execution_count": 44,
   "metadata": {},
   "outputs": [
    {
     "data": {
      "text/plain": [
       "<matplotlib.legend.Legend at 0x1e587031ba8>"
      ]
     },
     "execution_count": 44,
     "metadata": {},
     "output_type": "execute_result"
    },
    {
     "data": {
      "image/png": "[encoded data removed]",
      "text/plain": [
       "<Figure size 432x288 with 1 Axes>"
      ]
     },
     "metadata": {},
     "output_type": "display_data"
    }
   ],
   "source": [
    "x_key = svm_key = list(map(lambda x : x[0], svm_results))\n",
    "x_pos = [i for i, _ in enumerate(x_key)]\n",
    "\n",
    "svm_results = [(k, r['svm']) for k,r in results.items()]\n",
    "svm_val = list(map(lambda x : float(x[1]), svm_results))\n",
    "\n",
    "rf_results = [(k, r['rf']) for k,r in results.items()]\n",
    "rf_val = list(map(lambda x : float(x[1]), rf_results))\n",
    "\n",
    "lr_results =  [(k, r['lr']) for k,r in results.items()]\n",
    "lr_val = list(map(lambda x : float(x[1]), lr_results))\n",
    "\n",
    "# multiple line plot\n",
    "plt.plot(x_pos, svm_val, marker='o', markerfacecolor='blue', markersize=12, color='skyblue', linewidth=2, label='SVM acc')\n",
    "plt.plot(x_pos, rf_val, marker='o', markerfacecolor='red', markersize=12, color='olive', linewidth=2, label='RF acc')\n",
    "plt.plot(x_pos, lr_val, marker='o', markerfacecolor='green', markersize=12, color='yellow', linewidth=2, label='LR acc')\n",
    "plt.xticks(x_pos, x_key, rotation='vertical')\n",
    "plt.xlabel(\"protocol\")\n",
    "plt.ylabel(\"Accuracy\")\n",
    "\n",
    "plt.legend()"
   ]
  },
  {
   "cell_type": "markdown",
   "metadata": {},
   "source": [
    "#### Average accuracy of the 3 model types"
   ]
  },
  {
   "cell_type": "code",
   "execution_count": 47,
   "metadata": {},
   "outputs": [
    {
     "data": {
      "image/png": "[encoded data removed]",
      "text/plain": [
       "<Figure size 432x288 with 1 Axes>"
      ]
     },
     "metadata": {},
     "output_type": "display_data"
    }
   ],
   "source": [
    "lr_av = np.mean(lr_val)\n",
    "rf_av = np.mean(rf_val)\n",
    "svm_av = np.mean(svm_val)\n",
    "plt.bar([0,1,2], [lr_av, rf_av, svm_av])\n",
    "plt.xticks([0,1,2], ['lr', 'rf', 'svm'])\n",
    "plt.xlabel(\"Model\")\n",
    "plt.ylabel(\"Average accuracy\")\n",
    "\n",
    "plt.show()"
   ]
  },
  {
   "cell_type": "markdown",
   "metadata": {},
   "source": [
    "As we can see from the plot above, using UDP with Logistical Regression (LR) seems to provide the best results. \n",
    "\n",
    "However, averaging out across protocols, LR performs the worst. "
   ]
  },
  {
   "cell_type": "markdown",
   "metadata": {},
   "source": [
    "We also want to verify the impact on accuracy depending on the protocol used. \n",
    "\n",
    "To do this we calculate the average accuracies for each model type (lr, rf, svm), for each model that uses http, udp, tls, tcp protocols. \n",
    "\n",
    "For example, we calculate the average accuracy given model type SVM that uses UDP packets (df_udp, df_http_udp, df_tcp_udp, ..., etc.)"
   ]
  },
  {
   "cell_type": "markdown",
   "metadata": {},
   "source": [
    "#### Average accuracy of the 3 models across different subset of packets"
   ]
  },
  {
   "cell_type": "code",
   "execution_count": 87,
   "metadata": {},
   "outputs": [
    {
     "name": "stdout",
     "output_type": "stream",
     "text": [
      "Average accuracy of protocol usage against model\n"
     ]
    },
    {
     "data": {
      "text/html": [
       "<table>\n",
       "<tbody>\n",
       "<tr><td>    </td><td>SVM                </td><td>LR                 </td><td>RF                </td></tr>\n",
       "<tr><td>HTTP</td><td>0.3197709224904999 </td><td>0.2044443631740253 </td><td>0.2500314847297752</td></tr>\n",
       "<tr><td>UDP </td><td>0.33125592746316596</td><td>0.23440699746613203</td><td>0.2545578040660794</td></tr>\n",
       "<tr><td>TLS </td><td>0.2771972837253015 </td><td>0.16931541811787698</td><td>0.2495762483654274</td></tr>\n",
       "<tr><td>TCP </td><td>0.2885312903443622 </td><td>0.15721194750442835</td><td>0.1881243454546267</td></tr>\n",
       "</tbody>\n",
       "</table>"
      ],
      "text/plain": [
       "<IPython.core.display.HTML object>"
      ]
     },
     "metadata": {},
     "output_type": "display_data"
    }
   ],
   "source": [
    "# For HTTP, TCP, UDP, TLS, plot their average accuracy on each of the 3 models\n",
    "# x-axis: protcols that uses http, tcp, udp, or tls\n",
    "# y-axis average accuracy on for models that used that protocol\n",
    "http = [d for d in x_key if d.find(\"http\") >= 0]\n",
    "udp = [d for d in x_key if d.find(\"udp\") >= 0]\n",
    "tls = [d for d in x_key if d.find(\"tls\") >= 0]\n",
    "tcp = [d for d in x_key if d.find(\"tcp\") >= 0]\n",
    "\n",
    "# print(http)\n",
    "# print(udp)\n",
    "# print(tls)\n",
    "# print(tcp)\n",
    "\n",
    "http_svm_val = [r['svm'] for k,r in results.items() if k in http]\n",
    "udp_svm_val = [r['svm'] for k,r in results.items() if k in udp]\n",
    "tls_svm_val = [r['svm'] for k,r in results.items() if k in tls]\n",
    "tcp_svm_val = [r['svm'] for k,r in results.items() if k in tcp]\n",
    "\n",
    "http_lr_val = [r['lr'] for k,r in results.items() if k in http]\n",
    "udp_lr_val = [r['lr'] for k,r in results.items() if k in udp]\n",
    "tls_lr_val = [r['lr'] for k,r in results.items() if k in tls]\n",
    "tcp_lr_val = [r['lr'] for k,r in results.items() if k in tcp]\n",
    "\n",
    "http_rf_val = [r['rf'] for k,r in results.items() if k in http]\n",
    "udp_rf_val = [r['rf'] for k,r in results.items() if k in udp]\n",
    "tls_rf_val = [r['rf'] for k,r in results.items() if k in tls]\n",
    "tcp_rf_val = [r['rf'] for k,r in results.items() if k in tcp]\n",
    "\n",
    "http_svm_av = np.mean(list(map(lambda x: float(x), http_svm_val)))\n",
    "http_lr_av = np.mean(list(map(lambda x: float(x), http_lr_val)))\n",
    "http_rf_av = np.mean(list(map(lambda x: float(x), http_rf_val)))\n",
    "\n",
    "udp_svm_av = np.mean(list(map(lambda x: float(x), udp_svm_val)))\n",
    "udp_lr_av = np.mean(list(map(lambda x: float(x), udp_lr_val)))\n",
    "udp_rf_av = np.mean(list(map(lambda x: float(x), udp_rf_val)))\n",
    "\n",
    "tls_svm_av = np.mean(list(map(lambda x: float(x), tls_svm_val)))\n",
    "tls_lr_av = np.mean(list(map(lambda x: float(x), tls_lr_val)))\n",
    "tls_rf_av = np.mean(list(map(lambda x: float(x), tls_rf_val)))\n",
    "\n",
    "tcp_svm_av = np.mean(list(map(lambda x: float(x), tcp_svm_val)))\n",
    "tcp_lr_av = np.mean(list(map(lambda x: float(x), tcp_lr_val)))\n",
    "tcp_rf_av = np.mean(list(map(lambda x: float(x), tcp_rf_val)))\n",
    "\n",
    "\n",
    "from IPython.display import HTML, display\n",
    "import tabulate\n",
    "table = [[\"\",\"SVM\",\"LR\", \"RF\"],\n",
    "         [\"HTTP\", http_svm_av, http_lr_av, http_rf_av],\n",
    "         [\"UDP\", udp_svm_av, udp_lr_av, udp_rf_av],\n",
    "         [\"TLS\", tls_svm_av, tls_lr_av, tls_rf_av],\n",
    "         [\"TCP\",tcp_svm_av, tcp_lr_av, tcp_rf_av]\n",
    "        ]\n",
    "\n",
    "print(\"Average accuracy of protocol usage against model\")\n",
    "display(HTML(tabulate.tabulate(table, tablefmt='html', floatfmt=(\".4f\", \".4f\", \".4f\"))))\n",
    "\n",
    "# We would also want to normalize it by the average proportion of protocol packtes in each dataset that the protocol was part of"
   ]
  },
  {
   "cell_type": "markdown",
   "metadata": {},
   "source": [
    "From the table above, it seems like HTTP and UDP plays a big role in SVM. \n",
    "\n",
    "However, findings in this table must be taken with a grain of salt as protocol usage is very skewed in the data i.e. a data collection might have 4 HTTP packets and hundreds of UDP.\n",
    "\n"
   ]
  },
  {
   "cell_type": "markdown",
   "metadata": {},
   "source": [
    "## Next steps"
   ]
  },
  {
   "cell_type": "markdown",
   "metadata": {},
   "source": [
    "At this point, we should verify why LR with UDP provides the best results. Our theory is that TCP data has too much noise where a lot of different services are also using TCP. Additionally, we guess that most of the UDP traffic is generated by the website. Hence manual selection of the UDP protocol data provides the best results as it minimizes the noise. "
   ]
  },
  {
   "cell_type": "markdown",
   "metadata": {},
   "source": [
    "TODO: check the distribution of UDP packets across each website "
   ]
  },
  {
   "cell_type": "markdown",
   "metadata": {},
   "source": [
    "### Community data model (no features)"
   ]
  },
  {
   "cell_type": "markdown",
   "metadata": {},
   "source": [
    "#### HTTP"
   ]
  },
  {
   "cell_type": "code",
   "execution_count": 4,
   "metadata": {},
   "outputs": [
    {
     "name": "stdout",
     "output_type": "stream",
     "text": [
      "RF acc: 0.06477577615944806\n",
      "SVM acc: 0.05672671521655807\n"
     ]
    }
   ],
   "source": [
    "# Community data import (make sure to have path with access to parsed community data)\n",
    "path=\"community_data/parsed_on_device/http/\"\n",
    "day_one=\"day_1\"\n",
    "day_two=\"day_2\"\n",
    "day_three=\"day_3\"\n",
    "file=\"_fixed.csv\"\n",
    "col_names = [\"website-index\", \"time\", \"direction\", \"packet size\"]\n",
    "\n",
    "df_one = pd.read_csv(path+day_one+file, header=0, names=col_names, error_bad_lines=False, warn_bad_lines=False)\n",
    "df_two = pd.read_csv(path+day_two+file, header=0, names=col_names, error_bad_lines=False, warn_bad_lines=False)\n",
    "df_three = pd.read_csv(path+day_three+file, header=0, names=col_names, error_bad_lines=False, warn_bad_lines=False)\n",
    "\n",
    "# Preprocess training data\n",
    "df = df_one.append(df_two)\n",
    "X = df.loc[:, df.columns != 'website-index']\n",
    "y = df['website-index']\n",
    "\n",
    "# Preprocess testing data\n",
    "X_test = df_three.loc[:, df_three.columns != 'website-index']\n",
    "y_test = df_three['website-index']\n",
    "\n",
    "# Model training\n",
    "clf = RandomForestClassifier()\n",
    "clf.fit(X,y)\n",
    "\n",
    "svm_model = svm.SVC()\n",
    "svm_model.fit(X, y)\n",
    "\n",
    "# Evaluate\n",
    "rf_acc = clf.score(X_test, y_test)\n",
    "svm_acc = svm_model.score(X_test, y_test)\n",
    "\n",
    "print(\"RF acc: \" + str(rf_acc))\n",
    "print(\"SVM acc: \" + str(svm_acc))"
   ]
  },
  {
   "cell_type": "markdown",
   "metadata": {},
   "source": [
    "#### TLS"
   ]
  },
  {
   "cell_type": "code",
   "execution_count": 6,
   "metadata": {},
   "outputs": [],
   "source": [
    "path=\"community_data/parsed_on_device/tls/\"\n",
    "day_one=\"day_1\"\n",
    "day_two=\"day_2\"\n",
    "day_three=\"day_3\"\n",
    "file=\"_fixed.csv\"\n",
    "col_names = [\"website-index\", \"time\", \"direction\", \"packet size\"]\n",
    "\n",
    "df_one = pd.read_csv(path+day_one+file, header=0, names=col_names, error_bad_lines=False, warn_bad_lines=False)\n",
    "df_two = pd.read_csv(path+day_two+file, header=0, names=col_names, error_bad_lines=False, warn_bad_lines=False)\n",
    "df_three = pd.read_csv(path+day_three+file, header=0, names=col_names, error_bad_lines=False, warn_bad_lines=False)\n",
    "\n",
    "# Preprocess training data\n",
    "df = df_one.append(df_two)\n",
    "X = df.loc[:, df.columns != 'website-index']\n",
    "y = df['website-index']\n",
    "\n",
    "# Preprocess testing data\n",
    "X_test = df_three.loc[:, df_three.columns != 'website-index']\n",
    "y_test = df_three['website-index']\n",
    "\n",
    "# Model training\n",
    "clf = RandomForestClassifier()\n",
    "clf.fit(X,y)\n",
    "\n",
    "# Evaluate\n",
    "rf_acc = clf.score(X_test, y_test)\n",
    "\n",
    "print(\"RF acc: \" + str(rf_acc))"
   ]
  },
  {
   "cell_type": "markdown",
   "metadata": {},
   "source": [
    "### Feature Engineering\n",
    "\n",
    "Here we are going to add features from the papers & re-train/test the models to see their effect"
   ]
  },
  {
   "cell_type": "markdown",
   "metadata": {},
   "source": [
    "#### Data import\n",
    "\n",
    "Either execute local or community data import to run the models below"
   ]
  },
  {
   "cell_type": "code",
   "execution_count": 15,
   "metadata": {},
   "outputs": [],
   "source": [
    "# Local data\n",
    "path = \"collection/\"\n",
    "folder = \"df_http_udp/\" # specify which packet protocol config you want here\n",
    "col_names = [\"website-index\", \"time\", \"direction\", \"packet size\"]\n",
    "df_one = pd.read_csv(path+folder+\"Day1-parsed-ondevice.csv\", header=0, names=col_names, error_bad_lines=False, warn_bad_lines=False, quotechar='^')\n",
    "df_two = pd.read_csv(path+folder+\"Day2-parsed-ondevice.csv\", header=0, names=col_names, error_bad_lines=False, warn_bad_lines=False, quotechar='^')\n",
    "df_three = pd.read_csv(path+folder+\"Day3-parsed-ondevice.csv\", header=0, names=col_names, error_bad_lines=False, warn_bad_lines=False, quotechar='^')"
   ]
  },
  {
   "cell_type": "code",
   "execution_count": 2,
   "metadata": {},
   "outputs": [
    {
     "name": "stdout",
     "output_type": "stream",
     "text": [
      "RF acc: 0.06388206388206388\n",
      "SVM acc: 0.05405405405405406\n"
     ]
    }
   ],
   "source": [
    "# Community data import (make sure to have path with access to parsed community data)\n",
    "path=\"community_data/parsed_on_device/tls/\"\n",
    "day_one=\"day_1\"\n",
    "day_two=\"day_2\"\n",
    "day_three=\"day_3\"\n",
    "file=\"_fixed.csv\"\n",
    "col_names = [\"website-index\", \"time\", \"direction\", \"packet size\"]\n",
    "\n",
    "df_one = pd.read_csv(path+day_one+file, header=0, names=col_names, error_bad_lines=False, warn_bad_lines=False)\n",
    "df_two = pd.read_csv(path+day_two+file, header=0, names=col_names, error_bad_lines=False, warn_bad_lines=False)\n",
    "df_three = pd.read_csv(path+day_three+file, header=0, names=col_names, error_bad_lines=False, warn_bad_lines=False)\n"
   ]
  },
  {
   "cell_type": "markdown",
   "metadata": {},
   "source": [
    "#### Model Execution"
   ]
  },
  {
   "cell_type": "code",
   "execution_count": 3,
   "metadata": {},
   "outputs": [],
   "source": [
    "def run_model(df_one, df_two, df_three):\n",
    "    # Preprocess training data\n",
    "    df = df_one.append(df_two)\n",
    "    X = df.loc[:, df.columns != 'website-index']\n",
    "    y = df['website-index']\n",
    "\n",
    "    # Preprocess testing data\n",
    "    X_test = df_three.loc[:, df_three.columns != 'website-index']\n",
    "    y_test = df_three['website-index']\n",
    "\n",
    "    # Model training\n",
    "    clf = RandomForestClassifier(n_estimators=300, n_jobs=-1 )\n",
    "    # Change n_estimators to what you want (defualt 100)\n",
    "    # n_jobs=-1 will run the classifier on ALL cpu's, lower this if running on bad comp\n",
    "    \n",
    "    clf.fit(X,y)\n",
    "\n",
    "    knn = KNeighborsClassifier(n_neighbors=20)\n",
    "    knn.fit(X,y)\n",
    "\n",
    "    # Evaluate\n",
    "    rf_acc = clf.score(X_test, y_test)\n",
    "    knn_acc = knn.score(X_test, y_test)\n",
    "\n",
    "    print(\"RF acc: \" + str(rf_acc))\n",
    "    print(\"KNN acc: \" + str(knn_acc))"
   ]
  },
  {
   "cell_type": "markdown",
   "metadata": {},
   "source": [
    "#### Panchenko et al [fingerprinting-ndss2016]; cumulative representation of trace"
   ]
  },
  {
   "cell_type": "code",
   "execution_count": 27,
   "metadata": {},
   "outputs": [],
   "source": [
    "def directional_packet_size(x):\n",
    "    if (x['direction'] == 1):\n",
    "        return -x['packet size']\n",
    "    else:\n",
    "        return x['packet size']"
   ]
  },
  {
   "cell_type": "code",
   "execution_count": 28,
   "metadata": {},
   "outputs": [],
   "source": [
    "def cum_trace(df):    \n",
    "    # Create a directional packet size column p_i (negative values if outbound)\n",
    "    df.insert(4, 'p_i', df['packet size'])\n",
    "    df['p_i'] = df.apply(directional_packet_size, axis=1)\n",
    "\n",
    "    # Create cumulative packet size trace using directional packet sizes\n",
    "    df['c_i'] = df.groupby('website-index')['p_i'].cumsum(axis=None)\n",
    "\n",
    "    return df"
   ]
  },
  {
   "cell_type": "code",
   "execution_count": 11,
   "metadata": {},
   "outputs": [],
   "source": [
    "df_one = cum_trace(df_one)\n",
    "df_two = cum_trace(df_two)\n",
    "df_three = cum_trace(df_three)"
   ]
  },
  {
   "cell_type": "code",
   "execution_count": 12,
   "metadata": {},
   "outputs": [
    {
     "name": "stdout",
     "output_type": "stream",
     "text": [
      "RF acc: 0.7765592186406214\n",
      "KNN acc: 0.6978565952198407\n"
     ]
    }
   ],
   "source": [
    "run_model(df_one, df_two, df_three)"
   ]
  },
  {
   "cell_type": "markdown",
   "metadata": {},
   "source": [
    "#### Statistics features per Hayes et al [sec16]"
   ]
  },
  {
   "cell_type": "code",
   "execution_count": 26,
   "metadata": {},
   "outputs": [],
   "source": [
    "def cumulative_packets(df, trace=False):\n",
    "    # also use ndss2016\n",
    "    if (trace):\n",
    "        df = cum_trace(df)\n",
    "        \n",
    "    # cumulative packets counter\n",
    "    df['cum_count'] = df.groupby('website-index').cumcount()+1\n",
    "    \n",
    "    # cumulative incoming packets counter\n",
    "    df['cum_inc'] = df.groupby('website-index')['direction'].cumsum(axis=None)\n",
    "    \n",
    "    # cumulative outgoing packets counter\n",
    "    df['cum_out'] = df['cum_count'] - df['cum_inc']\n",
    "    \n",
    "    # cumulative percentage outgoing/incoming\n",
    "    df['perc_in'] = df['cum_inc']/(df.groupby('website-index').cumcount()+1)\n",
    "    df['perc_out'] =  df['cum_out']/(df.groupby('website-index').cumcount()+1)\n",
    "    \n",
    "    return df"
   ]
  },
  {
   "cell_type": "code",
   "execution_count": 16,
   "metadata": {
    "scrolled": false
   },
   "outputs": [],
   "source": [
    "df_one = cumulative_packets(df_one, True)\n",
    "df_two = cumulative_packets(df_two, True)\n",
    "df_three = cumulative_packets(df_three, True)"
   ]
  },
  {
   "cell_type": "code",
   "execution_count": 17,
   "metadata": {},
   "outputs": [
    {
     "name": "stdout",
     "output_type": "stream",
     "text": [
      "RF acc: 0.7963265442181406\n",
      "KNN acc: 0.7088236274542484\n"
     ]
    }
   ],
   "source": [
    "run_model(df_one, df_two, df_three)"
   ]
  },
  {
   "cell_type": "markdown",
   "metadata": {},
   "source": [
    "#### Previous 100 packet sizes as features"
   ]
  },
  {
   "cell_type": "code",
   "execution_count": 25,
   "metadata": {},
   "outputs": [],
   "source": [
    "def previous_packets(df, prev=False):\n",
    "    if (prev):\n",
    "        df = cumulative_packets(df, True)\n",
    "    \n",
    "    # Get 100 previous packet sizes --> we can make it p_i instead of packet_size too\n",
    "    for i in range(1, 101):\n",
    "        name = \"prev_\"+str(i)\n",
    "\n",
    "        if (prev):\n",
    "            df[name] = df.groupby('website-index')['p_i'].shift(i)\n",
    "        else:\n",
    "            df[name] = df.groupby('website-index')['packet size'].shift(i)\n",
    "        \n",
    "    # Remove NaN\n",
    "    df.fillna(0, inplace=True)\n",
    "    \n",
    "    return df"
   ]
  },
  {
   "cell_type": "code",
   "execution_count": 19,
   "metadata": {},
   "outputs": [],
   "source": [
    "df_one = previous_packets(df_one, True)\n",
    "df_two = previous_packets(df_two, True)\n",
    "df_three = previous_packets(df_three, True)"
   ]
  },
  {
   "cell_type": "code",
   "execution_count": 21,
   "metadata": {},
   "outputs": [
    {
     "name": "stdout",
     "output_type": "stream",
     "text": [
      "RF acc: 0.813893796459882\n",
      "KNN acc: 0.7240908030267675\n"
     ]
    }
   ],
   "source": [
    "run_model(df_one, df_two, df_three)"
   ]
  },
  {
   "cell_type": "markdown",
   "metadata": {},
   "source": [
    "#### Total discrete statistics \n",
    "\n",
    "Number of packet statistics, such as packet count per website, etc. Denoted in Hayes 2016"
   ]
  },
  {
   "cell_type": "code",
   "execution_count": 23,
   "metadata": {},
   "outputs": [],
   "source": [
    "# Local data\n",
    "path = \"collection/\"\n",
    "folder = \"df_http_udp/\" # specify which packet protocol config you want here\n",
    "col_names = [\"website-index\", \"time\", \"direction\", \"packet size\"]\n",
    "df_one = pd.read_csv(path+folder+\"Day1-parsed-ondevice.csv\", header=0, names=col_names, error_bad_lines=False, warn_bad_lines=False, quotechar='^')\n",
    "df_two = pd.read_csv(path+folder+\"Day2-parsed-ondevice.csv\", header=0, names=col_names, error_bad_lines=False, warn_bad_lines=False, quotechar='^')\n",
    "df_three = pd.read_csv(path+folder+\"Day3-parsed-ondevice.csv\", header=0, names=col_names, error_bad_lines=False, warn_bad_lines=False, quotechar='^')"
   ]
  },
  {
   "cell_type": "code",
   "execution_count": 24,
   "metadata": {},
   "outputs": [],
   "source": [
    "def safe_div(q, r):\n",
    "    if r == 0:\n",
    "        return 0\n",
    "    else:\n",
    "        return q / r\n",
    "\n",
    "def n_o_statistics(df, prev=False):\n",
    "    if (prev):\n",
    "        df = previous_packets(df, True)\n",
    "    \n",
    "    # Total number of packets per session, total number of incoming/outgoing packets + percentages\n",
    "    curr_index = df.at[0, 'website-index']\n",
    "    total_inc_packets = 0\n",
    "    total_out_packets = 0\n",
    "    inc_values = []\n",
    "    out_values = []\n",
    "    total_values = []\n",
    "    total_incoming_percentage = []\n",
    "    total_outgoing_percentage = []\n",
    "    for index, row in df.iterrows():\n",
    "        if (row['website-index'] != curr_index):\n",
    "            total_packets = total_inc_packets + total_out_packets\n",
    "            \n",
    "            inc_values.extend([total_inc_packets] * total_packets)\n",
    "            out_values.extend([total_out_packets] * total_packets)\n",
    "            total_values.extend([total_packets] * total_packets)\n",
    "            \n",
    "            total_incoming_percentage.extend([safe_div(total_inc_packets, total_packets)] * (total_packets))\n",
    "            total_outgoing_percentage.extend([safe_div(total_out_packets, total_packets)] * (total_packets))\n",
    "            curr_index = row['website-index']\n",
    "            \n",
    "            if row['direction'] == 0:\n",
    "                total_inc_packets = 1\n",
    "                total_out_packets = 0\n",
    "            else:\n",
    "                total_inc_packets = 0\n",
    "                total_out_packets = 1\n",
    "        else: \n",
    "            if row['direction'] == 0:\n",
    "                total_inc_packets += 1\n",
    "            else:\n",
    "                total_out_packets += 1\n",
    "    # Repeat for last website index\n",
    "    total_packets = total_inc_packets + total_out_packets\n",
    "    inc_values.extend([total_inc_packets] * total_packets)\n",
    "    out_values.extend([total_out_packets] * total_packets)\n",
    "    total_values.extend([total_packets] * (total_packets))\n",
    "    total_incoming_percentage.extend([safe_div(total_inc_packets, total_packets)] * (total_packets))\n",
    "    total_outgoing_percentage.extend([safe_div(total_out_packets, total_packets)] * (total_packets))\n",
    "\n",
    "    df['total_incoming'] = inc_values\n",
    "    df['total_outgoing'] = out_values\n",
    "    df['total_packets'] = total_values\n",
    "    df['total_incoming_percentage'] = total_incoming_percentage\n",
    "    df['total_outgoing_percentage'] = total_outgoing_percentage\n",
    "\n",
    "    return df"
   ]
  },
  {
   "cell_type": "code",
   "execution_count": 24,
   "metadata": {},
   "outputs": [],
   "source": [
    "df_one_stat = n_o_statistics(df_one, prev=True)\n",
    "df_two_stat = n_o_statistics(df_two, prev=True)\n",
    "df_three_stat = n_o_statistics(df_three, prev=True)"
   ]
  },
  {
   "cell_type": "code",
   "execution_count": 25,
   "metadata": {},
   "outputs": [
    {
     "name": "stdout",
     "output_type": "stream",
     "text": [
      "RF acc: 0.8336277875929198\n",
      "KNN acc: 0.7305576852561753\n"
     ]
    }
   ],
   "source": [
    "run_model(df_one_stat, df_two_stat, df_three_stat)"
   ]
  },
  {
   "cell_type": "markdown",
   "metadata": {},
   "source": [
    "#### Packet ordering statistics hayes 2016\n",
    "For each successive incoming and outgoing packet, the total number of packets seen before it in the sequence\n",
    "\n",
    "The standard deviation of the outgoing packet ordering list\n",
    "\n",
    "The standard deviation of the incoming packet ordering list \n",
    "\n",
    "The average of the incoming packet ordering list\n"
   ]
  },
  {
   "cell_type": "code",
   "execution_count": 26,
   "metadata": {},
   "outputs": [],
   "source": [
    "# Local data\n",
    "path = \"collection/\"\n",
    "folder = \"df_http_udp/\" # specify which packet protocol config you want here\n",
    "col_names = [\"website-index\", \"time\", \"direction\", \"packet size\"]\n",
    "df_one = pd.read_csv(path+folder+\"Day1-parsed-ondevice.csv\", header=0, names=col_names, error_bad_lines=False, warn_bad_lines=False, quotechar='^')\n",
    "df_two = pd.read_csv(path+folder+\"Day2-parsed-ondevice.csv\", header=0, names=col_names, error_bad_lines=False, warn_bad_lines=False, quotechar='^')\n",
    "df_three = pd.read_csv(path+folder+\"Day3-parsed-ondevice.csv\", header=0, names=col_names, error_bad_lines=False, warn_bad_lines=False, quotechar='^')"
   ]
  },
  {
   "cell_type": "code",
   "execution_count": 23,
   "metadata": {},
   "outputs": [],
   "source": [
    "def ordering_statistics(df, prev=False):\n",
    "    if (prev):\n",
    "        df = n_o_statistics(df, True)\n",
    "    \n",
    "    # For each successive incoming and outgoing packet, the total number of packets seen before it in the sequence\n",
    "    \"\"\"\n",
    "    e.g. \n",
    "    direction successive_num_packets\n",
    "    0 0 \n",
    "    0 1\n",
    "    0 2\n",
    "    1 0 \n",
    "    0 0\n",
    "    0 1\n",
    "    \"\"\"\n",
    "    total_seen = 0\n",
    "    last_dir = -1\n",
    "    result = []\n",
    "    curr_index = \"\"\n",
    "    for index, row in df.iterrows():\n",
    "        if row['website-index'] != curr_index:\n",
    "            total_seen = 0\n",
    "            last_dir = -1\n",
    "            curr_index = row['website-index']\n",
    "        if row.direction == last_dir:\n",
    "            total_seen += 1\n",
    "            result.append(total_seen)\n",
    "        else:\n",
    "            total_seen = 0\n",
    "            result.append(total_seen)\n",
    "            last_dir = row.direction \n",
    "    df['successive_num_packets'] = result\n",
    "    \n",
    "    # The average and standard deviation of the in/outgoing packet ordering list\n",
    "    curr_index = df.at[0, 'website-index']\n",
    "    outgoing_vals = []\n",
    "    incoming_vals = []\n",
    "    incoming_order_std = []\n",
    "    outgoing_order_std = []\n",
    "    outgoing_order_avg = []\n",
    "    incoming_order_avg = []\n",
    "\n",
    "    for index, row in df.iterrows():\n",
    "        if (row['website-index'] != curr_index):\n",
    "            # Get std of in/outgoing_vals and reset\n",
    "            curr_index = row['website-index']\n",
    "            out_std = np.std(outgoing_vals)\n",
    "            in_std = np.std(incoming_vals)\n",
    "            out_avg = np.mean(outgoing_vals)\n",
    "            in_avg = np.mean(incoming_vals)\n",
    "            total_segment_length = len(outgoing_vals) + len(incoming_vals)\n",
    "            incoming_order_std.extend([in_std] * total_segment_length)\n",
    "            outgoing_order_std.extend([out_std] * total_segment_length)\n",
    "            outgoing_order_avg.extend([out_avg] * total_segment_length)\n",
    "            incoming_order_avg.extend([in_avg] * total_segment_length)\n",
    "            \n",
    "            if row.direction == 1:\n",
    "                outgoing_vals = [row['successive_num_packets']]\n",
    "                incoming_vals = []\n",
    "            else: \n",
    "                incoming_vals = [(row['successive_num_packets']) ]\n",
    "                outgoing_vals = []\n",
    "\n",
    "        else:\n",
    "            if row.direction == 1:\n",
    "                outgoing_vals.append(row['successive_num_packets'])\n",
    "            else: \n",
    "                incoming_vals.append(row['successive_num_packets']) \n",
    "                \n",
    "    # Repeat for last segment \n",
    "    out_std = np.std(outgoing_vals)\n",
    "    in_std = np.std(incoming_vals)\n",
    "    out_avg = np.mean(outgoing_vals)\n",
    "    in_avg = np.mean(incoming_vals)\n",
    "    total_segment_length = len(outgoing_vals) + len(incoming_vals)\n",
    "    incoming_order_std.extend([in_std] * total_segment_length)\n",
    "    outgoing_order_std.extend([out_std] * total_segment_length)\n",
    "    outgoing_order_avg.extend([out_avg] * total_segment_length)\n",
    "    incoming_order_avg.extend([in_avg] * total_segment_length)\n",
    "    \n",
    "    \n",
    "    df['outgoing_order_std'] = outgoing_order_std\n",
    "    df['incoming_order_std'] = incoming_order_std\n",
    "    df['outgoing_order_avg'] = outgoing_order_avg\n",
    "    df['incoming_order_avg'] = incoming_order_avg\n",
    "\n",
    "        \n",
    "    return df"
   ]
  },
  {
   "cell_type": "code",
   "execution_count": 506,
   "metadata": {},
   "outputs": [],
   "source": [
    "df_one_stat = ordering_statistics(df_one, prev=True)\n",
    "df_two_stat = ordering_statistics(df_two, prev=True)\n",
    "df_three_stat = ordering_statistics(df_three, prev=True)"
   ]
  },
  {
   "cell_type": "code",
   "execution_count": 508,
   "metadata": {},
   "outputs": [
    {
     "name": "stdout",
     "output_type": "stream",
     "text": [
      "RF acc: 0.8277609253641788\n",
      "KNN acc: 0.7305576852561753\n"
     ]
    }
   ],
   "source": [
    "run_model(df_one_stat, df_two_stat, df_three_stat)"
   ]
  },
  {
   "cell_type": "markdown",
   "metadata": {},
   "source": [
    "#### Concentration of incoming & outgoing packets in first & last 30 packets. Hayes 2016\n",
    "\n",
    "The number of incoming and outgoing packets in the first and last 30 packets"
   ]
  },
  {
   "cell_type": "code",
   "execution_count": 509,
   "metadata": {},
   "outputs": [],
   "source": [
    "# Local data\n",
    "path = \"collection/\"\n",
    "folder = \"df_http_udp/\" # specify which packet protocol config you want here\n",
    "col_names = [\"website-index\", \"time\", \"direction\", \"packet size\"]\n",
    "df_one = pd.read_csv(path+folder+\"Day1-parsed-ondevice.csv\", header=0, names=col_names, error_bad_lines=False, warn_bad_lines=False, quotechar='^')\n",
    "df_two = pd.read_csv(path+folder+\"Day2-parsed-ondevice.csv\", header=0, names=col_names, error_bad_lines=False, warn_bad_lines=False, quotechar='^')\n",
    "df_three = pd.read_csv(path+folder+\"Day3-parsed-ondevice.csv\", header=0, names=col_names, error_bad_lines=False, warn_bad_lines=False, quotechar='^')"
   ]
  },
  {
   "cell_type": "code",
   "execution_count": 22,
   "metadata": {},
   "outputs": [],
   "source": [
    "def first_last_30(df, prev=False):\n",
    "    if (prev):\n",
    "        df = ordering_statistics(df, True)\n",
    "        \n",
    "    # Number of incoming/outgoing packets in the first/last 30 packets \n",
    "    curr_index = df.at[0, 'website-index']\n",
    "    num_inc_first_30_vals = []\n",
    "    num_out_first_30_vals = []\n",
    "    num_inc_last_30_vals = []\n",
    "    num_out_last_30_vals = []\n",
    "    dirs = []\n",
    "    # Loop through each segment, grab direction column, take first 30, last 30, sum for in/out \n",
    "    for index, row in df.iterrows():\n",
    "        if (row['website-index'] != curr_index):\n",
    "            curr_index = row['website-index']\n",
    "            # Sum up dirs\n",
    "            ins_first_30 = len(list(filter(lambda d: d == 0, dirs[:30])))\n",
    "            ins_last_30 = len(list(filter(lambda d: d == 0, dirs[-30:])))\n",
    "            out_first_30 = len(list(filter(lambda d: d == 1, dirs[:30])))\n",
    "            out_last_30 = len(list(filter(lambda d: d == 1, dirs[-30:])))\n",
    "            num_packets = len(dirs)\n",
    "            num_inc_first_30_vals.extend([ins_first_30] * num_packets)\n",
    "            num_out_first_30_vals.extend([out_first_30] * num_packets)\n",
    "            num_inc_last_30_vals.extend([ins_last_30] * num_packets)\n",
    "            num_out_last_30_vals.extend([out_last_30] * num_packets)\n",
    "\n",
    "            dirs = [row['direction']]\n",
    "        else:\n",
    "            dirs.append(row['direction'])\n",
    "\n",
    "    ins_first_30 = len(list(filter(lambda d: d == 0, dirs[:30])))\n",
    "    ins_last_30 = len(list(filter(lambda d: d == 0, dirs[-30:])))\n",
    "    out_first_30 = len(list(filter(lambda d: d == 1, dirs[:30])))\n",
    "    out_last_30 = len(list(filter(lambda d: d == 1, dirs[-30:])))\n",
    "    num_packets = len(dirs)\n",
    "    num_inc_first_30_vals.extend([ins_first_30] * num_packets)\n",
    "    num_out_first_30_vals.extend([out_first_30] * num_packets)\n",
    "    num_inc_last_30_vals.extend([ins_last_30] * num_packets)\n",
    "    num_out_last_30_vals.extend([out_last_30] * num_packets)\n",
    "\n",
    "    df['num_inc_first_30_vals'] = num_inc_first_30_vals\n",
    "    df['num_out_first_30_vals'] = num_out_first_30_vals\n",
    "    df['num_inc_last_30_vals'] = num_inc_last_30_vals\n",
    "    df['num_out_last_30_vals'] = num_out_last_30_vals\n",
    "  \n",
    "    return df"
   ]
  },
  {
   "cell_type": "code",
   "execution_count": 511,
   "metadata": {},
   "outputs": [],
   "source": [
    "df_one_stat = first_last_30(df_one, prev=True)\n",
    "df_two_stat = first_last_30(df_two, prev=True)\n",
    "df_three_stat = first_last_30(df_three, prev=True)"
   ]
  },
  {
   "cell_type": "code",
   "execution_count": 516,
   "metadata": {},
   "outputs": [
    {
     "name": "stdout",
     "output_type": "stream",
     "text": [
      "RF acc: 0.8339611320377346\n",
      "KNN acc: 0.7305576852561753\n"
     ]
    }
   ],
   "source": [
    "run_model(df_one_stat, df_two_stat, df_three_stat)"
   ]
  },
  {
   "cell_type": "markdown",
   "metadata": {},
   "source": [
    "#### Concentration of outgoing packets\n",
    "\n",
    "The packet sequence split into non-overlapping chunks of 20 packets, where we count the number of outgoing packets in each chunk. Then extract the standard deviation and mean"
   ]
  },
  {
   "cell_type": "code",
   "execution_count": 669,
   "metadata": {},
   "outputs": [],
   "source": [
    "# Local data\n",
    "path = \"collection/\"\n",
    "folder = \"df_http_udp/\" # specify which packet protocol config you want here\n",
    "col_names = [\"website-index\", \"time\", \"direction\", \"packet size\"]\n",
    "df_one = pd.read_csv(path+folder+\"Day1-parsed-ondevice.csv\", header=0, names=col_names, error_bad_lines=False, warn_bad_lines=False, quotechar='^')\n",
    "df_two = pd.read_csv(path+folder+\"Day2-parsed-ondevice.csv\", header=0, names=col_names, error_bad_lines=False, warn_bad_lines=False, quotechar='^')\n",
    "df_three = pd.read_csv(path+folder+\"Day3-parsed-ondevice.csv\", header=0, names=col_names, error_bad_lines=False, warn_bad_lines=False, quotechar='^')"
   ]
  },
  {
   "cell_type": "code",
   "execution_count": 30,
   "metadata": {},
   "outputs": [],
   "source": [
    "def get_segments(df):\n",
    "    ret = []\n",
    "    start = 0\n",
    "    curr_index = df.at[0, 'website-index']\n",
    "    for index, row in df.iterrows():\n",
    "        if (row['website-index'] != curr_index):\n",
    "            curr_index = row['website-index']\n",
    "            ret.append((start, index - 1))\n",
    "            start = index\n",
    "            \n",
    "    ret.append((start, index))\n",
    "\n",
    "    return ret\n",
    "\n",
    "def get_20s_from_segments(segments):\n",
    "    # Given an array of start:end tuples, return an array of start2:end2 tuples where end2-start2 == 20, or less if not possible\n",
    "    # e.g. [(0,45)] => [(0, 19), (20, 39), (40, 45)]\n",
    "    ret = []\n",
    "    for s in segments:\n",
    "        start = s[0]\n",
    "        end = s[1]\n",
    "        i = start\n",
    "        while i + 19 <= end:\n",
    "            ret.append((i, i + 19))\n",
    "            i += 20\n",
    "        ret.append((i, end))\n",
    "    return ret       \n"
   ]
  },
  {
   "cell_type": "code",
   "execution_count": 20,
   "metadata": {},
   "outputs": [],
   "source": [
    "def outgoing_concentration(df, prev=False):\n",
    "    if (prev):\n",
    "        df = first_last_30(df, True)\n",
    "        \n",
    "    # Number of outgoing packets in each chunk of 20 packets per segment\n",
    "    # get an array of indexes for each segment \n",
    "    segments = get_segments(df)\n",
    "    segment_20s = get_20s_from_segments(segments)    \n",
    "    num_outgoing_vals = [] # Don't add this to the data, we only need it to collect statistics\n",
    "#     debug = []\n",
    "    for s in segment_20s:\n",
    "        start = s[0]\n",
    "        end = s[1]\n",
    "        num_outs = df.iloc[start:end+1][df.direction == 1].shape[0]\n",
    "        num_outgoing_vals.append(num_outs)\n",
    "#         debug.extend([num_outs] * (end - start + 1))\n",
    "\n",
    "        \n",
    "    # We want to get the standard deviation, mean of the num_outgoing_vals for each segment\n",
    "    # For each segment in segments, we want to obtain the corresponding values in num_outgoing_vals \n",
    "    # which are segmentized by 20s\n",
    "    outgoing_20_std = []\n",
    "    outgoing_20_avg = []\n",
    "\n",
    "    for segment in segments:\n",
    "        start = segment[0]\n",
    "        end = segment[1]\n",
    "        values = []\n",
    "        for i in range(len(segment_20s)):\n",
    "            seg20 = segment_20s[i]\n",
    "            if seg20[0] < start:\n",
    "                continue\n",
    "            if seg20[0] > end:\n",
    "                break\n",
    "            values.append(num_outgoing_vals[i])\n",
    "        mean = np.mean(values)\n",
    "        std = np.std(values)\n",
    "        outgoing_20_avg.extend([mean] * (end - start + 1))\n",
    "        outgoing_20_std.extend([std] * (end - start + 1))\n",
    "\n",
    "    df['outgoing_20_avg'] = outgoing_20_avg\n",
    "    df['outgoing_20_std'] = outgoing_20_std\n",
    "#     df['debug'] = debug\n",
    "\n",
    "        \n",
    "    return df"
   ]
  },
  {
   "cell_type": "code",
   "execution_count": 672,
   "metadata": {},
   "outputs": [
    {
     "name": "stderr",
     "output_type": "stream",
     "text": [
      "C:\\ProgramData\\Anaconda3\\lib\\site-packages\\ipykernel_launcher.py:14: UserWarning: Boolean Series key will be reindexed to match DataFrame index.\n",
      "  \n"
     ]
    }
   ],
   "source": [
    "df_one_stat = outgoing_concentration(df_one, prev=True)\n",
    "df_two_stat = outgoing_concentration(df_two, prev=True)\n",
    "df_three_stat = outgoing_concentration(df_three, prev=True)"
   ]
  },
  {
   "cell_type": "code",
   "execution_count": 673,
   "metadata": {},
   "outputs": [
    {
     "name": "stdout",
     "output_type": "stream",
     "text": [
      "RF acc: 0.8328277609253641\n",
      "KNN acc: 0.7305576852561753\n"
     ]
    }
   ],
   "source": [
    "run_model(df_one_stat, df_two_stat, df_three_stat)"
   ]
  },
  {
   "cell_type": "markdown",
   "metadata": {},
   "source": [
    "#### Number of packets per second.\n",
    "\n",
    "Num packets/s, along with the mean, standard deviation, min, max, median of it"
   ]
  },
  {
   "cell_type": "code",
   "execution_count": 674,
   "metadata": {},
   "outputs": [],
   "source": [
    "# Local data\n",
    "path = \"collection/\"\n",
    "folder = \"df_http_udp/\" # specify which packet protocol config you want here\n",
    "col_names = [\"website-index\", \"time\", \"direction\", \"packet size\"]\n",
    "df_one = pd.read_csv(path+folder+\"Day1-parsed-ondevice.csv\", header=0, names=col_names, error_bad_lines=False, warn_bad_lines=False, quotechar='^')\n",
    "df_two = pd.read_csv(path+folder+\"Day2-parsed-ondevice.csv\", header=0, names=col_names, error_bad_lines=False, warn_bad_lines=False, quotechar='^')\n",
    "df_three = pd.read_csv(path+folder+\"Day3-parsed-ondevice.csv\", header=0, names=col_names, error_bad_lines=False, warn_bad_lines=False, quotechar='^')"
   ]
  },
  {
   "cell_type": "code",
   "execution_count": 733,
   "metadata": {},
   "outputs": [],
   "source": [
    "def safe_div(q, r):\n",
    "    if r == 0:\n",
    "        return 0\n",
    "    else:\n",
    "        return q / r\n",
    "def packets_per_second(df, prev=False):\n",
    "    if (prev):\n",
    "        df = outgoing_concentration(df, True)\n",
    "    \n",
    "    # Number of packets per second (Total packets/total time)\n",
    "    curr_index = df.at[0, 'website-index']\n",
    "    num_packets_per_sec = []\n",
    "    mean_vals = []\n",
    "    std_vals = []\n",
    "    packet_total = 0\n",
    "    for index, row in df.iterrows():\n",
    "        if (row['website-index'] != curr_index):\n",
    "            curr_index = row['website-index']\n",
    "            \n",
    "            segment_total_time = df.at[index - 1, 'time']# Get previous row time \n",
    "            nps = packet_total / segment_total_time\n",
    "\n",
    "            num_packets_per_sec.extend([nps] * packet_total)\n",
    "            packet_total = 1\n",
    "        else:\n",
    "            packet_total += 1\n",
    "\n",
    "    segment_total_time = row['time']\n",
    "    nps = packet_total / segment_total_time \n",
    "    num_packets_per_sec.extend([nps] * packet_total)\n",
    "\n",
    "    df['num_packets_per_sec'] = num_packets_per_sec\n",
    "      \n",
    "    #TODO: mean, standard deviation, min, max, median\n",
    "    #TODO, I don't think this is correct, we should prob do num_packets_per_sec\n",
    "    # for each second, instead of an average for the entire segment\n",
    "\n",
    "    \n",
    "    return df"
   ]
  },
  {
   "cell_type": "code",
   "execution_count": 676,
   "metadata": {},
   "outputs": [
    {
     "name": "stderr",
     "output_type": "stream",
     "text": [
      "C:\\ProgramData\\Anaconda3\\lib\\site-packages\\ipykernel_launcher.py:14: UserWarning: Boolean Series key will be reindexed to match DataFrame index.\n",
      "  \n"
     ]
    }
   ],
   "source": [
    "df_one_stat = packets_per_second(df_one, prev=True)\n",
    "df_two_stat = packets_per_second(df_two, prev=True)\n",
    "df_three_stat = packets_per_second(df_three, prev=True)"
   ]
  },
  {
   "cell_type": "code",
   "execution_count": 678,
   "metadata": {},
   "outputs": [
    {
     "name": "stdout",
     "output_type": "stream",
     "text": [
      "RF acc: 0.8327610920364013\n",
      "KNN acc: 0.7307243574785827\n"
     ]
    }
   ],
   "source": [
    "run_model(df_one_stat, df_two_stat, df_three_stat)"
   ]
  },
  {
   "cell_type": "code",
   "execution_count": null,
   "metadata": {},
   "outputs": [],
   "source": [
    "\n",
    "# Preprocess training data\n",
    "df = df_one.append(df_two)\n",
    "X = df.loc[:, df.columns != 'website-index']\n",
    "y = df['website-index']\n",
    "\n",
    "# Preprocess testing data\n",
    "X_test = df_three.loc[:, df_three.columns != 'website-index']\n",
    "y_test = df_three['website-index']"
   ]
  },
  {
   "cell_type": "markdown",
   "metadata": {},
   "source": [
    "### Community data"
   ]
  },
  {
   "cell_type": "markdown",
   "metadata": {},
   "source": [
    "##### Import data (HTTP vs TLS)"
   ]
  },
  {
   "cell_type": "code",
   "execution_count": 39,
   "metadata": {},
   "outputs": [],
   "source": [
    "# Community data import (make sure to have path with access to parsed community data)\n",
    "\n",
    "# choose /tls/ vs /http/\n",
    "path=\"community_data/parsed_on_device/tls/\"\n",
    "\n",
    "day_one=\"day_1\"\n",
    "day_two=\"day_2\"\n",
    "day_three=\"day_3\"\n",
    "file=\"_fixed.csv\"\n",
    "col_names = [\"website-index\", \"time\", \"direction\", \"packet size\"]\n",
    "\n",
    "df_one = pd.read_csv(path+day_one+file, header=0, names=col_names, error_bad_lines=False, warn_bad_lines=False)\n",
    "df_two = pd.read_csv(path+day_two+file, header=0, names=col_names, error_bad_lines=False, warn_bad_lines=False)\n",
    "df_three = pd.read_csv(path+day_three+file, header=0, names=col_names, error_bad_lines=False, warn_bad_lines=False)"
   ]
  },
  {
   "cell_type": "markdown",
   "metadata": {},
   "source": [
    "##### Preprocess or load from disk"
   ]
  },
  {
   "cell_type": "code",
   "execution_count": 40,
   "metadata": {},
   "outputs": [
    {
     "name": "stderr",
     "output_type": "stream",
     "text": [
      "/usr/local/lib/python3.7/site-packages/ipykernel_launcher.py:14: UserWarning: Boolean Series key will be reindexed to match DataFrame index.\n",
      "  \n"
     ]
    }
   ],
   "source": [
    "# Add the features\n",
    "df_one = outgoing_concentration(df_one, prev=True)\n",
    "df_two = outgoing_concentration(df_two, prev=True)\n",
    "df_three = outgoing_concentration(df_three, prev=True)"
   ]
  },
  {
   "cell_type": "code",
   "execution_count": 2,
   "metadata": {},
   "outputs": [],
   "source": [
    "# Write to disk\n",
    "# df_one.to_pickle(\"./community_data/df_one_community_tls.pkl\")\n",
    "# df_two.to_pickle(\"./community_data/df_two_community_tls.pkl\")\n",
    "# df_three.to_pickle(\"./community_data/df_three_community_tls.pkl\")"
   ]
  },
  {
   "cell_type": "code",
   "execution_count": 3,
   "metadata": {},
   "outputs": [],
   "source": [
    "# Read from disk\n",
    "df_one = pd.read_pickle(\"./community_data/df_one_community_tls.pkl\")\n",
    "df_two = pd.read_pickle(\"./community_data/df_two_community_tls.pkl\")\n",
    "df_three = pd.read_pickle(\"./community_data/df_three_community_tls.pkl\")"
   ]
  },
  {
   "cell_type": "markdown",
   "metadata": {},
   "source": [
    "#### HTTP"
   ]
  },
  {
   "cell_type": "code",
   "execution_count": 35,
   "metadata": {},
   "outputs": [
    {
     "name": "stdout",
     "output_type": "stream",
     "text": [
      "RF acc: 0.09543886546569567\n",
      "KNN acc: 0.11153698735147566\n"
     ]
    }
   ],
   "source": [
    "run_model(df_one, df_two, df_three)"
   ]
  },
  {
   "cell_type": "markdown",
   "metadata": {},
   "source": [
    "#### TLS"
   ]
  },
  {
   "cell_type": "code",
   "execution_count": 41,
   "metadata": {},
   "outputs": [
    {
     "name": "stdout",
     "output_type": "stream",
     "text": [
      "RF acc: 0.821889752651762\n",
      "KNN acc: 0.2074660965906478\n"
     ]
    }
   ],
   "source": [
    "run_model(df_one, df_two, df_three)"
   ]
  },
  {
   "cell_type": "markdown",
   "metadata": {},
   "source": [
    "As you can see, the random forest model performs well on the TLS community data with all the features, but the other models' performance is quite poor. "
   ]
  },
  {
   "cell_type": "markdown",
   "metadata": {},
   "source": [
    "##### Evaluate confusion matrix / accuracy\n",
    "\n",
    "Important that we include this for all models in the final notebook"
   ]
  },
  {
   "cell_type": "code",
   "execution_count": 5,
   "metadata": {},
   "outputs": [],
   "source": [
    "# Preprocess training data\n",
    "df = df_one.append(df_two)\n",
    "X = df.loc[:, df.columns != 'website-index']\n",
    "y = df['website-index']\n",
    "\n",
    "# Preprocess testing data\n",
    "X_test = df_three.loc[:, df_three.columns != 'website-index']\n",
    "y_test = df_three['website-index']"
   ]
  },
  {
   "cell_type": "code",
   "execution_count": 7,
   "metadata": {},
   "outputs": [],
   "source": [
    "clf_tls = get_rf_model(df)"
   ]
  },
  {
   "cell_type": "code",
   "execution_count": 16,
   "metadata": {},
   "outputs": [
    {
     "data": {
      "text/plain": [
       "Text(0.5, 1.0, 'Community TLS: Confusion Matrix')"
      ]
     },
     "execution_count": 16,
     "metadata": {},
     "output_type": "execute_result"
    },
    {
     "data": {
      "image/png": "[encoded data removed]",
      "text/plain": [
       "<Figure size 1440x1440 with 2 Axes>"
      ]
     },
     "metadata": {
      "needs_background": "light"
     },
     "output_type": "display_data"
    }
   ],
   "source": [
    "rf_acc = clf_tls.score(X_test, y_test)\n",
    "print(\"RF acc: \" + str(rf_acc))\n",
    "\n",
    "fig, ax = plt.subplots(figsize=(20, 20))\n",
    "title = \"Community TLS: Confusion Matrix\"\n",
    "disp = plot_confusion_matrix(clf_tls, X_test, y_test,\n",
    "                             cmap=plt.cm.Blues,\n",
    "                             ax=ax,\n",
    "                             normalize='true')\n",
    "disp.ax_.set_title(title)"
   ]
  },
  {
   "cell_type": "markdown",
   "metadata": {},
   "source": [
    "# Testing local/community model on sniffer data"
   ]
  },
  {
   "cell_type": "code",
   "execution_count": 6,
   "metadata": {},
   "outputs": [],
   "source": [
    "def get_rf_model(df): \n",
    "    # Preprocess training data\n",
    "    X = df.loc[:, df.columns != 'website-index']\n",
    "    y = df['website-index']\n",
    "\n",
    "    # Model training\n",
    "    clf = RandomForestClassifier(n_estimators=300, n_jobs=-1 )\n",
    "    # Change n_estimators to what you want (defualt 100)\n",
    "    # n_jobs=-1 will run the classifier on ALL cpu's, lower this if running on bad comp\n",
    "    \n",
    "    return clf.fit(X,y)\n",
    "\n",
    "def get_knn_model(df):\n",
    "    # Preprocess training data\n",
    "    X = df.loc[:, df.columns != 'website-index']\n",
    "    y = df['website-index']\n",
    "    \n",
    "    # Model training \n",
    "    knn = KNeighborsClassifier(n_neighbors=20)\n",
    "    return knn.fit(X,y)"
   ]
  },
  {
   "cell_type": "markdown",
   "metadata": {},
   "source": [
    "### Local data model"
   ]
  },
  {
   "cell_type": "code",
   "execution_count": 46,
   "metadata": {},
   "outputs": [],
   "source": [
    "# Local data\n",
    "path = \"collection/\"\n",
    "folder = \"df_http_udp/\" # specify which packet protocol config you want here\n",
    "col_names = [\"website-index\", \"time\", \"direction\", \"packet size\"]\n",
    "df_one_local = pd.read_csv(path+folder+\"Day1-parsed-ondevice.csv\", header=0, names=col_names, error_bad_lines=False, warn_bad_lines=False, quotechar='^')\n",
    "df_two_local = pd.read_csv(path+folder+\"Day2-parsed-ondevice.csv\", header=0, names=col_names, error_bad_lines=False, warn_bad_lines=False, quotechar='^')\n",
    "df_three_local = pd.read_csv(path+folder+\"Day3-parsed-ondevice.csv\", header=0, names=col_names, error_bad_lines=False, warn_bad_lines=False, quotechar='^')"
   ]
  },
  {
   "cell_type": "code",
   "execution_count": 47,
   "metadata": {},
   "outputs": [],
   "source": [
    "# Add the features\n",
    "df_one_local = outgoing_concentration(df_one_local, prev=True)\n",
    "df_two_local = outgoing_concentration(df_two_local, prev=True)\n",
    "df_three_local = outgoing_concentration(df_three_local, prev=True)"
   ]
  },
  {
   "cell_type": "code",
   "execution_count": 48,
   "metadata": {},
   "outputs": [],
   "source": [
    "# Get the trained model \n",
    "local_rf_model = get_rf_model(df_one_local.append(df_two_local)) \n",
    "local_knn_model = get_knn_model(df_one_local.append(df_two_local))"
   ]
  },
  {
   "cell_type": "markdown",
   "metadata": {},
   "source": [
    "#### all packets"
   ]
  },
  {
   "cell_type": "code",
   "execution_count": 44,
   "metadata": {},
   "outputs": [
    {
     "name": "stdout",
     "output_type": "stream",
     "text": [
      "[note] Model training protocol configuration: all packets\n",
      "RF nytimes: 0.00\n",
      "KNN nytimes: 0.00\n",
      "RF salesforce: 0.00\n",
      "KNN salesforce: 0.01\n",
      "RF salesforce: 0.00\n",
      "KNN salesforce: 0.00\n",
      "RF nytimes: 0.00\n",
      "KNN nytimes: 0.00\n",
      "RF dropbox: 0.00\n",
      "KNN dropbox: 0.15\n",
      "RF youtube: 1.00\n",
      "KNN youtube: 0.09\n",
      "RF hulu: 0.00\n",
      "KNN hulu: 0.03\n",
      "RF linkedin: 0.00\n",
      "KNN linkedin: 0.06\n",
      "RF okta: 0.00\n",
      "KNN okta: 0.17\n",
      "RF quizlet: 0.00\n",
      "KNN quizlet: 0.01\n",
      "RF reddit: 0.00\n",
      "KNN reddit: 0.00\n",
      "RF quizlet: 0.00\n",
      "KNN quizlet: 0.01\n",
      "RF reddit: 0.14\n",
      "KNN reddit: 0.12\n",
      "RF youtube: 0.00\n",
      "KNN youtube: 0.08\n",
      "RF dropbox: 0.00\n",
      "KNN dropbox: 0.01\n",
      "RF okta: 0.00\n",
      "KNN okta: 0.04\n",
      "RF linkedin: 0.00\n",
      "KNN linkedin: 0.01\n",
      "RF hulu: 0.00\n",
      "KNN hulu: 0.23\n",
      "RF cnn: 0.00\n",
      "KNN cnn: 0.02\n",
      "RF instructure: 0.00\n",
      "KNN instructure: 0.06\n",
      "RF homedepot: 0.00\n",
      "KNN homedepot: 0.00\n",
      "RF instructure: 0.00\n",
      "KNN instructure: 0.01\n",
      "RF homedepot: 0.00\n",
      "KNN homedepot: 0.00\n",
      "RF cnn: 0.00\n",
      "KNN cnn: 0.04\n",
      "RF stackoverflow: 0.00\n",
      "KNN stackoverflow: 0.03\n",
      "RF facebook: 0.00\n",
      "KNN facebook: 0.00\n",
      "RF etsy: 0.00\n",
      "KNN etsy: 0.01\n",
      "RF imgur: 0.00\n",
      "KNN imgur: 0.00\n",
      "RF irs: 0.00\n",
      "KNN irs: 0.00\n",
      "RF wikipedia: 0.00\n",
      "KNN wikipedia: 0.00\n",
      "RF yahoo: 0.00\n",
      "KNN yahoo: 0.05\n",
      "RF wikipedia: 1.00\n",
      "KNN wikipedia: 0.00\n",
      "RF yahoo: 0.00\n",
      "KNN yahoo: 0.00\n",
      "RF stackoverflow: 0.00\n",
      "KNN stackoverflow: 0.10\n",
      "RF facebook: 0.00\n",
      "KNN facebook: 0.26\n",
      "RF imgur: 0.00\n",
      "KNN imgur: 0.00\n",
      "RF etsy: 0.00\n",
      "KNN etsy: 0.02\n",
      "RF irs: 0.00\n",
      "KNN irs: 0.02\n",
      "RF mean acc 0.056315789473684215\n",
      "KNN mean acc 0.04352695413833846\n",
      "\n",
      "In comparison with local on-device data: \n",
      "RF acc: 0.38820142606016317\n",
      "RF acc: 0.17476150032590018\n"
     ]
    }
   ],
   "source": [
    "# Run local on-device model against sniffer data\n",
    "path = \"community_data/parsed_sniffer/\"\n",
    "columns = ['website-index', 'time', 'direction', 'packet size']\n",
    "acc_rfs = []\n",
    "acc_knns = []\n",
    "\n",
    "print(\"[note] Model training protocol configuration: all packets\")\n",
    "for filename in os.listdir(path):\n",
    "    # Preprocess: construct df per website \n",
    "    website = re.search(r\"(.*)-([1-2])-.*\", filename).group(1)\n",
    "    df = pd.read_csv(path + filename,names=columns, header=0)\n",
    "    df['direction'] = df['direction'].astype(int)\n",
    "    df = outgoing_concentration(df, prev=True)\n",
    "\n",
    "    X_test = df.loc[:, df.columns != 'website-index']\n",
    "    y_test = df['website-index']\n",
    "    \n",
    "    # Evaluate on sniffer data\n",
    "    acc_rf = local_rf_model.score(X_test, y_test)\n",
    "    acc_rfs.append(acc_rf)\n",
    "    print(\"RF {}: {:.2f}\".format(website, acc_rf))\n",
    "    \n",
    "    acc_knn = local_knn_model.score(X_test, y_test)\n",
    "    acc_knns.append(acc_knn)\n",
    "    print(\"KNN {}: {:.2f}\".format(website, acc_knn))\n",
    "    \n",
    "print('RF mean acc', np.mean(acc_rfs))\n",
    "print('KNN mean acc', np.mean(acc_knns))\n",
    "\n",
    "# Evaluate the models again against local on-device data (day3)\n",
    "X_test = df_three_local.loc[:, df.columns != 'website-index']\n",
    "y_test = df_three_local['website-index']\n",
    "day_3_rf_acc = local_rf_model.score(X_test, y_test)\n",
    "day_3_knn_acc = local_knn_model.score(X_test, y_test)\n",
    "print('\\nIn comparison with local on-device data: ')\n",
    "print('RF acc:', day_3_rf_acc)\n",
    "print('KNN acc:', day_3_knn_acc)"
   ]
  },
  {
   "cell_type": "markdown",
   "metadata": {},
   "source": [
    "#### http_udp"
   ]
  },
  {
   "cell_type": "code",
   "execution_count": 49,
   "metadata": {},
   "outputs": [
    {
     "name": "stdout",
     "output_type": "stream",
     "text": [
      "[note] Model training protocol configuration: df_http_udp packets\n",
      "RF nytimes: 0.00\n",
      "KNN nytimes: 0.03\n",
      "RF salesforce: 0.00\n",
      "KNN salesforce: 0.00\n",
      "RF salesforce: 1.00\n",
      "KNN salesforce: 0.00\n",
      "RF nytimes: 0.00\n",
      "KNN nytimes: 0.00\n",
      "RF dropbox: 0.00\n",
      "KNN dropbox: 0.27\n",
      "RF youtube: 0.00\n",
      "KNN youtube: 0.04\n",
      "RF hulu: 0.00\n",
      "KNN hulu: 0.52\n",
      "RF linkedin: 0.00\n",
      "KNN linkedin: 0.00\n",
      "RF okta: 0.00\n",
      "KNN okta: 0.01\n",
      "RF quizlet: 1.00\n",
      "KNN quizlet: 0.09\n",
      "RF reddit: 0.00\n",
      "KNN reddit: 0.00\n",
      "RF quizlet: 1.00\n",
      "KNN quizlet: 0.04\n",
      "RF reddit: 0.00\n",
      "KNN reddit: 0.00\n",
      "RF youtube: 0.00\n",
      "KNN youtube: 0.00\n",
      "RF dropbox: 0.00\n",
      "KNN dropbox: 0.06\n",
      "RF okta: 0.00\n",
      "KNN okta: 0.00\n",
      "RF linkedin: 0.00\n",
      "KNN linkedin: 0.00\n",
      "RF hulu: 0.00\n",
      "KNN hulu: 0.22\n",
      "RF cnn: 0.00\n",
      "KNN cnn: 0.01\n",
      "RF instructure: 0.00\n",
      "KNN instructure: 0.01\n",
      "RF homedepot: 0.00\n",
      "KNN homedepot: 0.00\n",
      "RF instructure: 0.00\n",
      "KNN instructure: 0.01\n",
      "RF homedepot: 0.00\n",
      "KNN homedepot: 0.00\n",
      "RF cnn: 0.00\n",
      "KNN cnn: 0.04\n",
      "RF stackoverflow: 0.00\n",
      "KNN stackoverflow: 0.00\n",
      "RF facebook: 0.00\n",
      "KNN facebook: 0.01\n",
      "RF etsy: 0.00\n",
      "KNN etsy: 0.02\n",
      "RF imgur: 0.00\n",
      "KNN imgur: 0.00\n",
      "RF irs: 0.00\n",
      "KNN irs: 0.21\n",
      "RF wikipedia: 0.00\n",
      "KNN wikipedia: 0.00\n",
      "RF yahoo: 0.00\n",
      "KNN yahoo: 0.00\n",
      "RF wikipedia: 0.00\n",
      "KNN wikipedia: 0.00\n",
      "RF yahoo: 0.00\n",
      "KNN yahoo: 0.00\n",
      "RF stackoverflow: 0.00\n",
      "KNN stackoverflow: 0.00\n",
      "RF facebook: 0.00\n",
      "KNN facebook: 0.03\n",
      "RF imgur: 0.00\n",
      "KNN imgur: 0.29\n",
      "RF etsy: 0.00\n",
      "KNN etsy: 0.00\n",
      "RF irs: 0.00\n",
      "KNN irs: 0.00\n",
      "RF mean acc 0.07894736842105263\n",
      "KNN mean acc 0.05043039131096788\n",
      "\n",
      "In comparison with local on-device data: \n",
      "RF acc: 0.833294443148105\n",
      "RF acc: 0.7305576852561753\n"
     ]
    }
   ],
   "source": [
    "# Run local on-device model against sniffer data\n",
    "path = \"community_data/parsed_sniffer/\"\n",
    "columns = ['website-index', 'time', 'direction', 'packet size']\n",
    "acc_rfs = []\n",
    "acc_knns = []\n",
    "\n",
    "print(\"[note] Model training protocol configuration: df_http_udp packets\")\n",
    "for filename in os.listdir(path):\n",
    "    # Preprocess: construct df per website \n",
    "    website = re.search(r\"(.*)-([1-2])-.*\", filename).group(1)\n",
    "    df = pd.read_csv(path + filename,names=columns, header=0)\n",
    "    df['direction'] = df['direction'].astype(int)\n",
    "    df = outgoing_concentration(df, prev=True)\n",
    "\n",
    "    X_test = df.loc[:, df.columns != 'website-index']\n",
    "    y_test = df['website-index']\n",
    "    \n",
    "    # Evaluate on sniffer data\n",
    "    acc_rf = local_rf_model.score(X_test, y_test)\n",
    "    acc_rfs.append(acc_rf)\n",
    "    print(\"RF {}: {:.2f}\".format(website, acc_rf))\n",
    "    \n",
    "    acc_knn = local_knn_model.score(X_test, y_test)\n",
    "    acc_knns.append(acc_knn)\n",
    "    print(\"KNN {}: {:.2f}\".format(website, acc_knn))\n",
    "    \n",
    "print('RF mean acc', np.mean(acc_rfs))\n",
    "print('KNN mean acc', np.mean(acc_knns))\n",
    "\n",
    "# Evaluate the models again against local on-device data (day3)\n",
    "X_test = df_three_local.loc[:, df.columns != 'website-index']\n",
    "y_test = df_three_local['website-index']\n",
    "day_3_rf_acc = local_rf_model.score(X_test, y_test)\n",
    "day_3_knn_acc = local_knn_model.score(X_test, y_test)\n",
    "print('\\nIn comparison with local on-device data: ')\n",
    "print('RF acc:', day_3_rf_acc)\n",
    "print('KNN acc:', day_3_knn_acc)"
   ]
  },
  {
   "cell_type": "markdown",
   "metadata": {},
   "source": [
    "## Community data model"
   ]
  },
  {
   "cell_type": "code",
   "execution_count": 56,
   "metadata": {},
   "outputs": [],
   "source": [
    "# Community data import (make sure to have path with access to parsed community data)\n",
    "\n",
    "# choose /tls/ vs /http/\n",
    "path=\"community_data/parsed_on_device/http/\"\n",
    "\n",
    "day_one=\"day_1\"\n",
    "day_two=\"day_2\"\n",
    "day_three=\"day_3\"\n",
    "file=\"_fixed.csv\"\n",
    "col_names = [\"website-index\", \"time\", \"direction\", \"packet size\"]\n",
    "\n",
    "df_one_community = pd.read_csv(path+day_one+file, header=0, names=col_names, error_bad_lines=False, warn_bad_lines=False)\n",
    "df_two_community = pd.read_csv(path+day_two+file, header=0, names=col_names, error_bad_lines=False, warn_bad_lines=False)\n",
    "df_three_community = pd.read_csv(path+day_three+file, header=0, names=col_names, error_bad_lines=False, warn_bad_lines=False)"
   ]
  },
  {
   "cell_type": "code",
   "execution_count": 57,
   "metadata": {},
   "outputs": [],
   "source": [
    "# Add the features\n",
    "df_one_community = outgoing_concentration(df_one_community, prev=True)\n",
    "df_two_community = outgoing_concentration(df_two_community, prev=True)\n",
    "df_three_community = outgoing_concentration(df_three_community, prev=True)"
   ]
  },
  {
   "cell_type": "code",
   "execution_count": 52,
   "metadata": {},
   "outputs": [],
   "source": [
    "# Read TLS disk if you have the pickles\n",
    "df_one_community = pd.read_pickle(\"./community_data/df_one_community_tls.pkl\")\n",
    "df_two_community = pd.read_pickle(\"./community_data/df_two_community_tls.pkl\")\n",
    "df_three_community = pd.read_pickle(\"./community_data/df_three_community_tls.pkl\")"
   ]
  },
  {
   "cell_type": "code",
   "execution_count": 58,
   "metadata": {},
   "outputs": [],
   "source": [
    "# Get the trained model \n",
    "community_rf_model = get_rf_model(df_one_community.append(df_two_community)) \n",
    "community_knn_model = get_knn_model(df_one_community.append(df_two_community))"
   ]
  },
  {
   "cell_type": "markdown",
   "metadata": {},
   "source": [
    "#### http"
   ]
  },
  {
   "cell_type": "code",
   "execution_count": 59,
   "metadata": {},
   "outputs": [
    {
     "name": "stdout",
     "output_type": "stream",
     "text": [
      "[note] Model training protocol configuration: http packets\n",
      "RF nytimes: 0.00\n",
      "KNN nytimes: 0.03\n",
      "RF salesforce: 0.00\n",
      "KNN salesforce: 0.00\n",
      "RF salesforce: 1.00\n",
      "KNN salesforce: 0.00\n",
      "RF nytimes: 0.00\n",
      "KNN nytimes: 0.00\n",
      "RF dropbox: 0.00\n",
      "KNN dropbox: 0.27\n",
      "RF youtube: 0.00\n",
      "KNN youtube: 0.04\n",
      "RF hulu: 0.00\n",
      "KNN hulu: 0.52\n",
      "RF linkedin: 0.00\n",
      "KNN linkedin: 0.00\n",
      "RF okta: 0.00\n",
      "KNN okta: 0.01\n",
      "RF quizlet: 1.00\n",
      "KNN quizlet: 0.09\n",
      "RF reddit: 0.00\n",
      "KNN reddit: 0.00\n",
      "RF quizlet: 1.00\n",
      "KNN quizlet: 0.04\n",
      "RF reddit: 0.00\n",
      "KNN reddit: 0.00\n",
      "RF youtube: 0.00\n",
      "KNN youtube: 0.00\n",
      "RF dropbox: 0.00\n",
      "KNN dropbox: 0.06\n",
      "RF okta: 0.00\n",
      "KNN okta: 0.00\n",
      "RF linkedin: 0.00\n",
      "KNN linkedin: 0.00\n",
      "RF hulu: 0.00\n",
      "KNN hulu: 0.22\n",
      "RF cnn: 0.00\n",
      "KNN cnn: 0.01\n",
      "RF instructure: 0.00\n",
      "KNN instructure: 0.01\n",
      "RF homedepot: 0.00\n",
      "KNN homedepot: 0.00\n",
      "RF instructure: 0.00\n",
      "KNN instructure: 0.01\n",
      "RF homedepot: 0.00\n",
      "KNN homedepot: 0.00\n",
      "RF cnn: 0.00\n",
      "KNN cnn: 0.04\n",
      "RF stackoverflow: 0.00\n",
      "KNN stackoverflow: 0.00\n",
      "RF facebook: 0.00\n",
      "KNN facebook: 0.01\n",
      "RF etsy: 0.00\n",
      "KNN etsy: 0.02\n",
      "RF imgur: 0.00\n",
      "KNN imgur: 0.00\n",
      "RF irs: 0.00\n",
      "KNN irs: 0.21\n",
      "RF wikipedia: 0.00\n",
      "KNN wikipedia: 0.00\n",
      "RF yahoo: 0.00\n",
      "KNN yahoo: 0.00\n",
      "RF wikipedia: 0.00\n",
      "KNN wikipedia: 0.00\n",
      "RF yahoo: 0.00\n",
      "KNN yahoo: 0.00\n",
      "RF stackoverflow: 0.00\n",
      "KNN stackoverflow: 0.00\n",
      "RF facebook: 0.00\n",
      "KNN facebook: 0.03\n",
      "RF imgur: 0.00\n",
      "KNN imgur: 0.29\n",
      "RF etsy: 0.00\n",
      "KNN etsy: 0.00\n",
      "RF irs: 0.00\n",
      "KNN irs: 0.00\n",
      "RF mean acc 0.07894736842105263\n",
      "KNN mean acc 0.05043039131096788\n",
      "\n",
      "In comparison with community on-device data: \n",
      "RF acc: 0.052127251820620925\n",
      "KNN acc: 0.02414718282866999\n"
     ]
    }
   ],
   "source": [
    "# Run community on-device model against sniffer data\n",
    "path = \"community_data/parsed_sniffer/\"\n",
    "columns = ['website-index', 'time', 'direction', 'packet size']\n",
    "acc_rfs = []\n",
    "acc_knns = []\n",
    "\n",
    "print(\"[note] Model training protocol configuration: http packets\")\n",
    "for filename in os.listdir(path):\n",
    "    # Preprocess: construct df per website \n",
    "    website = re.search(r\"(.*)-([1-2])-.*\", filename).group(1)\n",
    "    df = pd.read_csv(path + filename,names=columns, header=0)\n",
    "    df['direction'] = df['direction'].astype(int)\n",
    "    df = outgoing_concentration(df, prev=True)\n",
    "\n",
    "    X_test = df.loc[:, df.columns != 'website-index']\n",
    "    y_test = df['website-index']\n",
    "    \n",
    "    # Evaluate on sniffer data\n",
    "    acc_rf = local_rf_model.score(X_test, y_test)\n",
    "    acc_rfs.append(acc_rf)\n",
    "    print(\"RF {}: {:.2f}\".format(website, acc_rf))\n",
    "    \n",
    "    acc_knn = local_knn_model.score(X_test, y_test)\n",
    "    acc_knns.append(acc_knn)\n",
    "    print(\"KNN {}: {:.2f}\".format(website, acc_knn))\n",
    "    \n",
    "print('RF mean acc', np.mean(acc_rfs))\n",
    "print('KNN mean acc', np.mean(acc_knns))\n",
    "\n",
    "# Evaluate the models again against local on-device data (day3)\n",
    "X_test = df_three_community.loc[:, df.columns != 'website-index']\n",
    "y_test = df_three_community['website-index']\n",
    "day_3_rf_acc = local_rf_model.score(X_test, y_test)\n",
    "day_3_knn_acc = local_knn_model.score(X_test, y_test)\n",
    "print('\\nIn comparison with community on-device data: ')\n",
    "print('RF acc:', day_3_rf_acc)\n",
    "print('KNN acc:', day_3_knn_acc)"
   ]
  },
  {
   "cell_type": "markdown",
   "metadata": {},
   "source": [
    "#### TLS packets"
   ]
  },
  {
   "cell_type": "code",
   "execution_count": 55,
   "metadata": {},
   "outputs": [
    {
     "name": "stdout",
     "output_type": "stream",
     "text": [
      "[note] Model training protocol configuration: tls packets\n",
      "RF nytimes: 0.00\n",
      "KNN nytimes: 0.03\n",
      "RF salesforce: 0.00\n",
      "KNN salesforce: 0.00\n",
      "RF salesforce: 1.00\n",
      "KNN salesforce: 0.00\n",
      "RF nytimes: 0.00\n",
      "KNN nytimes: 0.00\n",
      "RF dropbox: 0.00\n",
      "KNN dropbox: 0.27\n",
      "RF youtube: 0.00\n",
      "KNN youtube: 0.04\n",
      "RF hulu: 0.00\n",
      "KNN hulu: 0.52\n",
      "RF linkedin: 0.00\n",
      "KNN linkedin: 0.00\n",
      "RF okta: 0.00\n",
      "KNN okta: 0.01\n",
      "RF quizlet: 1.00\n",
      "KNN quizlet: 0.09\n",
      "RF reddit: 0.00\n",
      "KNN reddit: 0.00\n",
      "RF quizlet: 1.00\n",
      "KNN quizlet: 0.04\n",
      "RF reddit: 0.00\n",
      "KNN reddit: 0.00\n",
      "RF youtube: 0.00\n",
      "KNN youtube: 0.00\n",
      "RF dropbox: 0.00\n",
      "KNN dropbox: 0.06\n",
      "RF okta: 0.00\n",
      "KNN okta: 0.00\n",
      "RF linkedin: 0.00\n",
      "KNN linkedin: 0.00\n",
      "RF hulu: 0.00\n",
      "KNN hulu: 0.22\n",
      "RF cnn: 0.00\n",
      "KNN cnn: 0.01\n",
      "RF instructure: 0.00\n",
      "KNN instructure: 0.01\n",
      "RF homedepot: 0.00\n",
      "KNN homedepot: 0.00\n",
      "RF instructure: 0.00\n",
      "KNN instructure: 0.01\n",
      "RF homedepot: 0.00\n",
      "KNN homedepot: 0.00\n",
      "RF cnn: 0.00\n",
      "KNN cnn: 0.04\n",
      "RF stackoverflow: 0.00\n",
      "KNN stackoverflow: 0.00\n",
      "RF facebook: 0.00\n",
      "KNN facebook: 0.01\n",
      "RF etsy: 0.00\n",
      "KNN etsy: 0.02\n",
      "RF imgur: 0.00\n",
      "KNN imgur: 0.00\n",
      "RF irs: 0.00\n",
      "KNN irs: 0.21\n",
      "RF wikipedia: 0.00\n",
      "KNN wikipedia: 0.00\n",
      "RF yahoo: 0.00\n",
      "KNN yahoo: 0.00\n",
      "RF wikipedia: 0.00\n",
      "KNN wikipedia: 0.00\n",
      "RF yahoo: 0.00\n",
      "KNN yahoo: 0.00\n",
      "RF stackoverflow: 0.00\n",
      "KNN stackoverflow: 0.00\n",
      "RF facebook: 0.00\n",
      "KNN facebook: 0.03\n",
      "RF imgur: 0.00\n",
      "KNN imgur: 0.29\n",
      "RF etsy: 0.00\n",
      "KNN etsy: 0.00\n",
      "RF irs: 0.00\n",
      "KNN irs: 0.00\n",
      "RF mean acc 0.07894736842105263\n",
      "KNN mean acc 0.05043039131096788\n",
      "\n",
      "In comparison with community on-device data: \n",
      "RF acc: 0.04882360132663808\n",
      "KNN acc: 0.04878883147501562\n"
     ]
    }
   ],
   "source": [
    "# Run community on-device model against sniffer data\n",
    "path = \"community_data/parsed_sniffer/\"\n",
    "columns = ['website-index', 'time', 'direction', 'packet size']\n",
    "acc_rfs = []\n",
    "acc_knns = []\n",
    "\n",
    "print(\"[note] Model training protocol configuration: tls packets\")\n",
    "for filename in os.listdir(path):\n",
    "    # Preprocess: construct df per website \n",
    "    website = re.search(r\"(.*)-([1-2])-.*\", filename).group(1)\n",
    "    df = pd.read_csv(path + filename,names=columns, header=0)\n",
    "    df['direction'] = df['direction'].astype(int)\n",
    "    df = outgoing_concentration(df, prev=True)\n",
    "\n",
    "    X_test = df.loc[:, df.columns != 'website-index']\n",
    "    y_test = df['website-index']\n",
    "    \n",
    "    # Evaluate on sniffer data\n",
    "    acc_rf = local_rf_model.score(X_test, y_test)\n",
    "    acc_rfs.append(acc_rf)\n",
    "    print(\"RF {}: {:.2f}\".format(website, acc_rf))\n",
    "    \n",
    "    acc_knn = local_knn_model.score(X_test, y_test)\n",
    "    acc_knns.append(acc_knn)\n",
    "    print(\"KNN {}: {:.2f}\".format(website, acc_knn))\n",
    "    \n",
    "print('RF mean acc', np.mean(acc_rfs))\n",
    "print('KNN mean acc', np.mean(acc_knns))\n",
    "\n",
    "# Evaluate the models again against local on-device data (day3)\n",
    "X_test = df_three_community.loc[:, df.columns != 'website-index']\n",
    "y_test = df_three_community['website-index']\n",
    "day_3_rf_acc = local_rf_model.score(X_test, y_test)\n",
    "day_3_knn_acc = local_knn_model.score(X_test, y_test)\n",
    "print('\\nIn comparison with community on-device data: ')\n",
    "print('RF acc:', day_3_rf_acc)\n",
    "print('KNN acc:', day_3_knn_acc)"
   ]
  },
  {
   "cell_type": "markdown",
   "metadata": {},
   "source": [
    "\n",
    "-----------------------------------------------\n",
    "\n",
    "#### Experimenting:\n",
    "\n",
    "To record helpful syntax etc."
   ]
  },
  {
   "cell_type": "code",
   "execution_count": 5,
   "metadata": {},
   "outputs": [],
   "source": [
    "# working on youtube only, can generalize later\n",
    "youtube = df_one.loc[df_one['website-index'] == 'youtube']\n",
    "\n",
    "# Create a directional packet size column p_i (negative values if outbound)\n",
    "# youtube.insert(4, 'cum_incoming', youtube['packet size'])\n",
    "youtube['p_i'] = youtube.apply(directional_packet_size, axis=1)\n",
    "\n",
    "# Create cumulative packet size trace using directional packet sizes\n",
    "youtube.insert(5, 'cum_incoming', youtube['direction'].cumsum(axis=None))\n",
    "\n",
    "# Track cumulative incoming packets (+1 to start at 1)\n",
    "youtube['cum_incoming'] = youtube['direction'].cumsum(axis=None)+1\n",
    "\n",
    "youtube = previous_packets(youtube)\n",
    "# youtube['shift'] = youtube['packet size'].shift(100)"
   ]
  },
  {
   "cell_type": "markdown",
   "metadata": {},
   "source": [
    "#### XGBoost"
   ]
  },
  {
   "cell_type": "code",
   "execution_count": 18,
   "metadata": {},
   "outputs": [],
   "source": [
    "df_one_stat = outgoing_concentration(df_one, prev=True)\n",
    "df_two_stat = outgoing_concentration(df_two, prev=True)\n",
    "df_three_stat = outgoing_concentration(df_three, prev=True)"
   ]
  },
  {
   "cell_type": "code",
   "execution_count": 23,
   "metadata": {},
   "outputs": [],
   "source": [
    "import xgboost as xgb\n",
    "from sklearn.metrics import accuracy_score\n",
    "\n",
    "# Preprocess training data\n",
    "df = df_one.append(df_two)\n",
    "X = df.loc[:, df.columns != 'website-index']\n",
    "y = df['website-index']\n",
    "# Preprocess testing data\n",
    "X_test = df_three.loc[:, df_three.columns != 'website-index']\n",
    "y_test = df_three['website-index']\n",
    "\n",
    "# XGBoost cannot handle categorical vars -> convert to numerical\n",
    "y = y.astype('category')\n",
    "y = y.cat.codes\n",
    "y_test = y_test.astype('category')\n",
    "y_test = y_test.cat.codes"
   ]
  },
  {
   "cell_type": "code",
   "execution_count": 63,
   "metadata": {},
   "outputs": [],
   "source": [
    "params = {\n",
    "          'colsample_bynode': 1,\n",
    "          'learning_rate': 0.1,\n",
    "          'max_depth': 50,\n",
    "          'num_parallel_tree': 80,\n",
    "          'objective': 'multi:softprob',\n",
    "          'subsample': 1,\n",
    "          'booster':'gbtree'}\n",
    "\n",
    "xgb_model = xgb.XGBRFClassifier(**params)"
   ]
  },
  {
   "cell_type": "code",
   "execution_count": 64,
   "metadata": {},
   "outputs": [
    {
     "data": {
      "text/plain": [
       "0.8316610553685123"
      ]
     },
     "execution_count": 64,
     "metadata": {},
     "output_type": "execute_result"
    }
   ],
   "source": [
    "xgb_model = xgb_model.fit(X, y)\n",
    "predictions = xgb_model.predict(X_test)\n",
    "actuals = y_test\n",
    "accuracy_score(y_test, predictions)"
   ]
  },
  {
   "cell_type": "code",
   "execution_count": 65,
   "metadata": {},
   "outputs": [
    {
     "data": {
      "text/plain": [
       "<bound method ClassifierMixin.score of XGBRFClassifier(base_score=0.5, booster='gbtree', colsample_bylevel=1,\n",
       "                colsample_bynode=1, colsample_bytree=1, gamma=0, gpu_id=-1,\n",
       "                importance_type='gain', interaction_constraints='',\n",
       "                learning_rate=0.1, max_delta_step=0, max_depth=50,\n",
       "                min_child_weight=1, missing=nan, monotone_constraints='()',\n",
       "                n_estimators=100, n_jobs=0, num_parallel_tree=80,\n",
       "                objective='multi:softprob', random_state=0, reg_alpha=0,\n",
       "                reg_lambda=1e-05, scale_pos_weight=None, subsample=1,\n",
       "                tree_method='exact', validate_parameters=1, verbosity=None)>"
      ]
     },
     "execution_count": 65,
     "metadata": {},
     "output_type": "execute_result"
    }
   ],
   "source": [
    "xgb_model.score"
   ]
  },
  {
   "cell_type": "markdown",
   "metadata": {},
   "source": [
    "# Trying out matrix"
   ]
  },
  {
   "cell_type": "code",
   "execution_count": 796,
   "metadata": {},
   "outputs": [],
   "source": [
    "# Local data\n",
    "path = \"collection/\"\n",
    "folder = \"df_http_udp/\" # specify which packet protocol config you want here\n",
    "col_names = [\"website-index\", \"time\", \"direction\", \"packet size\"]\n",
    "df_one_local = pd.read_csv(path+folder+\"Day1-parsed-ondevice.csv\", header=0, names=col_names, error_bad_lines=False, warn_bad_lines=False, quotechar='^')\n",
    "df_two_local = pd.read_csv(path+folder+\"Day2-parsed-ondevice.csv\", header=0, names=col_names, error_bad_lines=False, warn_bad_lines=False, quotechar='^')\n",
    "df_three_local = pd.read_csv(path+folder+\"Day3-parsed-ondevice.csv\", header=0, names=col_names, error_bad_lines=False, warn_bad_lines=False, quotechar='^')\n"
   ]
  },
  {
   "cell_type": "code",
   "execution_count": 797,
   "metadata": {},
   "outputs": [],
   "source": [
    "def get_segments(df):\n",
    "    ret = []\n",
    "    start = 0\n",
    "    curr_index = df.at[0, 'website-index']\n",
    "    for index, row in df.iterrows():\n",
    "        if (row['website-index'] != curr_index):\n",
    "            curr_index = row['website-index']\n",
    "            ret.append((start, index - 1))\n",
    "            start = index\n",
    "            \n",
    "    ret.append((start, index))\n",
    "\n",
    "    return ret"
   ]
  },
  {
   "cell_type": "code",
   "execution_count": 825,
   "metadata": {},
   "outputs": [
    {
     "ename": "ValueError",
     "evalue": "setting an array element with a sequence.",
     "output_type": "error",
     "traceback": [
      "\u001b[1;31m---------------------------------------------------------------------------\u001b[0m",
      "\u001b[1;31mValueError\u001b[0m                                Traceback (most recent call last)",
      "\u001b[1;32m<ipython-input-825-3a2643124715>\u001b[0m in \u001b[0;36m<module>\u001b[1;34m\u001b[0m\n\u001b[0;32m     21\u001b[0m \u001b[1;33m\u001b[0m\u001b[0m\n\u001b[0;32m     22\u001b[0m \u001b[0mclf\u001b[0m \u001b[1;33m=\u001b[0m \u001b[0mRandomForestClassifier\u001b[0m\u001b[1;33m(\u001b[0m\u001b[0mn_jobs\u001b[0m\u001b[1;33m=\u001b[0m\u001b[1;33m-\u001b[0m\u001b[1;36m1\u001b[0m\u001b[1;33m,\u001b[0m \u001b[0mn_estimators\u001b[0m\u001b[1;33m=\u001b[0m\u001b[1;36m300\u001b[0m\u001b[1;33m)\u001b[0m\u001b[1;33m\u001b[0m\u001b[1;33m\u001b[0m\u001b[0m\n\u001b[1;32m---> 23\u001b[1;33m \u001b[0mclf\u001b[0m\u001b[1;33m.\u001b[0m\u001b[0mfit\u001b[0m\u001b[1;33m(\u001b[0m\u001b[0mx_train\u001b[0m\u001b[1;33m,\u001b[0m \u001b[0my_train\u001b[0m\u001b[1;33m)\u001b[0m\u001b[1;33m\u001b[0m\u001b[1;33m\u001b[0m\u001b[0m\n\u001b[0m\u001b[0;32m     24\u001b[0m \u001b[0mclf\u001b[0m\u001b[1;33m.\u001b[0m\u001b[0mscore\u001b[0m\u001b[1;33m(\u001b[0m\u001b[0mx_test\u001b[0m\u001b[1;33m,\u001b[0m \u001b[0my_test\u001b[0m\u001b[1;33m)\u001b[0m\u001b[1;33m\u001b[0m\u001b[1;33m\u001b[0m\u001b[0m\n\u001b[0;32m     25\u001b[0m \u001b[1;33m\u001b[0m\u001b[0m\n",
      "\u001b[1;32mC:\\ProgramData\\Anaconda3\\lib\\site-packages\\sklearn\\ensemble\\forest.py\u001b[0m in \u001b[0;36mfit\u001b[1;34m(self, X, y, sample_weight)\u001b[0m\n\u001b[0;32m    248\u001b[0m \u001b[1;33m\u001b[0m\u001b[0m\n\u001b[0;32m    249\u001b[0m         \u001b[1;31m# Validate or convert input data\u001b[0m\u001b[1;33m\u001b[0m\u001b[1;33m\u001b[0m\u001b[1;33m\u001b[0m\u001b[0m\n\u001b[1;32m--> 250\u001b[1;33m         \u001b[0mX\u001b[0m \u001b[1;33m=\u001b[0m \u001b[0mcheck_array\u001b[0m\u001b[1;33m(\u001b[0m\u001b[0mX\u001b[0m\u001b[1;33m,\u001b[0m \u001b[0maccept_sparse\u001b[0m\u001b[1;33m=\u001b[0m\u001b[1;34m\"csc\"\u001b[0m\u001b[1;33m,\u001b[0m \u001b[0mdtype\u001b[0m\u001b[1;33m=\u001b[0m\u001b[0mDTYPE\u001b[0m\u001b[1;33m)\u001b[0m\u001b[1;33m\u001b[0m\u001b[1;33m\u001b[0m\u001b[0m\n\u001b[0m\u001b[0;32m    251\u001b[0m         \u001b[0my\u001b[0m \u001b[1;33m=\u001b[0m \u001b[0mcheck_array\u001b[0m\u001b[1;33m(\u001b[0m\u001b[0my\u001b[0m\u001b[1;33m,\u001b[0m \u001b[0maccept_sparse\u001b[0m\u001b[1;33m=\u001b[0m\u001b[1;34m'csc'\u001b[0m\u001b[1;33m,\u001b[0m \u001b[0mensure_2d\u001b[0m\u001b[1;33m=\u001b[0m\u001b[1;32mFalse\u001b[0m\u001b[1;33m,\u001b[0m \u001b[0mdtype\u001b[0m\u001b[1;33m=\u001b[0m\u001b[1;32mNone\u001b[0m\u001b[1;33m)\u001b[0m\u001b[1;33m\u001b[0m\u001b[1;33m\u001b[0m\u001b[0m\n\u001b[0;32m    252\u001b[0m         \u001b[1;32mif\u001b[0m \u001b[0msample_weight\u001b[0m \u001b[1;32mis\u001b[0m \u001b[1;32mnot\u001b[0m \u001b[1;32mNone\u001b[0m\u001b[1;33m:\u001b[0m\u001b[1;33m\u001b[0m\u001b[1;33m\u001b[0m\u001b[0m\n",
      "\u001b[1;32mC:\\ProgramData\\Anaconda3\\lib\\site-packages\\sklearn\\utils\\validation.py\u001b[0m in \u001b[0;36mcheck_array\u001b[1;34m(array, accept_sparse, accept_large_sparse, dtype, order, copy, force_all_finite, ensure_2d, allow_nd, ensure_min_samples, ensure_min_features, warn_on_dtype, estimator)\u001b[0m\n\u001b[0;32m    525\u001b[0m             \u001b[1;32mtry\u001b[0m\u001b[1;33m:\u001b[0m\u001b[1;33m\u001b[0m\u001b[1;33m\u001b[0m\u001b[0m\n\u001b[0;32m    526\u001b[0m                 \u001b[0mwarnings\u001b[0m\u001b[1;33m.\u001b[0m\u001b[0msimplefilter\u001b[0m\u001b[1;33m(\u001b[0m\u001b[1;34m'error'\u001b[0m\u001b[1;33m,\u001b[0m \u001b[0mComplexWarning\u001b[0m\u001b[1;33m)\u001b[0m\u001b[1;33m\u001b[0m\u001b[1;33m\u001b[0m\u001b[0m\n\u001b[1;32m--> 527\u001b[1;33m                 \u001b[0marray\u001b[0m \u001b[1;33m=\u001b[0m \u001b[0mnp\u001b[0m\u001b[1;33m.\u001b[0m\u001b[0masarray\u001b[0m\u001b[1;33m(\u001b[0m\u001b[0marray\u001b[0m\u001b[1;33m,\u001b[0m \u001b[0mdtype\u001b[0m\u001b[1;33m=\u001b[0m\u001b[0mdtype\u001b[0m\u001b[1;33m,\u001b[0m \u001b[0morder\u001b[0m\u001b[1;33m=\u001b[0m\u001b[0morder\u001b[0m\u001b[1;33m)\u001b[0m\u001b[1;33m\u001b[0m\u001b[1;33m\u001b[0m\u001b[0m\n\u001b[0m\u001b[0;32m    528\u001b[0m             \u001b[1;32mexcept\u001b[0m \u001b[0mComplexWarning\u001b[0m\u001b[1;33m:\u001b[0m\u001b[1;33m\u001b[0m\u001b[1;33m\u001b[0m\u001b[0m\n\u001b[0;32m    529\u001b[0m                 raise ValueError(\"Complex data not supported\\n\"\n",
      "\u001b[1;32mC:\\ProgramData\\Anaconda3\\lib\\site-packages\\numpy\\core\\numeric.py\u001b[0m in \u001b[0;36masarray\u001b[1;34m(a, dtype, order)\u001b[0m\n\u001b[0;32m    536\u001b[0m \u001b[1;33m\u001b[0m\u001b[0m\n\u001b[0;32m    537\u001b[0m     \"\"\"\n\u001b[1;32m--> 538\u001b[1;33m     \u001b[1;32mreturn\u001b[0m \u001b[0marray\u001b[0m\u001b[1;33m(\u001b[0m\u001b[0ma\u001b[0m\u001b[1;33m,\u001b[0m \u001b[0mdtype\u001b[0m\u001b[1;33m,\u001b[0m \u001b[0mcopy\u001b[0m\u001b[1;33m=\u001b[0m\u001b[1;32mFalse\u001b[0m\u001b[1;33m,\u001b[0m \u001b[0morder\u001b[0m\u001b[1;33m=\u001b[0m\u001b[0morder\u001b[0m\u001b[1;33m)\u001b[0m\u001b[1;33m\u001b[0m\u001b[1;33m\u001b[0m\u001b[0m\n\u001b[0m\u001b[0;32m    539\u001b[0m \u001b[1;33m\u001b[0m\u001b[0m\n\u001b[0;32m    540\u001b[0m \u001b[1;33m\u001b[0m\u001b[0m\n",
      "\u001b[1;31mValueError\u001b[0m: setting an array element with a sequence."
     ]
    }
   ],
   "source": [
    "# Preprocess training data\n",
    "segments = get_segments(df_one_local)\n",
    "x_train = []\n",
    "y_train = []\n",
    "for segment in segments:\n",
    "    df_segment = df_one_local.loc[segment[0]:segment[1]]\n",
    "    X = df_segment.loc[:, df.columns != 'website-index'].values.flatten()\n",
    "    y = df_segment.head(1).values[0][0]\n",
    "    x_train.append(X)\n",
    "    y_train.append(y)\n",
    "\n",
    "test_segments = get_segments(df_three_local)\n",
    "x_test = []\n",
    "y_test = []\n",
    "for segment in test_segments:\n",
    "    df_segment = df_three.loc[segment[0]:segment[1]]\n",
    "    X = df_segment.loc[:, df.columns != 'website-index'].values.flatten()\n",
    "    y = df_segment.head(1).values[0][0]\n",
    "    x_test.append(X)\n",
    "    y_test.append(y)                   \n",
    "\n",
    "clf = RandomForestClassifier(n_jobs=-1, n_estimators=300)\n",
    "clf.fit(x_train, y_train)\n",
    "clf.score(x_test, y_test)\n",
    "        "
   ]
  },
  {
   "cell_type": "code",
   "execution_count": null,
   "metadata": {},
   "outputs": [],
   "source": []
  }
 ],
 "metadata": {
  "kernelspec": {
   "display_name": "Python 3",
   "language": "python",
   "name": "python3"
  },
  "language_info": {
   "codemirror_mode": {
    "name": "ipython",
    "version": 3
   },
   "file_extension": ".py",
   "mimetype": "text/x-python",
   "name": "python",
   "nbconvert_exporter": "python",
   "pygments_lexer": "ipython3",
   "version": "3.6.3"
  }
 },
 "nbformat": 4,
 "nbformat_minor": 2
}
