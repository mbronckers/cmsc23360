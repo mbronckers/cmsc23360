{
 "cells": [
  {
   "cell_type": "markdown",
   "metadata": {},
   "source": [
    "# Project 2"
   ]
  },
  {
   "cell_type": "markdown",
   "metadata": {},
   "source": [
    "# Table of Contents\n",
    "\n",
    "[Preliminary analysis on collected local data ](#1)\n",
    "\n",
    "[Local data + Features ](#2)\n",
    "\n",
    "[Training and testing local data ](#3)\n",
    "\n",
    "[Training and testing community data ](#4)\n",
    "\n",
    "[Testing local/community models on sniffer data  ](#5)\n",
    "\n",
    "[Bonus ](#6)\n",
    "\n",
    "[How to use our model for testing / predictions ](#7)\n",
    "\n",
    "[Appendix ](#8)\n"
   ]
  },
  {
   "cell_type": "code",
   "execution_count": 1,
   "metadata": {
    "scrolled": true
   },
   "outputs": [
    {
     "ename": "ImportError",
     "evalue": "cannot import name 'plot_confusion_matrix'",
     "output_type": "error",
     "traceback": [
      "\u001b[1;31m---------------------------------------------------------------------------\u001b[0m",
      "\u001b[1;31mImportError\u001b[0m                               Traceback (most recent call last)",
      "\u001b[1;32m<ipython-input-1-8725d43e7638>\u001b[0m in \u001b[0;36m<module>\u001b[1;34m\u001b[0m\n\u001b[0;32m     13\u001b[0m \u001b[1;32mfrom\u001b[0m \u001b[0msklearn\u001b[0m\u001b[1;33m.\u001b[0m\u001b[0mlinear_model\u001b[0m \u001b[1;32mimport\u001b[0m \u001b[0mLogisticRegression\u001b[0m\u001b[1;33m\u001b[0m\u001b[1;33m\u001b[0m\u001b[0m\n\u001b[0;32m     14\u001b[0m \u001b[1;32mfrom\u001b[0m \u001b[0msklearn\u001b[0m\u001b[1;33m.\u001b[0m\u001b[0mneighbors\u001b[0m \u001b[1;32mimport\u001b[0m \u001b[0mKNeighborsClassifier\u001b[0m\u001b[1;33m\u001b[0m\u001b[1;33m\u001b[0m\u001b[0m\n\u001b[1;32m---> 15\u001b[1;33m \u001b[1;32mfrom\u001b[0m \u001b[0msklearn\u001b[0m\u001b[1;33m.\u001b[0m\u001b[0mmetrics\u001b[0m \u001b[1;32mimport\u001b[0m \u001b[0mplot_confusion_matrix\u001b[0m\u001b[1;33m\u001b[0m\u001b[1;33m\u001b[0m\u001b[0m\n\u001b[0m",
      "\u001b[1;31mImportError\u001b[0m: cannot import name 'plot_confusion_matrix'"
     ]
    }
   ],
   "source": [
    "import numpy as np\n",
    "import matplotlib.pyplot as plt\n",
    "import pandas as pd\n",
    "import os \n",
    "from joblib import dump, load\n",
    "import re\n",
    "import numpy as np\n",
    "import warnings\n",
    "warnings.filterwarnings('ignore')\n",
    "\n",
    "from sklearn.ensemble import RandomForestClassifier\n",
    "from sklearn import svm\n",
    "from sklearn.linear_model import LogisticRegression\n",
    "from sklearn.neighbors import KNeighborsClassifier\n",
    "from sklearn.metrics import plot_confusion_matrix"
   ]
  },
  {
   "cell_type": "markdown",
   "metadata": {},
   "source": [
    "-----------------------------------------\n",
    "## Preliminary analysis on collected local data \n",
    "<a id='1'></a>\n",
    "In this section, we wanted to investigate what type of model (Random Forest, SVM, or Lostical Regression) would be the most promising. Additionally, we also wanted to find out what packet protocols should we train on given the relaxed conditions. This section does relate to the Bonus task. "
   ]
  },
  {
   "cell_type": "markdown",
   "metadata": {},
   "source": [
    "We trained a prelimary model with no features utlising RF, SVM, and LR for each possible combination of protocols (HTTP, UDP, TLS, TCP). Here are the results. For code snippet see Appendix 1.1"
   ]
  },
  {
   "cell_type": "code",
   "execution_count": 2,
   "metadata": {},
   "outputs": [
    {
     "data": {
      "text/plain": [
       "{'all': {'rf': '0.20282841849532876',\n",
       "  'svm': '0.22171087716526103',\n",
       "  'lr': '0.1613749037113117'},\n",
       " 'df_http': {'rf': '0.32978723404255317',\n",
       "  'svm': '0.3404255319148936',\n",
       "  'lr': '0.21808510638297873'},\n",
       " 'df_http_tcp': {'rf': '0.15967685921711952',\n",
       "  'svm': '0.3526352345830095',\n",
       "  'lr': '0.1419901106352015'},\n",
       " 'df_http_tcp_udp': {'rf': '0.2037161108863077',\n",
       "  'svm': '0.3820788197599984',\n",
       "  'lr': '0.17080046965485676'},\n",
       " 'df_http_tls': {'rf': '0.3097651891070538',\n",
       "  'svm': '0.3443101688074266',\n",
       "  'lr': '0.1738170421899855'},\n",
       " 'df_http_tls_tcp': {'rf': '0.18547421547378568',\n",
       "  'svm': '0.1963357053828537',\n",
       "  'lr': '0.16377579527104605'},\n",
       " 'df_http_tls_tcp_udp': {'rf': '0.20156217562798423',\n",
       "  'svm': '0.22305376790533527',\n",
       "  'lr': '0.1523354785135977'},\n",
       " 'df_http_tls_udp': {'rf': '0.29559293757820104',\n",
       "  'svm': '0.34468233004309745',\n",
       "  'lr': '0.18623661893507576'},\n",
       " 'df_http_udp': {'rf': '0.31467715590519685',\n",
       "  'svm': '0.37464582152738424',\n",
       "  'lr': '0.42851428380946033'},\n",
       " 'df_tcp': {'rf': '0.157879917184265',\n",
       "  'svm': '0.3526128364389234',\n",
       "  'lr': '0.14200414078674947'},\n",
       " 'df_tcp_udp': {'rf': '0.20305391170356202',\n",
       "  'svm': '0.382223816260519',\n",
       "  'lr': '0.16926029981203633'},\n",
       " 'df_tls': {'rf': '0.3133242708258806',\n",
       "  'svm': '0.34489995468746276',\n",
       "  'lr': '0.17462020939161957'},\n",
       " 'df_tls_tcp': {'rf': '0.1880490038787566',\n",
       "  'svm': '0.19629827699608435',\n",
       "  'lr': '0.16386056146691994'},\n",
       " 'df_tls_tcp_udp': {'rf': '0.20558256966523283',\n",
       "  'svm': '0.22301186542817364',\n",
       "  'lr': '0.153668723895019'},\n",
       " 'df_tls_udp': {'rf': '0.2972596247665245',\n",
       "  'svm': '0.34498620055197793',\n",
       "  'lr': '0.18620891527975245'},\n",
       " 'df_udp': {'rf': '0.3150179463956258',\n",
       "  'svm': '0.3753647982288417',\n",
       "  'lr': '0.4282311898292577'}}"
      ]
     },
     "execution_count": 2,
     "metadata": {},
     "output_type": "execute_result"
    }
   ],
   "source": [
    "{'all': {'rf': '0.20282841849532876', 'svm': '0.22171087716526103', 'lr': '0.1613749037113117'}, 'df_http': {'rf': '0.32978723404255317', 'svm': '0.3404255319148936', 'lr': '0.21808510638297873'}, 'df_http_tcp': {'rf': '0.15967685921711952', 'svm': '0.3526352345830095', 'lr': '0.1419901106352015'}, 'df_http_tcp_udp': {'rf': '0.2037161108863077', 'svm': '0.3820788197599984', 'lr': '0.17080046965485676'}, 'df_http_tls': {'rf': '0.3097651891070538', 'svm': '0.3443101688074266', 'lr': '0.1738170421899855'}, 'df_http_tls_tcp': {'rf': '0.18547421547378568', 'svm': '0.1963357053828537', 'lr': '0.16377579527104605'}, 'df_http_tls_tcp_udp': {'rf': '0.20156217562798423', 'svm': '0.22305376790533527', 'lr': '0.1523354785135977'}, 'df_http_tls_udp': {'rf': '0.29559293757820104', 'svm': '0.34468233004309745', 'lr': '0.18623661893507576'}, 'df_http_udp': {'rf': '0.31467715590519685', 'svm': '0.37464582152738424', 'lr': '0.42851428380946033'}, 'df_tcp': {'rf': '0.157879917184265', 'svm': '0.3526128364389234', 'lr': '0.14200414078674947'}, 'df_tcp_udp': {'rf': '0.20305391170356202', 'svm': '0.382223816260519', 'lr': '0.16926029981203633'}, 'df_tls': {'rf': '0.3133242708258806', 'svm': '0.34489995468746276', 'lr': '0.17462020939161957'}, 'df_tls_tcp': {'rf': '0.1880490038787566', 'svm': '0.19629827699608435', 'lr': '0.16386056146691994'}, 'df_tls_tcp_udp': {'rf': '0.20558256966523283', 'svm': '0.22301186542817364', 'lr': '0.153668723895019'}, 'df_tls_udp': {'rf': '0.2972596247665245', 'svm': '0.34498620055197793', 'lr': '0.18620891527975245'}, 'df_udp': {'rf': '0.3150179463956258', 'svm': '0.3753647982288417', 'lr': '0.4282311898292577'}}"
   ]
  },
  {
   "cell_type": "markdown",
   "metadata": {},
   "source": [
    "Given these preliminary results, we then plotted the training accuracies for each model type (SVM, RF, LR), for each combination of protocols (HTTP, UDP, TCP, TLS)."
   ]
  },
  {
   "cell_type": "markdown",
   "metadata": {},
   "source": [
    "#### Accuracy of the 3 models with different subset of packets types"
   ]
  },
  {
   "cell_type": "code",
   "execution_count": 44,
   "metadata": {
    "scrolled": true
   },
   "outputs": [
    {
     "data": {
      "text/plain": [
       "<matplotlib.legend.Legend at 0x1e587031ba8>"
      ]
     },
     "execution_count": 44,
     "metadata": {},
     "output_type": "execute_result"
    },
    {
     "data": {
      "image/png": "[encoded data removed]",
      "text/plain": [
       "<Figure size 432x288 with 1 Axes>"
      ]
     },
     "metadata": {},
     "output_type": "display_data"
    }
   ],
   "source": [
    "x_key = svm_key = list(map(lambda x : x[0], svm_results))\n",
    "x_pos = [i for i, _ in enumerate(x_key)]\n",
    "\n",
    "svm_results = [(k, r['svm']) for k,r in results.items()]\n",
    "svm_val = list(map(lambda x : float(x[1]), svm_results))\n",
    "\n",
    "rf_results = [(k, r['rf']) for k,r in results.items()]\n",
    "rf_val = list(map(lambda x : float(x[1]), rf_results))\n",
    "\n",
    "lr_results =  [(k, r['lr']) for k,r in results.items()]\n",
    "lr_val = list(map(lambda x : float(x[1]), lr_results))\n",
    "\n",
    "# multiple line plot\n",
    "plt.plot(x_pos, svm_val, marker='o', markerfacecolor='blue', markersize=12, color='skyblue', linewidth=2, label='SVM acc')\n",
    "plt.plot(x_pos, rf_val, marker='o', markerfacecolor='red', markersize=12, color='olive', linewidth=2, label='RF acc')\n",
    "plt.plot(x_pos, lr_val, marker='o', markerfacecolor='green', markersize=12, color='yellow', linewidth=2, label='LR acc')\n",
    "plt.xticks(x_pos, x_key, rotation='vertical')\n",
    "plt.xlabel(\"protocol\")\n",
    "plt.ylabel(\"Accuracy\")\n",
    "\n",
    "plt.legend()"
   ]
  },
  {
   "cell_type": "markdown",
   "metadata": {},
   "source": [
    "Additionally, we also wanted to see what the average accuracy of the 3 model types are"
   ]
  },
  {
   "cell_type": "markdown",
   "metadata": {},
   "source": [
    "#### Average accuracy of the 3 model types"
   ]
  },
  {
   "cell_type": "code",
   "execution_count": 47,
   "metadata": {
    "scrolled": true
   },
   "outputs": [
    {
     "data": {
      "image/png": "[encoded data removed]",
      "text/plain": [
       "<Figure size 432x288 with 1 Axes>"
      ]
     },
     "metadata": {},
     "output_type": "display_data"
    }
   ],
   "source": [
    "lr_av = np.mean(lr_val)\n",
    "rf_av = np.mean(rf_val)\n",
    "svm_av = np.mean(svm_val)\n",
    "plt.bar([0,1,2], [lr_av, rf_av, svm_av])\n",
    "plt.xticks([0,1,2], ['lr', 'rf', 'svm'])\n",
    "plt.xlabel(\"Model\")\n",
    "plt.ylabel(\"Average accuracy\")\n",
    "\n",
    "plt.show()"
   ]
  },
  {
   "cell_type": "markdown",
   "metadata": {},
   "source": [
    "As we can see from the plot above, using UDP with Logistical Regression (LR) seems to provide the best results. \n",
    "\n",
    "However, averaging out across protocols, LR performs the worst. "
   ]
  },
  {
   "cell_type": "markdown",
   "metadata": {},
   "source": [
    "We also want to verify the impact on accuracy depending on the protocol used. \n",
    "\n",
    "To do this we calculate the average accuracies for each model type (lr, rf, svm) for each model that uses http, udp, tls, tcp protocols. \n",
    "\n",
    "For example, we calculate the average accuracy given model type SVM that uses UDP packets (this includes the following data sets: UDP, HTTP + UDP, TCP + UDP, UDP + TCO + TLS, etc.)"
   ]
  },
  {
   "cell_type": "code",
   "execution_count": 87,
   "metadata": {
    "scrolled": false
   },
   "outputs": [
    {
     "name": "stdout",
     "output_type": "stream",
     "text": [
      "Average accuracy of protocol usage against model\n"
     ]
    },
    {
     "data": {
      "text/html": [
       "<table>\n",
       "<tbody>\n",
       "<tr><td>    </td><td>SVM                </td><td>LR                 </td><td>RF                </td></tr>\n",
       "<tr><td>HTTP</td><td>0.3197709224904999 </td><td>0.2044443631740253 </td><td>0.2500314847297752</td></tr>\n",
       "<tr><td>UDP </td><td>0.33125592746316596</td><td>0.23440699746613203</td><td>0.2545578040660794</td></tr>\n",
       "<tr><td>TLS </td><td>0.2771972837253015 </td><td>0.16931541811787698</td><td>0.2495762483654274</td></tr>\n",
       "<tr><td>TCP </td><td>0.2885312903443622 </td><td>0.15721194750442835</td><td>0.1881243454546267</td></tr>\n",
       "</tbody>\n",
       "</table>"
      ],
      "text/plain": [
       "<IPython.core.display.HTML object>"
      ]
     },
     "metadata": {},
     "output_type": "display_data"
    }
   ],
   "source": [
    "# For HTTP, TCP, UDP, TLS, plot their average accuracy on each of the 3 models\n",
    "# x-axis: protcols that uses http, tcp, udp, or tls\n",
    "# y-axis average accuracy on for models that used that protocol\n",
    "http = [d for d in x_key if d.find(\"http\") >= 0]\n",
    "udp = [d for d in x_key if d.find(\"udp\") >= 0]\n",
    "tls = [d for d in x_key if d.find(\"tls\") >= 0]\n",
    "tcp = [d for d in x_key if d.find(\"tcp\") >= 0]\n",
    "\n",
    "# print(http)\n",
    "# print(udp)\n",
    "# print(tls)\n",
    "# print(tcp)\n",
    "\n",
    "http_svm_val = [r['svm'] for k,r in results.items() if k in http]\n",
    "udp_svm_val = [r['svm'] for k,r in results.items() if k in udp]\n",
    "tls_svm_val = [r['svm'] for k,r in results.items() if k in tls]\n",
    "tcp_svm_val = [r['svm'] for k,r in results.items() if k in tcp]\n",
    "\n",
    "http_lr_val = [r['lr'] for k,r in results.items() if k in http]\n",
    "udp_lr_val = [r['lr'] for k,r in results.items() if k in udp]\n",
    "tls_lr_val = [r['lr'] for k,r in results.items() if k in tls]\n",
    "tcp_lr_val = [r['lr'] for k,r in results.items() if k in tcp]\n",
    "\n",
    "http_rf_val = [r['rf'] for k,r in results.items() if k in http]\n",
    "udp_rf_val = [r['rf'] for k,r in results.items() if k in udp]\n",
    "tls_rf_val = [r['rf'] for k,r in results.items() if k in tls]\n",
    "tcp_rf_val = [r['rf'] for k,r in results.items() if k in tcp]\n",
    "\n",
    "http_svm_av = np.mean(list(map(lambda x: float(x), http_svm_val)))\n",
    "http_lr_av = np.mean(list(map(lambda x: float(x), http_lr_val)))\n",
    "http_rf_av = np.mean(list(map(lambda x: float(x), http_rf_val)))\n",
    "\n",
    "udp_svm_av = np.mean(list(map(lambda x: float(x), udp_svm_val)))\n",
    "udp_lr_av = np.mean(list(map(lambda x: float(x), udp_lr_val)))\n",
    "udp_rf_av = np.mean(list(map(lambda x: float(x), udp_rf_val)))\n",
    "\n",
    "tls_svm_av = np.mean(list(map(lambda x: float(x), tls_svm_val)))\n",
    "tls_lr_av = np.mean(list(map(lambda x: float(x), tls_lr_val)))\n",
    "tls_rf_av = np.mean(list(map(lambda x: float(x), tls_rf_val)))\n",
    "\n",
    "tcp_svm_av = np.mean(list(map(lambda x: float(x), tcp_svm_val)))\n",
    "tcp_lr_av = np.mean(list(map(lambda x: float(x), tcp_lr_val)))\n",
    "tcp_rf_av = np.mean(list(map(lambda x: float(x), tcp_rf_val)))\n",
    "\n",
    "\n",
    "from IPython.display import HTML, display\n",
    "import tabulate\n",
    "table = [[\"\",\"SVM\",\"LR\", \"RF\"],\n",
    "         [\"HTTP\", http_svm_av, http_lr_av, http_rf_av],\n",
    "         [\"UDP\", udp_svm_av, udp_lr_av, udp_rf_av],\n",
    "         [\"TLS\", tls_svm_av, tls_lr_av, tls_rf_av],\n",
    "         [\"TCP\",tcp_svm_av, tcp_lr_av, tcp_rf_av]\n",
    "        ]\n",
    "\n",
    "print(\"Average accuracy of protocol usage against model\")\n",
    "display(HTML(tabulate.tabulate(table, tablefmt='html', floatfmt=(\".4f\", \".4f\", \".4f\"))))\n",
    "\n",
    "# We would also want to normalize it by the average proportion of protocol packtes in each dataset that the protocol was part of"
   ]
  },
  {
   "cell_type": "markdown",
   "metadata": {},
   "source": [
    "From the table above, it seems like HTTP and UDP plays a big role in SVM. \n",
    "\n",
    "However, findings in this table must be taken with a grain of salt as protocol usage is very skewed in the data i.e. a data collection might have 4 HTTP packets and hundreds of UDP.\n",
    "\n"
   ]
  },
  {
   "cell_type": "markdown",
   "metadata": {},
   "source": [
    "-----------------------------------------\n",
    "## Local data + Features\n",
    "<a id='2'></a>\n"
   ]
  },
  {
   "cell_type": "markdown",
   "metadata": {},
   "source": [
    "Since we decided to use HTTP + UDP packets for our local data training, we import them below"
   ]
  },
  {
   "cell_type": "code",
   "execution_count": 3,
   "metadata": {
    "scrolled": true
   },
   "outputs": [],
   "source": [
    "# Local data\n",
    "path = \"collection/\"\n",
    "folder = \"df_http_udp/\" # specify which packet protocol config you want here\n",
    "col_names = [\"website-index\", \"time\", \"direction\", \"packet size\"]\n",
    "df_one_local = pd.read_csv(path+folder+\"Day1-parsed-ondevice.csv\", header=0, names=col_names, error_bad_lines=False, warn_bad_lines=False, quotechar='^')\n",
    "df_two_local = pd.read_csv(path+folder+\"Day2-parsed-ondevice.csv\", header=0, names=col_names, error_bad_lines=False, warn_bad_lines=False, quotechar='^')\n",
    "df_three_local = pd.read_csv(path+folder+\"Day3-parsed-ondevice.csv\", header=0, names=col_names, error_bad_lines=False, warn_bad_lines=False, quotechar='^')"
   ]
  },
  {
   "cell_type": "markdown",
   "metadata": {},
   "source": [
    "We then proceeded with feature engineering. We chose the following features: \n",
    "\n",
    "- Cumulative representation of trace\n",
    "- Cumulative Counting Statistics\n",
    "    - Counting cumulative packets\n",
    "    - Counting incoming cmulative packets \n",
    "    - Counting outgoing cumulative packets \n",
    "    - Counting cumulative percentage of outgoing/incoming packets \n",
    "- Previous 100 packet sizes\n",
    "- Total Counting statistics\n",
    "- Packet ordering statistics \n",
    "- Concentration of incoming & outgoing packets in first and last 30 packets \n",
    "- Concentration of outgoing packets \n",
    "\n",
    "All of the code for feature engineering can be found at the bottom of this document, in Appendix #2.1, along with their descriptions.\n",
    "\n",
    "We do howerver, include a plot here of cumulative model accuracy (Random Forest) for each feature mentioned above"
   ]
  },
  {
   "cell_type": "code",
   "execution_count": 4,
   "metadata": {
    "scrolled": false
   },
   "outputs": [
    {
     "data": {
      "text/plain": [
       "Text(0, 0.5, 'Cumulative Accuracy')"
      ]
     },
     "execution_count": 4,
     "metadata": {},
     "output_type": "execute_result"
    },
    {
     "data": {
      "image/png": "[encoded data removed]",
      "text/plain": [
       "<Figure size 432x288 with 1 Axes>"
      ]
     },
     "metadata": {
      "needs_background": "light"
     },
     "output_type": "display_data"
    }
   ],
   "source": [
    "x_key = ['cumulative representation', 'cumulative counting statistics', 'previous 100 packet sizes', 'total counting statistics', 'packet ordering statistics', 'concentration of incoming/outgoing in first/last 30', 'concentration of outgoing packets']\n",
    "x_pos = [i for i, _ in enumerate(x_key)]\n",
    "y_val = [0.7765592186406214, 0.7963265442181406, 0.813893796459882, 0.8336277875929198, 0.8277609253641788, 0.8339611320377346, 0.8328277609253641]\n",
    "\n",
    "# multiple line plot\n",
    "plt.plot(x_pos, y_val, marker='o', markerfacecolor='blue', markersize=12, color='skyblue', linewidth=2, label='SVM acc')\n",
    "\n",
    "plt.xticks(x_pos, x_key, rotation='vertical')\n",
    "plt.xlabel(\"Feature\")\n",
    "plt.ylabel(\"Cumulative Accuracy\")"
   ]
  },
  {
   "cell_type": "markdown",
   "metadata": {},
   "source": [
    "-----------------------------------------\n",
    "## Training and testing local data \n",
    "<a id='3'></a>"
   ]
  },
  {
   "cell_type": "markdown",
   "metadata": {},
   "source": [
    "#### Local HTTP UDP data import"
   ]
  },
  {
   "cell_type": "code",
   "execution_count": 29,
   "metadata": {},
   "outputs": [],
   "source": [
    "# Local data\n",
    "path = \"collection/\"\n",
    "folder = \"df_http_udp/\" # specify which packet protocol config you want here\n",
    "col_names = [\"website-index\", \"time\", \"direction\", \"packet size\"]\n",
    "df_one_local = pd.r#### Local HTTP UDP data importead_csv(path+folder+\"Day1-parsed-ondevice.csv\", header=0, names=col_names, error_bad_lines=False, warn_bad_lines=False, quotechar='^')\n",
    "df_two_local = pd.read_csv(path+folder+\"Day2-parsed-ondevice.csv\", header=0, names=col_names, error_bad_lines=False, warn_bad_lines=False, quotechar='^')\n",
    "df_three_local = pd.read_csv(path+folder+\"Day3-parsed-ondevice.csv\", header=0, names=col_names, error_bad_lines=False, warn_bad_lines=False, quotechar='^')"
   ]
  },
  {
   "cell_type": "markdown",
   "metadata": {},
   "source": [
    "#### Local All protocols data import"
   ]
  },
  {
   "cell_type": "code",
   "execution_count": 32,
   "metadata": {},
   "outputs": [],
   "source": [
    "# Local data\n",
    "path = \"collection/\"\n",
    "folder = \"all/\" # specify which packet protocol config you want here\n",
    "col_names = [\"website-index\", \"time\", \"direction\", \"packet size\"]\n",
    "df_one_local_all = pd.read_csv(path+folder+\"Day1-parsed-ondevice.csv\", header=0, names=col_names, error_bad_lines=False, warn_bad_lines=False, quotechar='^')\n",
    "df_two_local_all = pd.read_csv(path+folder+\"Day2-parsed-ondevice.csv\", header=0, names=col_names, error_bad_lines=False, warn_bad_lines=False, quotechar='^')\n",
    "df_three_local_all = pd.read_csv(path+folder+\"Day3-parsed-ondevice.csv\", header=0, names=col_names, error_bad_lines=False, warn_bad_lines=False, quotechar='^')"
   ]
  },
  {
   "cell_type": "markdown",
   "metadata": {},
   "source": [
    "#### Preprocessing the imported data"
   ]
  },
  {
   "cell_type": "code",
   "execution_count": 30,
   "metadata": {
    "scrolled": true
   },
   "outputs": [],
   "source": [
    "df_one_stat = outgoing_concentration(df_one_local, prev=True)\n",
    "df_two_stat = outgoing_concentration(df_two_local, prev=True)\n",
    "df_three_stat = outgoing_concentration(df_three_local, prev=True)"
   ]
  },
  {
   "cell_type": "code",
   "execution_count": 33,
   "metadata": {},
   "outputs": [],
   "source": [
    "df_one_stat_all = outgoing_concentration(df_one_local_all, prev=True)\n",
    "df_two_stat_all = outgoing_concentration(df_two_local_all, prev=True)\n",
    "df_three_stat_all = outgoing_concentration(df_three_local_all, prev=True)"
   ]
  },
  {
   "cell_type": "markdown",
   "metadata": {},
   "source": [
    "#### Assessing the model accuracy (Random forest of HTTP+UDP)"
   ]
  },
  {
   "cell_type": "code",
   "execution_count": 18,
   "metadata": {
    "scrolled": false
   },
   "outputs": [
    {
     "name": "stdout",
     "output_type": "stream",
     "text": [
      "RF acc: 0.8336611220374013\n",
      "KNN acc: 0.7305576852561753\n"
     ]
    }
   ],
   "source": [
    "run_model(df_one_stat, df_two_stat, df_three_stat)"
   ]
  },
  {
   "cell_type": "markdown",
   "metadata": {},
   "source": [
    "#### Assessing the model accuracy (Random forest of All protocols)"
   ]
  },
  {
   "cell_type": "code",
   "execution_count": 36,
   "metadata": {},
   "outputs": [
    {
     "name": "stdout",
     "output_type": "stream",
     "text": [
      "RF acc: 0.36447984356791563\n",
      "KNN acc: 0.17476150032590018\n"
     ]
    }
   ],
   "source": [
    "run_model(df_one_stat_all, df_two_stat_all, df_three_stat_all)"
   ]
  },
  {
   "cell_type": "markdown",
   "metadata": {},
   "source": [
    "As we can see from the above output, we reach an accuracy of about 83% using the aforementioned features with HTTP + UDP\n",
    "\n",
    "Our model with all features performs very poorly."
   ]
  },
  {
   "cell_type": "markdown",
   "metadata": {},
   "source": [
    "#### Model confusion matrix (Local HTTP + UDP)"
   ]
  },
  {
   "cell_type": "code",
   "execution_count": 31,
   "metadata": {},
   "outputs": [
    {
     "data": {
      "text/plain": [
       "['local_rf_model']"
      ]
     },
     "execution_count": 31,
     "metadata": {},
     "output_type": "execute_result"
    }
   ],
   "source": [
    "local_rf_model = get_rf_model(df_one_stat.append(df_two_stat))\n",
    "dump(local_rf_model, 'local_rf_model')"
   ]
  },
  {
   "cell_type": "code",
   "execution_count": 25,
   "metadata": {},
   "outputs": [],
   "source": [
    "# Preprocess testing data\n",
    "X_test = df_three_stat.loc[:, df_three_stat.columns != 'website-index']\n",
    "y_test = df_three_stat['website-index']"
   ]
  },
  {
   "cell_type": "code",
   "execution_count": 26,
   "metadata": {},
   "outputs": [
    {
     "name": "stdout",
     "output_type": "stream",
     "text": [
      "RF acc: 0.8336277875929198\n"
     ]
    },
    {
     "data": {
      "text/plain": [
       "Text(0.5, 1.0, 'Local HTTP UDP RF model Confusion Matrix')"
      ]
     },
     "execution_count": 26,
     "metadata": {},
     "output_type": "execute_result"
    },
    {
     "data": {
      "image/png": "[encoded data removed]",
      "text/plain": [
       "<Figure size 1440x1440 with 2 Axes>"
      ]
     },
     "metadata": {
      "needs_background": "light"
     },
     "output_type": "display_data"
    }
   ],
   "source": [
    "rf_acc = local_rf_model.score(X_test, y_test)\n",
    "print(\"RF acc: \" + str(rf_acc))\n",
    "\n",
    "fig, ax = plt.subplots(figsize=(20, 20))\n",
    "title = \"Local HTTP UDP RF model Confusion Matrix\"\n",
    "disp = plot_confusion_matrix(local_rf_model, X_test, y_test,\n",
    "                             cmap=plt.cm.Blues,\n",
    "                             ax=ax,\n",
    "                             normalize='true')\n",
    "disp.ax_.set_title(title)"
   ]
  },
  {
   "cell_type": "markdown",
   "metadata": {},
   "source": [
    "#### Model confusion matrix (Local All protocols)"
   ]
  },
  {
   "cell_type": "code",
   "execution_count": 42,
   "metadata": {},
   "outputs": [
    {
     "data": {
      "text/plain": [
       "['local_rf_model_all']"
      ]
     },
     "execution_count": 42,
     "metadata": {},
     "output_type": "execute_result"
    }
   ],
   "source": [
    "local_rf_model_all = get_rf_model(df_one_stat_all.append(df_two_stat_all))\n",
    "dump(local_rf_model_all, 'local_rf_model_all')"
   ]
  },
  {
   "cell_type": "code",
   "execution_count": 43,
   "metadata": {},
   "outputs": [],
   "source": [
    "# Preprocess testing data\n",
    "X_test = df_three_stat_all.loc[:, df_three_stat_all.columns != 'website-index']\n",
    "y_test = df_three_stat_all['website-index']"
   ]
  },
  {
   "cell_type": "code",
   "execution_count": 44,
   "metadata": {},
   "outputs": [
    {
     "name": "stdout",
     "output_type": "stream",
     "text": [
      "RF acc: 0.3672598708250212\n"
     ]
    },
    {
     "data": {
      "text/plain": [
       "Text(0.5, 1.0, 'Local All protocols RF model Confusion Matrix')"
      ]
     },
     "execution_count": 44,
     "metadata": {},
     "output_type": "execute_result"
    },
    {
     "data": {
      "image/png": "[encoded data removed]",
      "text/plain": [
       "<Figure size 1440x1440 with 2 Axes>"
      ]
     },
     "metadata": {
      "needs_background": "light"
     },
     "output_type": "display_data"
    }
   ],
   "source": [
    "rf_acc = local_rf_model_all.score(X_test, y_test)\n",
    "print(\"RF acc: \" + str(rf_acc))\n",
    "\n",
    "fig, ax = plt.subplots(figsize=(20, 20))\n",
    "title = \"Local All protocols RF model Confusion Matrix\"\n",
    "disp = plot_confusion_matrix(local_rf_model_all, X_test, y_test,\n",
    "                             cmap=plt.cm.Blues,\n",
    "                             ax=ax,\n",
    "                             normalize='true')\n",
    "disp.ax_.set_title(title)"
   ]
  },
  {
   "cell_type": "markdown",
   "metadata": {},
   "source": [
    "## Training and testing community data\n",
    "<a id='4'></a>\n",
    "\n",
    "Import tls/http community data & preprocess it or import pickled data, train the model, and evaluate it."
   ]
  },
  {
   "cell_type": "markdown",
   "metadata": {},
   "source": [
    "##### Import data (TLS)"
   ]
  },
  {
   "cell_type": "code",
   "execution_count": 39,
   "metadata": {
    "scrolled": true
   },
   "outputs": [],
   "source": [
    "# Community data import (make sure to have path with access to parsed community data)\n",
    "\n",
    "# choose /tls/ vs /http/\n",
    "path=\"community_data/parsed_on_device/tls/\"\n",
    "\n",
    "day_one=\"day_1\"\n",
    "day_two=\"day_2\"\n",
    "day_three=\"day_3\"\n",
    "file=\"_fixed.csv\"\n",
    "col_names = [\"website-index\", \"time\", \"direction\", \"packet size\"]\n",
    "\n",
    "df_one_tls = pd.read_csv(path+day_one+file, header=0, names=col_names, error_bad_lines=False, warn_bad_lines=False)\n",
    "df_two_tls = pd.read_csv(path+day_two+file, header=0, names=col_names, error_bad_lines=False, warn_bad_lines=False)\n",
    "df_three_tls = pd.read_csv(path+day_three+file, header=0, names=col_names, error_bad_lines=False, warn_bad_lines=False)"
   ]
  },
  {
   "cell_type": "markdown",
   "metadata": {},
   "source": [
    "##### Import data (HTTP)"
   ]
  },
  {
   "cell_type": "code",
   "execution_count": 19,
   "metadata": {
    "scrolled": true
   },
   "outputs": [],
   "source": [
    "# Community data import (make sure to have path with access to parsed community data)\n",
    "\n",
    "# choose /tls/ vs /http/\n",
    "path=\"community_data/parsed_on_device/http/\"\n",
    "\n",
    "day_one=\"day_1\"\n",
    "day_two=\"day_2\"\n",
    "day_three=\"day_3\"\n",
    "file=\"_fixed.csv\"\n",
    "col_names = [\"website-index\", \"time\", \"direction\", \"packet size\"]\n",
    "\n",
    "df_one_http = pd.read_csv(path+day_one+file, header=0, names=col_names, error_bad_lines=False, warn_bad_lines=False)\n",
    "df_two_http = pd.read_csv(path+day_two+file, header=0, names=col_names, error_bad_lines=False, warn_bad_lines=False)\n",
    "df_three_http = pd.read_csv(path+day_three+file, header=0, names=col_names, error_bad_lines=False, warn_bad_lines=False)"
   ]
  },
  {
   "cell_type": "markdown",
   "metadata": {},
   "source": [
    "##### Preprocess or load from disk"
   ]
  },
  {
   "cell_type": "code",
   "execution_count": 40,
   "metadata": {
    "scrolled": false
   },
   "outputs": [
    {
     "name": "stderr",
     "output_type": "stream",
     "text": [
      "/usr/local/lib/python3.7/site-packages/ipykernel_launcher.py:14: UserWarning: Boolean Series key will be reindexed to match DataFrame index.\n",
      "  \n"
     ]
    }
   ],
   "source": [
    "# Add the features\n",
    "df_one_tls = outgoing_concentration(df_one_tls, prev=True)\n",
    "df_two_tls = outgoing_concentration(df_two_tls, prev=True)\n",
    "df_three_tls = outgoing_concentration(df_three_tls, prev=True)"
   ]
  },
  {
   "cell_type": "code",
   "execution_count": 20,
   "metadata": {},
   "outputs": [],
   "source": [
    "# Add the features\n",
    "df_one_http = outgoing_concentration(df_one_http, prev=True)\n",
    "df_two_http = outgoing_concentration(df_two_http, prev=True)\n",
    "df_three_http = outgoing_concentration(df_three_http, prev=True)"
   ]
  },
  {
   "cell_type": "code",
   "execution_count": 2,
   "metadata": {
    "scrolled": true
   },
   "outputs": [],
   "source": [
    "# Write to disk\n",
    "# df_one.to_pickle(\"./community_data/df_one_community_tls.pkl\")\n",
    "# df_two.to_pickle(\"./community_data/df_two_community_tls.pkl\")\n",
    "# df_three.to_pickle(\"./community_data/df_three_community_tls.pkl\")"
   ]
  },
  {
   "cell_type": "code",
   "execution_count": 3,
   "metadata": {
    "scrolled": true
   },
   "outputs": [],
   "source": [
    "# Read from disk\n",
    "df_one_tls = pd.read_pickle(\"./community_data/df_one_community_tls.pkl\")\n",
    "df_two_tls = pd.read_pickle(\"./community_data/df_two_community_tls.pkl\")\n",
    "df_three_tls = pd.read_pickle(\"./community_data/df_three_community_tls.pkl\")"
   ]
  },
  {
   "cell_type": "markdown",
   "metadata": {},
   "source": [
    "#### HTTP"
   ]
  },
  {
   "cell_type": "code",
   "execution_count": 35,
   "metadata": {
    "scrolled": true
   },
   "outputs": [
    {
     "name": "stdout",
     "output_type": "stream",
     "text": [
      "RF acc: 0.09543886546569567\n",
      "KNN acc: 0.11153698735147566\n"
     ]
    }
   ],
   "source": [
    "run_model(df_one_http, df_two_http, df_three_http)"
   ]
  },
  {
   "cell_type": "markdown",
   "metadata": {},
   "source": [
    "#### TLS"
   ]
  },
  {
   "cell_type": "code",
   "execution_count": 41,
   "metadata": {
    "scrolled": true
   },
   "outputs": [
    {
     "name": "stdout",
     "output_type": "stream",
     "text": [
      "RF acc: 0.821889752651762\n",
      "KNN acc: 0.2074660965906478\n"
     ]
    }
   ],
   "source": [
    "run_model(df_one_tls, df_two_tls, df_three_tls)"
   ]
  },
  {
   "cell_type": "markdown",
   "metadata": {},
   "source": [
    "As you can see, the random forest model performs well on the TLS community data with all the features, but the other model's performance on just HTTP is quite poor. "
   ]
  },
  {
   "cell_type": "markdown",
   "metadata": {},
   "source": [
    "#### Evaluate confusion matrix / accuracy for HTTP"
   ]
  },
  {
   "cell_type": "code",
   "execution_count": 21,
   "metadata": {},
   "outputs": [],
   "source": [
    "# Get trained model to evaluate\n",
    "df = df_one_http.append(df_two_http)\n",
    "X = df.loc[:, df.columns != 'website-index']\n",
    "y = df['website-index']\n",
    "X_test = df_three_http.loc[:, df_three_http.columns != 'website-index']\n",
    "y_test = df_three_http['website-index']\n",
    "\n",
    "clf_http = get_rf_model(df)"
   ]
  },
  {
   "cell_type": "code",
   "execution_count": 22,
   "metadata": {},
   "outputs": [
    {
     "name": "stdout",
     "output_type": "stream",
     "text": [
      "RF acc: 0.0931391337677271\n"
     ]
    },
    {
     "data": {
      "text/plain": [
       "Text(0.5, 1.0, 'Community HTTP: Confusion Matrix')"
      ]
     },
     "execution_count": 22,
     "metadata": {},
     "output_type": "execute_result"
    },
    {
     "data": {
      "image/png": "[encoded data removed]",
      "text/plain": [
       "<Figure size 1440x1440 with 2 Axes>"
      ]
     },
     "metadata": {
      "needs_background": "light"
     },
     "output_type": "display_data"
    }
   ],
   "source": [
    "rf_acc = clf_http.score(X_test, y_test)\n",
    "print(\"RF acc: \" + str(rf_acc))\n",
    "\n",
    "fig, ax = plt.subplots(figsize=(20, 20))\n",
    "title = \"Community HTTP: Confusion Matrix\"\n",
    "disp = plot_confusion_matrix(clf_http, X_test, y_test,\n",
    "                             cmap=plt.cm.Blues,\n",
    "                             ax=ax,\n",
    "                             normalize='true')\n",
    "disp.ax_.set_title(title)"
   ]
  },
  {
   "cell_type": "markdown",
   "metadata": {},
   "source": [
    "#### Evaluate confusion matrix / accuracy for TLS\n"
   ]
  },
  {
   "cell_type": "code",
   "execution_count": 5,
   "metadata": {
    "scrolled": true
   },
   "outputs": [],
   "source": [
    "# Preprocess training data\n",
    "df = df_one_tls.append(df_two_tls)\n",
    "X = df.loc[:, df.columns != 'website-index']\n",
    "y = df['website-index']\n",
    "\n",
    "# Preprocess testing data\n",
    "X_test = df_three_tls.loc[:, df_three_tls.columns != 'website-index']\n",
    "y_test = df_three_tls['website-index']"
   ]
  },
  {
   "cell_type": "code",
   "execution_count": 7,
   "metadata": {
    "scrolled": true
   },
   "outputs": [],
   "source": [
    "clf_tls = get_rf_model(df)"
   ]
  },
  {
   "cell_type": "code",
   "execution_count": 16,
   "metadata": {
    "scrolled": false
   },
   "outputs": [
    {
     "data": {
      "text/plain": [
       "Text(0.5, 1.0, 'Community TLS: Confusion Matrix')"
      ]
     },
     "execution_count": 16,
     "metadata": {},
     "output_type": "execute_result"
    },
    {
     "data": {
      "image/png": "[encoded data removed]",
      "text/plain": [
       "<Figure size 1440x1440 with 2 Axes>"
      ]
     },
     "metadata": {
      "needs_background": "light"
     },
     "output_type": "display_data"
    }
   ],
   "source": [
    "rf_acc = clf_tls.score(X_test, y_test)\n",
    "print(\"RF acc: \" + str(rf_acc))\n",
    "\n",
    "fig, ax = plt.subplots(figsize=(20, 20))\n",
    "title = \"Community TLS: Confusion Matrix\"\n",
    "disp = plot_confusion_matrix(clf_tls, X_test, y_test,\n",
    "                             cmap=plt.cm.Blues,\n",
    "                             ax=ax,\n",
    "                             normalize='true')\n",
    "disp.ax_.set_title(title)"
   ]
  },
  {
   "cell_type": "code",
   "execution_count": null,
   "metadata": {
    "scrolled": true
   },
   "outputs": [],
   "source": [
    "# Preprocess testing data\n",
    "X_test = df_three_tls.loc[:, df_three.columns != 'website-index']\n",
    "y_test = df_three_tls['website-index']"
   ]
  },
  {
   "cell_type": "code",
   "execution_count": null,
   "metadata": {},
   "outputs": [],
   "source": [
    "clf_http = get_rf_model(df_one_http.append(df_two_http))"
   ]
  },
  {
   "cell_type": "code",
   "execution_count": null,
   "metadata": {},
   "outputs": [],
   "source": [
    "rf_acc = clf_tls.score(X_test, y_test)\n",
    "print(\"RF acc: \" + str(rf_acc))\n",
    "\n",
    "fig, ax = plt.subplots(figsize=(20, 20))\n",
    "title = \"Community HTTP: Confusion Matrix\"\n",
    "disp = plot_confusion_matrix(clf_tls, X_test, y_test,\n",
    "                             cmap=plt.cm.Blues,\n",
    "                             ax=ax,\n",
    "                             normalize='true')\n",
    "disp.ax_.set_title(title)"
   ]
  },
  {
   "cell_type": "markdown",
   "metadata": {},
   "source": [
    "-----------------------------------------\n",
    "\n",
    "# Testing local/community model on sniffer data\n",
    "<a id='5'></a>\n"
   ]
  },
  {
   "cell_type": "code",
   "execution_count": 17,
   "metadata": {
    "scrolled": true
   },
   "outputs": [],
   "source": [
    "def get_rf_model(df): \n",
    "    # Preprocess training data\n",
    "    X = df.loc[:, df.columns != 'website-index']\n",
    "    y = df['website-index']\n",
    "\n",
    "    # Model training\n",
    "    clf = RandomForestClassifier(n_estimators=300, n_jobs=-1 )\n",
    "    # Change n_estimators to what you want (defualt 100)\n",
    "    # n_jobs=-1 will run the classifier on ALL cpu's, lower this if running on bad comp\n",
    "    \n",
    "    return clf.fit(X,y)\n",
    "\n",
    "def get_knn_model(df):\n",
    "    # Preprocess training data\n",
    "    X = df.loc[:, df.columns != 'website-index']\n",
    "    y = df['website-index']\n",
    "    \n",
    "    # Model training \n",
    "    knn = KNeighborsClassifier(n_neighbors=20)\n",
    "    return knn.fit(X,y)"
   ]
  },
  {
   "cell_type": "markdown",
   "metadata": {},
   "source": [
    "### Local data model\n",
    "\n",
    "Note: we import on-device data, train the model, and then run the sniffer data against the trained model.\n",
    "\n",
    "#### Train the model on local on-device data (all or http_udp)"
   ]
  },
  {
   "cell_type": "code",
   "execution_count": 46,
   "metadata": {
    "scrolled": true
   },
   "outputs": [],
   "source": [
    "# Local data\n",
    "path = \"collection/\"\n",
    "folder = \"df_http_udp/\" # specify which packet protocol config you want here\n",
    "col_names = [\"website-index\", \"time\", \"direction\", \"packet size\"]\n",
    "df_one_local = pd.read_csv(path+folder+\"Day1-parsed-ondevice.csv\", header=0, names=col_names, error_bad_lines=False, warn_bad_lines=False, quotechar='^')\n",
    "df_two_local = pd.read_csv(path+folder+\"Day2-parsed-ondevice.csv\", header=0, names=col_names, error_bad_lines=False, warn_bad_lines=False, quotechar='^')\n",
    "df_three_local = pd.read_csv(path+folder+\"Day3-parsed-ondevice.csv\", header=0, names=col_names, error_bad_lines=False, warn_bad_lines=False, quotechar='^')"
   ]
  },
  {
   "cell_type": "code",
   "execution_count": 47,
   "metadata": {
    "scrolled": true
   },
   "outputs": [],
   "source": [
    "# Add the features\n",
    "df_one_local = outgoing_concentration(df_one_local, prev=True)\n",
    "df_two_local = outgoing_concentration(df_two_local, prev=True)\n",
    "df_three_local = outgoing_concentration(df_three_local, prev=True)"
   ]
  },
  {
   "cell_type": "code",
   "execution_count": 48,
   "metadata": {
    "scrolled": true
   },
   "outputs": [],
   "source": [
    "# Get the trained model \n",
    "local_rf_model = get_rf_model(df_one_local.append(df_two_local)) \n",
    "local_knn_model = get_knn_model(df_one_local.append(df_two_local))"
   ]
  },
  {
   "cell_type": "markdown",
   "metadata": {},
   "source": [
    "#### Run the sniffer data against trained model on all local on-device packets"
   ]
  },
  {
   "cell_type": "code",
   "execution_count": 44,
   "metadata": {
    "scrolled": true
   },
   "outputs": [
    {
     "name": "stdout",
     "output_type": "stream",
     "text": [
      "[note] Model training protocol configuration: all packets\n",
      "RF nytimes: 0.00\n",
      "KNN nytimes: 0.00\n",
      "RF salesforce: 0.00\n",
      "KNN salesforce: 0.01\n",
      "RF salesforce: 0.00\n",
      "KNN salesforce: 0.00\n",
      "RF nytimes: 0.00\n",
      "KNN nytimes: 0.00\n",
      "RF dropbox: 0.00\n",
      "KNN dropbox: 0.15\n",
      "RF youtube: 1.00\n",
      "KNN youtube: 0.09\n",
      "RF hulu: 0.00\n",
      "KNN hulu: 0.03\n",
      "RF linkedin: 0.00\n",
      "KNN linkedin: 0.06\n",
      "RF okta: 0.00\n",
      "KNN okta: 0.17\n",
      "RF quizlet: 0.00\n",
      "KNN quizlet: 0.01\n",
      "RF reddit: 0.00\n",
      "KNN reddit: 0.00\n",
      "RF quizlet: 0.00\n",
      "KNN quizlet: 0.01\n",
      "RF reddit: 0.14\n",
      "KNN reddit: 0.12\n",
      "RF youtube: 0.00\n",
      "KNN youtube: 0.08\n",
      "RF dropbox: 0.00\n",
      "KNN dropbox: 0.01\n",
      "RF okta: 0.00\n",
      "KNN okta: 0.04\n",
      "RF linkedin: 0.00\n",
      "KNN linkedin: 0.01\n",
      "RF hulu: 0.00\n",
      "KNN hulu: 0.23\n",
      "RF cnn: 0.00\n",
      "KNN cnn: 0.02\n",
      "RF instructure: 0.00\n",
      "KNN instructure: 0.06\n",
      "RF homedepot: 0.00\n",
      "KNN homedepot: 0.00\n",
      "RF instructure: 0.00\n",
      "KNN instructure: 0.01\n",
      "RF homedepot: 0.00\n",
      "KNN homedepot: 0.00\n",
      "RF cnn: 0.00\n",
      "KNN cnn: 0.04\n",
      "RF stackoverflow: 0.00\n",
      "KNN stackoverflow: 0.03\n",
      "RF facebook: 0.00\n",
      "KNN facebook: 0.00\n",
      "RF etsy: 0.00\n",
      "KNN etsy: 0.01\n",
      "RF imgur: 0.00\n",
      "KNN imgur: 0.00\n",
      "RF irs: 0.00\n",
      "KNN irs: 0.00\n",
      "RF wikipedia: 0.00\n",
      "KNN wikipedia: 0.00\n",
      "RF yahoo: 0.00\n",
      "KNN yahoo: 0.05\n",
      "RF wikipedia: 1.00\n",
      "KNN wikipedia: 0.00\n",
      "RF yahoo: 0.00\n",
      "KNN yahoo: 0.00\n",
      "RF stackoverflow: 0.00\n",
      "KNN stackoverflow: 0.10\n",
      "RF facebook: 0.00\n",
      "KNN facebook: 0.26\n",
      "RF imgur: 0.00\n",
      "KNN imgur: 0.00\n",
      "RF etsy: 0.00\n",
      "KNN etsy: 0.02\n",
      "RF irs: 0.00\n",
      "KNN irs: 0.02\n",
      "RF mean acc 0.056315789473684215\n",
      "KNN mean acc 0.04352695413833846\n",
      "\n",
      "In comparison with local on-device data: \n",
      "RF acc: 0.38820142606016317\n",
      "RF acc: 0.17476150032590018\n"
     ]
    }
   ],
   "source": [
    "# Run local on-device model against sniffer data\n",
    "path = \"community_data/parsed_sniffer/\"\n",
    "columns = ['website-index', 'time', 'direction', 'packet size']\n",
    "acc_rfs = []\n",
    "acc_knns = []\n",
    "\n",
    "print(\"[note] Model training protocol configuration: all packets\")\n",
    "for filename in os.listdir(path):\n",
    "    # Preprocess: construct df per website \n",
    "    website = re.search(r\"(.*)-([1-2])-.*\", filename).group(1)\n",
    "    df = pd.read_csv(path + filename,names=columns, header=0)\n",
    "    df['direction'] = df['direction'].astype(int)\n",
    "    df = outgoing_concentration(df, prev=True)\n",
    "\n",
    "    X_test = df.loc[:, df.columns != 'website-index']\n",
    "    y_test = df['website-index']\n",
    "    \n",
    "    # Evaluate on sniffer data\n",
    "    acc_rf = local_rf_model.score(X_test, y_test)\n",
    "    acc_rfs.append(acc_rf)\n",
    "    print(\"RF {}: {:.2f}\".format(website, acc_rf))\n",
    "    \n",
    "    acc_knn = local_knn_model.score(X_test, y_test)\n",
    "    acc_knns.append(acc_knn)\n",
    "    print(\"KNN {}: {:.2f}\".format(website, acc_knn))\n",
    "    \n",
    "print('RF mean acc', np.mean(acc_rfs))\n",
    "print('KNN mean acc', np.mean(acc_knns))\n",
    "\n",
    "# Evaluate the models again against local on-device data (day3)\n",
    "X_test = df_three_local.loc[:, df.columns != 'website-index']\n",
    "y_test = df_three_local['website-index']\n",
    "day_3_rf_acc = local_rf_model.score(X_test, y_test)\n",
    "day_3_knn_acc = local_knn_model.score(X_test, y_test)\n",
    "print('\\nIn comparison with local on-device data: ')\n",
    "print('RF acc:', day_3_rf_acc)\n",
    "print('KNN acc:', day_3_knn_acc)"
   ]
  },
  {
   "cell_type": "markdown",
   "metadata": {},
   "source": [
    "#### Run the sniffer data against trained model on HTTP_UDP on-device packets "
   ]
  },
  {
   "cell_type": "code",
   "execution_count": 49,
   "metadata": {
    "scrolled": true
   },
   "outputs": [
    {
     "name": "stdout",
     "output_type": "stream",
     "text": [
      "[note] Model training protocol configuration: df_http_udp packets\n",
      "RF nytimes: 0.00\n",
      "KNN nytimes: 0.03\n",
      "RF salesforce: 0.00\n",
      "KNN salesforce: 0.00\n",
      "RF salesforce: 1.00\n",
      "KNN salesforce: 0.00\n",
      "RF nytimes: 0.00\n",
      "KNN nytimes: 0.00\n",
      "RF dropbox: 0.00\n",
      "KNN dropbox: 0.27\n",
      "RF youtube: 0.00\n",
      "KNN youtube: 0.04\n",
      "RF hulu: 0.00\n",
      "KNN hulu: 0.52\n",
      "RF linkedin: 0.00\n",
      "KNN linkedin: 0.00\n",
      "RF okta: 0.00\n",
      "KNN okta: 0.01\n",
      "RF quizlet: 1.00\n",
      "KNN quizlet: 0.09\n",
      "RF reddit: 0.00\n",
      "KNN reddit: 0.00\n",
      "RF quizlet: 1.00\n",
      "KNN quizlet: 0.04\n",
      "RF reddit: 0.00\n",
      "KNN reddit: 0.00\n",
      "RF youtube: 0.00\n",
      "KNN youtube: 0.00\n",
      "RF dropbox: 0.00\n",
      "KNN dropbox: 0.06\n",
      "RF okta: 0.00\n",
      "KNN okta: 0.00\n",
      "RF linkedin: 0.00\n",
      "KNN linkedin: 0.00\n",
      "RF hulu: 0.00\n",
      "KNN hulu: 0.22\n",
      "RF cnn: 0.00\n",
      "KNN cnn: 0.01\n",
      "RF instructure: 0.00\n",
      "KNN instructure: 0.01\n",
      "RF homedepot: 0.00\n",
      "KNN homedepot: 0.00\n",
      "RF instructure: 0.00\n",
      "KNN instructure: 0.01\n",
      "RF homedepot: 0.00\n",
      "KNN homedepot: 0.00\n",
      "RF cnn: 0.00\n",
      "KNN cnn: 0.04\n",
      "RF stackoverflow: 0.00\n",
      "KNN stackoverflow: 0.00\n",
      "RF facebook: 0.00\n",
      "KNN facebook: 0.01\n",
      "RF etsy: 0.00\n",
      "KNN etsy: 0.02\n",
      "RF imgur: 0.00\n",
      "KNN imgur: 0.00\n",
      "RF irs: 0.00\n",
      "KNN irs: 0.21\n",
      "RF wikipedia: 0.00\n",
      "KNN wikipedia: 0.00\n",
      "RF yahoo: 0.00\n",
      "KNN yahoo: 0.00\n",
      "RF wikipedia: 0.00\n",
      "KNN wikipedia: 0.00\n",
      "RF yahoo: 0.00\n",
      "KNN yahoo: 0.00\n",
      "RF stackoverflow: 0.00\n",
      "KNN stackoverflow: 0.00\n",
      "RF facebook: 0.00\n",
      "KNN facebook: 0.03\n",
      "RF imgur: 0.00\n",
      "KNN imgur: 0.29\n",
      "RF etsy: 0.00\n",
      "KNN etsy: 0.00\n",
      "RF irs: 0.00\n",
      "KNN irs: 0.00\n",
      "RF mean acc 0.07894736842105263\n",
      "KNN mean acc 0.05043039131096788\n",
      "\n",
      "In comparison with local on-device data: \n",
      "RF acc: 0.833294443148105\n",
      "RF acc: 0.7305576852561753\n"
     ]
    }
   ],
   "source": [
    "# Run local on-device model against sniffer data\n",
    "path = \"community_data/parsed_sniffer/\"\n",
    "columns = ['website-index', 'time', 'direction', 'packet size']\n",
    "acc_rfs = []\n",
    "acc_knns = []\n",
    "\n",
    "print(\"[note] Model training protocol configuration: df_http_udp packets\")\n",
    "for filename in os.listdir(path):\n",
    "    # Preprocess: construct df per website \n",
    "    website = re.search(r\"(.*)-([1-2])-.*\", filename).group(1)\n",
    "    df = pd.read_csv(path + filename,names=columns, header=0)\n",
    "    df['direction'] = df['direction'].astype(int)\n",
    "    df = outgoing_concentration(df, prev=True)\n",
    "\n",
    "    X_test = df.loc[:, df.columns != 'website-index']\n",
    "    y_test = df['website-index']\n",
    "    \n",
    "    # Evaluate on sniffer data\n",
    "    acc_rf = local_rf_model.score(X_test, y_test)\n",
    "    acc_rfs.append(acc_rf)\n",
    "    print(\"RF {}: {:.2f}\".format(website, acc_rf))\n",
    "    \n",
    "    acc_knn = local_knn_model.score(X_test, y_test)\n",
    "    acc_knns.append(acc_knn)\n",
    "    print(\"KNN {}: {:.2f}\".format(website, acc_knn))\n",
    "    \n",
    "print('RF mean acc', np.mean(acc_rfs))\n",
    "print('KNN mean acc', np.mean(acc_knns))\n",
    "\n",
    "# Evaluate the models again against local on-device data (day3)\n",
    "X_test = df_three_local.loc[:, df.columns != 'website-index']\n",
    "y_test = df_three_local['website-index']\n",
    "day_3_rf_acc = local_rf_model.score(X_test, y_test)\n",
    "day_3_knn_acc = local_knn_model.score(X_test, y_test)\n",
    "print('\\nIn comparison with local on-device data: ')\n",
    "print('RF acc:', day_3_rf_acc)\n",
    "print('KNN acc:', day_3_knn_acc)"
   ]
  },
  {
   "cell_type": "markdown",
   "metadata": {},
   "source": [
    "## Community data model\n",
    "\n",
    "Note: we import on-device data, train the model, and then run the sniffer data against the trained model."
   ]
  },
  {
   "cell_type": "markdown",
   "metadata": {},
   "source": [
    "#### Train the model on community on-device data (http or tls)"
   ]
  },
  {
   "cell_type": "code",
   "execution_count": 14,
   "metadata": {
    "scrolled": true
   },
   "outputs": [],
   "source": [
    "# Community data import (make sure to have path with access to parsed community data)\n",
    "\n",
    "# choose /tls/ vs /http/\n",
    "path=\"community_data/parsed_on_device/http/\"\n",
    "\n",
    "day_one=\"day_1\"\n",
    "day_two=\"day_2\"\n",
    "day_three=\"day_3\"\n",
    "file=\"_fixed.csv\"\n",
    "col_names = [\"website-index\", \"time\", \"direction\", \"packet size\"]\n",
    "\n",
    "df_one_community = pd.read_csv(path+day_one+file, header=0, names=col_names, error_bad_lines=False, warn_bad_lines=False)\n",
    "df_two_community = pd.read_csv(path+day_two+file, header=0, names=col_names, error_bad_lines=False, warn_bad_lines=False)\n",
    "df_three_community = pd.read_csv(path+day_three+file, header=0, names=col_names, error_bad_lines=False, warn_bad_lines=False)"
   ]
  },
  {
   "cell_type": "code",
   "execution_count": 15,
   "metadata": {
    "scrolled": true
   },
   "outputs": [],
   "source": [
    "# Add the features\n",
    "df_one_community = outgoing_concentration(df_one_community, prev=True)\n",
    "df_two_community = outgoing_concentration(df_two_community, prev=True)\n",
    "df_three_community = outgoing_concentration(df_three_community, prev=True)"
   ]
  },
  {
   "cell_type": "code",
   "execution_count": 52,
   "metadata": {
    "scrolled": true
   },
   "outputs": [],
   "source": [
    "# Read TLS disk if you have the pickles\n",
    "df_one_community = pd.read_pickle(\"./community_data/df_one_community_tls.pkl\")\n",
    "df_two_community = pd.read_pickle(\"./community_data/df_two_community_tls.pkl\")\n",
    "df_three_community = pd.read_pickle(\"./community_data/df_three_community_tls.pkl\")"
   ]
  },
  {
   "cell_type": "code",
   "execution_count": 18,
   "metadata": {
    "scrolled": true
   },
   "outputs": [],
   "source": [
    "# Get the trained model \n",
    "community_rf_model = get_rf_model(df_one_community.append(df_two_community)) \n",
    "community_knn_model = get_knn_model(df_one_community.append(df_two_community))"
   ]
  },
  {
   "cell_type": "markdown",
   "metadata": {},
   "source": [
    "#### Run the sniffer data against HTTP-trained model"
   ]
  },
  {
   "cell_type": "code",
   "execution_count": 59,
   "metadata": {
    "scrolled": true
   },
   "outputs": [
    {
     "name": "stdout",
     "output_type": "stream",
     "text": [
      "[note] Model training protocol configuration: http packets\n",
      "RF nytimes: 0.00\n",
      "KNN nytimes: 0.03\n",
      "RF salesforce: 0.00\n",
      "KNN salesforce: 0.00\n",
      "RF salesforce: 1.00\n",
      "KNN salesforce: 0.00\n",
      "RF nytimes: 0.00\n",
      "KNN nytimes: 0.00\n",
      "RF dropbox: 0.00\n",
      "KNN dropbox: 0.27\n",
      "RF youtube: 0.00\n",
      "KNN youtube: 0.04\n",
      "RF hulu: 0.00\n",
      "KNN hulu: 0.52\n",
      "RF linkedin: 0.00\n",
      "KNN linkedin: 0.00\n",
      "RF okta: 0.00\n",
      "KNN okta: 0.01\n",
      "RF quizlet: 1.00\n",
      "KNN quizlet: 0.09\n",
      "RF reddit: 0.00\n",
      "KNN reddit: 0.00\n",
      "RF quizlet: 1.00\n",
      "KNN quizlet: 0.04\n",
      "RF reddit: 0.00\n",
      "KNN reddit: 0.00\n",
      "RF youtube: 0.00\n",
      "KNN youtube: 0.00\n",
      "RF dropbox: 0.00\n",
      "KNN dropbox: 0.06\n",
      "RF okta: 0.00\n",
      "KNN okta: 0.00\n",
      "RF linkedin: 0.00\n",
      "KNN linkedin: 0.00\n",
      "RF hulu: 0.00\n",
      "KNN hulu: 0.22\n",
      "RF cnn: 0.00\n",
      "KNN cnn: 0.01\n",
      "RF instructure: 0.00\n",
      "KNN instructure: 0.01\n",
      "RF homedepot: 0.00\n",
      "KNN homedepot: 0.00\n",
      "RF instructure: 0.00\n",
      "KNN instructure: 0.01\n",
      "RF homedepot: 0.00\n",
      "KNN homedepot: 0.00\n",
      "RF cnn: 0.00\n",
      "KNN cnn: 0.04\n",
      "RF stackoverflow: 0.00\n",
      "KNN stackoverflow: 0.00\n",
      "RF facebook: 0.00\n",
      "KNN facebook: 0.01\n",
      "RF etsy: 0.00\n",
      "KNN etsy: 0.02\n",
      "RF imgur: 0.00\n",
      "KNN imgur: 0.00\n",
      "RF irs: 0.00\n",
      "KNN irs: 0.21\n",
      "RF wikipedia: 0.00\n",
      "KNN wikipedia: 0.00\n",
      "RF yahoo: 0.00\n",
      "KNN yahoo: 0.00\n",
      "RF wikipedia: 0.00\n",
      "KNN wikipedia: 0.00\n",
      "RF yahoo: 0.00\n",
      "KNN yahoo: 0.00\n",
      "RF stackoverflow: 0.00\n",
      "KNN stackoverflow: 0.00\n",
      "RF facebook: 0.00\n",
      "KNN facebook: 0.03\n",
      "RF imgur: 0.00\n",
      "KNN imgur: 0.29\n",
      "RF etsy: 0.00\n",
      "KNN etsy: 0.00\n",
      "RF irs: 0.00\n",
      "KNN irs: 0.00\n",
      "RF mean acc 0.07894736842105263\n",
      "KNN mean acc 0.05043039131096788\n",
      "\n",
      "In comparison with community on-device data: \n",
      "RF acc: 0.052127251820620925\n",
      "KNN acc: 0.02414718282866999\n"
     ]
    }
   ],
   "source": [
    "# Run community on-device model against sniffer data\n",
    "path = \"community_data/parsed_sniffer/\"\n",
    "columns = ['website-index', 'time', 'direction', 'packet size']\n",
    "acc_rfs = []\n",
    "acc_knns = []\n",
    "\n",
    "print(\"[note] Model training protocol configuration: http packets\")\n",
    "for filename in os.listdir(path):\n",
    "    # Preprocess: construct df per website \n",
    "    website = re.search(r\"(.*)-([1-2])-.*\", filename).group(1)\n",
    "    df = pd.read_csv(path + filename,names=columns, header=0)\n",
    "    df['direction'] = df['direction'].astype(int)\n",
    "    df = outgoing_concentration(df, prev=True)\n",
    "\n",
    "    X_test = df.loc[:, df.columns != 'website-index']\n",
    "    y_test = df['website-index']\n",
    "    \n",
    "    # Evaluate on sniffer data\n",
    "    acc_rf = local_rf_model.score(X_test, y_test)\n",
    "    acc_rfs.append(acc_rf)\n",
    "    print(\"RF {}: {:.2f}\".format(website, acc_rf))\n",
    "    \n",
    "    acc_knn = local_knn_model.score(X_test, y_test)\n",
    "    acc_knns.append(acc_knn)\n",
    "    print(\"KNN {}: {:.2f}\".format(website, acc_knn))\n",
    "    \n",
    "print('RF mean acc', np.mean(acc_rfs))\n",
    "print('KNN mean acc', np.mean(acc_knns))\n",
    "\n",
    "# Evaluate the models again against local on-device data (day3)\n",
    "X_test = df_three_community.loc[:, df.columns != 'website-index']\n",
    "y_test = df_three_community['website-index']\n",
    "day_3_rf_acc = local_rf_model.score(X_test, y_test)\n",
    "day_3_knn_acc = local_knn_model.score(X_test, y_test)\n",
    "print('\\nIn comparison with community on-device data: ')\n",
    "print('RF acc:', day_3_rf_acc)\n",
    "print('KNN acc:', day_3_knn_acc)"
   ]
  },
  {
   "cell_type": "markdown",
   "metadata": {},
   "source": [
    "#### Run the sniffer data against HTTP-trained model TLS packets"
   ]
  },
  {
   "cell_type": "code",
   "execution_count": 55,
   "metadata": {
    "scrolled": false
   },
   "outputs": [
    {
     "name": "stdout",
     "output_type": "stream",
     "text": [
      "[note] Model training protocol configuration: tls packets\n",
      "RF nytimes: 0.00\n",
      "KNN nytimes: 0.03\n",
      "RF salesforce: 0.00\n",
      "KNN salesforce: 0.00\n",
      "RF salesforce: 1.00\n",
      "KNN salesforce: 0.00\n",
      "RF nytimes: 0.00\n",
      "KNN nytimes: 0.00\n",
      "RF dropbox: 0.00\n",
      "KNN dropbox: 0.27\n",
      "RF youtube: 0.00\n",
      "KNN youtube: 0.04\n",
      "RF hulu: 0.00\n",
      "KNN hulu: 0.52\n",
      "RF linkedin: 0.00\n",
      "KNN linkedin: 0.00\n",
      "RF okta: 0.00\n",
      "KNN okta: 0.01\n",
      "RF quizlet: 1.00\n",
      "KNN quizlet: 0.09\n",
      "RF reddit: 0.00\n",
      "KNN reddit: 0.00\n",
      "RF quizlet: 1.00\n",
      "KNN quizlet: 0.04\n",
      "RF reddit: 0.00\n",
      "KNN reddit: 0.00\n",
      "RF youtube: 0.00\n",
      "KNN youtube: 0.00\n",
      "RF dropbox: 0.00\n",
      "KNN dropbox: 0.06\n",
      "RF okta: 0.00\n",
      "KNN okta: 0.00\n",
      "RF linkedin: 0.00\n",
      "KNN linkedin: 0.00\n",
      "RF hulu: 0.00\n",
      "KNN hulu: 0.22\n",
      "RF cnn: 0.00\n",
      "KNN cnn: 0.01\n",
      "RF instructure: 0.00\n",
      "KNN instructure: 0.01\n",
      "RF homedepot: 0.00\n",
      "KNN homedepot: 0.00\n",
      "RF instructure: 0.00\n",
      "KNN instructure: 0.01\n",
      "RF homedepot: 0.00\n",
      "KNN homedepot: 0.00\n",
      "RF cnn: 0.00\n",
      "KNN cnn: 0.04\n",
      "RF stackoverflow: 0.00\n",
      "KNN stackoverflow: 0.00\n",
      "RF facebook: 0.00\n",
      "KNN facebook: 0.01\n",
      "RF etsy: 0.00\n",
      "KNN etsy: 0.02\n",
      "RF imgur: 0.00\n",
      "KNN imgur: 0.00\n",
      "RF irs: 0.00\n",
      "KNN irs: 0.21\n",
      "RF wikipedia: 0.00\n",
      "KNN wikipedia: 0.00\n",
      "RF yahoo: 0.00\n",
      "KNN yahoo: 0.00\n",
      "RF wikipedia: 0.00\n",
      "KNN wikipedia: 0.00\n",
      "RF yahoo: 0.00\n",
      "KNN yahoo: 0.00\n",
      "RF stackoverflow: 0.00\n",
      "KNN stackoverflow: 0.00\n",
      "RF facebook: 0.00\n",
      "KNN facebook: 0.03\n",
      "RF imgur: 0.00\n",
      "KNN imgur: 0.29\n",
      "RF etsy: 0.00\n",
      "KNN etsy: 0.00\n",
      "RF irs: 0.00\n",
      "KNN irs: 0.00\n",
      "RF mean acc 0.07894736842105263\n",
      "KNN mean acc 0.05043039131096788\n",
      "\n",
      "In comparison with community on-device data: \n",
      "RF acc: 0.04882360132663808\n",
      "KNN acc: 0.04878883147501562\n"
     ]
    }
   ],
   "source": [
    "# Run community on-device model against sniffer data\n",
    "path = \"community_data/parsed_sniffer/\"\n",
    "columns = ['website-index', 'time', 'direction', 'packet size']\n",
    "acc_rfs = []\n",
    "acc_knns = []\n",
    "\n",
    "print(\"[note] Model training protocol configuration: tls packets\")\n",
    "for filename in os.listdir(path):\n",
    "    # Preprocess: construct df per website \n",
    "    website = re.search(r\"(.*)-([1-2])-.*\", filename).group(1)\n",
    "    df = pd.read_csv(path + filename,names=columns, header=0)\n",
    "    df['direction'] = df['direction'].astype(int)\n",
    "    df = outgoing_concentration(df, prev=True)\n",
    "\n",
    "    X_test = df.loc[:, df.columns != 'website-index']\n",
    "    y_test = df['website-index']\n",
    "    \n",
    "    # Evaluate on sniffer data\n",
    "    acc_rf = local_rf_model.score(X_test, y_test)\n",
    "    acc_rfs.append(acc_rf)\n",
    "    print(\"RF {}: {:.2f}\".format(website, acc_rf))\n",
    "    \n",
    "    acc_knn = local_knn_model.score(X_test, y_test)\n",
    "    acc_knns.append(acc_knn)\n",
    "    print(\"KNN {}: {:.2f}\".format(website, acc_knn))\n",
    "    \n",
    "print('RF mean acc', np.mean(acc_rfs))\n",
    "print('KNN mean acc', np.mean(acc_knns))\n",
    "\n",
    "# Evaluate the models again against local on-device data (day3)\n",
    "X_test = df_three_community.loc[:, df.columns != 'website-index']\n",
    "y_test = df_three_community['website-index']\n",
    "day_3_rf_acc = local_rf_model.score(X_test, y_test)\n",
    "day_3_knn_acc = local_knn_model.score(X_test, y_test)\n",
    "print('\\nIn comparison with community on-device data: ')\n",
    "print('RF acc:', day_3_rf_acc)\n",
    "print('KNN acc:', day_3_knn_acc)"
   ]
  },
  {
   "cell_type": "markdown",
   "metadata": {},
   "source": [
    "-----------------------------------------\n",
    "# Bonus \n",
    "<a id='6'></a>\n"
   ]
  },
  {
   "cell_type": "markdown",
   "metadata": {},
   "source": [
    "So far we have done an preliminary investgation as to what protocol combination is the best to use. However, we've only done our analysis on the local data. Here we perform a similar analysis through the community data. \n",
    "\n",
    "Unfortunately due to the large size of community data, we don't have the time to train models of all 3 types (SVM, RF, LR). We decided to only use Random Forests as it's the model type that we've chosen for the rest of the project. "
   ]
  },
  {
   "cell_type": "code",
   "execution_count": 2,
   "metadata": {},
   "outputs": [
    {
     "name": "stdout",
     "output_type": "stream",
     "text": [
      "df_all\n",
      "RF acc: 0.14868995019526254\n",
      "{'df_all': {'rf': '0.14868995019526254'}}\n",
      "df_http\n",
      "RF acc: 0.062476044461479495\n",
      "{'df_all': {'rf': '0.14868995019526254'}, 'df_http': {'rf': '0.062476044461479495'}}\n",
      "df_http_tcp\n",
      "RF acc: 0.14689377543861254\n",
      "{'df_all': {'rf': '0.14868995019526254'}, 'df_http': {'rf': '0.062476044461479495'}, 'df_http_tcp': {'rf': '0.14689377543861254'}}\n",
      "df_http_tcp_udp\n",
      "RF acc: 0.12372394731711099\n",
      "{'df_all': {'rf': '0.14868995019526254'}, 'df_http': {'rf': '0.062476044461479495'}, 'df_http_tcp': {'rf': '0.14689377543861254'}, 'df_http_tcp_udp': {'rf': '0.12372394731711099'}}\n",
      "df_http_tls\n",
      "RF acc: 0.24324581239249998\n",
      "{'df_all': {'rf': '0.14868995019526254'}, 'df_http': {'rf': '0.062476044461479495'}, 'df_http_tcp': {'rf': '0.14689377543861254'}, 'df_http_tcp_udp': {'rf': '0.12372394731711099'}, 'df_http_tls': {'rf': '0.24324581239249998'}}\n",
      "df_http_tls_tcp\n",
      "RF acc: 0.17748836145925478\n",
      "{'df_all': {'rf': '0.14868995019526254'}, 'df_http': {'rf': '0.062476044461479495'}, 'df_http_tcp': {'rf': '0.14689377543861254'}, 'df_http_tcp_udp': {'rf': '0.12372394731711099'}, 'df_http_tls': {'rf': '0.24324581239249998'}, 'df_http_tls_tcp': {'rf': '0.17748836145925478'}}\n",
      "df_http_tls_tcp_udp\n",
      "RF acc: 0.14853423716718092\n",
      "{'df_all': {'rf': '0.14868995019526254'}, 'df_http': {'rf': '0.062476044461479495'}, 'df_http_tcp': {'rf': '0.14689377543861254'}, 'df_http_tcp_udp': {'rf': '0.12372394731711099'}, 'df_http_tls': {'rf': '0.24324581239249998'}, 'df_http_tls_tcp': {'rf': '0.17748836145925478'}, 'df_http_tls_tcp_udp': {'rf': '0.14853423716718092'}}\n",
      "df_http_tls_udp\n",
      "RF acc: 0.20160345503465726\n",
      "{'df_all': {'rf': '0.14868995019526254'}, 'df_http': {'rf': '0.062476044461479495'}, 'df_http_tcp': {'rf': '0.14689377543861254'}, 'df_http_tcp_udp': {'rf': '0.12372394731711099'}, 'df_http_tls': {'rf': '0.24324581239249998'}, 'df_http_tls_tcp': {'rf': '0.17748836145925478'}, 'df_http_tls_tcp_udp': {'rf': '0.14853423716718092'}, 'df_http_tls_udp': {'rf': '0.20160345503465726'}}\n",
      "df_http_udp\n",
      "RF acc: 0.05566913036640981\n",
      "{'df_all': {'rf': '0.14868995019526254'}, 'df_http': {'rf': '0.062476044461479495'}, 'df_http_tcp': {'rf': '0.14689377543861254'}, 'df_http_tcp_udp': {'rf': '0.12372394731711099'}, 'df_http_tls': {'rf': '0.24324581239249998'}, 'df_http_tls_tcp': {'rf': '0.17748836145925478'}, 'df_http_tls_tcp_udp': {'rf': '0.14853423716718092'}, 'df_http_tls_udp': {'rf': '0.20160345503465726'}, 'df_http_udp': {'rf': '0.05566913036640981'}}\n",
      "df_tcp\n",
      "RF acc: 0.14695227910324699\n",
      "{'df_all': {'rf': '0.14868995019526254'}, 'df_http': {'rf': '0.062476044461479495'}, 'df_http_tcp': {'rf': '0.14689377543861254'}, 'df_http_tcp_udp': {'rf': '0.12372394731711099'}, 'df_http_tls': {'rf': '0.24324581239249998'}, 'df_http_tls_tcp': {'rf': '0.17748836145925478'}, 'df_http_tls_tcp_udp': {'rf': '0.14853423716718092'}, 'df_http_tls_udp': {'rf': '0.20160345503465726'}, 'df_http_udp': {'rf': '0.05566913036640981'}, 'df_tcp': {'rf': '0.14695227910324699'}}\n",
      "df_tcp_udp\n",
      "RF acc: 0.12345890479396014\n",
      "{'df_all': {'rf': '0.14868995019526254'}, 'df_http': {'rf': '0.062476044461479495'}, 'df_http_tcp': {'rf': '0.14689377543861254'}, 'df_http_tcp_udp': {'rf': '0.12372394731711099'}, 'df_http_tls': {'rf': '0.24324581239249998'}, 'df_http_tls_tcp': {'rf': '0.17748836145925478'}, 'df_http_tls_tcp_udp': {'rf': '0.14853423716718092'}, 'df_http_tls_udp': {'rf': '0.20160345503465726'}, 'df_http_udp': {'rf': '0.05566913036640981'}, 'df_tcp': {'rf': '0.14695227910324699'}, 'df_tcp_udp': {'rf': '0.12345890479396014'}}\n",
      "df_tls\n",
      "RF acc: 0.24316015330139742\n",
      "{'df_all': {'rf': '0.14868995019526254'}, 'df_http': {'rf': '0.062476044461479495'}, 'df_http_tcp': {'rf': '0.14689377543861254'}, 'df_http_tcp_udp': {'rf': '0.12372394731711099'}, 'df_http_tls': {'rf': '0.24324581239249998'}, 'df_http_tls_tcp': {'rf': '0.17748836145925478'}, 'df_http_tls_tcp_udp': {'rf': '0.14853423716718092'}, 'df_http_tls_udp': {'rf': '0.20160345503465726'}, 'df_http_udp': {'rf': '0.05566913036640981'}, 'df_tcp': {'rf': '0.14695227910324699'}, 'df_tcp_udp': {'rf': '0.12345890479396014'}, 'df_tls': {'rf': '0.24316015330139742'}}\n",
      "df_tls_tcp\n",
      "RF acc: 0.1777240590165425\n",
      "{'df_all': {'rf': '0.14868995019526254'}, 'df_http': {'rf': '0.062476044461479495'}, 'df_http_tcp': {'rf': '0.14689377543861254'}, 'df_http_tcp_udp': {'rf': '0.12372394731711099'}, 'df_http_tls': {'rf': '0.24324581239249998'}, 'df_http_tls_tcp': {'rf': '0.17748836145925478'}, 'df_http_tls_tcp_udp': {'rf': '0.14853423716718092'}, 'df_http_tls_udp': {'rf': '0.20160345503465726'}, 'df_http_udp': {'rf': '0.05566913036640981'}, 'df_tcp': {'rf': '0.14695227910324699'}, 'df_tcp_udp': {'rf': '0.12345890479396014'}, 'df_tls': {'rf': '0.24316015330139742'}, 'df_tls_tcp': {'rf': '0.1777240590165425'}}\n",
      "df_tls_tcp_udp\n",
      "RF acc: 0.14945119390392014\n",
      "{'df_all': {'rf': '0.14868995019526254'}, 'df_http': {'rf': '0.062476044461479495'}, 'df_http_tcp': {'rf': '0.14689377543861254'}, 'df_http_tcp_udp': {'rf': '0.12372394731711099'}, 'df_http_tls': {'rf': '0.24324581239249998'}, 'df_http_tls_tcp': {'rf': '0.17748836145925478'}, 'df_http_tls_tcp_udp': {'rf': '0.14853423716718092'}, 'df_http_tls_udp': {'rf': '0.20160345503465726'}, 'df_http_udp': {'rf': '0.05566913036640981'}, 'df_tcp': {'rf': '0.14695227910324699'}, 'df_tcp_udp': {'rf': '0.12345890479396014'}, 'df_tls': {'rf': '0.24316015330139742'}, 'df_tls_tcp': {'rf': '0.1777240590165425'}, 'df_tls_tcp_udp': {'rf': '0.14945119390392014'}}\n",
      "df_tls_udp\n",
      "RF acc: 0.2008148977971177\n",
      "{'df_all': {'rf': '0.14868995019526254'}, 'df_http': {'rf': '0.062476044461479495'}, 'df_http_tcp': {'rf': '0.14689377543861254'}, 'df_http_tcp_udp': {'rf': '0.12372394731711099'}, 'df_http_tls': {'rf': '0.24324581239249998'}, 'df_http_tls_tcp': {'rf': '0.17748836145925478'}, 'df_http_tls_tcp_udp': {'rf': '0.14853423716718092'}, 'df_http_tls_udp': {'rf': '0.20160345503465726'}, 'df_http_udp': {'rf': '0.05566913036640981'}, 'df_tcp': {'rf': '0.14695227910324699'}, 'df_tcp_udp': {'rf': '0.12345890479396014'}, 'df_tls': {'rf': '0.24316015330139742'}, 'df_tls_tcp': {'rf': '0.1777240590165425'}, 'df_tls_tcp_udp': {'rf': '0.14945119390392014'}, 'df_tls_udp': {'rf': '0.2008148977971177'}}\n",
      "df_udp\n",
      "RF acc: 0.055466666666666664\n",
      "{'df_all': {'rf': '0.14868995019526254'}, 'df_http': {'rf': '0.062476044461479495'}, 'df_http_tcp': {'rf': '0.14689377543861254'}, 'df_http_tcp_udp': {'rf': '0.12372394731711099'}, 'df_http_tls': {'rf': '0.24324581239249998'}, 'df_http_tls_tcp': {'rf': '0.17748836145925478'}, 'df_http_tls_tcp_udp': {'rf': '0.14853423716718092'}, 'df_http_tls_udp': {'rf': '0.20160345503465726'}, 'df_http_udp': {'rf': '0.05566913036640981'}, 'df_tcp': {'rf': '0.14695227910324699'}, 'df_tcp_udp': {'rf': '0.12345890479396014'}, 'df_tls': {'rf': '0.24316015330139742'}, 'df_tls_tcp': {'rf': '0.1777240590165425'}, 'df_tls_tcp_udp': {'rf': '0.14945119390392014'}, 'df_tls_udp': {'rf': '0.2008148977971177'}, 'df_udp': {'rf': '0.055466666666666664'}}\n"
     ]
    }
   ],
   "source": [
    "col_names = [\"website-index\", \"time\", \"direction\", \"packet size\"]\n",
    "folders = []\n",
    "path = './Community Data Version 2/collection/'\n",
    "for r, d, f in os.walk(path):\n",
    "    for folder in d:\n",
    "        folders.append(folder)\n",
    "\n",
    "results = {}\n",
    "\n",
    "# Loop over the folders in /collection\n",
    "for folder in folders:\n",
    "    print(folder)\n",
    "    if (folder == \"raw\"):\n",
    "        continue \n",
    "    results[folder] = {} # Goddam python dictionaries\n",
    "\n",
    "    # Load data into dataframes\n",
    "    df_one = pd.read_csv(path+\"/\"+folder+\"/\"+\"day_1_parsed.csv\", header=0, names=col_names, error_bad_lines=False, warn_bad_lines=False, quotechar='^')\n",
    "    df_two = pd.read_csv(path+\"/\"+folder+\"/\"+\"day_2_parsed.csv\", header=0, names=col_names, error_bad_lines=False, warn_bad_lines=False, quotechar='^')\n",
    "    df_three = pd.read_csv(path+\"/\"+folder+\"/\"+\"day_3_parsed.csv\", header=0, names=col_names, error_bad_lines=False, warn_bad_lines=False, quotechar='^')\n",
    "    \n",
    "    # Preprocess training data\n",
    "    df = df_one.append(df_two)\n",
    "    X = df.loc[:, df.columns != 'website-index']\n",
    "    y = df['website-index']\n",
    "    \n",
    "    # Preprocess testing data\n",
    "    X_test = df_three.loc[:, df_three.columns != 'website-index']\n",
    "    y_test = df_three['website-index']\n",
    "    \n",
    "    outpath = './models/' + folder + \"/\"\n",
    "    if not os.path.exists(outpath):\n",
    "        os.mkdir(outpath)    \n",
    "\n",
    "    # RF model training\n",
    "    clf = RandomForestClassifier(n_jobs=-1)\n",
    "    clf.fit(X,y)\n",
    "    rf_acc = clf.score(X_test, y_test)\n",
    "    print(\"RF acc: \" + str(rf_acc))\n",
    "    results[folder][\"rf\"] = str(rf_acc)\n",
    "#     dump(clf, outpath + 'rf_model.joblib')\n",
    "    print(results)\n",
    "\n",
    "# SVM + LR Takes too long, we have too much data for community \n",
    "    \n",
    "#     # SVM model training\n",
    "#     svm_model = svm.SVC(verbose=True, cache_size=8000) # Yes i have the ram\n",
    "#     svm_model.fit(X, y)\n",
    "#     svm_acc = svm_model.score(X_test, y_test)\n",
    "#     print(\"SVM acc: \" + str(svm_acc))\n",
    "#     results[folder][\"svm\"] = str(svm_acc)\n",
    "# #     dump(svm_model, outpath + 'svm_model.joblib')\n",
    "#     print(results)\n",
    "\n",
    "#     # LR model training\n",
    "#     lr = LogisticRegression(random_state=0, max_iter=10e5, n_jobs=-1)\n",
    "#     lr.fit(X, y)\n",
    "#     lr_acc = lr.score(X_test, y_test)\n",
    "#     print(\"Logistic Reg acc: \" + str(lr_acc))\n",
    "#     results[folder][\"lr\"] = str(lr_acc)\n",
    "# #     dump(lr, outpath + \"lr_model.joblib\")\n",
    "#     print(results)"
   ]
  },
  {
   "cell_type": "code",
   "execution_count": 7,
   "metadata": {},
   "outputs": [
    {
     "data": {
      "text/plain": [
       "['df_all',\n",
       " 'df_http',\n",
       " 'df_http_tcp',\n",
       " 'df_http_tcp_udp',\n",
       " 'df_http_tls',\n",
       " 'df_http_tls_tcp',\n",
       " 'df_http_tls_tcp_udp',\n",
       " 'df_http_tls_udp',\n",
       " 'df_http_udp',\n",
       " 'df_tcp',\n",
       " 'df_tcp_udp',\n",
       " 'df_tls',\n",
       " 'df_tls_tcp',\n",
       " 'df_tls_tcp_udp',\n",
       " 'df_tls_udp',\n",
       " 'df_udp']"
      ]
     },
     "execution_count": 7,
     "metadata": {},
     "output_type": "execute_result"
    }
   ],
   "source": [
    "rf_values = [results[key]['rf'] for key in results.keys()]\n",
    "rf_keys = [key for key in results.keys()]\n"
   ]
  },
  {
   "cell_type": "code",
   "execution_count": 9,
   "metadata": {},
   "outputs": [
    {
     "data": {
      "text/plain": [
       "<matplotlib.legend.Legend at 0x24982225d30>"
      ]
     },
     "execution_count": 9,
     "metadata": {},
     "output_type": "execute_result"
    },
    {
     "data": {
      "image/png": "[encoded data removed]",
      "text/plain": [
       "<Figure size 432x288 with 1 Axes>"
      ]
     },
     "metadata": {
      "needs_background": "light"
     },
     "output_type": "display_data"
    }
   ],
   "source": [
    "x_key = rf_keys\n",
    "x_pos = [i for i, _ in enumerate(x_key)]\n",
    "\n",
    "rf_results = [(k, r['rf']) for k,r in results.items()]\n",
    "rf_val = list(map(lambda x : float(x[1]), rf_results))\n",
    "\n",
    "# multiple line plot\n",
    "plt.plot(x_pos, rf_val, marker='o', markerfacecolor='red', markersize=12, color='olive', linewidth=2, label='RF acc')\n",
    "plt.xticks(x_pos, x_key, rotation='vertical')\n",
    "plt.xlabel(\"protocol\")\n",
    "plt.ylabel(\"Accuracy\")\n",
    "plt.title(\"Accuracy of RF models across different combinations of protocols\")\n",
    "plt.legend()"
   ]
  },
  {
   "cell_type": "code",
   "execution_count": 14,
   "metadata": {},
   "outputs": [
    {
     "name": "stdout",
     "output_type": "stream",
     "text": [
      "Average RF accuracy across all protocol combinations:\n",
      "0.1503345542759575\n"
     ]
    }
   ],
   "source": [
    "rf_av = np.mean(rf_val)\n",
    "print(\"Average RF accuracy across all protocol combinations:\")\n",
    "print(rf_av)"
   ]
  },
  {
   "cell_type": "markdown",
   "metadata": {},
   "source": [
    "From the graph above, we see that HTTP + TLS and TLS seems to be the best protocol combination. This is in conflict with our local data results where UDP seems to be the best predictor. Though the peak accuracy here is just 25%, as compared to local data of ~35%. The average RF accuracy between all protocol combinations is also significantly lower in community data as compared to local (15% vs 25-35%). \n",
    "\n",
    "It would seem that there is significantly more noise in the community data than local, given that the community data is double in size of the local data despite accessing the same websites for the same number of runs. "
   ]
  },
  {
   "cell_type": "markdown",
   "metadata": {},
   "source": [
    "Our conclusion here for the final section is that an individual should focus on UDP packets in a relatively low noise scenario, and focusing on TLS when noise is of greater concern.\n",
    "\n",
    "We hypotheisze that since TLS is very prominent for website access, this would reduce the amount of noise for identifying traffic corresponding to website access. Conversely, when noise is little, UDP packets would give a good solid packet size fingerprint for website content delivery."
   ]
  },
  {
   "cell_type": "markdown",
   "metadata": {},
   "source": [
    "----------------------------\n",
    "\n",
    "# How to use our model for testing / predicting\n",
    "<a id='7'></a>\n"
   ]
  },
  {
   "cell_type": "markdown",
   "metadata": {},
   "source": [
    "Steps\n",
    "0. `from utils import preprocess, reformat`, load up model\n",
    "1. Read input, testing files into pandas dataframes i.e. `df_testing`\n",
    "2. Preprocess dataframe by calling `preprocess(df_testing)` on the input dataframe. This essentially adds all of our pre-defined features, the code is exactly the same as shown in the appendix\n",
    "3. Reformat `df_input` for model application by calling `reformat(df_input)`\n",
    "4. Use `rf_model.predict()` or `rf_model.score()` to see model in action\n",
    "\n",
    "See cell below for example"
   ]
  },
  {
   "cell_type": "code",
   "execution_count": 3,
   "metadata": {},
   "outputs": [
    {
     "data": {
      "text/plain": [
       "0.8402603065982356"
      ]
     },
     "execution_count": 3,
     "metadata": {},
     "output_type": "execute_result"
    }
   ],
   "source": [
    "from utils import preprocess, reformat\n",
    "\n",
    "local_rf_model = load('./local_rf_model')\n",
    "col_names = [\"website-index\", \"time\", \"direction\", \"packet size\"]\n",
    "\n",
    "# Example of process\n",
    "df_input = pd.read_csv(\"./collection/df_udp/Day3-parsed-ondevice.csv\", header=0, names=col_names, error_bad_lines=False, warn_bad_lines=False)\n",
    "preprocessed = preprocess(df_input)\n",
    "X, Y = reformat(preprocessed)\n",
    "local_rf_model.score(X, Y)\n"
   ]
  },
  {
   "cell_type": "markdown",
   "metadata": {},
   "source": [
    "--------------------------------------\n",
    "\n",
    "# Appendix\n",
    "<a id='8'></a>\n",
    "\n",
    "Here we show our work and our iterations to reach the results shown earlier. "
   ]
  },
  {
   "cell_type": "markdown",
   "metadata": {},
   "source": [
    "### 1.1"
   ]
  },
  {
   "cell_type": "code",
   "execution_count": 2,
   "metadata": {
    "scrolled": true
   },
   "outputs": [
    {
     "name": "stdout",
     "output_type": "stream",
     "text": [
      "all\n"
     ]
    },
    {
     "name": "stderr",
     "output_type": "stream",
     "text": [
      "C:\\ProgramData\\Anaconda3\\lib\\site-packages\\sklearn\\ensemble\\forest.py:246: FutureWarning: The default value of n_estimators will change from 10 in version 0.20 to 100 in 0.22.\n",
      "  \"10 in version 0.20 to 100 in 0.22.\", FutureWarning)\n"
     ]
    },
    {
     "name": "stdout",
     "output_type": "stream",
     "text": [
      "RF acc: 0.20282841849532876\n",
      "{'all': {'rf': '0.20282841849532876'}}\n",
      "[LibSVM]"
     ]
    },
    {
     "name": "stderr",
     "output_type": "stream",
     "text": [
      "C:\\ProgramData\\Anaconda3\\lib\\site-packages\\sklearn\\svm\\base.py:196: FutureWarning: The default value of gamma will change from 'auto' to 'scale' in version 0.22 to account better for unscaled features. Set gamma explicitly to 'auto' or 'scale' to avoid this warning.\n",
      "  \"avoid this warning.\", FutureWarning)\n"
     ]
    },
    {
     "name": "stdout",
     "output_type": "stream",
     "text": [
      "SVM acc: 0.22171087716526103\n",
      "{'all': {'rf': '0.20282841849532876', 'svm': '0.22171087716526103'}}\n"
     ]
    },
    {
     "name": "stderr",
     "output_type": "stream",
     "text": [
      "C:\\ProgramData\\Anaconda3\\lib\\site-packages\\sklearn\\linear_model\\logistic.py:433: FutureWarning: Default solver will be changed to 'lbfgs' in 0.22. Specify a solver to silence this warning.\n",
      "  FutureWarning)\n",
      "C:\\ProgramData\\Anaconda3\\lib\\site-packages\\sklearn\\linear_model\\logistic.py:460: FutureWarning: Default multi_class will be changed to 'auto' in 0.22. Specify the multi_class option to silence this warning.\n",
      "  \"this warning.\", FutureWarning)\n",
      "C:\\ProgramData\\Anaconda3\\lib\\site-packages\\sklearn\\linear_model\\logistic.py:1300: UserWarning: 'n_jobs' > 1 does not have any effect when 'solver' is set to 'liblinear'. Got 'n_jobs' = 12.\n",
      "  \" = {}.\".format(effective_n_jobs(self.n_jobs)))\n"
     ]
    },
    {
     "name": "stdout",
     "output_type": "stream",
     "text": [
      "Logistic Reg acc: 0.1613749037113117\n",
      "{'all': {'rf': '0.20282841849532876', 'svm': '0.22171087716526103', 'lr': '0.1613749037113117'}}\n",
      "df_http\n"
     ]
    },
    {
     "name": "stderr",
     "output_type": "stream",
     "text": [
      "C:\\ProgramData\\Anaconda3\\lib\\site-packages\\sklearn\\ensemble\\forest.py:246: FutureWarning: The default value of n_estimators will change from 10 in version 0.20 to 100 in 0.22.\n",
      "  \"10 in version 0.20 to 100 in 0.22.\", FutureWarning)\n"
     ]
    },
    {
     "name": "stdout",
     "output_type": "stream",
     "text": [
      "RF acc: 0.32978723404255317\n",
      "{'all': {'rf': '0.20282841849532876', 'svm': '0.22171087716526103', 'lr': '0.1613749037113117'}, 'df_http': {'rf': '0.32978723404255317'}}\n",
      "[LibSVM]SVM acc: 0.3404255319148936\n",
      "{'all': {'rf': '0.20282841849532876', 'svm': '0.22171087716526103', 'lr': '0.1613749037113117'}, 'df_http': {'rf': '0.32978723404255317', 'svm': '0.3404255319148936'}}\n",
      "Logistic Reg acc: 0.21808510638297873\n",
      "{'all': {'rf': '0.20282841849532876', 'svm': '0.22171087716526103', 'lr': '0.1613749037113117'}, 'df_http': {'rf': '0.32978723404255317', 'svm': '0.3404255319148936', 'lr': '0.21808510638297873'}}\n",
      "df_http_tcp\n"
     ]
    },
    {
     "name": "stderr",
     "output_type": "stream",
     "text": [
      "C:\\ProgramData\\Anaconda3\\lib\\site-packages\\sklearn\\svm\\base.py:196: FutureWarning: The default value of gamma will change from 'auto' to 'scale' in version 0.22 to account better for unscaled features. Set gamma explicitly to 'auto' or 'scale' to avoid this warning.\n",
      "  \"avoid this warning.\", FutureWarning)\n",
      "C:\\ProgramData\\Anaconda3\\lib\\site-packages\\sklearn\\linear_model\\logistic.py:433: FutureWarning: Default solver will be changed to 'lbfgs' in 0.22. Specify a solver to silence this warning.\n",
      "  FutureWarning)\n",
      "C:\\ProgramData\\Anaconda3\\lib\\site-packages\\sklearn\\linear_model\\logistic.py:460: FutureWarning: Default multi_class will be changed to 'auto' in 0.22. Specify the multi_class option to silence this warning.\n",
      "  \"this warning.\", FutureWarning)\n",
      "C:\\ProgramData\\Anaconda3\\lib\\site-packages\\sklearn\\linear_model\\logistic.py:1300: UserWarning: 'n_jobs' > 1 does not have any effect when 'solver' is set to 'liblinear'. Got 'n_jobs' = 12.\n",
      "  \" = {}.\".format(effective_n_jobs(self.n_jobs)))\n",
      "C:\\ProgramData\\Anaconda3\\lib\\site-packages\\sklearn\\ensemble\\forest.py:246: FutureWarning: The default value of n_estimators will change from 10 in version 0.20 to 100 in 0.22.\n",
      "  \"10 in version 0.20 to 100 in 0.22.\", FutureWarning)\n"
     ]
    },
    {
     "name": "stdout",
     "output_type": "stream",
     "text": [
      "RF acc: 0.15967685921711952\n",
      "{'all': {'rf': '0.20282841849532876', 'svm': '0.22171087716526103', 'lr': '0.1613749037113117'}, 'df_http': {'rf': '0.32978723404255317', 'svm': '0.3404255319148936', 'lr': '0.21808510638297873'}, 'df_http_tcp': {'rf': '0.15967685921711952'}}\n",
      "[LibSVM]"
     ]
    },
    {
     "name": "stderr",
     "output_type": "stream",
     "text": [
      "C:\\ProgramData\\Anaconda3\\lib\\site-packages\\sklearn\\svm\\base.py:196: FutureWarning: The default value of gamma will change from 'auto' to 'scale' in version 0.22 to account better for unscaled features. Set gamma explicitly to 'auto' or 'scale' to avoid this warning.\n",
      "  \"avoid this warning.\", FutureWarning)\n"
     ]
    },
    {
     "name": "stdout",
     "output_type": "stream",
     "text": [
      "SVM acc: 0.3526352345830095\n",
      "{'all': {'rf': '0.20282841849532876', 'svm': '0.22171087716526103', 'lr': '0.1613749037113117'}, 'df_http': {'rf': '0.32978723404255317', 'svm': '0.3404255319148936', 'lr': '0.21808510638297873'}, 'df_http_tcp': {'rf': '0.15967685921711952', 'svm': '0.3526352345830095'}}\n"
     ]
    },
    {
     "name": "stderr",
     "output_type": "stream",
     "text": [
      "C:\\ProgramData\\Anaconda3\\lib\\site-packages\\sklearn\\linear_model\\logistic.py:433: FutureWarning: Default solver will be changed to 'lbfgs' in 0.22. Specify a solver to silence this warning.\n",
      "  FutureWarning)\n",
      "C:\\ProgramData\\Anaconda3\\lib\\site-packages\\sklearn\\linear_model\\logistic.py:460: FutureWarning: Default multi_class will be changed to 'auto' in 0.22. Specify the multi_class option to silence this warning.\n",
      "  \"this warning.\", FutureWarning)\n",
      "C:\\ProgramData\\Anaconda3\\lib\\site-packages\\sklearn\\linear_model\\logistic.py:1300: UserWarning: 'n_jobs' > 1 does not have any effect when 'solver' is set to 'liblinear'. Got 'n_jobs' = 12.\n",
      "  \" = {}.\".format(effective_n_jobs(self.n_jobs)))\n"
     ]
    },
    {
     "name": "stdout",
     "output_type": "stream",
     "text": [
      "Logistic Reg acc: 0.1419901106352015\n",
      "{'all': {'rf': '0.20282841849532876', 'svm': '0.22171087716526103', 'lr': '0.1613749037113117'}, 'df_http': {'rf': '0.32978723404255317', 'svm': '0.3404255319148936', 'lr': '0.21808510638297873'}, 'df_http_tcp': {'rf': '0.15967685921711952', 'svm': '0.3526352345830095', 'lr': '0.1419901106352015'}}\n",
      "df_http_tcp_udp\n"
     ]
    },
    {
     "name": "stderr",
     "output_type": "stream",
     "text": [
      "C:\\ProgramData\\Anaconda3\\lib\\site-packages\\sklearn\\ensemble\\forest.py:246: FutureWarning: The default value of n_estimators will change from 10 in version 0.20 to 100 in 0.22.\n",
      "  \"10 in version 0.20 to 100 in 0.22.\", FutureWarning)\n"
     ]
    },
    {
     "name": "stdout",
     "output_type": "stream",
     "text": [
      "RF acc: 0.2037161108863077\n",
      "{'all': {'rf': '0.20282841849532876', 'svm': '0.22171087716526103', 'lr': '0.1613749037113117'}, 'df_http': {'rf': '0.32978723404255317', 'svm': '0.3404255319148936', 'lr': '0.21808510638297873'}, 'df_http_tcp': {'rf': '0.15967685921711952', 'svm': '0.3526352345830095', 'lr': '0.1419901106352015'}, 'df_http_tcp_udp': {'rf': '0.2037161108863077'}}\n"
     ]
    },
    {
     "name": "stderr",
     "output_type": "stream",
     "text": [
      "C:\\ProgramData\\Anaconda3\\lib\\site-packages\\sklearn\\svm\\base.py:196: FutureWarning: The default value of gamma will change from 'auto' to 'scale' in version 0.22 to account better for unscaled features. Set gamma explicitly to 'auto' or 'scale' to avoid this warning.\n",
      "  \"avoid this warning.\", FutureWarning)\n"
     ]
    },
    {
     "name": "stdout",
     "output_type": "stream",
     "text": [
      "[LibSVM]SVM acc: 0.3820788197599984\n",
      "{'all': {'rf': '0.20282841849532876', 'svm': '0.22171087716526103', 'lr': '0.1613749037113117'}, 'df_http': {'rf': '0.32978723404255317', 'svm': '0.3404255319148936', 'lr': '0.21808510638297873'}, 'df_http_tcp': {'rf': '0.15967685921711952', 'svm': '0.3526352345830095', 'lr': '0.1419901106352015'}, 'df_http_tcp_udp': {'rf': '0.2037161108863077', 'svm': '0.3820788197599984'}}\n"
     ]
    },
    {
     "name": "stderr",
     "output_type": "stream",
     "text": [
      "C:\\ProgramData\\Anaconda3\\lib\\site-packages\\sklearn\\linear_model\\logistic.py:433: FutureWarning: Default solver will be changed to 'lbfgs' in 0.22. Specify a solver to silence this warning.\n",
      "  FutureWarning)\n",
      "C:\\ProgramData\\Anaconda3\\lib\\site-packages\\sklearn\\linear_model\\logistic.py:460: FutureWarning: Default multi_class will be changed to 'auto' in 0.22. Specify the multi_class option to silence this warning.\n",
      "  \"this warning.\", FutureWarning)\n",
      "C:\\ProgramData\\Anaconda3\\lib\\site-packages\\sklearn\\linear_model\\logistic.py:1300: UserWarning: 'n_jobs' > 1 does not have any effect when 'solver' is set to 'liblinear'. Got 'n_jobs' = 12.\n",
      "  \" = {}.\".format(effective_n_jobs(self.n_jobs)))\n"
     ]
    },
    {
     "name": "stdout",
     "output_type": "stream",
     "text": [
      "Logistic Reg acc: 0.17080046965485676\n",
      "{'all': {'rf': '0.20282841849532876', 'svm': '0.22171087716526103', 'lr': '0.1613749037113117'}, 'df_http': {'rf': '0.32978723404255317', 'svm': '0.3404255319148936', 'lr': '0.21808510638297873'}, 'df_http_tcp': {'rf': '0.15967685921711952', 'svm': '0.3526352345830095', 'lr': '0.1419901106352015'}, 'df_http_tcp_udp': {'rf': '0.2037161108863077', 'svm': '0.3820788197599984', 'lr': '0.17080046965485676'}}\n",
      "df_http_tls\n"
     ]
    },
    {
     "name": "stderr",
     "output_type": "stream",
     "text": [
      "C:\\ProgramData\\Anaconda3\\lib\\site-packages\\sklearn\\ensemble\\forest.py:246: FutureWarning: The default value of n_estimators will change from 10 in version 0.20 to 100 in 0.22.\n",
      "  \"10 in version 0.20 to 100 in 0.22.\", FutureWarning)\n"
     ]
    },
    {
     "name": "stdout",
     "output_type": "stream",
     "text": [
      "RF acc: 0.3097651891070538\n",
      "{'all': {'rf': '0.20282841849532876', 'svm': '0.22171087716526103', 'lr': '0.1613749037113117'}, 'df_http': {'rf': '0.32978723404255317', 'svm': '0.3404255319148936', 'lr': '0.21808510638297873'}, 'df_http_tcp': {'rf': '0.15967685921711952', 'svm': '0.3526352345830095', 'lr': '0.1419901106352015'}, 'df_http_tcp_udp': {'rf': '0.2037161108863077', 'svm': '0.3820788197599984', 'lr': '0.17080046965485676'}, 'df_http_tls': {'rf': '0.3097651891070538'}}\n",
      "[LibSVM]"
     ]
    },
    {
     "name": "stderr",
     "output_type": "stream",
     "text": [
      "C:\\ProgramData\\Anaconda3\\lib\\site-packages\\sklearn\\svm\\base.py:196: FutureWarning: The default value of gamma will change from 'auto' to 'scale' in version 0.22 to account better for unscaled features. Set gamma explicitly to 'auto' or 'scale' to avoid this warning.\n",
      "  \"avoid this warning.\", FutureWarning)\n"
     ]
    },
    {
     "name": "stdout",
     "output_type": "stream",
     "text": [
      "SVM acc: 0.3443101688074266\n",
      "{'all': {'rf': '0.20282841849532876', 'svm': '0.22171087716526103', 'lr': '0.1613749037113117'}, 'df_http': {'rf': '0.32978723404255317', 'svm': '0.3404255319148936', 'lr': '0.21808510638297873'}, 'df_http_tcp': {'rf': '0.15967685921711952', 'svm': '0.3526352345830095', 'lr': '0.1419901106352015'}, 'df_http_tcp_udp': {'rf': '0.2037161108863077', 'svm': '0.3820788197599984', 'lr': '0.17080046965485676'}, 'df_http_tls': {'rf': '0.3097651891070538', 'svm': '0.3443101688074266'}}\n"
     ]
    },
    {
     "name": "stderr",
     "output_type": "stream",
     "text": [
      "C:\\ProgramData\\Anaconda3\\lib\\site-packages\\sklearn\\linear_model\\logistic.py:433: FutureWarning: Default solver will be changed to 'lbfgs' in 0.22. Specify a solver to silence this warning.\n",
      "  FutureWarning)\n",
      "C:\\ProgramData\\Anaconda3\\lib\\site-packages\\sklearn\\linear_model\\logistic.py:460: FutureWarning: Default multi_class will be changed to 'auto' in 0.22. Specify the multi_class option to silence this warning.\n",
      "  \"this warning.\", FutureWarning)\n",
      "C:\\ProgramData\\Anaconda3\\lib\\site-packages\\sklearn\\linear_model\\logistic.py:1300: UserWarning: 'n_jobs' > 1 does not have any effect when 'solver' is set to 'liblinear'. Got 'n_jobs' = 12.\n",
      "  \" = {}.\".format(effective_n_jobs(self.n_jobs)))\n"
     ]
    },
    {
     "name": "stdout",
     "output_type": "stream",
     "text": [
      "Logistic Reg acc: 0.1738170421899855\n",
      "{'all': {'rf': '0.20282841849532876', 'svm': '0.22171087716526103', 'lr': '0.1613749037113117'}, 'df_http': {'rf': '0.32978723404255317', 'svm': '0.3404255319148936', 'lr': '0.21808510638297873'}, 'df_http_tcp': {'rf': '0.15967685921711952', 'svm': '0.3526352345830095', 'lr': '0.1419901106352015'}, 'df_http_tcp_udp': {'rf': '0.2037161108863077', 'svm': '0.3820788197599984', 'lr': '0.17080046965485676'}, 'df_http_tls': {'rf': '0.3097651891070538', 'svm': '0.3443101688074266', 'lr': '0.1738170421899855'}}\n",
      "df_http_tls_tcp\n"
     ]
    },
    {
     "name": "stderr",
     "output_type": "stream",
     "text": [
      "C:\\ProgramData\\Anaconda3\\lib\\site-packages\\sklearn\\ensemble\\forest.py:246: FutureWarning: The default value of n_estimators will change from 10 in version 0.20 to 100 in 0.22.\n",
      "  \"10 in version 0.20 to 100 in 0.22.\", FutureWarning)\n"
     ]
    },
    {
     "name": "stdout",
     "output_type": "stream",
     "text": [
      "RF acc: 0.18547421547378568\n",
      "{'all': {'rf': '0.20282841849532876', 'svm': '0.22171087716526103', 'lr': '0.1613749037113117'}, 'df_http': {'rf': '0.32978723404255317', 'svm': '0.3404255319148936', 'lr': '0.21808510638297873'}, 'df_http_tcp': {'rf': '0.15967685921711952', 'svm': '0.3526352345830095', 'lr': '0.1419901106352015'}, 'df_http_tcp_udp': {'rf': '0.2037161108863077', 'svm': '0.3820788197599984', 'lr': '0.17080046965485676'}, 'df_http_tls': {'rf': '0.3097651891070538', 'svm': '0.3443101688074266', 'lr': '0.1738170421899855'}, 'df_http_tls_tcp': {'rf': '0.18547421547378568'}}\n"
     ]
    },
    {
     "name": "stderr",
     "output_type": "stream",
     "text": [
      "C:\\ProgramData\\Anaconda3\\lib\\site-packages\\sklearn\\svm\\base.py:196: FutureWarning: The default value of gamma will change from 'auto' to 'scale' in version 0.22 to account better for unscaled features. Set gamma explicitly to 'auto' or 'scale' to avoid this warning.\n",
      "  \"avoid this warning.\", FutureWarning)\n"
     ]
    },
    {
     "name": "stdout",
     "output_type": "stream",
     "text": [
      "[LibSVM]SVM acc: 0.1963357053828537\n",
      "{'all': {'rf': '0.20282841849532876', 'svm': '0.22171087716526103', 'lr': '0.1613749037113117'}, 'df_http': {'rf': '0.32978723404255317', 'svm': '0.3404255319148936', 'lr': '0.21808510638297873'}, 'df_http_tcp': {'rf': '0.15967685921711952', 'svm': '0.3526352345830095', 'lr': '0.1419901106352015'}, 'df_http_tcp_udp': {'rf': '0.2037161108863077', 'svm': '0.3820788197599984', 'lr': '0.17080046965485676'}, 'df_http_tls': {'rf': '0.3097651891070538', 'svm': '0.3443101688074266', 'lr': '0.1738170421899855'}, 'df_http_tls_tcp': {'rf': '0.18547421547378568', 'svm': '0.1963357053828537'}}\n"
     ]
    },
    {
     "name": "stderr",
     "output_type": "stream",
     "text": [
      "C:\\ProgramData\\Anaconda3\\lib\\site-packages\\sklearn\\linear_model\\logistic.py:433: FutureWarning: Default solver will be changed to 'lbfgs' in 0.22. Specify a solver to silence this warning.\n",
      "  FutureWarning)\n",
      "C:\\ProgramData\\Anaconda3\\lib\\site-packages\\sklearn\\linear_model\\logistic.py:460: FutureWarning: Default multi_class will be changed to 'auto' in 0.22. Specify the multi_class option to silence this warning.\n",
      "  \"this warning.\", FutureWarning)\n",
      "C:\\ProgramData\\Anaconda3\\lib\\site-packages\\sklearn\\linear_model\\logistic.py:1300: UserWarning: 'n_jobs' > 1 does not have any effect when 'solver' is set to 'liblinear'. Got 'n_jobs' = 12.\n",
      "  \" = {}.\".format(effective_n_jobs(self.n_jobs)))\n"
     ]
    },
    {
     "name": "stdout",
     "output_type": "stream",
     "text": [
      "Logistic Reg acc: 0.16377579527104605\n",
      "{'all': {'rf': '0.20282841849532876', 'svm': '0.22171087716526103', 'lr': '0.1613749037113117'}, 'df_http': {'rf': '0.32978723404255317', 'svm': '0.3404255319148936', 'lr': '0.21808510638297873'}, 'df_http_tcp': {'rf': '0.15967685921711952', 'svm': '0.3526352345830095', 'lr': '0.1419901106352015'}, 'df_http_tcp_udp': {'rf': '0.2037161108863077', 'svm': '0.3820788197599984', 'lr': '0.17080046965485676'}, 'df_http_tls': {'rf': '0.3097651891070538', 'svm': '0.3443101688074266', 'lr': '0.1738170421899855'}, 'df_http_tls_tcp': {'rf': '0.18547421547378568', 'svm': '0.1963357053828537', 'lr': '0.16377579527104605'}}\n",
      "df_http_tls_tcp_udp\n"
     ]
    },
    {
     "name": "stderr",
     "output_type": "stream",
     "text": [
      "C:\\ProgramData\\Anaconda3\\lib\\site-packages\\sklearn\\ensemble\\forest.py:246: FutureWarning: The default value of n_estimators will change from 10 in version 0.20 to 100 in 0.22.\n",
      "  \"10 in version 0.20 to 100 in 0.22.\", FutureWarning)\n"
     ]
    },
    {
     "name": "stdout",
     "output_type": "stream",
     "text": [
      "RF acc: 0.20156217562798423\n",
      "{'all': {'rf': '0.20282841849532876', 'svm': '0.22171087716526103', 'lr': '0.1613749037113117'}, 'df_http': {'rf': '0.32978723404255317', 'svm': '0.3404255319148936', 'lr': '0.21808510638297873'}, 'df_http_tcp': {'rf': '0.15967685921711952', 'svm': '0.3526352345830095', 'lr': '0.1419901106352015'}, 'df_http_tcp_udp': {'rf': '0.2037161108863077', 'svm': '0.3820788197599984', 'lr': '0.17080046965485676'}, 'df_http_tls': {'rf': '0.3097651891070538', 'svm': '0.3443101688074266', 'lr': '0.1738170421899855'}, 'df_http_tls_tcp': {'rf': '0.18547421547378568', 'svm': '0.1963357053828537', 'lr': '0.16377579527104605'}, 'df_http_tls_tcp_udp': {'rf': '0.20156217562798423'}}\n"
     ]
    },
    {
     "name": "stderr",
     "output_type": "stream",
     "text": [
      "C:\\ProgramData\\Anaconda3\\lib\\site-packages\\sklearn\\svm\\base.py:196: FutureWarning: The default value of gamma will change from 'auto' to 'scale' in version 0.22 to account better for unscaled features. Set gamma explicitly to 'auto' or 'scale' to avoid this warning.\n",
      "  \"avoid this warning.\", FutureWarning)\n"
     ]
    },
    {
     "name": "stdout",
     "output_type": "stream",
     "text": [
      "[LibSVM]SVM acc: 0.22305376790533527\n",
      "{'all': {'rf': '0.20282841849532876', 'svm': '0.22171087716526103', 'lr': '0.1613749037113117'}, 'df_http': {'rf': '0.32978723404255317', 'svm': '0.3404255319148936', 'lr': '0.21808510638297873'}, 'df_http_tcp': {'rf': '0.15967685921711952', 'svm': '0.3526352345830095', 'lr': '0.1419901106352015'}, 'df_http_tcp_udp': {'rf': '0.2037161108863077', 'svm': '0.3820788197599984', 'lr': '0.17080046965485676'}, 'df_http_tls': {'rf': '0.3097651891070538', 'svm': '0.3443101688074266', 'lr': '0.1738170421899855'}, 'df_http_tls_tcp': {'rf': '0.18547421547378568', 'svm': '0.1963357053828537', 'lr': '0.16377579527104605'}, 'df_http_tls_tcp_udp': {'rf': '0.20156217562798423', 'svm': '0.22305376790533527'}}\n"
     ]
    },
    {
     "name": "stderr",
     "output_type": "stream",
     "text": [
      "C:\\ProgramData\\Anaconda3\\lib\\site-packages\\sklearn\\linear_model\\logistic.py:433: FutureWarning: Default solver will be changed to 'lbfgs' in 0.22. Specify a solver to silence this warning.\n",
      "  FutureWarning)\n",
      "C:\\ProgramData\\Anaconda3\\lib\\site-packages\\sklearn\\linear_model\\logistic.py:460: FutureWarning: Default multi_class will be changed to 'auto' in 0.22. Specify the multi_class option to silence this warning.\n",
      "  \"this warning.\", FutureWarning)\n",
      "C:\\ProgramData\\Anaconda3\\lib\\site-packages\\sklearn\\linear_model\\logistic.py:1300: UserWarning: 'n_jobs' > 1 does not have any effect when 'solver' is set to 'liblinear'. Got 'n_jobs' = 12.\n",
      "  \" = {}.\".format(effective_n_jobs(self.n_jobs)))\n"
     ]
    },
    {
     "name": "stdout",
     "output_type": "stream",
     "text": [
      "Logistic Reg acc: 0.1523354785135977\n",
      "{'all': {'rf': '0.20282841849532876', 'svm': '0.22171087716526103', 'lr': '0.1613749037113117'}, 'df_http': {'rf': '0.32978723404255317', 'svm': '0.3404255319148936', 'lr': '0.21808510638297873'}, 'df_http_tcp': {'rf': '0.15967685921711952', 'svm': '0.3526352345830095', 'lr': '0.1419901106352015'}, 'df_http_tcp_udp': {'rf': '0.2037161108863077', 'svm': '0.3820788197599984', 'lr': '0.17080046965485676'}, 'df_http_tls': {'rf': '0.3097651891070538', 'svm': '0.3443101688074266', 'lr': '0.1738170421899855'}, 'df_http_tls_tcp': {'rf': '0.18547421547378568', 'svm': '0.1963357053828537', 'lr': '0.16377579527104605'}, 'df_http_tls_tcp_udp': {'rf': '0.20156217562798423', 'svm': '0.22305376790533527', 'lr': '0.1523354785135977'}}\n",
      "df_http_tls_udp\n"
     ]
    },
    {
     "name": "stderr",
     "output_type": "stream",
     "text": [
      "C:\\ProgramData\\Anaconda3\\lib\\site-packages\\sklearn\\ensemble\\forest.py:246: FutureWarning: The default value of n_estimators will change from 10 in version 0.20 to 100 in 0.22.\n",
      "  \"10 in version 0.20 to 100 in 0.22.\", FutureWarning)\n"
     ]
    },
    {
     "name": "stdout",
     "output_type": "stream",
     "text": [
      "RF acc: 0.29559293757820104\n",
      "{'all': {'rf': '0.20282841849532876', 'svm': '0.22171087716526103', 'lr': '0.1613749037113117'}, 'df_http': {'rf': '0.32978723404255317', 'svm': '0.3404255319148936', 'lr': '0.21808510638297873'}, 'df_http_tcp': {'rf': '0.15967685921711952', 'svm': '0.3526352345830095', 'lr': '0.1419901106352015'}, 'df_http_tcp_udp': {'rf': '0.2037161108863077', 'svm': '0.3820788197599984', 'lr': '0.17080046965485676'}, 'df_http_tls': {'rf': '0.3097651891070538', 'svm': '0.3443101688074266', 'lr': '0.1738170421899855'}, 'df_http_tls_tcp': {'rf': '0.18547421547378568', 'svm': '0.1963357053828537', 'lr': '0.16377579527104605'}, 'df_http_tls_tcp_udp': {'rf': '0.20156217562798423', 'svm': '0.22305376790533527', 'lr': '0.1523354785135977'}, 'df_http_tls_udp': {'rf': '0.29559293757820104'}}\n",
      "[LibSVM]"
     ]
    },
    {
     "name": "stderr",
     "output_type": "stream",
     "text": [
      "C:\\ProgramData\\Anaconda3\\lib\\site-packages\\sklearn\\svm\\base.py:196: FutureWarning: The default value of gamma will change from 'auto' to 'scale' in version 0.22 to account better for unscaled features. Set gamma explicitly to 'auto' or 'scale' to avoid this warning.\n",
      "  \"avoid this warning.\", FutureWarning)\n"
     ]
    },
    {
     "name": "stdout",
     "output_type": "stream",
     "text": [
      "SVM acc: 0.34468233004309745\n",
      "{'all': {'rf': '0.20282841849532876', 'svm': '0.22171087716526103', 'lr': '0.1613749037113117'}, 'df_http': {'rf': '0.32978723404255317', 'svm': '0.3404255319148936', 'lr': '0.21808510638297873'}, 'df_http_tcp': {'rf': '0.15967685921711952', 'svm': '0.3526352345830095', 'lr': '0.1419901106352015'}, 'df_http_tcp_udp': {'rf': '0.2037161108863077', 'svm': '0.3820788197599984', 'lr': '0.17080046965485676'}, 'df_http_tls': {'rf': '0.3097651891070538', 'svm': '0.3443101688074266', 'lr': '0.1738170421899855'}, 'df_http_tls_tcp': {'rf': '0.18547421547378568', 'svm': '0.1963357053828537', 'lr': '0.16377579527104605'}, 'df_http_tls_tcp_udp': {'rf': '0.20156217562798423', 'svm': '0.22305376790533527', 'lr': '0.1523354785135977'}, 'df_http_tls_udp': {'rf': '0.29559293757820104', 'svm': '0.34468233004309745'}}\n"
     ]
    },
    {
     "name": "stderr",
     "output_type": "stream",
     "text": [
      "C:\\ProgramData\\Anaconda3\\lib\\site-packages\\sklearn\\linear_model\\logistic.py:433: FutureWarning: Default solver will be changed to 'lbfgs' in 0.22. Specify a solver to silence this warning.\n",
      "  FutureWarning)\n",
      "C:\\ProgramData\\Anaconda3\\lib\\site-packages\\sklearn\\linear_model\\logistic.py:460: FutureWarning: Default multi_class will be changed to 'auto' in 0.22. Specify the multi_class option to silence this warning.\n",
      "  \"this warning.\", FutureWarning)\n",
      "C:\\ProgramData\\Anaconda3\\lib\\site-packages\\sklearn\\linear_model\\logistic.py:1300: UserWarning: 'n_jobs' > 1 does not have any effect when 'solver' is set to 'liblinear'. Got 'n_jobs' = 12.\n",
      "  \" = {}.\".format(effective_n_jobs(self.n_jobs)))\n"
     ]
    },
    {
     "name": "stdout",
     "output_type": "stream",
     "text": [
      "Logistic Reg acc: 0.18623661893507576\n",
      "{'all': {'rf': '0.20282841849532876', 'svm': '0.22171087716526103', 'lr': '0.1613749037113117'}, 'df_http': {'rf': '0.32978723404255317', 'svm': '0.3404255319148936', 'lr': '0.21808510638297873'}, 'df_http_tcp': {'rf': '0.15967685921711952', 'svm': '0.3526352345830095', 'lr': '0.1419901106352015'}, 'df_http_tcp_udp': {'rf': '0.2037161108863077', 'svm': '0.3820788197599984', 'lr': '0.17080046965485676'}, 'df_http_tls': {'rf': '0.3097651891070538', 'svm': '0.3443101688074266', 'lr': '0.1738170421899855'}, 'df_http_tls_tcp': {'rf': '0.18547421547378568', 'svm': '0.1963357053828537', 'lr': '0.16377579527104605'}, 'df_http_tls_tcp_udp': {'rf': '0.20156217562798423', 'svm': '0.22305376790533527', 'lr': '0.1523354785135977'}, 'df_http_tls_udp': {'rf': '0.29559293757820104', 'svm': '0.34468233004309745', 'lr': '0.18623661893507576'}}\n",
      "df_http_udp\n"
     ]
    },
    {
     "name": "stderr",
     "output_type": "stream",
     "text": [
      "C:\\ProgramData\\Anaconda3\\lib\\site-packages\\sklearn\\ensemble\\forest.py:246: FutureWarning: The default value of n_estimators will change from 10 in version 0.20 to 100 in 0.22.\n",
      "  \"10 in version 0.20 to 100 in 0.22.\", FutureWarning)\n"
     ]
    },
    {
     "name": "stdout",
     "output_type": "stream",
     "text": [
      "RF acc: 0.31467715590519685\n",
      "{'all': {'rf': '0.20282841849532876', 'svm': '0.22171087716526103', 'lr': '0.1613749037113117'}, 'df_http': {'rf': '0.32978723404255317', 'svm': '0.3404255319148936', 'lr': '0.21808510638297873'}, 'df_http_tcp': {'rf': '0.15967685921711952', 'svm': '0.3526352345830095', 'lr': '0.1419901106352015'}, 'df_http_tcp_udp': {'rf': '0.2037161108863077', 'svm': '0.3820788197599984', 'lr': '0.17080046965485676'}, 'df_http_tls': {'rf': '0.3097651891070538', 'svm': '0.3443101688074266', 'lr': '0.1738170421899855'}, 'df_http_tls_tcp': {'rf': '0.18547421547378568', 'svm': '0.1963357053828537', 'lr': '0.16377579527104605'}, 'df_http_tls_tcp_udp': {'rf': '0.20156217562798423', 'svm': '0.22305376790533527', 'lr': '0.1523354785135977'}, 'df_http_tls_udp': {'rf': '0.29559293757820104', 'svm': '0.34468233004309745', 'lr': '0.18623661893507576'}, 'df_http_udp': {'rf': '0.31467715590519685'}}\n",
      "[LibSVM]"
     ]
    },
    {
     "name": "stderr",
     "output_type": "stream",
     "text": [
      "C:\\ProgramData\\Anaconda3\\lib\\site-packages\\sklearn\\svm\\base.py:196: FutureWarning: The default value of gamma will change from 'auto' to 'scale' in version 0.22 to account better for unscaled features. Set gamma explicitly to 'auto' or 'scale' to avoid this warning.\n",
      "  \"avoid this warning.\", FutureWarning)\n"
     ]
    },
    {
     "name": "stdout",
     "output_type": "stream",
     "text": [
      "SVM acc: 0.37464582152738424\n",
      "{'all': {'rf': '0.20282841849532876', 'svm': '0.22171087716526103', 'lr': '0.1613749037113117'}, 'df_http': {'rf': '0.32978723404255317', 'svm': '0.3404255319148936', 'lr': '0.21808510638297873'}, 'df_http_tcp': {'rf': '0.15967685921711952', 'svm': '0.3526352345830095', 'lr': '0.1419901106352015'}, 'df_http_tcp_udp': {'rf': '0.2037161108863077', 'svm': '0.3820788197599984', 'lr': '0.17080046965485676'}, 'df_http_tls': {'rf': '0.3097651891070538', 'svm': '0.3443101688074266', 'lr': '0.1738170421899855'}, 'df_http_tls_tcp': {'rf': '0.18547421547378568', 'svm': '0.1963357053828537', 'lr': '0.16377579527104605'}, 'df_http_tls_tcp_udp': {'rf': '0.20156217562798423', 'svm': '0.22305376790533527', 'lr': '0.1523354785135977'}, 'df_http_tls_udp': {'rf': '0.29559293757820104', 'svm': '0.34468233004309745', 'lr': '0.18623661893507576'}, 'df_http_udp': {'rf': '0.31467715590519685', 'svm': '0.37464582152738424'}}\n"
     ]
    },
    {
     "name": "stderr",
     "output_type": "stream",
     "text": [
      "C:\\ProgramData\\Anaconda3\\lib\\site-packages\\sklearn\\linear_model\\logistic.py:433: FutureWarning: Default solver will be changed to 'lbfgs' in 0.22. Specify a solver to silence this warning.\n",
      "  FutureWarning)\n",
      "C:\\ProgramData\\Anaconda3\\lib\\site-packages\\sklearn\\linear_model\\logistic.py:460: FutureWarning: Default multi_class will be changed to 'auto' in 0.22. Specify the multi_class option to silence this warning.\n",
      "  \"this warning.\", FutureWarning)\n",
      "C:\\ProgramData\\Anaconda3\\lib\\site-packages\\sklearn\\linear_model\\logistic.py:1300: UserWarning: 'n_jobs' > 1 does not have any effect when 'solver' is set to 'liblinear'. Got 'n_jobs' = 12.\n",
      "  \" = {}.\".format(effective_n_jobs(self.n_jobs)))\n"
     ]
    },
    {
     "name": "stdout",
     "output_type": "stream",
     "text": [
      "Logistic Reg acc: 0.42851428380946033\n",
      "{'all': {'rf': '0.20282841849532876', 'svm': '0.22171087716526103', 'lr': '0.1613749037113117'}, 'df_http': {'rf': '0.32978723404255317', 'svm': '0.3404255319148936', 'lr': '0.21808510638297873'}, 'df_http_tcp': {'rf': '0.15967685921711952', 'svm': '0.3526352345830095', 'lr': '0.1419901106352015'}, 'df_http_tcp_udp': {'rf': '0.2037161108863077', 'svm': '0.3820788197599984', 'lr': '0.17080046965485676'}, 'df_http_tls': {'rf': '0.3097651891070538', 'svm': '0.3443101688074266', 'lr': '0.1738170421899855'}, 'df_http_tls_tcp': {'rf': '0.18547421547378568', 'svm': '0.1963357053828537', 'lr': '0.16377579527104605'}, 'df_http_tls_tcp_udp': {'rf': '0.20156217562798423', 'svm': '0.22305376790533527', 'lr': '0.1523354785135977'}, 'df_http_tls_udp': {'rf': '0.29559293757820104', 'svm': '0.34468233004309745', 'lr': '0.18623661893507576'}, 'df_http_udp': {'rf': '0.31467715590519685', 'svm': '0.37464582152738424', 'lr': '0.42851428380946033'}}\n",
      "df_tcp\n"
     ]
    },
    {
     "name": "stderr",
     "output_type": "stream",
     "text": [
      "C:\\ProgramData\\Anaconda3\\lib\\site-packages\\sklearn\\ensemble\\forest.py:246: FutureWarning: The default value of n_estimators will change from 10 in version 0.20 to 100 in 0.22.\n",
      "  \"10 in version 0.20 to 100 in 0.22.\", FutureWarning)\n"
     ]
    },
    {
     "name": "stdout",
     "output_type": "stream",
     "text": [
      "RF acc: 0.157879917184265\n",
      "{'all': {'rf': '0.20282841849532876', 'svm': '0.22171087716526103', 'lr': '0.1613749037113117'}, 'df_http': {'rf': '0.32978723404255317', 'svm': '0.3404255319148936', 'lr': '0.21808510638297873'}, 'df_http_tcp': {'rf': '0.15967685921711952', 'svm': '0.3526352345830095', 'lr': '0.1419901106352015'}, 'df_http_tcp_udp': {'rf': '0.2037161108863077', 'svm': '0.3820788197599984', 'lr': '0.17080046965485676'}, 'df_http_tls': {'rf': '0.3097651891070538', 'svm': '0.3443101688074266', 'lr': '0.1738170421899855'}, 'df_http_tls_tcp': {'rf': '0.18547421547378568', 'svm': '0.1963357053828537', 'lr': '0.16377579527104605'}, 'df_http_tls_tcp_udp': {'rf': '0.20156217562798423', 'svm': '0.22305376790533527', 'lr': '0.1523354785135977'}, 'df_http_tls_udp': {'rf': '0.29559293757820104', 'svm': '0.34468233004309745', 'lr': '0.18623661893507576'}, 'df_http_udp': {'rf': '0.31467715590519685', 'svm': '0.37464582152738424', 'lr': '0.42851428380946033'}, 'df_tcp': {'rf': '0.157879917184265'}}\n"
     ]
    },
    {
     "name": "stderr",
     "output_type": "stream",
     "text": [
      "C:\\ProgramData\\Anaconda3\\lib\\site-packages\\sklearn\\svm\\base.py:196: FutureWarning: The default value of gamma will change from 'auto' to 'scale' in version 0.22 to account better for unscaled features. Set gamma explicitly to 'auto' or 'scale' to avoid this warning.\n",
      "  \"avoid this warning.\", FutureWarning)\n"
     ]
    },
    {
     "name": "stdout",
     "output_type": "stream",
     "text": [
      "[LibSVM]SVM acc: 0.3526128364389234\n",
      "{'all': {'rf': '0.20282841849532876', 'svm': '0.22171087716526103', 'lr': '0.1613749037113117'}, 'df_http': {'rf': '0.32978723404255317', 'svm': '0.3404255319148936', 'lr': '0.21808510638297873'}, 'df_http_tcp': {'rf': '0.15967685921711952', 'svm': '0.3526352345830095', 'lr': '0.1419901106352015'}, 'df_http_tcp_udp': {'rf': '0.2037161108863077', 'svm': '0.3820788197599984', 'lr': '0.17080046965485676'}, 'df_http_tls': {'rf': '0.3097651891070538', 'svm': '0.3443101688074266', 'lr': '0.1738170421899855'}, 'df_http_tls_tcp': {'rf': '0.18547421547378568', 'svm': '0.1963357053828537', 'lr': '0.16377579527104605'}, 'df_http_tls_tcp_udp': {'rf': '0.20156217562798423', 'svm': '0.22305376790533527', 'lr': '0.1523354785135977'}, 'df_http_tls_udp': {'rf': '0.29559293757820104', 'svm': '0.34468233004309745', 'lr': '0.18623661893507576'}, 'df_http_udp': {'rf': '0.31467715590519685', 'svm': '0.37464582152738424', 'lr': '0.42851428380946033'}, 'df_tcp': {'rf': '0.157879917184265', 'svm': '0.3526128364389234'}}\n"
     ]
    },
    {
     "name": "stderr",
     "output_type": "stream",
     "text": [
      "C:\\ProgramData\\Anaconda3\\lib\\site-packages\\sklearn\\linear_model\\logistic.py:433: FutureWarning: Default solver will be changed to 'lbfgs' in 0.22. Specify a solver to silence this warning.\n",
      "  FutureWarning)\n",
      "C:\\ProgramData\\Anaconda3\\lib\\site-packages\\sklearn\\linear_model\\logistic.py:460: FutureWarning: Default multi_class will be changed to 'auto' in 0.22. Specify the multi_class option to silence this warning.\n",
      "  \"this warning.\", FutureWarning)\n",
      "C:\\ProgramData\\Anaconda3\\lib\\site-packages\\sklearn\\linear_model\\logistic.py:1300: UserWarning: 'n_jobs' > 1 does not have any effect when 'solver' is set to 'liblinear'. Got 'n_jobs' = 12.\n",
      "  \" = {}.\".format(effective_n_jobs(self.n_jobs)))\n"
     ]
    },
    {
     "name": "stdout",
     "output_type": "stream",
     "text": [
      "Logistic Reg acc: 0.14200414078674947\n",
      "{'all': {'rf': '0.20282841849532876', 'svm': '0.22171087716526103', 'lr': '0.1613749037113117'}, 'df_http': {'rf': '0.32978723404255317', 'svm': '0.3404255319148936', 'lr': '0.21808510638297873'}, 'df_http_tcp': {'rf': '0.15967685921711952', 'svm': '0.3526352345830095', 'lr': '0.1419901106352015'}, 'df_http_tcp_udp': {'rf': '0.2037161108863077', 'svm': '0.3820788197599984', 'lr': '0.17080046965485676'}, 'df_http_tls': {'rf': '0.3097651891070538', 'svm': '0.3443101688074266', 'lr': '0.1738170421899855'}, 'df_http_tls_tcp': {'rf': '0.18547421547378568', 'svm': '0.1963357053828537', 'lr': '0.16377579527104605'}, 'df_http_tls_tcp_udp': {'rf': '0.20156217562798423', 'svm': '0.22305376790533527', 'lr': '0.1523354785135977'}, 'df_http_tls_udp': {'rf': '0.29559293757820104', 'svm': '0.34468233004309745', 'lr': '0.18623661893507576'}, 'df_http_udp': {'rf': '0.31467715590519685', 'svm': '0.37464582152738424', 'lr': '0.42851428380946033'}, 'df_tcp': {'rf': '0.157879917184265', 'svm': '0.3526128364389234', 'lr': '0.14200414078674947'}}\n",
      "df_tcp_udp\n"
     ]
    },
    {
     "name": "stderr",
     "output_type": "stream",
     "text": [
      "C:\\ProgramData\\Anaconda3\\lib\\site-packages\\sklearn\\ensemble\\forest.py:246: FutureWarning: The default value of n_estimators will change from 10 in version 0.20 to 100 in 0.22.\n",
      "  \"10 in version 0.20 to 100 in 0.22.\", FutureWarning)\n"
     ]
    },
    {
     "name": "stdout",
     "output_type": "stream",
     "text": [
      "RF acc: 0.20305391170356202\n",
      "{'all': {'rf': '0.20282841849532876', 'svm': '0.22171087716526103', 'lr': '0.1613749037113117'}, 'df_http': {'rf': '0.32978723404255317', 'svm': '0.3404255319148936', 'lr': '0.21808510638297873'}, 'df_http_tcp': {'rf': '0.15967685921711952', 'svm': '0.3526352345830095', 'lr': '0.1419901106352015'}, 'df_http_tcp_udp': {'rf': '0.2037161108863077', 'svm': '0.3820788197599984', 'lr': '0.17080046965485676'}, 'df_http_tls': {'rf': '0.3097651891070538', 'svm': '0.3443101688074266', 'lr': '0.1738170421899855'}, 'df_http_tls_tcp': {'rf': '0.18547421547378568', 'svm': '0.1963357053828537', 'lr': '0.16377579527104605'}, 'df_http_tls_tcp_udp': {'rf': '0.20156217562798423', 'svm': '0.22305376790533527', 'lr': '0.1523354785135977'}, 'df_http_tls_udp': {'rf': '0.29559293757820104', 'svm': '0.34468233004309745', 'lr': '0.18623661893507576'}, 'df_http_udp': {'rf': '0.31467715590519685', 'svm': '0.37464582152738424', 'lr': '0.42851428380946033'}, 'df_tcp': {'rf': '0.157879917184265', 'svm': '0.3526128364389234', 'lr': '0.14200414078674947'}, 'df_tcp_udp': {'rf': '0.20305391170356202'}}\n"
     ]
    },
    {
     "name": "stderr",
     "output_type": "stream",
     "text": [
      "C:\\ProgramData\\Anaconda3\\lib\\site-packages\\sklearn\\svm\\base.py:196: FutureWarning: The default value of gamma will change from 'auto' to 'scale' in version 0.22 to account better for unscaled features. Set gamma explicitly to 'auto' or 'scale' to avoid this warning.\n",
      "  \"avoid this warning.\", FutureWarning)\n"
     ]
    },
    {
     "name": "stdout",
     "output_type": "stream",
     "text": [
      "[LibSVM]SVM acc: 0.382223816260519\n",
      "{'all': {'rf': '0.20282841849532876', 'svm': '0.22171087716526103', 'lr': '0.1613749037113117'}, 'df_http': {'rf': '0.32978723404255317', 'svm': '0.3404255319148936', 'lr': '0.21808510638297873'}, 'df_http_tcp': {'rf': '0.15967685921711952', 'svm': '0.3526352345830095', 'lr': '0.1419901106352015'}, 'df_http_tcp_udp': {'rf': '0.2037161108863077', 'svm': '0.3820788197599984', 'lr': '0.17080046965485676'}, 'df_http_tls': {'rf': '0.3097651891070538', 'svm': '0.3443101688074266', 'lr': '0.1738170421899855'}, 'df_http_tls_tcp': {'rf': '0.18547421547378568', 'svm': '0.1963357053828537', 'lr': '0.16377579527104605'}, 'df_http_tls_tcp_udp': {'rf': '0.20156217562798423', 'svm': '0.22305376790533527', 'lr': '0.1523354785135977'}, 'df_http_tls_udp': {'rf': '0.29559293757820104', 'svm': '0.34468233004309745', 'lr': '0.18623661893507576'}, 'df_http_udp': {'rf': '0.31467715590519685', 'svm': '0.37464582152738424', 'lr': '0.42851428380946033'}, 'df_tcp': {'rf': '0.157879917184265', 'svm': '0.3526128364389234', 'lr': '0.14200414078674947'}, 'df_tcp_udp': {'rf': '0.20305391170356202', 'svm': '0.382223816260519'}}\n"
     ]
    },
    {
     "name": "stderr",
     "output_type": "stream",
     "text": [
      "C:\\ProgramData\\Anaconda3\\lib\\site-packages\\sklearn\\linear_model\\logistic.py:433: FutureWarning: Default solver will be changed to 'lbfgs' in 0.22. Specify a solver to silence this warning.\n",
      "  FutureWarning)\n",
      "C:\\ProgramData\\Anaconda3\\lib\\site-packages\\sklearn\\linear_model\\logistic.py:460: FutureWarning: Default multi_class will be changed to 'auto' in 0.22. Specify the multi_class option to silence this warning.\n",
      "  \"this warning.\", FutureWarning)\n",
      "C:\\ProgramData\\Anaconda3\\lib\\site-packages\\sklearn\\linear_model\\logistic.py:1300: UserWarning: 'n_jobs' > 1 does not have any effect when 'solver' is set to 'liblinear'. Got 'n_jobs' = 12.\n",
      "  \" = {}.\".format(effective_n_jobs(self.n_jobs)))\n"
     ]
    },
    {
     "name": "stdout",
     "output_type": "stream",
     "text": [
      "Logistic Reg acc: 0.16926029981203633\n",
      "{'all': {'rf': '0.20282841849532876', 'svm': '0.22171087716526103', 'lr': '0.1613749037113117'}, 'df_http': {'rf': '0.32978723404255317', 'svm': '0.3404255319148936', 'lr': '0.21808510638297873'}, 'df_http_tcp': {'rf': '0.15967685921711952', 'svm': '0.3526352345830095', 'lr': '0.1419901106352015'}, 'df_http_tcp_udp': {'rf': '0.2037161108863077', 'svm': '0.3820788197599984', 'lr': '0.17080046965485676'}, 'df_http_tls': {'rf': '0.3097651891070538', 'svm': '0.3443101688074266', 'lr': '0.1738170421899855'}, 'df_http_tls_tcp': {'rf': '0.18547421547378568', 'svm': '0.1963357053828537', 'lr': '0.16377579527104605'}, 'df_http_tls_tcp_udp': {'rf': '0.20156217562798423', 'svm': '0.22305376790533527', 'lr': '0.1523354785135977'}, 'df_http_tls_udp': {'rf': '0.29559293757820104', 'svm': '0.34468233004309745', 'lr': '0.18623661893507576'}, 'df_http_udp': {'rf': '0.31467715590519685', 'svm': '0.37464582152738424', 'lr': '0.42851428380946033'}, 'df_tcp': {'rf': '0.157879917184265', 'svm': '0.3526128364389234', 'lr': '0.14200414078674947'}, 'df_tcp_udp': {'rf': '0.20305391170356202', 'svm': '0.382223816260519', 'lr': '0.16926029981203633'}}\n",
      "df_tls\n"
     ]
    },
    {
     "name": "stderr",
     "output_type": "stream",
     "text": [
      "C:\\ProgramData\\Anaconda3\\lib\\site-packages\\sklearn\\ensemble\\forest.py:246: FutureWarning: The default value of n_estimators will change from 10 in version 0.20 to 100 in 0.22.\n",
      "  \"10 in version 0.20 to 100 in 0.22.\", FutureWarning)\n"
     ]
    },
    {
     "name": "stdout",
     "output_type": "stream",
     "text": [
      "RF acc: 0.3133242708258806\n",
      "{'all': {'rf': '0.20282841849532876', 'svm': '0.22171087716526103', 'lr': '0.1613749037113117'}, 'df_http': {'rf': '0.32978723404255317', 'svm': '0.3404255319148936', 'lr': '0.21808510638297873'}, 'df_http_tcp': {'rf': '0.15967685921711952', 'svm': '0.3526352345830095', 'lr': '0.1419901106352015'}, 'df_http_tcp_udp': {'rf': '0.2037161108863077', 'svm': '0.3820788197599984', 'lr': '0.17080046965485676'}, 'df_http_tls': {'rf': '0.3097651891070538', 'svm': '0.3443101688074266', 'lr': '0.1738170421899855'}, 'df_http_tls_tcp': {'rf': '0.18547421547378568', 'svm': '0.1963357053828537', 'lr': '0.16377579527104605'}, 'df_http_tls_tcp_udp': {'rf': '0.20156217562798423', 'svm': '0.22305376790533527', 'lr': '0.1523354785135977'}, 'df_http_tls_udp': {'rf': '0.29559293757820104', 'svm': '0.34468233004309745', 'lr': '0.18623661893507576'}, 'df_http_udp': {'rf': '0.31467715590519685', 'svm': '0.37464582152738424', 'lr': '0.42851428380946033'}, 'df_tcp': {'rf': '0.157879917184265', 'svm': '0.3526128364389234', 'lr': '0.14200414078674947'}, 'df_tcp_udp': {'rf': '0.20305391170356202', 'svm': '0.382223816260519', 'lr': '0.16926029981203633'}, 'df_tls': {'rf': '0.3133242708258806'}}\n",
      "[LibSVM]"
     ]
    },
    {
     "name": "stderr",
     "output_type": "stream",
     "text": [
      "C:\\ProgramData\\Anaconda3\\lib\\site-packages\\sklearn\\svm\\base.py:196: FutureWarning: The default value of gamma will change from 'auto' to 'scale' in version 0.22 to account better for unscaled features. Set gamma explicitly to 'auto' or 'scale' to avoid this warning.\n",
      "  \"avoid this warning.\", FutureWarning)\n"
     ]
    },
    {
     "name": "stdout",
     "output_type": "stream",
     "text": [
      "SVM acc: 0.34489995468746276\n",
      "{'all': {'rf': '0.20282841849532876', 'svm': '0.22171087716526103', 'lr': '0.1613749037113117'}, 'df_http': {'rf': '0.32978723404255317', 'svm': '0.3404255319148936', 'lr': '0.21808510638297873'}, 'df_http_tcp': {'rf': '0.15967685921711952', 'svm': '0.3526352345830095', 'lr': '0.1419901106352015'}, 'df_http_tcp_udp': {'rf': '0.2037161108863077', 'svm': '0.3820788197599984', 'lr': '0.17080046965485676'}, 'df_http_tls': {'rf': '0.3097651891070538', 'svm': '0.3443101688074266', 'lr': '0.1738170421899855'}, 'df_http_tls_tcp': {'rf': '0.18547421547378568', 'svm': '0.1963357053828537', 'lr': '0.16377579527104605'}, 'df_http_tls_tcp_udp': {'rf': '0.20156217562798423', 'svm': '0.22305376790533527', 'lr': '0.1523354785135977'}, 'df_http_tls_udp': {'rf': '0.29559293757820104', 'svm': '0.34468233004309745', 'lr': '0.18623661893507576'}, 'df_http_udp': {'rf': '0.31467715590519685', 'svm': '0.37464582152738424', 'lr': '0.42851428380946033'}, 'df_tcp': {'rf': '0.157879917184265', 'svm': '0.3526128364389234', 'lr': '0.14200414078674947'}, 'df_tcp_udp': {'rf': '0.20305391170356202', 'svm': '0.382223816260519', 'lr': '0.16926029981203633'}, 'df_tls': {'rf': '0.3133242708258806', 'svm': '0.34489995468746276'}}\n"
     ]
    },
    {
     "name": "stderr",
     "output_type": "stream",
     "text": [
      "C:\\ProgramData\\Anaconda3\\lib\\site-packages\\sklearn\\linear_model\\logistic.py:433: FutureWarning: Default solver will be changed to 'lbfgs' in 0.22. Specify a solver to silence this warning.\n",
      "  FutureWarning)\n",
      "C:\\ProgramData\\Anaconda3\\lib\\site-packages\\sklearn\\linear_model\\logistic.py:460: FutureWarning: Default multi_class will be changed to 'auto' in 0.22. Specify the multi_class option to silence this warning.\n",
      "  \"this warning.\", FutureWarning)\n",
      "C:\\ProgramData\\Anaconda3\\lib\\site-packages\\sklearn\\linear_model\\logistic.py:1300: UserWarning: 'n_jobs' > 1 does not have any effect when 'solver' is set to 'liblinear'. Got 'n_jobs' = 12.\n",
      "  \" = {}.\".format(effective_n_jobs(self.n_jobs)))\n"
     ]
    },
    {
     "name": "stdout",
     "output_type": "stream",
     "text": [
      "Logistic Reg acc: 0.17462020939161957\n",
      "{'all': {'rf': '0.20282841849532876', 'svm': '0.22171087716526103', 'lr': '0.1613749037113117'}, 'df_http': {'rf': '0.32978723404255317', 'svm': '0.3404255319148936', 'lr': '0.21808510638297873'}, 'df_http_tcp': {'rf': '0.15967685921711952', 'svm': '0.3526352345830095', 'lr': '0.1419901106352015'}, 'df_http_tcp_udp': {'rf': '0.2037161108863077', 'svm': '0.3820788197599984', 'lr': '0.17080046965485676'}, 'df_http_tls': {'rf': '0.3097651891070538', 'svm': '0.3443101688074266', 'lr': '0.1738170421899855'}, 'df_http_tls_tcp': {'rf': '0.18547421547378568', 'svm': '0.1963357053828537', 'lr': '0.16377579527104605'}, 'df_http_tls_tcp_udp': {'rf': '0.20156217562798423', 'svm': '0.22305376790533527', 'lr': '0.1523354785135977'}, 'df_http_tls_udp': {'rf': '0.29559293757820104', 'svm': '0.34468233004309745', 'lr': '0.18623661893507576'}, 'df_http_udp': {'rf': '0.31467715590519685', 'svm': '0.37464582152738424', 'lr': '0.42851428380946033'}, 'df_tcp': {'rf': '0.157879917184265', 'svm': '0.3526128364389234', 'lr': '0.14200414078674947'}, 'df_tcp_udp': {'rf': '0.20305391170356202', 'svm': '0.382223816260519', 'lr': '0.16926029981203633'}, 'df_tls': {'rf': '0.3133242708258806', 'svm': '0.34489995468746276', 'lr': '0.17462020939161957'}}\n",
      "df_tls_tcp\n"
     ]
    },
    {
     "name": "stderr",
     "output_type": "stream",
     "text": [
      "C:\\ProgramData\\Anaconda3\\lib\\site-packages\\sklearn\\ensemble\\forest.py:246: FutureWarning: The default value of n_estimators will change from 10 in version 0.20 to 100 in 0.22.\n",
      "  \"10 in version 0.20 to 100 in 0.22.\", FutureWarning)\n"
     ]
    },
    {
     "name": "stdout",
     "output_type": "stream",
     "text": [
      "RF acc: 0.1880490038787566\n",
      "{'all': {'rf': '0.20282841849532876', 'svm': '0.22171087716526103', 'lr': '0.1613749037113117'}, 'df_http': {'rf': '0.32978723404255317', 'svm': '0.3404255319148936', 'lr': '0.21808510638297873'}, 'df_http_tcp': {'rf': '0.15967685921711952', 'svm': '0.3526352345830095', 'lr': '0.1419901106352015'}, 'df_http_tcp_udp': {'rf': '0.2037161108863077', 'svm': '0.3820788197599984', 'lr': '0.17080046965485676'}, 'df_http_tls': {'rf': '0.3097651891070538', 'svm': '0.3443101688074266', 'lr': '0.1738170421899855'}, 'df_http_tls_tcp': {'rf': '0.18547421547378568', 'svm': '0.1963357053828537', 'lr': '0.16377579527104605'}, 'df_http_tls_tcp_udp': {'rf': '0.20156217562798423', 'svm': '0.22305376790533527', 'lr': '0.1523354785135977'}, 'df_http_tls_udp': {'rf': '0.29559293757820104', 'svm': '0.34468233004309745', 'lr': '0.18623661893507576'}, 'df_http_udp': {'rf': '0.31467715590519685', 'svm': '0.37464582152738424', 'lr': '0.42851428380946033'}, 'df_tcp': {'rf': '0.157879917184265', 'svm': '0.3526128364389234', 'lr': '0.14200414078674947'}, 'df_tcp_udp': {'rf': '0.20305391170356202', 'svm': '0.382223816260519', 'lr': '0.16926029981203633'}, 'df_tls': {'rf': '0.3133242708258806', 'svm': '0.34489995468746276', 'lr': '0.17462020939161957'}, 'df_tls_tcp': {'rf': '0.1880490038787566'}}\n"
     ]
    },
    {
     "name": "stderr",
     "output_type": "stream",
     "text": [
      "C:\\ProgramData\\Anaconda3\\lib\\site-packages\\sklearn\\svm\\base.py:196: FutureWarning: The default value of gamma will change from 'auto' to 'scale' in version 0.22 to account better for unscaled features. Set gamma explicitly to 'auto' or 'scale' to avoid this warning.\n",
      "  \"avoid this warning.\", FutureWarning)\n"
     ]
    },
    {
     "name": "stdout",
     "output_type": "stream",
     "text": [
      "[LibSVM]SVM acc: 0.19629827699608435\n",
      "{'all': {'rf': '0.20282841849532876', 'svm': '0.22171087716526103', 'lr': '0.1613749037113117'}, 'df_http': {'rf': '0.32978723404255317', 'svm': '0.3404255319148936', 'lr': '0.21808510638297873'}, 'df_http_tcp': {'rf': '0.15967685921711952', 'svm': '0.3526352345830095', 'lr': '0.1419901106352015'}, 'df_http_tcp_udp': {'rf': '0.2037161108863077', 'svm': '0.3820788197599984', 'lr': '0.17080046965485676'}, 'df_http_tls': {'rf': '0.3097651891070538', 'svm': '0.3443101688074266', 'lr': '0.1738170421899855'}, 'df_http_tls_tcp': {'rf': '0.18547421547378568', 'svm': '0.1963357053828537', 'lr': '0.16377579527104605'}, 'df_http_tls_tcp_udp': {'rf': '0.20156217562798423', 'svm': '0.22305376790533527', 'lr': '0.1523354785135977'}, 'df_http_tls_udp': {'rf': '0.29559293757820104', 'svm': '0.34468233004309745', 'lr': '0.18623661893507576'}, 'df_http_udp': {'rf': '0.31467715590519685', 'svm': '0.37464582152738424', 'lr': '0.42851428380946033'}, 'df_tcp': {'rf': '0.157879917184265', 'svm': '0.3526128364389234', 'lr': '0.14200414078674947'}, 'df_tcp_udp': {'rf': '0.20305391170356202', 'svm': '0.382223816260519', 'lr': '0.16926029981203633'}, 'df_tls': {'rf': '0.3133242708258806', 'svm': '0.34489995468746276', 'lr': '0.17462020939161957'}, 'df_tls_tcp': {'rf': '0.1880490038787566', 'svm': '0.19629827699608435'}}\n"
     ]
    },
    {
     "name": "stderr",
     "output_type": "stream",
     "text": [
      "C:\\ProgramData\\Anaconda3\\lib\\site-packages\\sklearn\\linear_model\\logistic.py:433: FutureWarning: Default solver will be changed to 'lbfgs' in 0.22. Specify a solver to silence this warning.\n",
      "  FutureWarning)\n",
      "C:\\ProgramData\\Anaconda3\\lib\\site-packages\\sklearn\\linear_model\\logistic.py:460: FutureWarning: Default multi_class will be changed to 'auto' in 0.22. Specify the multi_class option to silence this warning.\n",
      "  \"this warning.\", FutureWarning)\n",
      "C:\\ProgramData\\Anaconda3\\lib\\site-packages\\sklearn\\linear_model\\logistic.py:1300: UserWarning: 'n_jobs' > 1 does not have any effect when 'solver' is set to 'liblinear'. Got 'n_jobs' = 12.\n",
      "  \" = {}.\".format(effective_n_jobs(self.n_jobs)))\n"
     ]
    },
    {
     "name": "stdout",
     "output_type": "stream",
     "text": [
      "Logistic Reg acc: 0.16386056146691994\n",
      "{'all': {'rf': '0.20282841849532876', 'svm': '0.22171087716526103', 'lr': '0.1613749037113117'}, 'df_http': {'rf': '0.32978723404255317', 'svm': '0.3404255319148936', 'lr': '0.21808510638297873'}, 'df_http_tcp': {'rf': '0.15967685921711952', 'svm': '0.3526352345830095', 'lr': '0.1419901106352015'}, 'df_http_tcp_udp': {'rf': '0.2037161108863077', 'svm': '0.3820788197599984', 'lr': '0.17080046965485676'}, 'df_http_tls': {'rf': '0.3097651891070538', 'svm': '0.3443101688074266', 'lr': '0.1738170421899855'}, 'df_http_tls_tcp': {'rf': '0.18547421547378568', 'svm': '0.1963357053828537', 'lr': '0.16377579527104605'}, 'df_http_tls_tcp_udp': {'rf': '0.20156217562798423', 'svm': '0.22305376790533527', 'lr': '0.1523354785135977'}, 'df_http_tls_udp': {'rf': '0.29559293757820104', 'svm': '0.34468233004309745', 'lr': '0.18623661893507576'}, 'df_http_udp': {'rf': '0.31467715590519685', 'svm': '0.37464582152738424', 'lr': '0.42851428380946033'}, 'df_tcp': {'rf': '0.157879917184265', 'svm': '0.3526128364389234', 'lr': '0.14200414078674947'}, 'df_tcp_udp': {'rf': '0.20305391170356202', 'svm': '0.382223816260519', 'lr': '0.16926029981203633'}, 'df_tls': {'rf': '0.3133242708258806', 'svm': '0.34489995468746276', 'lr': '0.17462020939161957'}, 'df_tls_tcp': {'rf': '0.1880490038787566', 'svm': '0.19629827699608435', 'lr': '0.16386056146691994'}}\n",
      "df_tls_tcp_udp\n"
     ]
    },
    {
     "name": "stderr",
     "output_type": "stream",
     "text": [
      "C:\\ProgramData\\Anaconda3\\lib\\site-packages\\sklearn\\ensemble\\forest.py:246: FutureWarning: The default value of n_estimators will change from 10 in version 0.20 to 100 in 0.22.\n",
      "  \"10 in version 0.20 to 100 in 0.22.\", FutureWarning)\n"
     ]
    },
    {
     "name": "stdout",
     "output_type": "stream",
     "text": [
      "RF acc: 0.20558256966523283\n",
      "{'all': {'rf': '0.20282841849532876', 'svm': '0.22171087716526103', 'lr': '0.1613749037113117'}, 'df_http': {'rf': '0.32978723404255317', 'svm': '0.3404255319148936', 'lr': '0.21808510638297873'}, 'df_http_tcp': {'rf': '0.15967685921711952', 'svm': '0.3526352345830095', 'lr': '0.1419901106352015'}, 'df_http_tcp_udp': {'rf': '0.2037161108863077', 'svm': '0.3820788197599984', 'lr': '0.17080046965485676'}, 'df_http_tls': {'rf': '0.3097651891070538', 'svm': '0.3443101688074266', 'lr': '0.1738170421899855'}, 'df_http_tls_tcp': {'rf': '0.18547421547378568', 'svm': '0.1963357053828537', 'lr': '0.16377579527104605'}, 'df_http_tls_tcp_udp': {'rf': '0.20156217562798423', 'svm': '0.22305376790533527', 'lr': '0.1523354785135977'}, 'df_http_tls_udp': {'rf': '0.29559293757820104', 'svm': '0.34468233004309745', 'lr': '0.18623661893507576'}, 'df_http_udp': {'rf': '0.31467715590519685', 'svm': '0.37464582152738424', 'lr': '0.42851428380946033'}, 'df_tcp': {'rf': '0.157879917184265', 'svm': '0.3526128364389234', 'lr': '0.14200414078674947'}, 'df_tcp_udp': {'rf': '0.20305391170356202', 'svm': '0.382223816260519', 'lr': '0.16926029981203633'}, 'df_tls': {'rf': '0.3133242708258806', 'svm': '0.34489995468746276', 'lr': '0.17462020939161957'}, 'df_tls_tcp': {'rf': '0.1880490038787566', 'svm': '0.19629827699608435', 'lr': '0.16386056146691994'}, 'df_tls_tcp_udp': {'rf': '0.20558256966523283'}}\n"
     ]
    },
    {
     "name": "stderr",
     "output_type": "stream",
     "text": [
      "C:\\ProgramData\\Anaconda3\\lib\\site-packages\\sklearn\\svm\\base.py:196: FutureWarning: The default value of gamma will change from 'auto' to 'scale' in version 0.22 to account better for unscaled features. Set gamma explicitly to 'auto' or 'scale' to avoid this warning.\n",
      "  \"avoid this warning.\", FutureWarning)\n"
     ]
    },
    {
     "name": "stdout",
     "output_type": "stream",
     "text": [
      "[LibSVM]SVM acc: 0.22301186542817364\n",
      "{'all': {'rf': '0.20282841849532876', 'svm': '0.22171087716526103', 'lr': '0.1613749037113117'}, 'df_http': {'rf': '0.32978723404255317', 'svm': '0.3404255319148936', 'lr': '0.21808510638297873'}, 'df_http_tcp': {'rf': '0.15967685921711952', 'svm': '0.3526352345830095', 'lr': '0.1419901106352015'}, 'df_http_tcp_udp': {'rf': '0.2037161108863077', 'svm': '0.3820788197599984', 'lr': '0.17080046965485676'}, 'df_http_tls': {'rf': '0.3097651891070538', 'svm': '0.3443101688074266', 'lr': '0.1738170421899855'}, 'df_http_tls_tcp': {'rf': '0.18547421547378568', 'svm': '0.1963357053828537', 'lr': '0.16377579527104605'}, 'df_http_tls_tcp_udp': {'rf': '0.20156217562798423', 'svm': '0.22305376790533527', 'lr': '0.1523354785135977'}, 'df_http_tls_udp': {'rf': '0.29559293757820104', 'svm': '0.34468233004309745', 'lr': '0.18623661893507576'}, 'df_http_udp': {'rf': '0.31467715590519685', 'svm': '0.37464582152738424', 'lr': '0.42851428380946033'}, 'df_tcp': {'rf': '0.157879917184265', 'svm': '0.3526128364389234', 'lr': '0.14200414078674947'}, 'df_tcp_udp': {'rf': '0.20305391170356202', 'svm': '0.382223816260519', 'lr': '0.16926029981203633'}, 'df_tls': {'rf': '0.3133242708258806', 'svm': '0.34489995468746276', 'lr': '0.17462020939161957'}, 'df_tls_tcp': {'rf': '0.1880490038787566', 'svm': '0.19629827699608435', 'lr': '0.16386056146691994'}, 'df_tls_tcp_udp': {'rf': '0.20558256966523283', 'svm': '0.22301186542817364'}}\n"
     ]
    },
    {
     "name": "stderr",
     "output_type": "stream",
     "text": [
      "C:\\ProgramData\\Anaconda3\\lib\\site-packages\\sklearn\\linear_model\\logistic.py:433: FutureWarning: Default solver will be changed to 'lbfgs' in 0.22. Specify a solver to silence this warning.\n",
      "  FutureWarning)\n",
      "C:\\ProgramData\\Anaconda3\\lib\\site-packages\\sklearn\\linear_model\\logistic.py:460: FutureWarning: Default multi_class will be changed to 'auto' in 0.22. Specify the multi_class option to silence this warning.\n",
      "  \"this warning.\", FutureWarning)\n",
      "C:\\ProgramData\\Anaconda3\\lib\\site-packages\\sklearn\\linear_model\\logistic.py:1300: UserWarning: 'n_jobs' > 1 does not have any effect when 'solver' is set to 'liblinear'. Got 'n_jobs' = 12.\n",
      "  \" = {}.\".format(effective_n_jobs(self.n_jobs)))\n"
     ]
    },
    {
     "name": "stdout",
     "output_type": "stream",
     "text": [
      "Logistic Reg acc: 0.153668723895019\n",
      "{'all': {'rf': '0.20282841849532876', 'svm': '0.22171087716526103', 'lr': '0.1613749037113117'}, 'df_http': {'rf': '0.32978723404255317', 'svm': '0.3404255319148936', 'lr': '0.21808510638297873'}, 'df_http_tcp': {'rf': '0.15967685921711952', 'svm': '0.3526352345830095', 'lr': '0.1419901106352015'}, 'df_http_tcp_udp': {'rf': '0.2037161108863077', 'svm': '0.3820788197599984', 'lr': '0.17080046965485676'}, 'df_http_tls': {'rf': '0.3097651891070538', 'svm': '0.3443101688074266', 'lr': '0.1738170421899855'}, 'df_http_tls_tcp': {'rf': '0.18547421547378568', 'svm': '0.1963357053828537', 'lr': '0.16377579527104605'}, 'df_http_tls_tcp_udp': {'rf': '0.20156217562798423', 'svm': '0.22305376790533527', 'lr': '0.1523354785135977'}, 'df_http_tls_udp': {'rf': '0.29559293757820104', 'svm': '0.34468233004309745', 'lr': '0.18623661893507576'}, 'df_http_udp': {'rf': '0.31467715590519685', 'svm': '0.37464582152738424', 'lr': '0.42851428380946033'}, 'df_tcp': {'rf': '0.157879917184265', 'svm': '0.3526128364389234', 'lr': '0.14200414078674947'}, 'df_tcp_udp': {'rf': '0.20305391170356202', 'svm': '0.382223816260519', 'lr': '0.16926029981203633'}, 'df_tls': {'rf': '0.3133242708258806', 'svm': '0.34489995468746276', 'lr': '0.17462020939161957'}, 'df_tls_tcp': {'rf': '0.1880490038787566', 'svm': '0.19629827699608435', 'lr': '0.16386056146691994'}, 'df_tls_tcp_udp': {'rf': '0.20558256966523283', 'svm': '0.22301186542817364', 'lr': '0.153668723895019'}}\n",
      "df_tls_udp\n"
     ]
    },
    {
     "name": "stderr",
     "output_type": "stream",
     "text": [
      "C:\\ProgramData\\Anaconda3\\lib\\site-packages\\sklearn\\ensemble\\forest.py:246: FutureWarning: The default value of n_estimators will change from 10 in version 0.20 to 100 in 0.22.\n",
      "  \"10 in version 0.20 to 100 in 0.22.\", FutureWarning)\n"
     ]
    },
    {
     "name": "stdout",
     "output_type": "stream",
     "text": [
      "RF acc: 0.2972596247665245\n",
      "{'all': {'rf': '0.20282841849532876', 'svm': '0.22171087716526103', 'lr': '0.1613749037113117'}, 'df_http': {'rf': '0.32978723404255317', 'svm': '0.3404255319148936', 'lr': '0.21808510638297873'}, 'df_http_tcp': {'rf': '0.15967685921711952', 'svm': '0.3526352345830095', 'lr': '0.1419901106352015'}, 'df_http_tcp_udp': {'rf': '0.2037161108863077', 'svm': '0.3820788197599984', 'lr': '0.17080046965485676'}, 'df_http_tls': {'rf': '0.3097651891070538', 'svm': '0.3443101688074266', 'lr': '0.1738170421899855'}, 'df_http_tls_tcp': {'rf': '0.18547421547378568', 'svm': '0.1963357053828537', 'lr': '0.16377579527104605'}, 'df_http_tls_tcp_udp': {'rf': '0.20156217562798423', 'svm': '0.22305376790533527', 'lr': '0.1523354785135977'}, 'df_http_tls_udp': {'rf': '0.29559293757820104', 'svm': '0.34468233004309745', 'lr': '0.18623661893507576'}, 'df_http_udp': {'rf': '0.31467715590519685', 'svm': '0.37464582152738424', 'lr': '0.42851428380946033'}, 'df_tcp': {'rf': '0.157879917184265', 'svm': '0.3526128364389234', 'lr': '0.14200414078674947'}, 'df_tcp_udp': {'rf': '0.20305391170356202', 'svm': '0.382223816260519', 'lr': '0.16926029981203633'}, 'df_tls': {'rf': '0.3133242708258806', 'svm': '0.34489995468746276', 'lr': '0.17462020939161957'}, 'df_tls_tcp': {'rf': '0.1880490038787566', 'svm': '0.19629827699608435', 'lr': '0.16386056146691994'}, 'df_tls_tcp_udp': {'rf': '0.20558256966523283', 'svm': '0.22301186542817364', 'lr': '0.153668723895019'}, 'df_tls_udp': {'rf': '0.2972596247665245'}}\n"
     ]
    },
    {
     "name": "stderr",
     "output_type": "stream",
     "text": [
      "C:\\ProgramData\\Anaconda3\\lib\\site-packages\\sklearn\\svm\\base.py:196: FutureWarning: The default value of gamma will change from 'auto' to 'scale' in version 0.22 to account better for unscaled features. Set gamma explicitly to 'auto' or 'scale' to avoid this warning.\n",
      "  \"avoid this warning.\", FutureWarning)\n"
     ]
    },
    {
     "name": "stdout",
     "output_type": "stream",
     "text": [
      "[LibSVM]SVM acc: 0.34498620055197793\n",
      "{'all': {'rf': '0.20282841849532876', 'svm': '0.22171087716526103', 'lr': '0.1613749037113117'}, 'df_http': {'rf': '0.32978723404255317', 'svm': '0.3404255319148936', 'lr': '0.21808510638297873'}, 'df_http_tcp': {'rf': '0.15967685921711952', 'svm': '0.3526352345830095', 'lr': '0.1419901106352015'}, 'df_http_tcp_udp': {'rf': '0.2037161108863077', 'svm': '0.3820788197599984', 'lr': '0.17080046965485676'}, 'df_http_tls': {'rf': '0.3097651891070538', 'svm': '0.3443101688074266', 'lr': '0.1738170421899855'}, 'df_http_tls_tcp': {'rf': '0.18547421547378568', 'svm': '0.1963357053828537', 'lr': '0.16377579527104605'}, 'df_http_tls_tcp_udp': {'rf': '0.20156217562798423', 'svm': '0.22305376790533527', 'lr': '0.1523354785135977'}, 'df_http_tls_udp': {'rf': '0.29559293757820104', 'svm': '0.34468233004309745', 'lr': '0.18623661893507576'}, 'df_http_udp': {'rf': '0.31467715590519685', 'svm': '0.37464582152738424', 'lr': '0.42851428380946033'}, 'df_tcp': {'rf': '0.157879917184265', 'svm': '0.3526128364389234', 'lr': '0.14200414078674947'}, 'df_tcp_udp': {'rf': '0.20305391170356202', 'svm': '0.382223816260519', 'lr': '0.16926029981203633'}, 'df_tls': {'rf': '0.3133242708258806', 'svm': '0.34489995468746276', 'lr': '0.17462020939161957'}, 'df_tls_tcp': {'rf': '0.1880490038787566', 'svm': '0.19629827699608435', 'lr': '0.16386056146691994'}, 'df_tls_tcp_udp': {'rf': '0.20558256966523283', 'svm': '0.22301186542817364', 'lr': '0.153668723895019'}, 'df_tls_udp': {'rf': '0.2972596247665245', 'svm': '0.34498620055197793'}}\n"
     ]
    },
    {
     "name": "stderr",
     "output_type": "stream",
     "text": [
      "C:\\ProgramData\\Anaconda3\\lib\\site-packages\\sklearn\\linear_model\\logistic.py:433: FutureWarning: Default solver will be changed to 'lbfgs' in 0.22. Specify a solver to silence this warning.\n",
      "  FutureWarning)\n",
      "C:\\ProgramData\\Anaconda3\\lib\\site-packages\\sklearn\\linear_model\\logistic.py:460: FutureWarning: Default multi_class will be changed to 'auto' in 0.22. Specify the multi_class option to silence this warning.\n",
      "  \"this warning.\", FutureWarning)\n",
      "C:\\ProgramData\\Anaconda3\\lib\\site-packages\\sklearn\\linear_model\\logistic.py:1300: UserWarning: 'n_jobs' > 1 does not have any effect when 'solver' is set to 'liblinear'. Got 'n_jobs' = 12.\n",
      "  \" = {}.\".format(effective_n_jobs(self.n_jobs)))\n"
     ]
    },
    {
     "name": "stdout",
     "output_type": "stream",
     "text": [
      "Logistic Reg acc: 0.18620891527975245\n",
      "{'all': {'rf': '0.20282841849532876', 'svm': '0.22171087716526103', 'lr': '0.1613749037113117'}, 'df_http': {'rf': '0.32978723404255317', 'svm': '0.3404255319148936', 'lr': '0.21808510638297873'}, 'df_http_tcp': {'rf': '0.15967685921711952', 'svm': '0.3526352345830095', 'lr': '0.1419901106352015'}, 'df_http_tcp_udp': {'rf': '0.2037161108863077', 'svm': '0.3820788197599984', 'lr': '0.17080046965485676'}, 'df_http_tls': {'rf': '0.3097651891070538', 'svm': '0.3443101688074266', 'lr': '0.1738170421899855'}, 'df_http_tls_tcp': {'rf': '0.18547421547378568', 'svm': '0.1963357053828537', 'lr': '0.16377579527104605'}, 'df_http_tls_tcp_udp': {'rf': '0.20156217562798423', 'svm': '0.22305376790533527', 'lr': '0.1523354785135977'}, 'df_http_tls_udp': {'rf': '0.29559293757820104', 'svm': '0.34468233004309745', 'lr': '0.18623661893507576'}, 'df_http_udp': {'rf': '0.31467715590519685', 'svm': '0.37464582152738424', 'lr': '0.42851428380946033'}, 'df_tcp': {'rf': '0.157879917184265', 'svm': '0.3526128364389234', 'lr': '0.14200414078674947'}, 'df_tcp_udp': {'rf': '0.20305391170356202', 'svm': '0.382223816260519', 'lr': '0.16926029981203633'}, 'df_tls': {'rf': '0.3133242708258806', 'svm': '0.34489995468746276', 'lr': '0.17462020939161957'}, 'df_tls_tcp': {'rf': '0.1880490038787566', 'svm': '0.19629827699608435', 'lr': '0.16386056146691994'}, 'df_tls_tcp_udp': {'rf': '0.20558256966523283', 'svm': '0.22301186542817364', 'lr': '0.153668723895019'}, 'df_tls_udp': {'rf': '0.2972596247665245', 'svm': '0.34498620055197793', 'lr': '0.18620891527975245'}}\n",
      "df_udp\n"
     ]
    },
    {
     "name": "stderr",
     "output_type": "stream",
     "text": [
      "C:\\ProgramData\\Anaconda3\\lib\\site-packages\\sklearn\\ensemble\\forest.py:246: FutureWarning: The default value of n_estimators will change from 10 in version 0.20 to 100 in 0.22.\n",
      "  \"10 in version 0.20 to 100 in 0.22.\", FutureWarning)\n"
     ]
    },
    {
     "name": "stdout",
     "output_type": "stream",
     "text": [
      "RF acc: 0.3150179463956258\n",
      "{'all': {'rf': '0.20282841849532876', 'svm': '0.22171087716526103', 'lr': '0.1613749037113117'}, 'df_http': {'rf': '0.32978723404255317', 'svm': '0.3404255319148936', 'lr': '0.21808510638297873'}, 'df_http_tcp': {'rf': '0.15967685921711952', 'svm': '0.3526352345830095', 'lr': '0.1419901106352015'}, 'df_http_tcp_udp': {'rf': '0.2037161108863077', 'svm': '0.3820788197599984', 'lr': '0.17080046965485676'}, 'df_http_tls': {'rf': '0.3097651891070538', 'svm': '0.3443101688074266', 'lr': '0.1738170421899855'}, 'df_http_tls_tcp': {'rf': '0.18547421547378568', 'svm': '0.1963357053828537', 'lr': '0.16377579527104605'}, 'df_http_tls_tcp_udp': {'rf': '0.20156217562798423', 'svm': '0.22305376790533527', 'lr': '0.1523354785135977'}, 'df_http_tls_udp': {'rf': '0.29559293757820104', 'svm': '0.34468233004309745', 'lr': '0.18623661893507576'}, 'df_http_udp': {'rf': '0.31467715590519685', 'svm': '0.37464582152738424', 'lr': '0.42851428380946033'}, 'df_tcp': {'rf': '0.157879917184265', 'svm': '0.3526128364389234', 'lr': '0.14200414078674947'}, 'df_tcp_udp': {'rf': '0.20305391170356202', 'svm': '0.382223816260519', 'lr': '0.16926029981203633'}, 'df_tls': {'rf': '0.3133242708258806', 'svm': '0.34489995468746276', 'lr': '0.17462020939161957'}, 'df_tls_tcp': {'rf': '0.1880490038787566', 'svm': '0.19629827699608435', 'lr': '0.16386056146691994'}, 'df_tls_tcp_udp': {'rf': '0.20558256966523283', 'svm': '0.22301186542817364', 'lr': '0.153668723895019'}, 'df_tls_udp': {'rf': '0.2972596247665245', 'svm': '0.34498620055197793', 'lr': '0.18620891527975245'}, 'df_udp': {'rf': '0.3150179463956258'}}\n",
      "[LibSVM]"
     ]
    },
    {
     "name": "stderr",
     "output_type": "stream",
     "text": [
      "C:\\ProgramData\\Anaconda3\\lib\\site-packages\\sklearn\\svm\\base.py:196: FutureWarning: The default value of gamma will change from 'auto' to 'scale' in version 0.22 to account better for unscaled features. Set gamma explicitly to 'auto' or 'scale' to avoid this warning.\n",
      "  \"avoid this warning.\", FutureWarning)\n"
     ]
    },
    {
     "name": "stdout",
     "output_type": "stream",
     "text": [
      "SVM acc: 0.3753647982288417\n",
      "{'all': {'rf': '0.20282841849532876', 'svm': '0.22171087716526103', 'lr': '0.1613749037113117'}, 'df_http': {'rf': '0.32978723404255317', 'svm': '0.3404255319148936', 'lr': '0.21808510638297873'}, 'df_http_tcp': {'rf': '0.15967685921711952', 'svm': '0.3526352345830095', 'lr': '0.1419901106352015'}, 'df_http_tcp_udp': {'rf': '0.2037161108863077', 'svm': '0.3820788197599984', 'lr': '0.17080046965485676'}, 'df_http_tls': {'rf': '0.3097651891070538', 'svm': '0.3443101688074266', 'lr': '0.1738170421899855'}, 'df_http_tls_tcp': {'rf': '0.18547421547378568', 'svm': '0.1963357053828537', 'lr': '0.16377579527104605'}, 'df_http_tls_tcp_udp': {'rf': '0.20156217562798423', 'svm': '0.22305376790533527', 'lr': '0.1523354785135977'}, 'df_http_tls_udp': {'rf': '0.29559293757820104', 'svm': '0.34468233004309745', 'lr': '0.18623661893507576'}, 'df_http_udp': {'rf': '0.31467715590519685', 'svm': '0.37464582152738424', 'lr': '0.42851428380946033'}, 'df_tcp': {'rf': '0.157879917184265', 'svm': '0.3526128364389234', 'lr': '0.14200414078674947'}, 'df_tcp_udp': {'rf': '0.20305391170356202', 'svm': '0.382223816260519', 'lr': '0.16926029981203633'}, 'df_tls': {'rf': '0.3133242708258806', 'svm': '0.34489995468746276', 'lr': '0.17462020939161957'}, 'df_tls_tcp': {'rf': '0.1880490038787566', 'svm': '0.19629827699608435', 'lr': '0.16386056146691994'}, 'df_tls_tcp_udp': {'rf': '0.20558256966523283', 'svm': '0.22301186542817364', 'lr': '0.153668723895019'}, 'df_tls_udp': {'rf': '0.2972596247665245', 'svm': '0.34498620055197793', 'lr': '0.18620891527975245'}, 'df_udp': {'rf': '0.3150179463956258', 'svm': '0.3753647982288417'}}\n"
     ]
    },
    {
     "name": "stderr",
     "output_type": "stream",
     "text": [
      "C:\\ProgramData\\Anaconda3\\lib\\site-packages\\sklearn\\linear_model\\logistic.py:433: FutureWarning: Default solver will be changed to 'lbfgs' in 0.22. Specify a solver to silence this warning.\n",
      "  FutureWarning)\n",
      "C:\\ProgramData\\Anaconda3\\lib\\site-packages\\sklearn\\linear_model\\logistic.py:460: FutureWarning: Default multi_class will be changed to 'auto' in 0.22. Specify the multi_class option to silence this warning.\n",
      "  \"this warning.\", FutureWarning)\n",
      "C:\\ProgramData\\Anaconda3\\lib\\site-packages\\sklearn\\linear_model\\logistic.py:1300: UserWarning: 'n_jobs' > 1 does not have any effect when 'solver' is set to 'liblinear'. Got 'n_jobs' = 12.\n",
      "  \" = {}.\".format(effective_n_jobs(self.n_jobs)))\n"
     ]
    },
    {
     "name": "stdout",
     "output_type": "stream",
     "text": [
      "Logistic Reg acc: 0.4282311898292577\n",
      "{'all': {'rf': '0.20282841849532876', 'svm': '0.22171087716526103', 'lr': '0.1613749037113117'}, 'df_http': {'rf': '0.32978723404255317', 'svm': '0.3404255319148936', 'lr': '0.21808510638297873'}, 'df_http_tcp': {'rf': '0.15967685921711952', 'svm': '0.3526352345830095', 'lr': '0.1419901106352015'}, 'df_http_tcp_udp': {'rf': '0.2037161108863077', 'svm': '0.3820788197599984', 'lr': '0.17080046965485676'}, 'df_http_tls': {'rf': '0.3097651891070538', 'svm': '0.3443101688074266', 'lr': '0.1738170421899855'}, 'df_http_tls_tcp': {'rf': '0.18547421547378568', 'svm': '0.1963357053828537', 'lr': '0.16377579527104605'}, 'df_http_tls_tcp_udp': {'rf': '0.20156217562798423', 'svm': '0.22305376790533527', 'lr': '0.1523354785135977'}, 'df_http_tls_udp': {'rf': '0.29559293757820104', 'svm': '0.34468233004309745', 'lr': '0.18623661893507576'}, 'df_http_udp': {'rf': '0.31467715590519685', 'svm': '0.37464582152738424', 'lr': '0.42851428380946033'}, 'df_tcp': {'rf': '0.157879917184265', 'svm': '0.3526128364389234', 'lr': '0.14200414078674947'}, 'df_tcp_udp': {'rf': '0.20305391170356202', 'svm': '0.382223816260519', 'lr': '0.16926029981203633'}, 'df_tls': {'rf': '0.3133242708258806', 'svm': '0.34489995468746276', 'lr': '0.17462020939161957'}, 'df_tls_tcp': {'rf': '0.1880490038787566', 'svm': '0.19629827699608435', 'lr': '0.16386056146691994'}, 'df_tls_tcp_udp': {'rf': '0.20558256966523283', 'svm': '0.22301186542817364', 'lr': '0.153668723895019'}, 'df_tls_udp': {'rf': '0.2972596247665245', 'svm': '0.34498620055197793', 'lr': '0.18620891527975245'}, 'df_udp': {'rf': '0.3150179463956258', 'svm': '0.3753647982288417', 'lr': '0.4282311898292577'}}\n"
     ]
    }
   ],
   "source": [
    "col_names = [\"website-index\", \"time\", \"direction\", \"packet size\"]\n",
    "folders = []\n",
    "for r, d, f in os.walk(path):\n",
    "    for folder in d:\n",
    "        folders.append(folder)\n",
    "\n",
    "results = {}\n",
    "\n",
    "# Loop over the folders in /collection\n",
    "for folder in folders:\n",
    "    if (folder == \"raw\"):\n",
    "        continue \n",
    "    results[folder] = {} # Goddam python dictionaries\n",
    "\n",
    "    # Load data into dataframes\n",
    "    df_one = pd.read_csv(path+\"/\"+folder+\"/\"+\"Day1-parsed-ondevice.csv\", header=0, names=col_names, error_bad_lines=False, warn_bad_lines=False, quotechar='^')\n",
    "    df_two = pd.read_csv(path+\"/\"+folder+\"/\"+\"Day2-parsed-ondevice.csv\", header=0, names=col_names, error_bad_lines=False, warn_bad_lines=False, quotechar='^')\n",
    "    df_three = pd.read_csv(path+\"/\"+folder+\"/\"+\"Day3-parsed-ondevice.csv\", header=0, names=col_names, error_bad_lines=False, warn_bad_lines=False, quotechar='^')\n",
    "    \n",
    "    # Preprocess training data\n",
    "    df = df_one.append(df_two)\n",
    "    X = df.loc[:, df.columns != 'website-index']\n",
    "    y = df['website-index']\n",
    "    \n",
    "    # Preprocess testing data\n",
    "    X_test = df_three.loc[:, df_three.columns != 'website-index']\n",
    "    y_test = df_three['website-index']\n",
    "    \n",
    "    outpath = './models/' + folder + \"/\"\n",
    "    if not os.path.exists(outpath):\n",
    "        os.mkdir(outpath)    \n",
    "\n",
    "    # RF model training\n",
    "    clf = RandomForestClassifier(n_jobs=-1)\n",
    "    clf.fit(X,y)\n",
    "    rf_acc = clf.score(X_test, y_test)\n",
    "    print(\"RF acc: \" + str(rf_acc))\n",
    "    results[folder][\"rf\"] = str(rf_acc)\n",
    "    dump(clf, outpath + 'rf_model.joblib')\n",
    "    print(results)\n",
    "\n",
    "    # SVM model training\n",
    "    svm_model = svm.SVC(verbose=True, cache_size=8000) # Yes i have the ram\n",
    "    svm_model.fit(X, y)\n",
    "    svm_acc = svm_model.score(X_test, y_test)\n",
    "    print(\"SVM acc: \" + str(svm_acc))\n",
    "    results[folder][\"svm\"] = str(svm_acc)\n",
    "    dump(svm_model, outpath + 'svm_model.joblib')\n",
    "    print(results)\n",
    "\n",
    "    # LR model training\n",
    "    lr = LogisticRegression(random_state=0, max_iter=10e5, n_jobs=-1)\n",
    "    lr.fit(X, y)\n",
    "    lr_acc = lr.score(X_test, y_test)\n",
    "    print(\"Logistic Reg acc: \" + str(lr_acc))\n",
    "    results[folder][\"lr\"] = str(lr_acc)\n",
    "    dump(lr, outpath + \"lr_model.joblib\")\n",
    "    print(results)"
   ]
  },
  {
   "cell_type": "markdown",
   "metadata": {},
   "source": [
    "### 2.1\n",
    "### Feature Engineering code snippets\n",
    "\n",
    "Here we are going to add features from the papers & re-train/test the models to see their effect"
   ]
  },
  {
   "cell_type": "markdown",
   "metadata": {},
   "source": [
    "#### Data import\n",
    "\n",
    "Either execute local or community data import to run the models below"
   ]
  },
  {
   "cell_type": "code",
   "execution_count": 15,
   "metadata": {
    "scrolled": true
   },
   "outputs": [],
   "source": [
    "# Local data\n",
    "path = \"collection/\"\n",
    "folder = \"df_http_udp/\" # specify which packet protocol config you want here\n",
    "col_names = [\"website-index\", \"time\", \"direction\", \"packet size\"]\n",
    "df_one = pd.read_csv(path+folder+\"Day1-parsed-ondevice.csv\", header=0, names=col_names, error_bad_lines=False, warn_bad_lines=False, quotechar='^')\n",
    "df_two = pd.read_csv(path+folder+\"Day2-parsed-ondevice.csv\", header=0, names=col_names, error_bad_lines=False, warn_bad_lines=False, quotechar='^')\n",
    "df_three = pd.read_csv(path+folder+\"Day3-parsed-ondevice.csv\", header=0, names=col_names, error_bad_lines=False, warn_bad_lines=False, quotechar='^')"
   ]
  },
  {
   "cell_type": "code",
   "execution_count": 2,
   "metadata": {
    "scrolled": true
   },
   "outputs": [],
   "source": [
    "# Community data import (make sure to have path with access to parsed community data)\n",
    "path=\"community_data/parsed_on_device/tls/\"\n",
    "day_one=\"day_1\"\n",
    "day_two=\"day_2\"\n",
    "day_three=\"day_3\"\n",
    "file=\"_fixed.csv\"\n",
    "col_names = [\"website-index\", \"time\", \"direction\", \"packet size\"]\n",
    "\n",
    "df_one = pd.read_csv(path+day_one+file, header=0, names=col_names, error_bad_lines=False, warn_bad_lines=False)\n",
    "df_two = pd.read_csv(path+day_two+file, header=0, names=col_names, error_bad_lines=False, warn_bad_lines=False)\n",
    "df_three = pd.read_csv(path+day_three+file, header=0, names=col_names, error_bad_lines=False, warn_bad_lines=False)\n"
   ]
  },
  {
   "cell_type": "markdown",
   "metadata": {},
   "source": [
    "#### Model Execution"
   ]
  },
  {
   "cell_type": "code",
   "execution_count": 3,
   "metadata": {
    "scrolled": true
   },
   "outputs": [],
   "source": [
    "def run_model(df_one, df_two, df_three):\n",
    "    # Preprocess training data\n",
    "    df = df_one.append(df_two)\n",
    "    X = df.loc[:, df.columns != 'website-index']\n",
    "    y = df['website-index']\n",
    "\n",
    "    # Preprocess testing data\n",
    "    X_test = df_three.loc[:, df_three.columns != 'website-index']\n",
    "    y_test = df_three['website-index']\n",
    "\n",
    "    # Model training\n",
    "    clf = RandomForestClassifier(n_estimators=300, n_jobs=-1 )\n",
    "    # Change n_estimators to what you want (defualt 100)\n",
    "    # n_jobs=-1 will run the classifier on ALL cpu's, lower this if running on bad comp\n",
    "    \n",
    "    clf.fit(X,y)\n",
    "\n",
    "    knn = KNeighborsClassifier(n_neighbors=20)\n",
    "    knn.fit(X,y)\n",
    "\n",
    "    # Evaluate\n",
    "    rf_acc = clf.score(X_test, y_test)\n",
    "    knn_acc = knn.score(X_test, y_test)\n",
    "\n",
    "    print(\"RF acc: \" + str(rf_acc))\n",
    "    print(\"KNN acc: \" + str(knn_acc))"
   ]
  },
  {
   "cell_type": "markdown",
   "metadata": {},
   "source": [
    "#### Panchenko et al [fingerprinting-ndss2016]; cumulative representation of trace"
   ]
  },
  {
   "cell_type": "code",
   "execution_count": 4,
   "metadata": {
    "scrolled": true
   },
   "outputs": [],
   "source": [
    "def directional_packet_size(x):\n",
    "    if (x['direction'] == 1):\n",
    "        return -x['packet size']\n",
    "    else:\n",
    "        return x['packet size']"
   ]
  },
  {
   "cell_type": "code",
   "execution_count": 5,
   "metadata": {
    "scrolled": true
   },
   "outputs": [],
   "source": [
    "def cum_trace(df):    \n",
    "    # Create a directional packet size column p_i (negative values if outbound)\n",
    "    df.insert(4, 'p_i', df['packet size'])\n",
    "    df['p_i'] = df.apply(directional_packet_size, axis=1)\n",
    "\n",
    "    # Create cumulative packet size trace using directional packet sizes\n",
    "    df['c_i'] = df.groupby('website-index')['p_i'].cumsum(axis=None)\n",
    "\n",
    "    return df"
   ]
  },
  {
   "cell_type": "code",
   "execution_count": 11,
   "metadata": {
    "scrolled": true
   },
   "outputs": [],
   "source": [
    "df_one = cum_trace(df_one)\n",
    "df_two = cum_trace(df_two)\n",
    "df_three = cum_trace(df_three)"
   ]
  },
  {
   "cell_type": "code",
   "execution_count": 12,
   "metadata": {
    "scrolled": true
   },
   "outputs": [
    {
     "name": "stdout",
     "output_type": "stream",
     "text": [
      "RF acc: 0.7765592186406214\n",
      "KNN acc: 0.6978565952198407\n"
     ]
    }
   ],
   "source": [
    "run_model(df_one, df_two, df_three)"
   ]
  },
  {
   "cell_type": "markdown",
   "metadata": {},
   "source": [
    "#### Statistics features per Hayes et al [sec16]"
   ]
  },
  {
   "cell_type": "code",
   "execution_count": 6,
   "metadata": {
    "scrolled": true
   },
   "outputs": [],
   "source": [
    "def cumulative_packets(df, trace=False):\n",
    "    # also use ndss2016\n",
    "    if (trace):\n",
    "        df = cum_trace(df)\n",
    "        \n",
    "    # cumulative packets counter\n",
    "    df['cum_count'] = df.groupby('website-index').cumcount()+1\n",
    "    \n",
    "    # cumulative incoming packets counter\n",
    "    df['cum_inc'] = df.groupby('website-index')['direction'].cumsum(axis=None)\n",
    "    \n",
    "    # cumulative outgoing packets counter\n",
    "    df['cum_out'] = df['cum_count'] - df['cum_inc']\n",
    "    \n",
    "    # cumulative percentage outgoing/incoming\n",
    "    df['perc_in'] = df['cum_inc']/(df.groupby('website-index').cumcount()+1)\n",
    "    df['perc_out'] =  df['cum_out']/(df.groupby('website-index').cumcount()+1)\n",
    "    \n",
    "    return df"
   ]
  },
  {
   "cell_type": "code",
   "execution_count": 16,
   "metadata": {
    "scrolled": true
   },
   "outputs": [],
   "source": [
    "df_one = cumulative_packets(df_one, True)\n",
    "df_two = cumulative_packets(df_two, True)\n",
    "df_three = cumulative_packets(df_three, True)"
   ]
  },
  {
   "cell_type": "code",
   "execution_count": 17,
   "metadata": {
    "scrolled": true
   },
   "outputs": [
    {
     "name": "stdout",
     "output_type": "stream",
     "text": [
      "RF acc: 0.7963265442181406\n",
      "KNN acc: 0.7088236274542484\n"
     ]
    }
   ],
   "source": [
    "run_model(df_one, df_two, df_three)"
   ]
  },
  {
   "cell_type": "markdown",
   "metadata": {},
   "source": [
    "#### Previous 100 packet sizes as features"
   ]
  },
  {
   "cell_type": "code",
   "execution_count": 11,
   "metadata": {
    "scrolled": true
   },
   "outputs": [],
   "source": [
    "def previous_packets(df, prev=False):\n",
    "    if (prev):\n",
    "        df = cumulative_packets(df, True)\n",
    "    \n",
    "    # Get 100 previous packet sizes --> we can make it p_i instead of packet_size too\n",
    "    for i in range(1, 101):\n",
    "        name = \"prev_\"+str(i)\n",
    "\n",
    "        if (prev):\n",
    "            df[name] = df.groupby('website-index')['p_i'].shift(i)\n",
    "        else:\n",
    "            df[name] = df.groupby('website-index')['packet size'].shift(i)\n",
    "        \n",
    "    # Remove NaN\n",
    "    df.fillna(0, inplace=True)\n",
    "    \n",
    "    return df"
   ]
  },
  {
   "cell_type": "code",
   "execution_count": 19,
   "metadata": {
    "scrolled": true
   },
   "outputs": [],
   "source": [
    "df_one = previous_packets(df_one, True)\n",
    "df_two = previous_packets(df_two, True)\n",
    "df_three = previous_packets(df_three, True)"
   ]
  },
  {
   "cell_type": "code",
   "execution_count": 21,
   "metadata": {
    "scrolled": true
   },
   "outputs": [
    {
     "name": "stdout",
     "output_type": "stream",
     "text": [
      "RF acc: 0.813893796459882\n",
      "KNN acc: 0.7240908030267675\n"
     ]
    }
   ],
   "source": [
    "run_model(df_one, df_two, df_three)"
   ]
  },
  {
   "cell_type": "markdown",
   "metadata": {},
   "source": [
    "#### Total discrete statistics \n",
    "\n",
    "Number of packet statistics, such as packet count per website, etc. Denoted in Hayes 2016"
   ]
  },
  {
   "cell_type": "code",
   "execution_count": 23,
   "metadata": {
    "scrolled": true
   },
   "outputs": [],
   "source": [
    "# Local data\n",
    "path = \"collection/\"\n",
    "folder = \"df_http_udp/\" # specify which packet protocol config you want here\n",
    "col_names = [\"website-index\", \"time\", \"direction\", \"packet size\"]\n",
    "df_one = pd.read_csv(path+folder+\"Day1-parsed-ondevice.csv\", header=0, names=col_names, error_bad_lines=False, warn_bad_lines=False, quotechar='^')\n",
    "df_two = pd.read_csv(path+folder+\"Day2-parsed-ondevice.csv\", header=0, names=col_names, error_bad_lines=False, warn_bad_lines=False, quotechar='^')\n",
    "df_three = pd.read_csv(path+folder+\"Day3-parsed-ondevice.csv\", header=0, names=col_names, error_bad_lines=False, warn_bad_lines=False, quotechar='^')"
   ]
  },
  {
   "cell_type": "code",
   "execution_count": 9,
   "metadata": {
    "scrolled": true
   },
   "outputs": [],
   "source": [
    "def safe_div(q, r):\n",
    "    if r == 0:\n",
    "        return 0\n",
    "    else:\n",
    "        return q / r\n",
    "\n",
    "def n_o_statistics(df, prev=False):\n",
    "    if (prev):\n",
    "        df = previous_packets(df, True)\n",
    "    \n",
    "    # Total number of packets per session, total number of incoming/outgoing packets + percentages\n",
    "    curr_index = df.at[0, 'website-index']\n",
    "    total_inc_packets = 0\n",
    "    total_out_packets = 0\n",
    "    inc_values = []\n",
    "    out_values = []\n",
    "    total_values = []\n",
    "    total_incoming_percentage = []\n",
    "    total_outgoing_percentage = []\n",
    "    for index, row in df.iterrows():\n",
    "        if (row['website-index'] != curr_index):\n",
    "            total_packets = total_inc_packets + total_out_packets\n",
    "            \n",
    "            inc_values.extend([total_inc_packets] * total_packets)\n",
    "            out_values.extend([total_out_packets] * total_packets)\n",
    "            total_values.extend([total_packets] * total_packets)\n",
    "            \n",
    "            total_incoming_percentage.extend([safe_div(total_inc_packets, total_packets)] * (total_packets))\n",
    "            total_outgoing_percentage.extend([safe_div(total_out_packets, total_packets)] * (total_packets))\n",
    "            curr_index = row['website-index']\n",
    "            \n",
    "            if row['direction'] == 0:\n",
    "                total_inc_packets = 1\n",
    "                total_out_packets = 0\n",
    "            else:\n",
    "                total_inc_packets = 0\n",
    "                total_out_packets = 1\n",
    "        else: \n",
    "            if row['direction'] == 0:\n",
    "                total_inc_packets += 1\n",
    "            else:\n",
    "                total_out_packets += 1\n",
    "    # Repeat for last website index\n",
    "    total_packets = total_inc_packets + total_out_packets\n",
    "    inc_values.extend([total_inc_packets] * total_packets)\n",
    "    out_values.extend([total_out_packets] * total_packets)\n",
    "    total_values.extend([total_packets] * (total_packets))\n",
    "    total_incoming_percentage.extend([safe_div(total_inc_packets, total_packets)] * (total_packets))\n",
    "    total_outgoing_percentage.extend([safe_div(total_out_packets, total_packets)] * (total_packets))\n",
    "\n",
    "    df['total_incoming'] = inc_values\n",
    "    df['total_outgoing'] = out_values\n",
    "    df['total_packets'] = total_values\n",
    "    df['total_incoming_percentage'] = total_incoming_percentage\n",
    "    df['total_outgoing_percentage'] = total_outgoing_percentage\n",
    "\n",
    "    return df"
   ]
  },
  {
   "cell_type": "code",
   "execution_count": 24,
   "metadata": {
    "scrolled": true
   },
   "outputs": [],
   "source": [
    "df_one_stat = n_o_statistics(df_one, prev=True)\n",
    "df_two_stat = n_o_statistics(df_two, prev=True)\n",
    "df_three_stat = n_o_statistics(df_three, prev=True)"
   ]
  },
  {
   "cell_type": "code",
   "execution_count": 25,
   "metadata": {
    "scrolled": true
   },
   "outputs": [
    {
     "name": "stdout",
     "output_type": "stream",
     "text": [
      "RF acc: 0.8336277875929198\n",
      "KNN acc: 0.7305576852561753\n"
     ]
    }
   ],
   "source": [
    "run_model(df_one_stat, df_two_stat, df_three_stat)"
   ]
  },
  {
   "cell_type": "markdown",
   "metadata": {},
   "source": [
    "#### Packet ordering statistics hayes 2016\n",
    "For each successive incoming and outgoing packet, the total number of packets seen before it in the sequence\n",
    "\n",
    "The standard deviation of the outgoing packet ordering list\n",
    "\n",
    "The standard deviation of the incoming packet ordering list \n",
    "\n",
    "The average of the incoming packet ordering list\n"
   ]
  },
  {
   "cell_type": "code",
   "execution_count": 26,
   "metadata": {
    "scrolled": true
   },
   "outputs": [],
   "source": [
    "# Local data\n",
    "path = \"collection/\"\n",
    "folder = \"df_http_udp/\" # specify which packet protocol config you want here\n",
    "col_names = [\"website-index\", \"time\", \"direction\", \"packet size\"]\n",
    "df_one = pd.read_csv(path+folder+\"Day1-parsed-ondevice.csv\", header=0, names=col_names, error_bad_lines=False, warn_bad_lines=False, quotechar='^')\n",
    "df_two = pd.read_csv(path+folder+\"Day2-parsed-ondevice.csv\", header=0, names=col_names, error_bad_lines=False, warn_bad_lines=False, quotechar='^')\n",
    "df_three = pd.read_csv(path+folder+\"Day3-parsed-ondevice.csv\", header=0, names=col_names, error_bad_lines=False, warn_bad_lines=False, quotechar='^')"
   ]
  },
  {
   "cell_type": "code",
   "execution_count": 7,
   "metadata": {
    "scrolled": true
   },
   "outputs": [],
   "source": [
    "def ordering_statistics(df, prev=False):\n",
    "    if (prev):\n",
    "        df = n_o_statistics(df, True)\n",
    "    \n",
    "    # For each successive incoming and outgoing packet, the total number of packets seen before it in the sequence\n",
    "    \"\"\"\n",
    "    e.g. \n",
    "    direction successive_num_packets\n",
    "    0 0 \n",
    "    0 1\n",
    "    0 2\n",
    "    1 0 \n",
    "    0 0\n",
    "    0 1\n",
    "    \"\"\"\n",
    "    total_seen = 0\n",
    "    last_dir = -1\n",
    "    result = []\n",
    "    curr_index = \"\"\n",
    "    for index, row in df.iterrows():\n",
    "        if row['website-index'] != curr_index:\n",
    "            total_seen = 0\n",
    "            last_dir = -1\n",
    "            curr_index = row['website-index']\n",
    "        if row.direction == last_dir:\n",
    "            total_seen += 1\n",
    "            result.append(total_seen)\n",
    "        else:\n",
    "            total_seen = 0\n",
    "            result.append(total_seen)\n",
    "            last_dir = row.direction \n",
    "    df['successive_num_packets'] = result\n",
    "    \n",
    "    # The average and standard deviation of the in/outgoing packet ordering list\n",
    "    curr_index = df.at[0, 'website-index']\n",
    "    outgoing_vals = []\n",
    "    incoming_vals = []\n",
    "    incoming_order_std = []\n",
    "    outgoing_order_std = []\n",
    "    outgoing_order_avg = []\n",
    "    incoming_order_avg = []\n",
    "\n",
    "    for index, row in df.iterrows():\n",
    "        if (row['website-index'] != curr_index):\n",
    "            # Get std of in/outgoing_vals and reset\n",
    "            curr_index = row['website-index']\n",
    "            out_std = np.std(outgoing_vals)\n",
    "            in_std = np.std(incoming_vals)\n",
    "            out_avg = np.mean(outgoing_vals)\n",
    "            in_avg = np.mean(incoming_vals)\n",
    "            total_segment_length = len(outgoing_vals) + len(incoming_vals)\n",
    "            incoming_order_std.extend([in_std] * total_segment_length)\n",
    "            outgoing_order_std.extend([out_std] * total_segment_length)\n",
    "            outgoing_order_avg.extend([out_avg] * total_segment_length)\n",
    "            incoming_order_avg.extend([in_avg] * total_segment_length)\n",
    "            \n",
    "            if row.direction == 1:\n",
    "                outgoing_vals = [row['successive_num_packets']]\n",
    "                incoming_vals = []\n",
    "            else: \n",
    "                incoming_vals = [(row['successive_num_packets']) ]\n",
    "                outgoing_vals = []\n",
    "\n",
    "        else:\n",
    "            if row.direction == 1:\n",
    "                outgoing_vals.append(row['successive_num_packets'])\n",
    "            else: \n",
    "                incoming_vals.append(row['successive_num_packets']) \n",
    "                \n",
    "    # Repeat for last segment \n",
    "    out_std = np.std(outgoing_vals)\n",
    "    in_std = np.std(incoming_vals)\n",
    "    out_avg = np.mean(outgoing_vals)\n",
    "    in_avg = np.mean(incoming_vals)\n",
    "    total_segment_length = len(outgoing_vals) + len(incoming_vals)\n",
    "    incoming_order_std.extend([in_std] * total_segment_length)\n",
    "    outgoing_order_std.extend([out_std] * total_segment_length)\n",
    "    outgoing_order_avg.extend([out_avg] * total_segment_length)\n",
    "    incoming_order_avg.extend([in_avg] * total_segment_length)\n",
    "    \n",
    "    \n",
    "    df['outgoing_order_std'] = outgoing_order_std\n",
    "    df['incoming_order_std'] = incoming_order_std\n",
    "    df['outgoing_order_avg'] = outgoing_order_avg\n",
    "    df['incoming_order_avg'] = incoming_order_avg\n",
    "\n",
    "        \n",
    "    return df"
   ]
  },
  {
   "cell_type": "code",
   "execution_count": 506,
   "metadata": {
    "scrolled": true
   },
   "outputs": [],
   "source": [
    "df_one_stat = ordering_statistics(df_one, prev=True)\n",
    "df_two_stat = ordering_statistics(df_two, prev=True)\n",
    "df_three_stat = ordering_statistics(df_three, prev=True)"
   ]
  },
  {
   "cell_type": "code",
   "execution_count": 508,
   "metadata": {
    "scrolled": true
   },
   "outputs": [
    {
     "name": "stdout",
     "output_type": "stream",
     "text": [
      "RF acc: 0.8277609253641788\n",
      "KNN acc: 0.7305576852561753\n"
     ]
    }
   ],
   "source": [
    "run_model(df_one_stat, df_two_stat, df_three_stat)"
   ]
  },
  {
   "cell_type": "markdown",
   "metadata": {},
   "source": [
    "#### Concentration of incoming & outgoing packets in first & last 30 packets. Hayes 2016\n",
    "\n",
    "The number of incoming and outgoing packets in the first and last 30 packets"
   ]
  },
  {
   "cell_type": "code",
   "execution_count": 509,
   "metadata": {
    "scrolled": true
   },
   "outputs": [],
   "source": [
    "# Local data\n",
    "path = \"collection/\"\n",
    "folder = \"df_http_udp/\" # specify which packet protocol config you want here\n",
    "col_names = [\"website-index\", \"time\", \"direction\", \"packet size\"]\n",
    "df_one = pd.read_csv(path+folder+\"Day1-parsed-ondevice.csv\", header=0, names=col_names, error_bad_lines=False, warn_bad_lines=False, quotechar='^')\n",
    "df_two = pd.read_csv(path+folder+\"Day2-parsed-ondevice.csv\", header=0, names=col_names, error_bad_lines=False, warn_bad_lines=False, quotechar='^')\n",
    "df_three = pd.read_csv(path+folder+\"Day3-parsed-ondevice.csv\", header=0, names=col_names, error_bad_lines=False, warn_bad_lines=False, quotechar='^')"
   ]
  },
  {
   "cell_type": "code",
   "execution_count": 8,
   "metadata": {
    "scrolled": true
   },
   "outputs": [],
   "source": [
    "def first_last_30(df, prev=False):\n",
    "    if (prev):\n",
    "        df = ordering_statistics(df, True)\n",
    "        \n",
    "    # Number of incoming/outgoing packets in the first/last 30 packets \n",
    "    curr_index = df.at[0, 'website-index']\n",
    "    num_inc_first_30_vals = []\n",
    "    num_out_first_30_vals = []\n",
    "    num_inc_last_30_vals = []\n",
    "    num_out_last_30_vals = []\n",
    "    dirs = []\n",
    "    # Loop through each segment, grab direction column, take first 30, last 30, sum for in/out \n",
    "    for index, row in df.iterrows():\n",
    "        if (row['website-index'] != curr_index):\n",
    "            curr_index = row['website-index']\n",
    "            # Sum up dirs\n",
    "            ins_first_30 = len(list(filter(lambda d: d == 0, dirs[:30])))\n",
    "            ins_last_30 = len(list(filter(lambda d: d == 0, dirs[-30:])))\n",
    "            out_first_30 = len(list(filter(lambda d: d == 1, dirs[:30])))\n",
    "            out_last_30 = len(list(filter(lambda d: d == 1, dirs[-30:])))\n",
    "            num_packets = len(dirs)\n",
    "            num_inc_first_30_vals.extend([ins_first_30] * num_packets)\n",
    "            num_out_first_30_vals.extend([out_first_30] * num_packets)\n",
    "            num_inc_last_30_vals.extend([ins_last_30] * num_packets)\n",
    "            num_out_last_30_vals.extend([out_last_30] * num_packets)\n",
    "\n",
    "            dirs = [row['direction']]\n",
    "        else:\n",
    "            dirs.append(row['direction'])\n",
    "\n",
    "    ins_first_30 = len(list(filter(lambda d: d == 0, dirs[:30])))\n",
    "    ins_last_30 = len(list(filter(lambda d: d == 0, dirs[-30:])))\n",
    "    out_first_30 = len(list(filter(lambda d: d == 1, dirs[:30])))\n",
    "    out_last_30 = len(list(filter(lambda d: d == 1, dirs[-30:])))\n",
    "    num_packets = len(dirs)\n",
    "    num_inc_first_30_vals.extend([ins_first_30] * num_packets)\n",
    "    num_out_first_30_vals.extend([out_first_30] * num_packets)\n",
    "    num_inc_last_30_vals.extend([ins_last_30] * num_packets)\n",
    "    num_out_last_30_vals.extend([out_last_30] * num_packets)\n",
    "\n",
    "    df['num_inc_first_30_vals'] = num_inc_first_30_vals\n",
    "    df['num_out_first_30_vals'] = num_out_first_30_vals\n",
    "    df['num_inc_last_30_vals'] = num_inc_last_30_vals\n",
    "    df['num_out_last_30_vals'] = num_out_last_30_vals\n",
    "  \n",
    "    return df"
   ]
  },
  {
   "cell_type": "code",
   "execution_count": 511,
   "metadata": {
    "scrolled": true
   },
   "outputs": [],
   "source": [
    "df_one_stat = first_last_30(df_one, prev=True)\n",
    "df_two_stat = first_last_30(df_two, prev=True)\n",
    "df_three_stat = first_last_30(df_three, prev=True)"
   ]
  },
  {
   "cell_type": "code",
   "execution_count": 516,
   "metadata": {
    "scrolled": true
   },
   "outputs": [
    {
     "name": "stdout",
     "output_type": "stream",
     "text": [
      "RF acc: 0.8339611320377346\n",
      "KNN acc: 0.7305576852561753\n"
     ]
    }
   ],
   "source": [
    "run_model(df_one_stat, df_two_stat, df_three_stat)"
   ]
  },
  {
   "cell_type": "markdown",
   "metadata": {},
   "source": [
    "#### Concentration of outgoing packets\n",
    "\n",
    "The packet sequence split into non-overlapping chunks of 20 packets, where we count the number of outgoing packets in each chunk. Then extract the standard deviation and mean"
   ]
  },
  {
   "cell_type": "code",
   "execution_count": 669,
   "metadata": {
    "scrolled": true
   },
   "outputs": [],
   "source": [
    "# Local data\n",
    "path = \"collection/\"\n",
    "folder = \"df_http_udp/\" # specify which packet protocol config you want here\n",
    "col_names = [\"website-index\", \"time\", \"direction\", \"packet size\"]\n",
    "df_one = pd.read_csv(path+folder+\"Day1-parsed-ondevice.csv\", header=0, names=col_names, error_bad_lines=False, warn_bad_lines=False, quotechar='^')\n",
    "df_two = pd.read_csv(path+folder+\"Day2-parsed-ondevice.csv\", header=0, names=col_names, error_bad_lines=False, warn_bad_lines=False, quotechar='^')\n",
    "df_three = pd.read_csv(path+folder+\"Day3-parsed-ondevice.csv\", header=0, names=col_names, error_bad_lines=False, warn_bad_lines=False, quotechar='^')"
   ]
  },
  {
   "cell_type": "code",
   "execution_count": 12,
   "metadata": {
    "scrolled": true
   },
   "outputs": [],
   "source": [
    "def get_segments(df):\n",
    "    ret = []\n",
    "    start = 0\n",
    "    curr_index = df.at[0, 'website-index']\n",
    "    for index, row in df.iterrows():\n",
    "        if (row['website-index'] != curr_index):\n",
    "            curr_index = row['website-index']\n",
    "            ret.append((start, index - 1))\n",
    "            start = index\n",
    "            \n",
    "    ret.append((start, index))\n",
    "\n",
    "    return ret\n",
    "\n",
    "def get_20s_from_segments(segments):\n",
    "    # Given an array of start:end tuples, return an array of start2:end2 tuples where end2-start2 == 20, or less if not possible\n",
    "    # e.g. [(0,45)] => [(0, 19), (20, 39), (40, 45)]\n",
    "    ret = []\n",
    "    for s in segments:\n",
    "        start = s[0]\n",
    "        end = s[1]\n",
    "        i = start\n",
    "        while i + 19 <= end:\n",
    "            ret.append((i, i + 19))\n",
    "            i += 20\n",
    "        ret.append((i, end))\n",
    "    return ret       \n"
   ]
  },
  {
   "cell_type": "code",
   "execution_count": 13,
   "metadata": {
    "scrolled": true
   },
   "outputs": [],
   "source": [
    "def outgoing_concentration(df, prev=False):\n",
    "    if (prev):\n",
    "        df = first_last_30(df, True)\n",
    "        \n",
    "    # Number of outgoing packets in each chunk of 20 packets per segment\n",
    "    # get an array of indexes for each segment \n",
    "    segments = get_segments(df)\n",
    "    segment_20s = get_20s_from_segments(segments)    \n",
    "    num_outgoing_vals = [] # Don't add this to the data, we only need it to collect statistics\n",
    "#     debug = []\n",
    "    for s in segment_20s:\n",
    "        start = s[0]\n",
    "        end = s[1]\n",
    "        num_outs = df.iloc[start:end+1][df.direction == 1].shape[0]\n",
    "        num_outgoing_vals.append(num_outs)\n",
    "#         debug.extend([num_outs] * (end - start + 1))\n",
    "\n",
    "        \n",
    "    # We want to get the standard deviation, mean of the num_outgoing_vals for each segment\n",
    "    # For each segment in segments, we want to obtain the corresponding values in num_outgoing_vals \n",
    "    # which are segmentized by 20s\n",
    "    outgoing_20_std = []\n",
    "    outgoing_20_avg = []\n",
    "\n",
    "    for segment in segments:\n",
    "        start = segment[0]\n",
    "        end = segment[1]\n",
    "        values = []\n",
    "        for i in range(len(segment_20s)):\n",
    "            seg20 = segment_20s[i]\n",
    "            if seg20[0] < start:\n",
    "                continue\n",
    "            if seg20[0] > end:\n",
    "                break\n",
    "            values.append(num_outgoing_vals[i])\n",
    "        mean = np.mean(values)\n",
    "        std = np.std(values)\n",
    "        outgoing_20_avg.extend([mean] * (end - start + 1))\n",
    "        outgoing_20_std.extend([std] * (end - start + 1))\n",
    "\n",
    "    df['outgoing_20_avg'] = outgoing_20_avg\n",
    "    df['outgoing_20_std'] = outgoing_20_std\n",
    "#     df['debug'] = debug\n",
    "\n",
    "        \n",
    "    return df"
   ]
  },
  {
   "cell_type": "code",
   "execution_count": 672,
   "metadata": {
    "scrolled": true
   },
   "outputs": [
    {
     "name": "stderr",
     "output_type": "stream",
     "text": [
      "C:\\ProgramData\\Anaconda3\\lib\\site-packages\\ipykernel_launcher.py:14: UserWarning: Boolean Series key will be reindexed to match DataFrame index.\n",
      "  \n"
     ]
    }
   ],
   "source": [
    "df_one_stat = outgoing_concentration(df_one, prev=True)\n",
    "df_two_stat = outgoing_concentration(df_two, prev=True)\n",
    "df_three_stat = outgoing_concentration(df_three, prev=True)"
   ]
  },
  {
   "cell_type": "code",
   "execution_count": 673,
   "metadata": {
    "scrolled": false
   },
   "outputs": [
    {
     "name": "stdout",
     "output_type": "stream",
     "text": [
      "RF acc: 0.8328277609253641\n",
      "KNN acc: 0.7305576852561753\n"
     ]
    }
   ],
   "source": [
    "run_model(df_one_stat, df_two_stat, df_three_stat)"
   ]
  },
  {
   "cell_type": "markdown",
   "metadata": {},
   "source": [
    "# 3 \n",
    "\n",
    "## Community data model (no features)"
   ]
  },
  {
   "cell_type": "markdown",
   "metadata": {},
   "source": [
    "#### HTTP"
   ]
  },
  {
   "cell_type": "code",
   "execution_count": 4,
   "metadata": {
    "scrolled": true
   },
   "outputs": [
    {
     "name": "stdout",
     "output_type": "stream",
     "text": [
      "RF acc: 0.06477577615944806\n",
      "SVM acc: 0.05672671521655807\n"
     ]
    }
   ],
   "source": [
    "# Community data import (make sure to have path with access to parsed community data)\n",
    "path=\"community_data/parsed_on_device/http/\"\n",
    "day_one=\"day_1\"\n",
    "day_two=\"day_2\"\n",
    "day_three=\"day_3\"\n",
    "file=\"_fixed.csv\"\n",
    "col_names = [\"website-index\", \"time\", \"direction\", \"packet size\"]\n",
    "\n",
    "df_one = pd.read_csv(path+day_one+file, header=0, names=col_names, error_bad_lines=False, warn_bad_lines=False)\n",
    "df_two = pd.read_csv(path+day_two+file, header=0, names=col_names, error_bad_lines=False, warn_bad_lines=False)\n",
    "df_three = pd.read_csv(path+day_three+file, header=0, names=col_names, error_bad_lines=False, warn_bad_lines=False)\n",
    "\n",
    "# Preprocess training data\n",
    "df = df_one.append(df_two)\n",
    "X = df.loc[:, df.columns != 'website-index']\n",
    "y = df['website-index']\n",
    "\n",
    "# Preprocess testing data\n",
    "X_test = df_three.loc[:, df_three.columns != 'website-index']\n",
    "y_test = df_three['website-index']\n",
    "\n",
    "# Model training\n",
    "clf = RandomForestClassifier()\n",
    "clf.fit(X,y)\n",
    "\n",
    "svm_model = svm.SVC()\n",
    "svm_model.fit(X, y)\n",
    "\n",
    "# Evaluate\n",
    "rf_acc = clf.score(X_test, y_test)\n",
    "svm_acc = svm_model.score(X_test, y_test)\n",
    "\n",
    "print(\"RF acc: \" + str(rf_acc))\n",
    "print(\"SVM acc: \" + str(svm_acc))"
   ]
  },
  {
   "cell_type": "markdown",
   "metadata": {},
   "source": [
    "#### TLS"
   ]
  },
  {
   "cell_type": "code",
   "execution_count": 6,
   "metadata": {
    "scrolled": true
   },
   "outputs": [],
   "source": [
    "path=\"community_data/parsed_on_device/tls/\"\n",
    "day_one=\"day_1\"\n",
    "day_two=\"day_2\"\n",
    "day_three=\"day_3\"\n",
    "file=\"_fixed.csv\"\n",
    "col_names = [\"website-index\", \"time\", \"direction\", \"packet size\"]\n",
    "\n",
    "df_one = pd.read_csv(path+day_one+file, header=0, names=col_names, error_bad_lines=False, warn_bad_lines=False)\n",
    "df_two = pd.read_csv(path+day_two+file, header=0, names=col_names, error_bad_lines=False, warn_bad_lines=False)\n",
    "df_three = pd.read_csv(path+day_three+file, header=0, names=col_names, error_bad_lines=False, warn_bad_lines=False)\n",
    "\n",
    "# Preprocess training data\n",
    "df = df_one.append(df_two)\n",
    "X = df.loc[:, df.columns != 'website-index']\n",
    "y = df['website-index']\n",
    "\n",
    "# Preprocess testing data\n",
    "X_test = df_three.loc[:, df_three.columns != 'website-index']\n",
    "y_test = df_three['website-index']\n",
    "\n",
    "# Model training\n",
    "clf = RandomForestClassifier()\n",
    "clf.fit(X,y)\n",
    "\n",
    "# Evaluate\n",
    "rf_acc = clf.score(X_test, y_test)\n",
    "\n",
    "print(\"RF acc: \" + str(rf_acc))"
   ]
  },
  {
   "cell_type": "markdown",
   "metadata": {},
   "source": [
    "# 4 \n",
    "\n",
    "## Experimenting"
   ]
  },
  {
   "cell_type": "code",
   "execution_count": 5,
   "metadata": {
    "scrolled": true
   },
   "outputs": [],
   "source": [
    "# working on youtube only, can generalize later\n",
    "youtube = df_one.loc[df_one['website-index'] == 'youtube']\n",
    "\n",
    "# Create a directional packet size column p_i (negative values if outbound)\n",
    "# youtube.insert(4, 'cum_incoming', youtube['packet size'])\n",
    "youtube['p_i'] = youtube.apply(directional_packet_size, axis=1)\n",
    "\n",
    "# Create cumulative packet size trace using directional packet sizes\n",
    "youtube.insert(5, 'cum_incoming', youtube['direction'].cumsum(axis=None))\n",
    "\n",
    "# Track cumulative incoming packets (+1 to start at 1)\n",
    "youtube['cum_incoming'] = youtube['direction'].cumsum(axis=None)+1\n",
    "\n",
    "youtube = previous_packets(youtube)\n",
    "# youtube['shift'] = youtube['packet size'].shift(100)"
   ]
  },
  {
   "cell_type": "markdown",
   "metadata": {},
   "source": [
    "#### XGBoost"
   ]
  },
  {
   "cell_type": "code",
   "execution_count": 18,
   "metadata": {
    "scrolled": true
   },
   "outputs": [],
   "source": [
    "df_one_stat = outgoing_concentration(df_one, prev=True)\n",
    "df_two_stat = outgoing_concentration(df_two, prev=True)\n",
    "df_three_stat = outgoing_concentration(df_three, prev=True)"
   ]
  },
  {
   "cell_type": "code",
   "execution_count": 23,
   "metadata": {
    "scrolled": true
   },
   "outputs": [],
   "source": [
    "import xgboost as xgb\n",
    "from sklearn.metrics import accuracy_score\n",
    "\n",
    "# Preprocess training data\n",
    "df = df_one.append(df_two)\n",
    "X = df.loc[:, df.columns != 'website-index']\n",
    "y = df['website-index']\n",
    "# Preprocess testing data\n",
    "X_test = df_three.loc[:, df_three.columns != 'website-index']\n",
    "y_test = df_three['website-index']\n",
    "\n",
    "# XGBoost cannot handle categorical vars -> convert to numerical\n",
    "y = y.astype('category')\n",
    "y = y.cat.codes\n",
    "y_test = y_test.astype('category')\n",
    "y_test = y_test.cat.codes"
   ]
  },
  {
   "cell_type": "code",
   "execution_count": 63,
   "metadata": {
    "scrolled": true
   },
   "outputs": [],
   "source": [
    "params = {\n",
    "          'colsample_bynode': 1,\n",
    "          'learning_rate': 0.1,\n",
    "          'max_depth': 50,\n",
    "          'num_parallel_tree': 80,\n",
    "          'objective': 'multi:softprob',\n",
    "          'subsample': 1,\n",
    "          'booster':'gbtree'}\n",
    "\n",
    "xgb_model = xgb.XGBRFClassifier(**params)"
   ]
  },
  {
   "cell_type": "code",
   "execution_count": 64,
   "metadata": {
    "scrolled": true
   },
   "outputs": [
    {
     "data": {
      "text/plain": [
       "0.8316610553685123"
      ]
     },
     "execution_count": 64,
     "metadata": {},
     "output_type": "execute_result"
    }
   ],
   "source": [
    "xgb_model = xgb_model.fit(X, y)\n",
    "predictions = xgb_model.predict(X_test)\n",
    "actuals = y_test\n",
    "accuracy_score(y_test, predictions)"
   ]
  },
  {
   "cell_type": "code",
   "execution_count": 65,
   "metadata": {
    "scrolled": true
   },
   "outputs": [
    {
     "data": {
      "text/plain": [
       "<bound method ClassifierMixin.score of XGBRFClassifier(base_score=0.5, booster='gbtree', colsample_bylevel=1,\n",
       "                colsample_bynode=1, colsample_bytree=1, gamma=0, gpu_id=-1,\n",
       "                importance_type='gain', interaction_constraints='',\n",
       "                learning_rate=0.1, max_delta_step=0, max_depth=50,\n",
       "                min_child_weight=1, missing=nan, monotone_constraints='()',\n",
       "                n_estimators=100, n_jobs=0, num_parallel_tree=80,\n",
       "                objective='multi:softprob', random_state=0, reg_alpha=0,\n",
       "                reg_lambda=1e-05, scale_pos_weight=None, subsample=1,\n",
       "                tree_method='exact', validate_parameters=1, verbosity=None)>"
      ]
     },
     "execution_count": 65,
     "metadata": {},
     "output_type": "execute_result"
    }
   ],
   "source": [
    "xgb_model.score"
   ]
  }
 ],
 "metadata": {
  "kernelspec": {
   "display_name": "Python 3",
   "language": "python",
   "name": "python3"
  },
  "language_info": {
   "codemirror_mode": {
    "name": "ipython",
    "version": 3
   },
   "file_extension": ".py",
   "mimetype": "text/x-python",
   "name": "python",
   "nbconvert_exporter": "python",
   "pygments_lexer": "ipython3",
   "version": "3.6.8"
  }
 },
 "nbformat": 4,
 "nbformat_minor": 2
}
