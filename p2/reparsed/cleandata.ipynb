{
 "cells": [
  {
   "cell_type": "code",
   "execution_count": 35,
   "metadata": {},
   "outputs": [],
   "source": [
    "import re\n",
    "import numpy as np\n",
    "import matplotlib.pyplot as plt\n",
    "import pandas as pd\n",
    "\n",
    "ip_D = \"192.168.178.27\"\n",
    "col_names = ['website-index', 'time', 'src', 'dst','packet size', 'protocol',  'info']"
   ]
  },
  {
   "cell_type": "code",
   "execution_count": 36,
   "metadata": {},
   "outputs": [],
   "source": [
    "def clean(df):\n",
    "    # drop columns, only take HTTP, reset times to start from 0\n",
    "    df_http = df[df.protocol == \"HTTP\"]\n",
    "    \n",
    "    if df_http.shape[0] == 0: \n",
    "        return df_http.drop(['src', 'dst', 'info', 'protocol'], axis=1)        \n",
    "    \n",
    "    df_http_sorted = df_http.sort_values(by='time')\n",
    "    \n",
    "    start_time = df_http_sorted['time'].iloc[0]\n",
    "    df_http_sorted['time'] = df_http_sorted['time'].apply(lambda t : t - start_time)\n",
    "    df_http_sorted['time'] = df_http_sorted['time'].round(5)\n",
    "    \n",
    "    return df_http_sorted.drop(['src', 'dst', 'info', 'protocol'], axis=1)"
   ]
  },
  {
   "cell_type": "code",
   "execution_count": 37,
   "metadata": {},
   "outputs": [
    {
     "name": "stderr",
     "output_type": "stream",
     "text": [
      "C:\\ProgramData\\Anaconda3\\lib\\site-packages\\ipykernel_launcher.py:23: FutureWarning: Sorting because non-concatenation axis is not aligned. A future version\n",
      "of pandas will change to not sort by default.\n",
      "\n",
      "To accept the future behavior, pass 'sort=False'.\n",
      "\n",
      "To retain the current behavior and silence the warning, pass 'sort=True'.\n",
      "\n"
     ]
    }
   ],
   "source": [
    "import os\n",
    "\n",
    "targets = [\"youtube.com\", \"yahoo.com\", \"facebook.com\", \"reddit.com\", \"instructure.com\", \"stackoverflow.com\", \"linkedin.com\", \"irs.gov\", \"nytimes.com\", \"cnn.com\", \"salesforce.com\", \"okta.com\", \"wikipedia.org\", \"imgur.com\", \"dropbox.com\", \"etsy.com\", \"hulu.com\", \"quizlet.com\"]\n",
    "targets_name = [\"youtube\", \"yahoo\", \"facebook\", \"reddit\", \"instructure\", \"stackoverflow\", \"linkedin\", \"irs\", \"nytimes\", \"cnn\", \"salesforce\", \"okta\", \"wikipedia\", \"imgur\", \"dropbox\", \"etsy\", \"hulu\", \"quizlet\"]\n",
    "day1ext = [\"1589833992.csv\", \"1589834155.csv\", \"1589834318.csv\", \"1589834481.csv\", \"1589834644.csv\", \"1589834807.csv\", \"1589834970.csv\", \"1589835133.csv\", \"1589835296.csv\", \"1589835459.csv\"]\n",
    "day2ext = [\"1589836286.csv\", \"1589836449.csv\", \"1589836611.csv\", \"1589836774.csv\", \"1589836938.csv\", \"1589837101.csv\", \"1589837264.csv\", \"1589837427.csv\", \"1589837590.csv\", \"1589837753.csv\"]\n",
    "day3ext = [\"1589927378.csv\", \"1589927541.csv\", \"1589927704.csv\", \"1589927867.csv\", \"1589928030.csv\", \"1589928193.csv\", \"1589928356.csv\", \"1589928519.csv\", \"1589928682.csv\", \"1589928845.csv\"]\n",
    "m = {\"day_one\": day1ext, \"day_two\": day2ext, \"day_three\": day3ext}\n",
    "output = {\"day_one\": \"Day1-parsed-ondevice.csv\", \"day_two\": \"Day2-parsed-ondevice.csv\", \"day_three\": \"Day2-parsed-ondevice.csv\"}\n",
    "raw_output = {\"day_one\": \"Day1-raw-ondevice.csv\", \"day_two\": \"Day2-raw-ondevice.csv\", \"day_three\": \"Day2-raw-ondevice.csv\"}\n",
    "\n",
    "\n",
    "\n",
    "for day in m:\n",
    "    mdf = pd.DataFrame(columns = ['website-index', 'time', 'direction', 'packet size'])\n",
    "    raw_mdf = pd.DataFrame(columns = raw_col_names)\n",
    "    for ext in m[day]:\n",
    "        for i in range(len(targets)):\n",
    "            target_name = targets_name[i]\n",
    "            file_name = './raw_data/' + day + '/' + targets[i] + \"_\" + ext\n",
    "            \n",
    "            df = pd.read_csv(file_name, header=0, names=col_names, error_bad_lines=False, warn_bad_lines=False)\n",
    "            raw_mdf = pd.concat([raw_mdf, df])\n",
    "            \n",
    "            df['website-index'] = target_name\n",
    "            df.insert(2, 'direction', (df['src'] == ip_D).astype(int))\n",
    "            cdf = clean(df)\n",
    "            mdf = pd.concat([mdf, cdf])\n",
    "    raw_mdf.to_csv(raw_output[day], index=False)\n",
    "    mdf.to_csv(output[day], index=False)\n",
    "\n",
    "\n"
   ]
  },
  {
   "cell_type": "code",
   "execution_count": null,
   "metadata": {},
   "outputs": [],
   "source": []
  }
 ],
 "metadata": {
  "kernelspec": {
   "display_name": "Python 3",
   "language": "python",
   "name": "python3"
  },
  "language_info": {
   "codemirror_mode": {
    "name": "ipython",
    "version": 3
   },
   "file_extension": ".py",
   "mimetype": "text/x-python",
   "name": "python",
   "nbconvert_exporter": "python",
   "pygments_lexer": "ipython3",
   "version": "3.6.8"
  }
 },
 "nbformat": 4,
 "nbformat_minor": 2
}
