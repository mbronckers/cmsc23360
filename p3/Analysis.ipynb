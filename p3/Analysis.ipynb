{
 "cells": [
  {
   "cell_type": "code",
   "execution_count": 154,
   "metadata": {},
   "outputs": [],
   "source": [
    "import os \n",
    "import pandas as pd \n",
    "import re\n",
    "from functools import reduce\n",
    "import numpy as np\n",
    "import matplotlib.pyplot as plt\n",
    "\n",
    "datapath = './Project3CommunityData'\n",
    "clean_data = 'clean_data'\n",
    "\n",
    "\n",
    "ping_cols = ['website', 'date', 'time', 'latency_times', 'latency_avg']\n",
    "#www.cnn.com,05-13-2020,10:00:01,12.8|16.9|8.73|8.61|7.37|7.72|8.63|7.27|15.1|8.29|8.37,9.98090909090909\n",
    "\n",
    "tr1_cols = ['website', 'date', 'time', 'hop_idx', 'hop_ip', 'latency1', 'latency2', 'latency3', 'latency_avg']\n",
    "# www.cnn.com,05-13-2020,10:00:01,1,(10.0.0.1),1.558,2.584,3.525,2.5556666666666668\n",
    "\n",
    "tr2_cols = ['website', 'date', 'time', 'hop_count']\n",
    "# www.cnn.com,05-16-2020,14:32:47,11\n",
    "\n",
    "api_cols = ['website', 'call', 'date', 'time', 'latency']\n",
    "# www.amazon.com,https://www.amazon.com/s?k=networks&ref=nb_sb_noss_2,05-13-2020,14:36:27,41.97399999999999\n",
    "\n",
    "pchar_agg_cols = ['website', 'date', 'time', 'num_hops']\n",
    "# en.wikipedia.org,05-13-2020,14:38:49,14\n",
    "\n",
    "pchar1_cols = ['website', 'date', 'time', 'hop_idx', 'hop_ip', 'hop_rtt', 'hop_pkg_loss']\n",
    "# en.wikipedia.org,05-13-2020,14:38:49,1,10.0.2.2,0.000000,0\n",
    "\n",
    "pchar2_cols = ['website', 'date', 'time', 'hop_idx', 'hop_ip', 'hop_bw', 'hop_queing']\n",
    "# en.wikipedia.org,05-13-2020,14:38:49,0,10.0.2.15,-1,-1\n",
    "\n",
    "def col_selector(fileType):\n",
    "    switch = {\n",
    "        \"ping\": ping_cols,\n",
    "        \"tr1\": tr1_cols,\n",
    "        \"tr2\": tr2_cols,\n",
    "        \"api\": api_cols,\n",
    "        \"pchar_agg\": pchar_agg_cols,\n",
    "        \"pchar1\": pchar1_cols,\n",
    "        \"pchar2\": pchar2_cols\n",
    "    }\n",
    "    \n",
    "    return switch.get(fileType, \"ERROR FILETYPE NOT FOUND: \" + fileType)\n",
    "\n",
    "seqs = ['seq1', 'seq2', 'seq3']"
   ]
  },
  {
   "cell_type": "code",
   "execution_count": 160,
   "metadata": {},
   "outputs": [],
   "source": [
    "data = {}\n",
    "teams = os.listdir(datapath)\n",
    "teams.remove(\"Team1\") # Bad data\n",
    "teams.remove(\"Team5\") # Bad data\n",
    "teams.remove(\"Team8\") # Bad data\n",
    "\n",
    "for team in teams:\n",
    "    data[team] = {}\n",
    "    for seq in ['seq1', 'seq2', 'seq3']:\n",
    "        data[team][seq] = {}\n",
    "        seq_path = datapath + '/' + team + '/clean_data/' + seq\n",
    "        for file in os.listdir(seq_path):\n",
    "            match = re.search('(.*)_(ping|tr1|tr2|pchar1|pchar2|pchar_agg|api)', file)\n",
    "            website = match.group(1)\n",
    "            fileType = match.group(2)\n",
    "            if not website in data[team][seq].keys(): \n",
    "                data[team][seq][website] = {}\n",
    "                \n",
    "            cols = col_selector(fileType)\n",
    "            df = pd.read_csv(seq_path + '/' + file, names = cols, header = None)\n",
    "            data[team][seq][website][fileType] = df\n",
    "\n",
    "# All data is now read, can be indexed via data[team][seq#][website][fileType]\n",
    "# team: Team1...Team8\n",
    "# seq#: seq1, seq2, seq3\n",
    "# website: e.g. www_cnn_com\n",
    "# fileType: one of ping|tr1|tr2|pchar1|pchar2|pchar_agg|api\n",
    "\n",
    "# Seq1: tr1|tr2|ping\n",
    "# Seq2: tr1|tr2|ping|api\n",
    "# Seq3: ping|tr1|pchar1|pchar2|pchar_agg"
   ]
  },
  {
   "cell_type": "markdown",
   "metadata": {},
   "source": [
    "## E2E Route consistency "
   ]
  },
  {
   "cell_type": "markdown",
   "metadata": {},
   "source": [
    "Are end-to-end routes and latency consistent within each day, and within the 2 weeks? \n"
   ]
  },
  {
   "cell_type": "markdown",
   "metadata": {},
   "source": [
    "Does the consistency level depend on the measurement location (aka the end host that did the data collection) and the destination site? \n"
   ]
  },
  {
   "cell_type": "markdown",
   "metadata": {},
   "source": [
    "Use graphs/stats to help you present the result, e.g. amount of route changes from day to day (e.g. % of route changes compared to the previous day’s route), latency distribution across 2 weeks. \n"
   ]
  },
  {
   "cell_type": "markdown",
   "metadata": {},
   "source": [
    "Find a way to represent the impact of measurement location and destination site."
   ]
  },
  {
   "cell_type": "markdown",
   "metadata": {},
   "source": [
    "#### Note to self: \n",
    "\n",
    "For each team: \n",
    "- Demonstrate route consistency and route latency for each team for each of the 14 days \n",
    "    - Route consistency \n",
    "        - Simple analysis: tr1 hop_ip total_count \n",
    "            - Plot graph of changes to total # of hops per day (irrespective of what the actual hops were)\n",
    "                - This will provide a big picture \n",
    "        - More advanced analysis: tr1 hop_ip consistency for various days \n",
    "            - See if actual routed ip addr changes by day (i.e. keep track of previous day's route, and count the number of hops that changed) \n",
    "    - Latency consistency \n",
    "        - get mean, std of average latency for each hop `latency_avg`\n",
    "    \n",
    "    "
   ]
  },
  {
   "cell_type": "markdown",
   "metadata": {},
   "source": [
    "#### Preliminary observation \n",
    "\n",
    "For each sequence, within each day there are 2 traceroute sessions, and within each session there are 2 `traceroute` calls, leading to effectively 4 traceroute calls per day. These 2 traceroute calls have the same timestamp, which leads to the question of which one to use to analyze route changes within days and across the 2 weeks."
   ]
  },
  {
   "cell_type": "markdown",
   "metadata": {},
   "source": [
    "#### Route consistency for same sessions\n",
    "\n",
    "To begin our analysis, we should first see if E2E route consistency exists within the same session. \n",
    "\n",
    "If the E2E route per session is in fact consistent, this would simplify our analysis of multiple day E2E analysis going forward as we can randomly pick one of two traces and still yield meaningful results when analysising route consistency within-day and across 2 weeks.\n",
    "\n",
    "We achieve this on `tr1` data analysis by first grouping each session together, then see if the 2 `traceroute` results are consistent"
   ]
  },
  {
   "cell_type": "code",
   "execution_count": 161,
   "metadata": {},
   "outputs": [],
   "source": [
    "# Given 2 sessions, this function returns a route similarity index between 0 and 1\n",
    "# 1 being the most similar\n",
    "# 0 being the least similar \n",
    "def session_route_similarity_index(s1, s2): \n",
    "    s1_route = s1['hop_ip']\n",
    "    s2_route = s2['hop_ip']\n",
    "    longest_route_length = max(len(s1_route), len(s2_route))\n",
    "    n_common_routes = len(list(set(s1_route).intersection(s2_route)))\n",
    "    index = n_common_routes / longest_route_length\n",
    "    return index"
   ]
  },
  {
   "cell_type": "code",
   "execution_count": 162,
   "metadata": {},
   "outputs": [],
   "source": [
    "session_similarities = []\n",
    "for team in teams: \n",
    "    for seq in seqs:\n",
    "        # Loop over all tr1 datasets for each website \n",
    "        websites = list(data[team][seq].keys())\n",
    "        for website in websites:\n",
    "            # Analyze tr1 data \n",
    "            df = data[team][seq][website]['tr1']\n",
    "            sessions = df.groupby(['date', 'time'])\n",
    "            \n",
    "            # We want to separate out the 2 traceroute instances, which can be differentiated by the repeated hop_idx \n",
    "            for session_key, session_df in sessions:\n",
    "                total_sessions += 1\n",
    "                tr2_start_pos = -2\n",
    "                tr1_start_pos = -1\n",
    "                last_index = -1\n",
    "                \n",
    "                for index, row in session_df.iterrows():\n",
    "                    last_index = index\n",
    "                    if (tr2_start_pos == -2): #Ignore first entry\n",
    "                        tr2_start_pos = -1\n",
    "                        tr1_start_pos = index\n",
    "                        continue\n",
    "                        \n",
    "                    if (row['hop_idx'] == 1):\n",
    "                        tr2_start_pos = index\n",
    "                        break\n",
    "                assert tr2_start_pos >= tr1_start_pos, \"Unclean traceroute separation\"\n",
    "                \n",
    "                # Indexes need be be zero'd in reference to the session_df\n",
    "                session_tr1_df = session_df.iloc[tr1_start_pos - tr1_start_pos : tr2_start_pos - tr1_start_pos]\n",
    "                session_tr2_df = session_df.iloc[tr2_start_pos - tr1_start_pos : ]         \n",
    "                \n",
    "                session_similarity_index = session_route_similarity_index(session_tr1_df, session_tr2_df)\n",
    "                session_similarities.append((\"{}^{}^{}^{}\".format(session_key, website, seq, team), session_similarity_index))\n",
    "                \n",
    "                "
   ]
  },
  {
   "cell_type": "markdown",
   "metadata": {},
   "source": [
    "#### Overall statistics"
   ]
  },
  {
   "cell_type": "code",
   "execution_count": 163,
   "metadata": {},
   "outputs": [
    {
     "name": "stdout",
     "output_type": "stream",
     "text": [
      "Total sessions: 2520\n",
      "Number of sessions with unequal traceroute results 1352\n",
      "Percentage of sessions with unequal traceroute results 53.65079365079365 %\n",
      "Average similarity index 0.8427438219654607\n",
      "Std deviation of similarity index 0.2164384227266379\n"
     ]
    },
    {
     "data": {
      "image/png": "[encoded data removed]",
      "text/plain": [
       "<Figure size 432x288 with 1 Axes>"
      ]
     },
     "metadata": {
      "needs_background": "light"
     },
     "output_type": "display_data"
    }
   ],
   "source": [
    "total_sessions = len(session_similarities)\n",
    "n_unequal_sessions = sum(1 for x in session_similarities if x[1] != 1.0)\n",
    "\n",
    "print(\"Total sessions:\", total_sessions)\n",
    "print(\"Number of sessions with unequal traceroute results\", n_unequal_sessions)\n",
    "print(\"Percentage of sessions with unequal traceroute results\", n_unequal_sessions / total_sessions * 100, \"%\")\n",
    "print(\"Average similarity index\", np.mean([x[1] for x in session_similarities]))\n",
    "print(\"Std deviation of similarity index\", np.std([x[1] for x in session_similarities]))\n",
    "\n",
    "x = [s[1] for s in session_similarities]\n",
    "num_bins = 20\n",
    "n, bins, patches = plt.hist(x, num_bins, facecolor='blue', alpha=0.5, edgecolor='black', linewidth=1.2)\n",
    "plt.ylabel(\"Number of sessions\")\n",
    "plt.xlabel(\"Session similarity index\")\n",
    "plt.title(\"Histogram of the number of sessions per similarity index\")\n",
    "plt.show()"
   ]
  },
  {
   "cell_type": "markdown",
   "metadata": {},
   "source": [
    "From the data bove, we see that the majority of traceroutes within the same session does have the same E2E routing. Even though 51% of the traces are not identical in route, there's still an 85% similarity score on average for our packets. \n",
    "\n",
    "Further analysis will require examining session-similarity-index against particular website. A low session-similarity-index could be explained by 2 things: \n",
    "\n",
    "1. There are a lot of content distribution servers for a website. I'm guessing that this is probably the case for websites like amazon.com \n",
    "2. Network for the team's ISP is unstable  \n",
    "\n",
    "Additionally, we should also investigate where along the trace does the route start to diverge to differentiate between #1 or #2"
   ]
  },
  {
   "cell_type": "markdown",
   "metadata": {},
   "source": [
    "#### Latency consistency for same sessions\n",
    "\n",
    "After looking at route consistency, it would also make sense to quickly look at latency consistency. (TODO)"
   ]
  },
  {
   "cell_type": "markdown",
   "metadata": {},
   "source": [
    "## Since i'm still waiting for a piazza answer, i'll just pick the first traceroute result for each session to move forward with"
   ]
  },
  {
   "cell_type": "markdown",
   "metadata": {},
   "source": [
    "### E2E Consistency within each day \n",
    "\n",
    "Here we compare the traceroute path between the 2 traceroute sessions for each day."
   ]
  },
  {
   "cell_type": "code",
   "execution_count": 166,
   "metadata": {},
   "outputs": [],
   "source": [
    "daily_session_similarities = []\n",
    "for team in teams: \n",
    "    for seq in seqs:\n",
    "        # Loop over all tr1 datasets for each website \n",
    "        websites = list(data[team][seq].keys())\n",
    "        for website in websites:\n",
    "            # Analyze tr1 data \n",
    "            df = data[team][seq][website]['tr1']\n",
    "            days = df.groupby(['date'])\n",
    "            \n",
    "            # We want to separate out the 2 traceroute instances, which can be differentiated by the repeated hop_idx \n",
    "            for day, day_df in days:\n",
    "                traces = []\n",
    "                day_group = day_df.groupby(['time'])\n",
    "                for time, day_time_df in day_group:\n",
    "                    # We want to only take the first traceroute call instead of second \n",
    "                    start_index = -1\n",
    "                    end_index = -2\n",
    "                    for index, row in day_time_df.iterrows():\n",
    "                        if (end_index == -2): #Ignore first entry\n",
    "                            end_index = -1\n",
    "                            start_index = index\n",
    "                            continue\n",
    "\n",
    "                        if (row['hop_idx'] == 1):\n",
    "                            end_index = index\n",
    "                            break\n",
    "                    traces.append((time, day_time_df.iloc[start_index - start_index:end_index - start_index]))# Zeroing indexes\n",
    "                \n",
    "                # Analyze differences in traces[0][1] and traces[1][1]\n",
    "                daily_session_similarities.append((\"{} {} {} {}\".format(day, website, seq, team), session_route_similarity_index(traces[0][1], traces[1][1])))\n",
    "            "
   ]
  },
  {
   "cell_type": "markdown",
   "metadata": {},
   "source": [
    "#### Overall statistics"
   ]
  },
  {
   "cell_type": "code",
   "execution_count": 175,
   "metadata": {},
   "outputs": [
    {
     "name": "stdout",
     "output_type": "stream",
     "text": [
      "Total days entries (total of all teams) 1260\n",
      "Total number of differing routes 767\n",
      "Percentage of days with differing routes 60.873015873015866 %\n",
      "Average daily route similarity index 0.7885663048527072\n",
      "Standard deviation of route similarity index 0.2526400491315811\n"
     ]
    },
    {
     "data": {
      "image/png": "[encoded data removed]",
      "text/plain": [
       "<Figure size 432x288 with 1 Axes>"
      ]
     },
     "metadata": {
      "needs_background": "light"
     },
     "output_type": "display_data"
    }
   ],
   "source": [
    "average_daily_session_similarities = np.mean([x[1] for x in daily_session_similarities])\n",
    "std_daily_session_similarities = np.std([x[1] for x in daily_session_similarities])\n",
    "\n",
    "total_unequal_entries = sum(1 for x in daily_session_similarities if x[1] != 1.0)\n",
    "total_entries = len(daily_session_similarities)\n",
    "print(\"Total days entries (total of all teams)\", total_entries)\n",
    "print(\"Total number of differing routes\", total_unequal_entries)\n",
    "print(\"Percentage of days with differing routes\", total_unequal_entries / total_entries * 100, '%')\n",
    "print(\"Average daily route similarity index\", average_daily_session_similarities)\n",
    "print(\"Standard deviation of route similarity index\", std_daily_session_similarities)\n",
    "\n",
    "x = [s[1] for s in daily_session_similarities]\n",
    "num_bins = 20\n",
    "n, bins, patches = plt.hist(x, num_bins, facecolor='blue', alpha=0.5, edgecolor='black', linewidth=1.2)\n",
    "plt.ylabel(\"Number of days\")\n",
    "plt.xlabel(\"daily route similarity index\")\n",
    "plt.title(\"Histogram of the number of days per similarity index\")\n",
    "plt.show()"
   ]
  },
  {
   "cell_type": "markdown",
   "metadata": {},
   "source": [
    "As we can see from the above statistics, 60% of routes do have a differ within the same day. \n",
    "\n",
    "The average daily route similarity index is defined as the average fraction across every team of (number of identical hops)/(total number of hops). Keep in mind that an early divergence in pathing would lead to a much lower average daily route similarity index, whereas a later divergence would lead to a higher number, as the route goes through a larger proportional of identical hops. \n",
    "\n",
    "An average daily route similarity index of 0.79 indicates that route divergence happens later in the path. However, this number does not reflect hops to different hosts on the same network. I.e. if a website has multiple hosts across the same network, and both sessions goes to different hosts, this number would assume that the routes are completely different. For the purposes of our analysis, we want to treat hops to the same network as an identical path. "
   ]
  },
  {
   "cell_type": "markdown",
   "metadata": {},
   "source": [
    "## TODO (Yves): Do longitudinal 2 weeks data analysis  \n",
    "## TODO (Yves): Do analysis on does route/latency depend on team\n",
    "## TODO (Yves): Do within-day analysis on latency consistency \n",
    "## TODO (Yves): Do longitudinal 2 weeks analysis on latency consistency \n",
    "## TODO (Yves): (Extra) Create similarity index based on network instead of entire ip addr"
   ]
  }
 ],
 "metadata": {
  "kernelspec": {
   "display_name": "Python 3",
   "language": "python",
   "name": "python3"
  },
  "language_info": {
   "codemirror_mode": {
    "name": "ipython",
    "version": 3
   },
   "file_extension": ".py",
   "mimetype": "text/x-python",
   "name": "python",
   "nbconvert_exporter": "python",
   "pygments_lexer": "ipython3",
   "version": "3.6.8"
  }
 },
 "nbformat": 4,
 "nbformat_minor": 2
}
